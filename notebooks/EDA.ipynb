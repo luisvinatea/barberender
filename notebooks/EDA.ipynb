{
 "cells": [
  {
   "cell_type": "code",
   "execution_count": 12,
   "id": "b89d3a8e",
   "metadata": {},
   "outputs": [],
   "source": [
    "import pandas as pd\n",
    "import plotly.express as px\n",
    "from pathlib import Path\n",
    "from datetime import datetime"
   ]
  },
  {
   "cell_type": "code",
   "execution_count": 13,
   "id": "15090bf6",
   "metadata": {},
   "outputs": [
    {
     "name": "stdout",
     "output_type": "stream",
     "text": [
      "   price  model_year           model  condition  cylinders fuel  odometer  \\\n",
      "0   9400      2011.0          bmw x5       good        6.0  gas  145000.0   \n",
      "1  25500         NaN      ford f-150       good        6.0  gas   88705.0   \n",
      "2   5500      2013.0  hyundai sonata   like new        4.0  gas  110000.0   \n",
      "3   1500      2003.0      ford f-150       fair        8.0  gas       NaN   \n",
      "4  14900      2017.0    chrysler 200  excellent        4.0  gas   80903.0   \n",
      "\n",
      "  transmission    type paint_color  is_4wd date_posted  days_listed  \n",
      "0    automatic     SUV         NaN     1.0  2018-06-23           19  \n",
      "1    automatic  pickup       white     1.0  2018-10-19           50  \n",
      "2    automatic   sedan         red     NaN  2019-02-07           79  \n",
      "3    automatic  pickup         NaN     NaN  2019-03-22            9  \n",
      "4    automatic   sedan       black     NaN  2019-04-02           28  \n"
     ]
    }
   ],
   "source": [
    "# Defino o diretório raiz para procurar arquivos no projeto\n",
    "BASE_DIR = Path().resolve().parent\n",
    "\n",
    "# Defino o caminho para o arquivo CSV\n",
    "car_data_path = BASE_DIR / \"data/vehicles.csv\"\n",
    "car_data = pd.read_csv(car_data_path)  # lendo os dados\n",
    "print(car_data.head())  # mostrando as primeiras linhas do dataframe"
   ]
  },
  {
   "cell_type": "code",
   "execution_count": 14,
   "id": "777fc822",
   "metadata": {},
   "outputs": [],
   "source": [
    "car_data = car_data.dropna()"
   ]
  },
  {
   "cell_type": "code",
   "execution_count": 15,
   "id": "c5d009ed",
   "metadata": {},
   "outputs": [
    {
     "name": "stdout",
     "output_type": "stream",
     "text": [
      "5        2014\n",
      "7        2013\n",
      "10       2011\n",
      "14       2009\n",
      "16       2010\n",
      "         ... \n",
      "51494    2009\n",
      "51500    2012\n",
      "51509    2010\n",
      "51513    2014\n",
      "51515    2005\n",
      "Name: model_year, Length: 14852, dtype: Int64\n",
      "5         57954\n",
      "7        109473\n",
      "10       128413\n",
      "14       132285\n",
      "16       130725\n",
      "          ...  \n",
      "51494     95021\n",
      "51500    157000\n",
      "51509    121778\n",
      "51513    154000\n",
      "51515    228000\n",
      "Name: odometer, Length: 14852, dtype: Int64\n",
      "5        6\n",
      "7        6\n",
      "10       8\n",
      "14       8\n",
      "16       8\n",
      "        ..\n",
      "51494    6\n",
      "51500    6\n",
      "51509    4\n",
      "51513    8\n",
      "51515    8\n",
      "Name: cylinders, Length: 14852, dtype: Int64\n",
      "5        1\n",
      "7        1\n",
      "10       1\n",
      "14       1\n",
      "16       1\n",
      "        ..\n",
      "51494    1\n",
      "51500    1\n",
      "51509    1\n",
      "51513    1\n",
      "51515    1\n",
      "Name: is_4wd, Length: 14852, dtype: Int64\n"
     ]
    }
   ],
   "source": [
    "car_data[\"model_year\"] = car_data[\"model_year\"].astype(str)\n",
    "car_data[\"model_year\"] = car_data[\"model_year\"].str.split(\".\").str[0]\n",
    "car_data[\"model_year\"] = pd.to_numeric(\n",
    "    car_data[\"model_year\"], errors=\"coerce\"\n",
    ").astype(\"Int64\")\n",
    "car_data[\"odometer\"] = car_data[\"odometer\"].astype(str)\n",
    "car_data[\"odometer\"] = car_data[\"odometer\"].str.split(\".\").str[0]\n",
    "car_data[\"odometer\"] = pd.to_numeric(\n",
    "    car_data[\"odometer\"], errors=\"coerce\"\n",
    ").astype(\"Int64\")\n",
    "car_data[\"cylinders\"] = car_data[\"cylinders\"].astype(str)\n",
    "car_data[\"cylinders\"] = car_data[\"cylinders\"].str.split(\".\").str[0]\n",
    "car_data[\"cylinders\"] = pd.to_numeric(\n",
    "    car_data[\"cylinders\"], errors=\"coerce\"\n",
    ").astype(\"Int64\")\n",
    "car_data[\"is_4wd\"] = car_data[\"is_4wd\"].astype(str)\n",
    "car_data[\"is_4wd\"] = car_data[\"is_4wd\"].str.split(\".\").str[0]\n",
    "car_data[\"is_4wd\"] = pd.to_numeric(car_data[\"is_4wd\"], errors=\"coerce\").astype(\n",
    "    \"Int64\"\n",
    ")\n",
    "\n",
    "print(car_data[\"model_year\"])\n",
    "print(car_data[\"odometer\"])\n",
    "print(car_data[\"cylinders\"])\n",
    "print(car_data[\"is_4wd\"])\n"
   ]
  },
  {
   "cell_type": "code",
   "execution_count": 16,
   "id": "6c42f93f",
   "metadata": {},
   "outputs": [
    {
     "name": "stdout",
     "output_type": "stream",
     "text": [
      "5         chrysler\n",
      "7            honda\n",
      "10       chevrolet\n",
      "14             gmc\n",
      "16             ram\n",
      "           ...    \n",
      "51494    chevrolet\n",
      "51500        buick\n",
      "51509       subaru\n",
      "51513          ram\n",
      "51515    chevrolet\n",
      "Name: brand, Length: 14852, dtype: object\n",
      "5              300\n",
      "7            pilot\n",
      "10       silverado\n",
      "14           yukon\n",
      "16            1500\n",
      "           ...    \n",
      "51494      equinox\n",
      "51500      enclave\n",
      "51509      impreza\n",
      "51513         1500\n",
      "51515    silverado\n",
      "Name: model, Length: 14852, dtype: object\n"
     ]
    }
   ],
   "source": [
    "car_data['brand'] = car_data['model'].str.split(' ').str[0]\n",
    "car_data['model'] = car_data['model'].str.split(' ').str[1]\n",
    "print(car_data['brand'])\n",
    "print(car_data['model'])"
   ]
  },
  {
   "cell_type": "code",
   "execution_count": 17,
   "id": "ac4205a3",
   "metadata": {},
   "outputs": [
    {
     "name": "stdout",
     "output_type": "stream",
     "text": [
      "   date_posted      brand      model  model_year  odometer  cylinders  is_4wd  \\\n",
      "5   2018-06-20   chrysler        300        2014     57954          6       1   \n",
      "7   2019-01-07      honda      pilot        2013    109473          6       1   \n",
      "10  2018-09-17  chevrolet  silverado        2011    128413          8       1   \n",
      "14  2019-01-31        gmc      yukon        2009    132285          8       1   \n",
      "16  2018-12-30        ram       1500        2010    130725          8       1   \n",
      "\n",
      "   transmission    type paint_color  days_listed  price  \n",
      "5     automatic   sedan       black           15  14990  \n",
      "7     automatic     SUV       black           68  15990  \n",
      "10    automatic  pickup       black           38  19500  \n",
      "14    automatic     SUV       black           24  12990  \n",
      "16    automatic  pickup         red           13  14990  \n"
     ]
    }
   ],
   "source": [
    "car_data[\"date_posted\"] = pd.to_datetime(\n",
    "    car_data[\"date_posted\"], errors=\"coerce\"\n",
    ")\n",
    "# Reordenar colunas\n",
    "car_data = car_data[\n",
    "    [\n",
    "        \"date_posted\",\n",
    "        \"brand\",\n",
    "        \"model\",\n",
    "        \"model_year\",\n",
    "        \"odometer\",\n",
    "        \"cylinders\",\n",
    "        \"is_4wd\",\n",
    "        \"transmission\",\n",
    "        \"type\",\n",
    "        \"paint_color\",\n",
    "        \"days_listed\",\n",
    "        \"price\",\n",
    "    ]\n",
    "]\n",
    "\n",
    "print(car_data.head())\n"
   ]
  },
  {
   "cell_type": "code",
   "execution_count": 18,
   "id": "3ea91cd9",
   "metadata": {},
   "outputs": [
    {
     "name": "stdout",
     "output_type": "stream",
     "text": [
      "         brand  cylinders  odometer  is_4wd  days_listed  price\n",
      "0        acura          6    163705       1           53   9604\n",
      "1          bmw          6    113899       1           42  10821\n",
      "2        buick          6    118101       1           43  11313\n",
      "3     cadillac          7    120405       1           41  18845\n",
      "4    chevrolet          7    119657       1           39  17305\n",
      "5     chrysler          6     77947       1           42  13805\n",
      "6        dodge          7    114911       1           36   5016\n",
      "7         ford          7    120925       1           39  15732\n",
      "8          gmc          7    123784       1           40  17438\n",
      "9        honda          4    128334       1           38   8554\n",
      "10     hyundai          5    109203       1           42   8137\n",
      "11        jeep          6    110910       1           39  13439\n",
      "12         kia          4    101034       1           41   9704\n",
      "13      nissan          5     72050       1           38  13937\n",
      "14         ram          7    117079       1           39  20166\n",
      "15      subaru          4    120080       1           40   8881\n",
      "16      toyota          6    122709       1           40  14452\n",
      "17  volkswagen          5    101136       1           49   6061\n",
      "\n",
      "            type  cylinders  odometer  is_4wd  days_listed  price\n",
      "0           SUV          6    118968       1           39  12035\n",
      "1   convertible          5    102328       1           44  11559\n",
      "2         coupe          9     37240       1           36   1620\n",
      "3     hatchback          4    124117       1           47   6575\n",
      "4      mini-van          6    140374       1           52   8584\n",
      "5       offroad          6    119103       1           41  14737\n",
      "6         other          5    118324       1           40  12424\n",
      "7        pickup          7    114431       1           39  18760\n",
      "8         sedan          5     89160       1           41   7883\n",
      "9         truck          7    120416       1           39  18418\n",
      "10          van          6    113743       1           46   7064\n",
      "11        wagon          4    118689       1           40   9828\n"
     ]
    }
   ],
   "source": [
    "df_brands = car_data.groupby(\"brand\").agg(\n",
    "    {\n",
    "        \"cylinders\": \"mean\",\n",
    "        \"odometer\": \"mean\",\n",
    "        \"is_4wd\": \"mean\",\n",
    "        \"days_listed\": \"mean\",\n",
    "        \"price\": \"mean\",\n",
    "    }\n",
    ")\n",
    "df_brands = df_brands.reset_index()\n",
    "df_brands[[\"cylinders\", \"odometer\", \"is_4wd\", \"days_listed\", \"price\"]] = (\n",
    "    df_brands[\n",
    "        [\"cylinders\", \"odometer\", \"is_4wd\", \"days_listed\", \"price\"]\n",
    "    ].astype(int)\n",
    ")\n",
    "\n",
    "df_type = car_data.groupby(\"type\").agg(\n",
    "    {\n",
    "        \"cylinders\": \"mean\",\n",
    "        \"odometer\": \"mean\",\n",
    "        \"is_4wd\": \"mean\",\n",
    "        \"days_listed\": \"mean\",\n",
    "        \"price\": \"mean\",\n",
    "    }\n",
    ")\n",
    "\n",
    "df_type = df_type.reset_index()\n",
    "df_type[[\"cylinders\", \"odometer\", \"is_4wd\", \"days_listed\", \"price\"]] = df_type[\n",
    "    [\"cylinders\", \"odometer\", \"is_4wd\", \"days_listed\", \"price\"]\n",
    "].astype(int)\n",
    "\n",
    "print(df_brands)\n",
    "print('\\n', df_type)\n"
   ]
  },
  {
   "cell_type": "code",
   "execution_count": 19,
   "id": "ebceaecf",
   "metadata": {},
   "outputs": [
    {
     "name": "stdout",
     "output_type": "stream",
     "text": [
      "         brand  cylinders  odometer  is_4wd  days_listed  price\n",
      "14         ram          7    117079       1           39  20166\n",
      "3     cadillac          7    120405       1           41  18845\n",
      "8          gmc          7    123784       1           40  17438\n",
      "4    chevrolet          7    119657       1           39  17305\n",
      "7         ford          7    120925       1           39  15732\n",
      "16      toyota          6    122709       1           40  14452\n",
      "13      nissan          5     72050       1           38  13937\n",
      "5     chrysler          6     77947       1           42  13805\n",
      "11        jeep          6    110910       1           39  13439\n",
      "2        buick          6    118101       1           43  11313\n",
      "1          bmw          6    113899       1           42  10821\n",
      "12         kia          4    101034       1           41   9704\n",
      "0        acura          6    163705       1           53   9604\n",
      "15      subaru          4    120080       1           40   8881\n",
      "9        honda          4    128334       1           38   8554\n",
      "10     hyundai          5    109203       1           42   8137\n",
      "17  volkswagen          5    101136       1           49   6061\n",
      "6        dodge          7    114911       1           36   5016\n",
      "\n",
      "            type  cylinders  odometer  is_4wd  days_listed  price\n",
      "7        pickup          7    114431       1           39  18760\n",
      "9         truck          7    120416       1           39  18418\n",
      "5       offroad          6    119103       1           41  14737\n",
      "6         other          5    118324       1           40  12424\n",
      "0           SUV          6    118968       1           39  12035\n",
      "1   convertible          5    102328       1           44  11559\n",
      "11        wagon          4    118689       1           40   9828\n",
      "4      mini-van          6    140374       1           52   8584\n",
      "8         sedan          5     89160       1           41   7883\n",
      "10          van          6    113743       1           46   7064\n",
      "3     hatchback          4    124117       1           47   6575\n",
      "2         coupe          9     37240       1           36   1620\n"
     ]
    }
   ],
   "source": [
    "df_brands = df_brands.sort_values(by=\"price\", ascending=False)\n",
    "df_type = df_type.sort_values(by=\"price\", ascending=False)\n",
    "\n",
    "\n",
    "print(df_brands)\n",
    "print('\\n', df_type)"
   ]
  },
  {
   "cell_type": "code",
   "execution_count": 30,
   "id": "7881f550",
   "metadata": {},
   "outputs": [
    {
     "data": {
      "application/vnd.plotly.v1+json": {
       "config": {
        "plotlyServerURL": "https://plot.ly"
       },
       "data": [
        {
         "hovertemplate": "Car Brand=%{x}<br>Average Price=%{y}<extra></extra>",
         "legendgroup": "",
         "marker": {
          "color": "#636efa",
          "pattern": {
           "shape": ""
          }
         },
         "name": "",
         "orientation": "v",
         "showlegend": false,
         "textposition": "auto",
         "type": "bar",
         "x": [
          "ram",
          "cadillac",
          "gmc",
          "chevrolet",
          "ford",
          "toyota",
          "nissan",
          "chrysler",
          "jeep",
          "buick",
          "bmw",
          "kia",
          "acura",
          "subaru",
          "honda",
          "hyundai",
          "volkswagen",
          "dodge"
         ],
         "xaxis": "x",
         "y": {
          "bdata": "xk6dSR5EmUN0PXQ4cTbtNX80MSxFKuglhCWxImohyR+tF5gT",
          "dtype": "i2"
         },
         "yaxis": "y"
        }
       ],
       "layout": {
        "barmode": "relative",
        "height": 400,
        "legend": {
         "tracegroupgap": 0
        },
        "template": {
         "data": {
          "bar": [
           {
            "error_x": {
             "color": "#2a3f5f"
            },
            "error_y": {
             "color": "#2a3f5f"
            },
            "marker": {
             "line": {
              "color": "#E5ECF6",
              "width": 0.5
             },
             "pattern": {
              "fillmode": "overlay",
              "size": 10,
              "solidity": 0.2
             }
            },
            "type": "bar"
           }
          ],
          "barpolar": [
           {
            "marker": {
             "line": {
              "color": "#E5ECF6",
              "width": 0.5
             },
             "pattern": {
              "fillmode": "overlay",
              "size": 10,
              "solidity": 0.2
             }
            },
            "type": "barpolar"
           }
          ],
          "carpet": [
           {
            "aaxis": {
             "endlinecolor": "#2a3f5f",
             "gridcolor": "white",
             "linecolor": "white",
             "minorgridcolor": "white",
             "startlinecolor": "#2a3f5f"
            },
            "baxis": {
             "endlinecolor": "#2a3f5f",
             "gridcolor": "white",
             "linecolor": "white",
             "minorgridcolor": "white",
             "startlinecolor": "#2a3f5f"
            },
            "type": "carpet"
           }
          ],
          "choropleth": [
           {
            "colorbar": {
             "outlinewidth": 0,
             "ticks": ""
            },
            "type": "choropleth"
           }
          ],
          "contour": [
           {
            "colorbar": {
             "outlinewidth": 0,
             "ticks": ""
            },
            "colorscale": [
             [
              0,
              "#0d0887"
             ],
             [
              0.1111111111111111,
              "#46039f"
             ],
             [
              0.2222222222222222,
              "#7201a8"
             ],
             [
              0.3333333333333333,
              "#9c179e"
             ],
             [
              0.4444444444444444,
              "#bd3786"
             ],
             [
              0.5555555555555556,
              "#d8576b"
             ],
             [
              0.6666666666666666,
              "#ed7953"
             ],
             [
              0.7777777777777778,
              "#fb9f3a"
             ],
             [
              0.8888888888888888,
              "#fdca26"
             ],
             [
              1,
              "#f0f921"
             ]
            ],
            "type": "contour"
           }
          ],
          "contourcarpet": [
           {
            "colorbar": {
             "outlinewidth": 0,
             "ticks": ""
            },
            "type": "contourcarpet"
           }
          ],
          "heatmap": [
           {
            "colorbar": {
             "outlinewidth": 0,
             "ticks": ""
            },
            "colorscale": [
             [
              0,
              "#0d0887"
             ],
             [
              0.1111111111111111,
              "#46039f"
             ],
             [
              0.2222222222222222,
              "#7201a8"
             ],
             [
              0.3333333333333333,
              "#9c179e"
             ],
             [
              0.4444444444444444,
              "#bd3786"
             ],
             [
              0.5555555555555556,
              "#d8576b"
             ],
             [
              0.6666666666666666,
              "#ed7953"
             ],
             [
              0.7777777777777778,
              "#fb9f3a"
             ],
             [
              0.8888888888888888,
              "#fdca26"
             ],
             [
              1,
              "#f0f921"
             ]
            ],
            "type": "heatmap"
           }
          ],
          "histogram": [
           {
            "marker": {
             "pattern": {
              "fillmode": "overlay",
              "size": 10,
              "solidity": 0.2
             }
            },
            "type": "histogram"
           }
          ],
          "histogram2d": [
           {
            "colorbar": {
             "outlinewidth": 0,
             "ticks": ""
            },
            "colorscale": [
             [
              0,
              "#0d0887"
             ],
             [
              0.1111111111111111,
              "#46039f"
             ],
             [
              0.2222222222222222,
              "#7201a8"
             ],
             [
              0.3333333333333333,
              "#9c179e"
             ],
             [
              0.4444444444444444,
              "#bd3786"
             ],
             [
              0.5555555555555556,
              "#d8576b"
             ],
             [
              0.6666666666666666,
              "#ed7953"
             ],
             [
              0.7777777777777778,
              "#fb9f3a"
             ],
             [
              0.8888888888888888,
              "#fdca26"
             ],
             [
              1,
              "#f0f921"
             ]
            ],
            "type": "histogram2d"
           }
          ],
          "histogram2dcontour": [
           {
            "colorbar": {
             "outlinewidth": 0,
             "ticks": ""
            },
            "colorscale": [
             [
              0,
              "#0d0887"
             ],
             [
              0.1111111111111111,
              "#46039f"
             ],
             [
              0.2222222222222222,
              "#7201a8"
             ],
             [
              0.3333333333333333,
              "#9c179e"
             ],
             [
              0.4444444444444444,
              "#bd3786"
             ],
             [
              0.5555555555555556,
              "#d8576b"
             ],
             [
              0.6666666666666666,
              "#ed7953"
             ],
             [
              0.7777777777777778,
              "#fb9f3a"
             ],
             [
              0.8888888888888888,
              "#fdca26"
             ],
             [
              1,
              "#f0f921"
             ]
            ],
            "type": "histogram2dcontour"
           }
          ],
          "mesh3d": [
           {
            "colorbar": {
             "outlinewidth": 0,
             "ticks": ""
            },
            "type": "mesh3d"
           }
          ],
          "parcoords": [
           {
            "line": {
             "colorbar": {
              "outlinewidth": 0,
              "ticks": ""
             }
            },
            "type": "parcoords"
           }
          ],
          "pie": [
           {
            "automargin": true,
            "type": "pie"
           }
          ],
          "scatter": [
           {
            "fillpattern": {
             "fillmode": "overlay",
             "size": 10,
             "solidity": 0.2
            },
            "type": "scatter"
           }
          ],
          "scatter3d": [
           {
            "line": {
             "colorbar": {
              "outlinewidth": 0,
              "ticks": ""
             }
            },
            "marker": {
             "colorbar": {
              "outlinewidth": 0,
              "ticks": ""
             }
            },
            "type": "scatter3d"
           }
          ],
          "scattercarpet": [
           {
            "marker": {
             "colorbar": {
              "outlinewidth": 0,
              "ticks": ""
             }
            },
            "type": "scattercarpet"
           }
          ],
          "scattergeo": [
           {
            "marker": {
             "colorbar": {
              "outlinewidth": 0,
              "ticks": ""
             }
            },
            "type": "scattergeo"
           }
          ],
          "scattergl": [
           {
            "marker": {
             "colorbar": {
              "outlinewidth": 0,
              "ticks": ""
             }
            },
            "type": "scattergl"
           }
          ],
          "scattermap": [
           {
            "marker": {
             "colorbar": {
              "outlinewidth": 0,
              "ticks": ""
             }
            },
            "type": "scattermap"
           }
          ],
          "scattermapbox": [
           {
            "marker": {
             "colorbar": {
              "outlinewidth": 0,
              "ticks": ""
             }
            },
            "type": "scattermapbox"
           }
          ],
          "scatterpolar": [
           {
            "marker": {
             "colorbar": {
              "outlinewidth": 0,
              "ticks": ""
             }
            },
            "type": "scatterpolar"
           }
          ],
          "scatterpolargl": [
           {
            "marker": {
             "colorbar": {
              "outlinewidth": 0,
              "ticks": ""
             }
            },
            "type": "scatterpolargl"
           }
          ],
          "scatterternary": [
           {
            "marker": {
             "colorbar": {
              "outlinewidth": 0,
              "ticks": ""
             }
            },
            "type": "scatterternary"
           }
          ],
          "surface": [
           {
            "colorbar": {
             "outlinewidth": 0,
             "ticks": ""
            },
            "colorscale": [
             [
              0,
              "#0d0887"
             ],
             [
              0.1111111111111111,
              "#46039f"
             ],
             [
              0.2222222222222222,
              "#7201a8"
             ],
             [
              0.3333333333333333,
              "#9c179e"
             ],
             [
              0.4444444444444444,
              "#bd3786"
             ],
             [
              0.5555555555555556,
              "#d8576b"
             ],
             [
              0.6666666666666666,
              "#ed7953"
             ],
             [
              0.7777777777777778,
              "#fb9f3a"
             ],
             [
              0.8888888888888888,
              "#fdca26"
             ],
             [
              1,
              "#f0f921"
             ]
            ],
            "type": "surface"
           }
          ],
          "table": [
           {
            "cells": {
             "fill": {
              "color": "#EBF0F8"
             },
             "line": {
              "color": "white"
             }
            },
            "header": {
             "fill": {
              "color": "#C8D4E3"
             },
             "line": {
              "color": "white"
             }
            },
            "type": "table"
           }
          ]
         },
         "layout": {
          "annotationdefaults": {
           "arrowcolor": "#2a3f5f",
           "arrowhead": 0,
           "arrowwidth": 1
          },
          "autotypenumbers": "strict",
          "coloraxis": {
           "colorbar": {
            "outlinewidth": 0,
            "ticks": ""
           }
          },
          "colorscale": {
           "diverging": [
            [
             0,
             "#8e0152"
            ],
            [
             0.1,
             "#c51b7d"
            ],
            [
             0.2,
             "#de77ae"
            ],
            [
             0.3,
             "#f1b6da"
            ],
            [
             0.4,
             "#fde0ef"
            ],
            [
             0.5,
             "#f7f7f7"
            ],
            [
             0.6,
             "#e6f5d0"
            ],
            [
             0.7,
             "#b8e186"
            ],
            [
             0.8,
             "#7fbc41"
            ],
            [
             0.9,
             "#4d9221"
            ],
            [
             1,
             "#276419"
            ]
           ],
           "sequential": [
            [
             0,
             "#0d0887"
            ],
            [
             0.1111111111111111,
             "#46039f"
            ],
            [
             0.2222222222222222,
             "#7201a8"
            ],
            [
             0.3333333333333333,
             "#9c179e"
            ],
            [
             0.4444444444444444,
             "#bd3786"
            ],
            [
             0.5555555555555556,
             "#d8576b"
            ],
            [
             0.6666666666666666,
             "#ed7953"
            ],
            [
             0.7777777777777778,
             "#fb9f3a"
            ],
            [
             0.8888888888888888,
             "#fdca26"
            ],
            [
             1,
             "#f0f921"
            ]
           ],
           "sequentialminus": [
            [
             0,
             "#0d0887"
            ],
            [
             0.1111111111111111,
             "#46039f"
            ],
            [
             0.2222222222222222,
             "#7201a8"
            ],
            [
             0.3333333333333333,
             "#9c179e"
            ],
            [
             0.4444444444444444,
             "#bd3786"
            ],
            [
             0.5555555555555556,
             "#d8576b"
            ],
            [
             0.6666666666666666,
             "#ed7953"
            ],
            [
             0.7777777777777778,
             "#fb9f3a"
            ],
            [
             0.8888888888888888,
             "#fdca26"
            ],
            [
             1,
             "#f0f921"
            ]
           ]
          },
          "colorway": [
           "#636efa",
           "#EF553B",
           "#00cc96",
           "#ab63fa",
           "#FFA15A",
           "#19d3f3",
           "#FF6692",
           "#B6E880",
           "#FF97FF",
           "#FECB52"
          ],
          "font": {
           "color": "#2a3f5f"
          },
          "geo": {
           "bgcolor": "white",
           "lakecolor": "white",
           "landcolor": "#E5ECF6",
           "showlakes": true,
           "showland": true,
           "subunitcolor": "white"
          },
          "hoverlabel": {
           "align": "left"
          },
          "hovermode": "closest",
          "mapbox": {
           "style": "light"
          },
          "paper_bgcolor": "white",
          "plot_bgcolor": "#E5ECF6",
          "polar": {
           "angularaxis": {
            "gridcolor": "white",
            "linecolor": "white",
            "ticks": ""
           },
           "bgcolor": "#E5ECF6",
           "radialaxis": {
            "gridcolor": "white",
            "linecolor": "white",
            "ticks": ""
           }
          },
          "scene": {
           "xaxis": {
            "backgroundcolor": "#E5ECF6",
            "gridcolor": "white",
            "gridwidth": 2,
            "linecolor": "white",
            "showbackground": true,
            "ticks": "",
            "zerolinecolor": "white"
           },
           "yaxis": {
            "backgroundcolor": "#E5ECF6",
            "gridcolor": "white",
            "gridwidth": 2,
            "linecolor": "white",
            "showbackground": true,
            "ticks": "",
            "zerolinecolor": "white"
           },
           "zaxis": {
            "backgroundcolor": "#E5ECF6",
            "gridcolor": "white",
            "gridwidth": 2,
            "linecolor": "white",
            "showbackground": true,
            "ticks": "",
            "zerolinecolor": "white"
           }
          },
          "shapedefaults": {
           "line": {
            "color": "#2a3f5f"
           }
          },
          "ternary": {
           "aaxis": {
            "gridcolor": "white",
            "linecolor": "white",
            "ticks": ""
           },
           "baxis": {
            "gridcolor": "white",
            "linecolor": "white",
            "ticks": ""
           },
           "bgcolor": "#E5ECF6",
           "caxis": {
            "gridcolor": "white",
            "linecolor": "white",
            "ticks": ""
           }
          },
          "title": {
           "x": 0.05
          },
          "xaxis": {
           "automargin": true,
           "gridcolor": "white",
           "linecolor": "white",
           "ticks": "",
           "title": {
            "standoff": 15
           },
           "zerolinecolor": "white",
           "zerolinewidth": 2
          },
          "yaxis": {
           "automargin": true,
           "gridcolor": "white",
           "linecolor": "white",
           "ticks": "",
           "title": {
            "standoff": 15
           },
           "zerolinecolor": "white",
           "zerolinewidth": 2
          }
         }
        },
        "title": {
         "text": "Average Price by Car Brand"
        },
        "xaxis": {
         "anchor": "y",
         "domain": [
          0,
          1
         ],
         "title": {
          "text": "Car Brand"
         }
        },
        "yaxis": {
         "anchor": "x",
         "domain": [
          0,
          1
         ],
         "title": {
          "text": "Average Price"
         }
        }
       }
      }
     },
     "metadata": {},
     "output_type": "display_data"
    },
    {
     "data": {
      "application/vnd.plotly.v1+json": {
       "config": {
        "plotlyServerURL": "https://plot.ly"
       },
       "data": [
        {
         "hovertemplate": "Car Type=%{x}<br>Average Price=%{y}<extra></extra>",
         "legendgroup": "",
         "marker": {
          "color": "#636efa",
          "pattern": {
           "shape": ""
          }
         },
         "name": "",
         "orientation": "v",
         "showlegend": false,
         "textposition": "auto",
         "type": "bar",
         "x": [
          "pickup",
          "truck",
          "offroad",
          "other",
          "SUV",
          "convertible",
          "wagon",
          "mini-van",
          "sedan",
          "van",
          "hatchback",
          "coupe"
         ],
         "xaxis": "x",
         "y": {
          "bdata": "SEnyR5E5iDADLyctZCaIIcsemBuvGVQG",
          "dtype": "i2"
         },
         "yaxis": "y"
        }
       ],
       "layout": {
        "barmode": "relative",
        "height": 400,
        "legend": {
         "tracegroupgap": 0
        },
        "template": {
         "data": {
          "bar": [
           {
            "error_x": {
             "color": "#2a3f5f"
            },
            "error_y": {
             "color": "#2a3f5f"
            },
            "marker": {
             "line": {
              "color": "#E5ECF6",
              "width": 0.5
             },
             "pattern": {
              "fillmode": "overlay",
              "size": 10,
              "solidity": 0.2
             }
            },
            "type": "bar"
           }
          ],
          "barpolar": [
           {
            "marker": {
             "line": {
              "color": "#E5ECF6",
              "width": 0.5
             },
             "pattern": {
              "fillmode": "overlay",
              "size": 10,
              "solidity": 0.2
             }
            },
            "type": "barpolar"
           }
          ],
          "carpet": [
           {
            "aaxis": {
             "endlinecolor": "#2a3f5f",
             "gridcolor": "white",
             "linecolor": "white",
             "minorgridcolor": "white",
             "startlinecolor": "#2a3f5f"
            },
            "baxis": {
             "endlinecolor": "#2a3f5f",
             "gridcolor": "white",
             "linecolor": "white",
             "minorgridcolor": "white",
             "startlinecolor": "#2a3f5f"
            },
            "type": "carpet"
           }
          ],
          "choropleth": [
           {
            "colorbar": {
             "outlinewidth": 0,
             "ticks": ""
            },
            "type": "choropleth"
           }
          ],
          "contour": [
           {
            "colorbar": {
             "outlinewidth": 0,
             "ticks": ""
            },
            "colorscale": [
             [
              0,
              "#0d0887"
             ],
             [
              0.1111111111111111,
              "#46039f"
             ],
             [
              0.2222222222222222,
              "#7201a8"
             ],
             [
              0.3333333333333333,
              "#9c179e"
             ],
             [
              0.4444444444444444,
              "#bd3786"
             ],
             [
              0.5555555555555556,
              "#d8576b"
             ],
             [
              0.6666666666666666,
              "#ed7953"
             ],
             [
              0.7777777777777778,
              "#fb9f3a"
             ],
             [
              0.8888888888888888,
              "#fdca26"
             ],
             [
              1,
              "#f0f921"
             ]
            ],
            "type": "contour"
           }
          ],
          "contourcarpet": [
           {
            "colorbar": {
             "outlinewidth": 0,
             "ticks": ""
            },
            "type": "contourcarpet"
           }
          ],
          "heatmap": [
           {
            "colorbar": {
             "outlinewidth": 0,
             "ticks": ""
            },
            "colorscale": [
             [
              0,
              "#0d0887"
             ],
             [
              0.1111111111111111,
              "#46039f"
             ],
             [
              0.2222222222222222,
              "#7201a8"
             ],
             [
              0.3333333333333333,
              "#9c179e"
             ],
             [
              0.4444444444444444,
              "#bd3786"
             ],
             [
              0.5555555555555556,
              "#d8576b"
             ],
             [
              0.6666666666666666,
              "#ed7953"
             ],
             [
              0.7777777777777778,
              "#fb9f3a"
             ],
             [
              0.8888888888888888,
              "#fdca26"
             ],
             [
              1,
              "#f0f921"
             ]
            ],
            "type": "heatmap"
           }
          ],
          "histogram": [
           {
            "marker": {
             "pattern": {
              "fillmode": "overlay",
              "size": 10,
              "solidity": 0.2
             }
            },
            "type": "histogram"
           }
          ],
          "histogram2d": [
           {
            "colorbar": {
             "outlinewidth": 0,
             "ticks": ""
            },
            "colorscale": [
             [
              0,
              "#0d0887"
             ],
             [
              0.1111111111111111,
              "#46039f"
             ],
             [
              0.2222222222222222,
              "#7201a8"
             ],
             [
              0.3333333333333333,
              "#9c179e"
             ],
             [
              0.4444444444444444,
              "#bd3786"
             ],
             [
              0.5555555555555556,
              "#d8576b"
             ],
             [
              0.6666666666666666,
              "#ed7953"
             ],
             [
              0.7777777777777778,
              "#fb9f3a"
             ],
             [
              0.8888888888888888,
              "#fdca26"
             ],
             [
              1,
              "#f0f921"
             ]
            ],
            "type": "histogram2d"
           }
          ],
          "histogram2dcontour": [
           {
            "colorbar": {
             "outlinewidth": 0,
             "ticks": ""
            },
            "colorscale": [
             [
              0,
              "#0d0887"
             ],
             [
              0.1111111111111111,
              "#46039f"
             ],
             [
              0.2222222222222222,
              "#7201a8"
             ],
             [
              0.3333333333333333,
              "#9c179e"
             ],
             [
              0.4444444444444444,
              "#bd3786"
             ],
             [
              0.5555555555555556,
              "#d8576b"
             ],
             [
              0.6666666666666666,
              "#ed7953"
             ],
             [
              0.7777777777777778,
              "#fb9f3a"
             ],
             [
              0.8888888888888888,
              "#fdca26"
             ],
             [
              1,
              "#f0f921"
             ]
            ],
            "type": "histogram2dcontour"
           }
          ],
          "mesh3d": [
           {
            "colorbar": {
             "outlinewidth": 0,
             "ticks": ""
            },
            "type": "mesh3d"
           }
          ],
          "parcoords": [
           {
            "line": {
             "colorbar": {
              "outlinewidth": 0,
              "ticks": ""
             }
            },
            "type": "parcoords"
           }
          ],
          "pie": [
           {
            "automargin": true,
            "type": "pie"
           }
          ],
          "scatter": [
           {
            "fillpattern": {
             "fillmode": "overlay",
             "size": 10,
             "solidity": 0.2
            },
            "type": "scatter"
           }
          ],
          "scatter3d": [
           {
            "line": {
             "colorbar": {
              "outlinewidth": 0,
              "ticks": ""
             }
            },
            "marker": {
             "colorbar": {
              "outlinewidth": 0,
              "ticks": ""
             }
            },
            "type": "scatter3d"
           }
          ],
          "scattercarpet": [
           {
            "marker": {
             "colorbar": {
              "outlinewidth": 0,
              "ticks": ""
             }
            },
            "type": "scattercarpet"
           }
          ],
          "scattergeo": [
           {
            "marker": {
             "colorbar": {
              "outlinewidth": 0,
              "ticks": ""
             }
            },
            "type": "scattergeo"
           }
          ],
          "scattergl": [
           {
            "marker": {
             "colorbar": {
              "outlinewidth": 0,
              "ticks": ""
             }
            },
            "type": "scattergl"
           }
          ],
          "scattermap": [
           {
            "marker": {
             "colorbar": {
              "outlinewidth": 0,
              "ticks": ""
             }
            },
            "type": "scattermap"
           }
          ],
          "scattermapbox": [
           {
            "marker": {
             "colorbar": {
              "outlinewidth": 0,
              "ticks": ""
             }
            },
            "type": "scattermapbox"
           }
          ],
          "scatterpolar": [
           {
            "marker": {
             "colorbar": {
              "outlinewidth": 0,
              "ticks": ""
             }
            },
            "type": "scatterpolar"
           }
          ],
          "scatterpolargl": [
           {
            "marker": {
             "colorbar": {
              "outlinewidth": 0,
              "ticks": ""
             }
            },
            "type": "scatterpolargl"
           }
          ],
          "scatterternary": [
           {
            "marker": {
             "colorbar": {
              "outlinewidth": 0,
              "ticks": ""
             }
            },
            "type": "scatterternary"
           }
          ],
          "surface": [
           {
            "colorbar": {
             "outlinewidth": 0,
             "ticks": ""
            },
            "colorscale": [
             [
              0,
              "#0d0887"
             ],
             [
              0.1111111111111111,
              "#46039f"
             ],
             [
              0.2222222222222222,
              "#7201a8"
             ],
             [
              0.3333333333333333,
              "#9c179e"
             ],
             [
              0.4444444444444444,
              "#bd3786"
             ],
             [
              0.5555555555555556,
              "#d8576b"
             ],
             [
              0.6666666666666666,
              "#ed7953"
             ],
             [
              0.7777777777777778,
              "#fb9f3a"
             ],
             [
              0.8888888888888888,
              "#fdca26"
             ],
             [
              1,
              "#f0f921"
             ]
            ],
            "type": "surface"
           }
          ],
          "table": [
           {
            "cells": {
             "fill": {
              "color": "#EBF0F8"
             },
             "line": {
              "color": "white"
             }
            },
            "header": {
             "fill": {
              "color": "#C8D4E3"
             },
             "line": {
              "color": "white"
             }
            },
            "type": "table"
           }
          ]
         },
         "layout": {
          "annotationdefaults": {
           "arrowcolor": "#2a3f5f",
           "arrowhead": 0,
           "arrowwidth": 1
          },
          "autotypenumbers": "strict",
          "coloraxis": {
           "colorbar": {
            "outlinewidth": 0,
            "ticks": ""
           }
          },
          "colorscale": {
           "diverging": [
            [
             0,
             "#8e0152"
            ],
            [
             0.1,
             "#c51b7d"
            ],
            [
             0.2,
             "#de77ae"
            ],
            [
             0.3,
             "#f1b6da"
            ],
            [
             0.4,
             "#fde0ef"
            ],
            [
             0.5,
             "#f7f7f7"
            ],
            [
             0.6,
             "#e6f5d0"
            ],
            [
             0.7,
             "#b8e186"
            ],
            [
             0.8,
             "#7fbc41"
            ],
            [
             0.9,
             "#4d9221"
            ],
            [
             1,
             "#276419"
            ]
           ],
           "sequential": [
            [
             0,
             "#0d0887"
            ],
            [
             0.1111111111111111,
             "#46039f"
            ],
            [
             0.2222222222222222,
             "#7201a8"
            ],
            [
             0.3333333333333333,
             "#9c179e"
            ],
            [
             0.4444444444444444,
             "#bd3786"
            ],
            [
             0.5555555555555556,
             "#d8576b"
            ],
            [
             0.6666666666666666,
             "#ed7953"
            ],
            [
             0.7777777777777778,
             "#fb9f3a"
            ],
            [
             0.8888888888888888,
             "#fdca26"
            ],
            [
             1,
             "#f0f921"
            ]
           ],
           "sequentialminus": [
            [
             0,
             "#0d0887"
            ],
            [
             0.1111111111111111,
             "#46039f"
            ],
            [
             0.2222222222222222,
             "#7201a8"
            ],
            [
             0.3333333333333333,
             "#9c179e"
            ],
            [
             0.4444444444444444,
             "#bd3786"
            ],
            [
             0.5555555555555556,
             "#d8576b"
            ],
            [
             0.6666666666666666,
             "#ed7953"
            ],
            [
             0.7777777777777778,
             "#fb9f3a"
            ],
            [
             0.8888888888888888,
             "#fdca26"
            ],
            [
             1,
             "#f0f921"
            ]
           ]
          },
          "colorway": [
           "#636efa",
           "#EF553B",
           "#00cc96",
           "#ab63fa",
           "#FFA15A",
           "#19d3f3",
           "#FF6692",
           "#B6E880",
           "#FF97FF",
           "#FECB52"
          ],
          "font": {
           "color": "#2a3f5f"
          },
          "geo": {
           "bgcolor": "white",
           "lakecolor": "white",
           "landcolor": "#E5ECF6",
           "showlakes": true,
           "showland": true,
           "subunitcolor": "white"
          },
          "hoverlabel": {
           "align": "left"
          },
          "hovermode": "closest",
          "mapbox": {
           "style": "light"
          },
          "paper_bgcolor": "white",
          "plot_bgcolor": "#E5ECF6",
          "polar": {
           "angularaxis": {
            "gridcolor": "white",
            "linecolor": "white",
            "ticks": ""
           },
           "bgcolor": "#E5ECF6",
           "radialaxis": {
            "gridcolor": "white",
            "linecolor": "white",
            "ticks": ""
           }
          },
          "scene": {
           "xaxis": {
            "backgroundcolor": "#E5ECF6",
            "gridcolor": "white",
            "gridwidth": 2,
            "linecolor": "white",
            "showbackground": true,
            "ticks": "",
            "zerolinecolor": "white"
           },
           "yaxis": {
            "backgroundcolor": "#E5ECF6",
            "gridcolor": "white",
            "gridwidth": 2,
            "linecolor": "white",
            "showbackground": true,
            "ticks": "",
            "zerolinecolor": "white"
           },
           "zaxis": {
            "backgroundcolor": "#E5ECF6",
            "gridcolor": "white",
            "gridwidth": 2,
            "linecolor": "white",
            "showbackground": true,
            "ticks": "",
            "zerolinecolor": "white"
           }
          },
          "shapedefaults": {
           "line": {
            "color": "#2a3f5f"
           }
          },
          "ternary": {
           "aaxis": {
            "gridcolor": "white",
            "linecolor": "white",
            "ticks": ""
           },
           "baxis": {
            "gridcolor": "white",
            "linecolor": "white",
            "ticks": ""
           },
           "bgcolor": "#E5ECF6",
           "caxis": {
            "gridcolor": "white",
            "linecolor": "white",
            "ticks": ""
           }
          },
          "title": {
           "x": 0.05
          },
          "xaxis": {
           "automargin": true,
           "gridcolor": "white",
           "linecolor": "white",
           "ticks": "",
           "title": {
            "standoff": 15
           },
           "zerolinecolor": "white",
           "zerolinewidth": 2
          },
          "yaxis": {
           "automargin": true,
           "gridcolor": "white",
           "linecolor": "white",
           "ticks": "",
           "title": {
            "standoff": 15
           },
           "zerolinecolor": "white",
           "zerolinewidth": 2
          }
         }
        },
        "title": {
         "text": "Average Price by Car Type"
        },
        "xaxis": {
         "anchor": "y",
         "domain": [
          0,
          1
         ],
         "title": {
          "text": "Car Type"
         }
        },
        "yaxis": {
         "anchor": "x",
         "domain": [
          0,
          1
         ],
         "title": {
          "text": "Average Price"
         }
        }
       }
      }
     },
     "metadata": {},
     "output_type": "display_data"
    }
   ],
   "source": [
    "\n",
    "px.bar(df_brands, x='brand', y='price', title='Average Price by Car Brand', labels={'brand': 'Car Brand', 'price': 'Average Price'}, height=400).show()\n",
    "\n",
    "px.bar(df_type, x='type', y='price', title='Average Price by Car Type', labels={'type': 'Car Type', 'price': 'Average Price'}, height=400).show()"
   ]
  },
  {
   "cell_type": "code",
   "execution_count": 25,
   "id": "04f26d0e",
   "metadata": {},
   "outputs": [
    {
     "data": {
      "application/vnd.plotly.v1+json": {
       "config": {
        "plotlyServerURL": "https://plot.ly"
       },
       "data": [
        {
         "hovertemplate": "Car Brand=%{x}<br>Average Days Listed=%{y}<extra></extra>",
         "legendgroup": "",
         "marker": {
          "color": "#636efa",
          "pattern": {
           "shape": ""
          }
         },
         "name": "",
         "orientation": "v",
         "showlegend": false,
         "textposition": "auto",
         "type": "bar",
         "x": [
          "ram",
          "cadillac",
          "gmc",
          "chevrolet",
          "ford",
          "toyota",
          "nissan",
          "chrysler",
          "jeep",
          "buick",
          "bmw",
          "kia",
          "acura",
          "subaru",
          "honda",
          "hyundai",
          "volkswagen",
          "dodge"
         ],
         "xaxis": "x",
         "y": {
          "bdata": "JykoJycoJionKyopNSgmKjEk",
          "dtype": "i1"
         },
         "yaxis": "y"
        }
       ],
       "layout": {
        "barmode": "relative",
        "height": 400,
        "legend": {
         "tracegroupgap": 0
        },
        "template": {
         "data": {
          "bar": [
           {
            "error_x": {
             "color": "#2a3f5f"
            },
            "error_y": {
             "color": "#2a3f5f"
            },
            "marker": {
             "line": {
              "color": "#E5ECF6",
              "width": 0.5
             },
             "pattern": {
              "fillmode": "overlay",
              "size": 10,
              "solidity": 0.2
             }
            },
            "type": "bar"
           }
          ],
          "barpolar": [
           {
            "marker": {
             "line": {
              "color": "#E5ECF6",
              "width": 0.5
             },
             "pattern": {
              "fillmode": "overlay",
              "size": 10,
              "solidity": 0.2
             }
            },
            "type": "barpolar"
           }
          ],
          "carpet": [
           {
            "aaxis": {
             "endlinecolor": "#2a3f5f",
             "gridcolor": "white",
             "linecolor": "white",
             "minorgridcolor": "white",
             "startlinecolor": "#2a3f5f"
            },
            "baxis": {
             "endlinecolor": "#2a3f5f",
             "gridcolor": "white",
             "linecolor": "white",
             "minorgridcolor": "white",
             "startlinecolor": "#2a3f5f"
            },
            "type": "carpet"
           }
          ],
          "choropleth": [
           {
            "colorbar": {
             "outlinewidth": 0,
             "ticks": ""
            },
            "type": "choropleth"
           }
          ],
          "contour": [
           {
            "colorbar": {
             "outlinewidth": 0,
             "ticks": ""
            },
            "colorscale": [
             [
              0,
              "#0d0887"
             ],
             [
              0.1111111111111111,
              "#46039f"
             ],
             [
              0.2222222222222222,
              "#7201a8"
             ],
             [
              0.3333333333333333,
              "#9c179e"
             ],
             [
              0.4444444444444444,
              "#bd3786"
             ],
             [
              0.5555555555555556,
              "#d8576b"
             ],
             [
              0.6666666666666666,
              "#ed7953"
             ],
             [
              0.7777777777777778,
              "#fb9f3a"
             ],
             [
              0.8888888888888888,
              "#fdca26"
             ],
             [
              1,
              "#f0f921"
             ]
            ],
            "type": "contour"
           }
          ],
          "contourcarpet": [
           {
            "colorbar": {
             "outlinewidth": 0,
             "ticks": ""
            },
            "type": "contourcarpet"
           }
          ],
          "heatmap": [
           {
            "colorbar": {
             "outlinewidth": 0,
             "ticks": ""
            },
            "colorscale": [
             [
              0,
              "#0d0887"
             ],
             [
              0.1111111111111111,
              "#46039f"
             ],
             [
              0.2222222222222222,
              "#7201a8"
             ],
             [
              0.3333333333333333,
              "#9c179e"
             ],
             [
              0.4444444444444444,
              "#bd3786"
             ],
             [
              0.5555555555555556,
              "#d8576b"
             ],
             [
              0.6666666666666666,
              "#ed7953"
             ],
             [
              0.7777777777777778,
              "#fb9f3a"
             ],
             [
              0.8888888888888888,
              "#fdca26"
             ],
             [
              1,
              "#f0f921"
             ]
            ],
            "type": "heatmap"
           }
          ],
          "histogram": [
           {
            "marker": {
             "pattern": {
              "fillmode": "overlay",
              "size": 10,
              "solidity": 0.2
             }
            },
            "type": "histogram"
           }
          ],
          "histogram2d": [
           {
            "colorbar": {
             "outlinewidth": 0,
             "ticks": ""
            },
            "colorscale": [
             [
              0,
              "#0d0887"
             ],
             [
              0.1111111111111111,
              "#46039f"
             ],
             [
              0.2222222222222222,
              "#7201a8"
             ],
             [
              0.3333333333333333,
              "#9c179e"
             ],
             [
              0.4444444444444444,
              "#bd3786"
             ],
             [
              0.5555555555555556,
              "#d8576b"
             ],
             [
              0.6666666666666666,
              "#ed7953"
             ],
             [
              0.7777777777777778,
              "#fb9f3a"
             ],
             [
              0.8888888888888888,
              "#fdca26"
             ],
             [
              1,
              "#f0f921"
             ]
            ],
            "type": "histogram2d"
           }
          ],
          "histogram2dcontour": [
           {
            "colorbar": {
             "outlinewidth": 0,
             "ticks": ""
            },
            "colorscale": [
             [
              0,
              "#0d0887"
             ],
             [
              0.1111111111111111,
              "#46039f"
             ],
             [
              0.2222222222222222,
              "#7201a8"
             ],
             [
              0.3333333333333333,
              "#9c179e"
             ],
             [
              0.4444444444444444,
              "#bd3786"
             ],
             [
              0.5555555555555556,
              "#d8576b"
             ],
             [
              0.6666666666666666,
              "#ed7953"
             ],
             [
              0.7777777777777778,
              "#fb9f3a"
             ],
             [
              0.8888888888888888,
              "#fdca26"
             ],
             [
              1,
              "#f0f921"
             ]
            ],
            "type": "histogram2dcontour"
           }
          ],
          "mesh3d": [
           {
            "colorbar": {
             "outlinewidth": 0,
             "ticks": ""
            },
            "type": "mesh3d"
           }
          ],
          "parcoords": [
           {
            "line": {
             "colorbar": {
              "outlinewidth": 0,
              "ticks": ""
             }
            },
            "type": "parcoords"
           }
          ],
          "pie": [
           {
            "automargin": true,
            "type": "pie"
           }
          ],
          "scatter": [
           {
            "fillpattern": {
             "fillmode": "overlay",
             "size": 10,
             "solidity": 0.2
            },
            "type": "scatter"
           }
          ],
          "scatter3d": [
           {
            "line": {
             "colorbar": {
              "outlinewidth": 0,
              "ticks": ""
             }
            },
            "marker": {
             "colorbar": {
              "outlinewidth": 0,
              "ticks": ""
             }
            },
            "type": "scatter3d"
           }
          ],
          "scattercarpet": [
           {
            "marker": {
             "colorbar": {
              "outlinewidth": 0,
              "ticks": ""
             }
            },
            "type": "scattercarpet"
           }
          ],
          "scattergeo": [
           {
            "marker": {
             "colorbar": {
              "outlinewidth": 0,
              "ticks": ""
             }
            },
            "type": "scattergeo"
           }
          ],
          "scattergl": [
           {
            "marker": {
             "colorbar": {
              "outlinewidth": 0,
              "ticks": ""
             }
            },
            "type": "scattergl"
           }
          ],
          "scattermap": [
           {
            "marker": {
             "colorbar": {
              "outlinewidth": 0,
              "ticks": ""
             }
            },
            "type": "scattermap"
           }
          ],
          "scattermapbox": [
           {
            "marker": {
             "colorbar": {
              "outlinewidth": 0,
              "ticks": ""
             }
            },
            "type": "scattermapbox"
           }
          ],
          "scatterpolar": [
           {
            "marker": {
             "colorbar": {
              "outlinewidth": 0,
              "ticks": ""
             }
            },
            "type": "scatterpolar"
           }
          ],
          "scatterpolargl": [
           {
            "marker": {
             "colorbar": {
              "outlinewidth": 0,
              "ticks": ""
             }
            },
            "type": "scatterpolargl"
           }
          ],
          "scatterternary": [
           {
            "marker": {
             "colorbar": {
              "outlinewidth": 0,
              "ticks": ""
             }
            },
            "type": "scatterternary"
           }
          ],
          "surface": [
           {
            "colorbar": {
             "outlinewidth": 0,
             "ticks": ""
            },
            "colorscale": [
             [
              0,
              "#0d0887"
             ],
             [
              0.1111111111111111,
              "#46039f"
             ],
             [
              0.2222222222222222,
              "#7201a8"
             ],
             [
              0.3333333333333333,
              "#9c179e"
             ],
             [
              0.4444444444444444,
              "#bd3786"
             ],
             [
              0.5555555555555556,
              "#d8576b"
             ],
             [
              0.6666666666666666,
              "#ed7953"
             ],
             [
              0.7777777777777778,
              "#fb9f3a"
             ],
             [
              0.8888888888888888,
              "#fdca26"
             ],
             [
              1,
              "#f0f921"
             ]
            ],
            "type": "surface"
           }
          ],
          "table": [
           {
            "cells": {
             "fill": {
              "color": "#EBF0F8"
             },
             "line": {
              "color": "white"
             }
            },
            "header": {
             "fill": {
              "color": "#C8D4E3"
             },
             "line": {
              "color": "white"
             }
            },
            "type": "table"
           }
          ]
         },
         "layout": {
          "annotationdefaults": {
           "arrowcolor": "#2a3f5f",
           "arrowhead": 0,
           "arrowwidth": 1
          },
          "autotypenumbers": "strict",
          "coloraxis": {
           "colorbar": {
            "outlinewidth": 0,
            "ticks": ""
           }
          },
          "colorscale": {
           "diverging": [
            [
             0,
             "#8e0152"
            ],
            [
             0.1,
             "#c51b7d"
            ],
            [
             0.2,
             "#de77ae"
            ],
            [
             0.3,
             "#f1b6da"
            ],
            [
             0.4,
             "#fde0ef"
            ],
            [
             0.5,
             "#f7f7f7"
            ],
            [
             0.6,
             "#e6f5d0"
            ],
            [
             0.7,
             "#b8e186"
            ],
            [
             0.8,
             "#7fbc41"
            ],
            [
             0.9,
             "#4d9221"
            ],
            [
             1,
             "#276419"
            ]
           ],
           "sequential": [
            [
             0,
             "#0d0887"
            ],
            [
             0.1111111111111111,
             "#46039f"
            ],
            [
             0.2222222222222222,
             "#7201a8"
            ],
            [
             0.3333333333333333,
             "#9c179e"
            ],
            [
             0.4444444444444444,
             "#bd3786"
            ],
            [
             0.5555555555555556,
             "#d8576b"
            ],
            [
             0.6666666666666666,
             "#ed7953"
            ],
            [
             0.7777777777777778,
             "#fb9f3a"
            ],
            [
             0.8888888888888888,
             "#fdca26"
            ],
            [
             1,
             "#f0f921"
            ]
           ],
           "sequentialminus": [
            [
             0,
             "#0d0887"
            ],
            [
             0.1111111111111111,
             "#46039f"
            ],
            [
             0.2222222222222222,
             "#7201a8"
            ],
            [
             0.3333333333333333,
             "#9c179e"
            ],
            [
             0.4444444444444444,
             "#bd3786"
            ],
            [
             0.5555555555555556,
             "#d8576b"
            ],
            [
             0.6666666666666666,
             "#ed7953"
            ],
            [
             0.7777777777777778,
             "#fb9f3a"
            ],
            [
             0.8888888888888888,
             "#fdca26"
            ],
            [
             1,
             "#f0f921"
            ]
           ]
          },
          "colorway": [
           "#636efa",
           "#EF553B",
           "#00cc96",
           "#ab63fa",
           "#FFA15A",
           "#19d3f3",
           "#FF6692",
           "#B6E880",
           "#FF97FF",
           "#FECB52"
          ],
          "font": {
           "color": "#2a3f5f"
          },
          "geo": {
           "bgcolor": "white",
           "lakecolor": "white",
           "landcolor": "#E5ECF6",
           "showlakes": true,
           "showland": true,
           "subunitcolor": "white"
          },
          "hoverlabel": {
           "align": "left"
          },
          "hovermode": "closest",
          "mapbox": {
           "style": "light"
          },
          "paper_bgcolor": "white",
          "plot_bgcolor": "#E5ECF6",
          "polar": {
           "angularaxis": {
            "gridcolor": "white",
            "linecolor": "white",
            "ticks": ""
           },
           "bgcolor": "#E5ECF6",
           "radialaxis": {
            "gridcolor": "white",
            "linecolor": "white",
            "ticks": ""
           }
          },
          "scene": {
           "xaxis": {
            "backgroundcolor": "#E5ECF6",
            "gridcolor": "white",
            "gridwidth": 2,
            "linecolor": "white",
            "showbackground": true,
            "ticks": "",
            "zerolinecolor": "white"
           },
           "yaxis": {
            "backgroundcolor": "#E5ECF6",
            "gridcolor": "white",
            "gridwidth": 2,
            "linecolor": "white",
            "showbackground": true,
            "ticks": "",
            "zerolinecolor": "white"
           },
           "zaxis": {
            "backgroundcolor": "#E5ECF6",
            "gridcolor": "white",
            "gridwidth": 2,
            "linecolor": "white",
            "showbackground": true,
            "ticks": "",
            "zerolinecolor": "white"
           }
          },
          "shapedefaults": {
           "line": {
            "color": "#2a3f5f"
           }
          },
          "ternary": {
           "aaxis": {
            "gridcolor": "white",
            "linecolor": "white",
            "ticks": ""
           },
           "baxis": {
            "gridcolor": "white",
            "linecolor": "white",
            "ticks": ""
           },
           "bgcolor": "#E5ECF6",
           "caxis": {
            "gridcolor": "white",
            "linecolor": "white",
            "ticks": ""
           }
          },
          "title": {
           "x": 0.05
          },
          "xaxis": {
           "automargin": true,
           "gridcolor": "white",
           "linecolor": "white",
           "ticks": "",
           "title": {
            "standoff": 15
           },
           "zerolinecolor": "white",
           "zerolinewidth": 2
          },
          "yaxis": {
           "automargin": true,
           "gridcolor": "white",
           "linecolor": "white",
           "ticks": "",
           "title": {
            "standoff": 15
           },
           "zerolinecolor": "white",
           "zerolinewidth": 2
          }
         }
        },
        "title": {
         "text": "Average Days Listed by Car Brand"
        },
        "xaxis": {
         "anchor": "y",
         "domain": [
          0,
          1
         ],
         "title": {
          "text": "Car Brand"
         }
        },
        "yaxis": {
         "anchor": "x",
         "domain": [
          0,
          1
         ],
         "title": {
          "text": "Average Days Listed"
         }
        }
       }
      }
     },
     "metadata": {},
     "output_type": "display_data"
    },
    {
     "data": {
      "application/vnd.plotly.v1+json": {
       "config": {
        "plotlyServerURL": "https://plot.ly"
       },
       "data": [
        {
         "hovertemplate": "Car Type=%{x}<br>Average Days Listed=%{y}<extra></extra>",
         "legendgroup": "",
         "marker": {
          "color": "#636efa",
          "pattern": {
           "shape": ""
          }
         },
         "name": "",
         "orientation": "v",
         "showlegend": false,
         "textposition": "auto",
         "type": "bar",
         "x": [
          "pickup",
          "truck",
          "offroad",
          "other",
          "SUV",
          "convertible",
          "wagon",
          "mini-van",
          "sedan",
          "van",
          "hatchback",
          "coupe"
         ],
         "xaxis": "x",
         "y": {
          "bdata": "JycpKCcsKDQpLi8k",
          "dtype": "i1"
         },
         "yaxis": "y"
        }
       ],
       "layout": {
        "barmode": "relative",
        "height": 400,
        "legend": {
         "tracegroupgap": 0
        },
        "template": {
         "data": {
          "bar": [
           {
            "error_x": {
             "color": "#2a3f5f"
            },
            "error_y": {
             "color": "#2a3f5f"
            },
            "marker": {
             "line": {
              "color": "#E5ECF6",
              "width": 0.5
             },
             "pattern": {
              "fillmode": "overlay",
              "size": 10,
              "solidity": 0.2
             }
            },
            "type": "bar"
           }
          ],
          "barpolar": [
           {
            "marker": {
             "line": {
              "color": "#E5ECF6",
              "width": 0.5
             },
             "pattern": {
              "fillmode": "overlay",
              "size": 10,
              "solidity": 0.2
             }
            },
            "type": "barpolar"
           }
          ],
          "carpet": [
           {
            "aaxis": {
             "endlinecolor": "#2a3f5f",
             "gridcolor": "white",
             "linecolor": "white",
             "minorgridcolor": "white",
             "startlinecolor": "#2a3f5f"
            },
            "baxis": {
             "endlinecolor": "#2a3f5f",
             "gridcolor": "white",
             "linecolor": "white",
             "minorgridcolor": "white",
             "startlinecolor": "#2a3f5f"
            },
            "type": "carpet"
           }
          ],
          "choropleth": [
           {
            "colorbar": {
             "outlinewidth": 0,
             "ticks": ""
            },
            "type": "choropleth"
           }
          ],
          "contour": [
           {
            "colorbar": {
             "outlinewidth": 0,
             "ticks": ""
            },
            "colorscale": [
             [
              0,
              "#0d0887"
             ],
             [
              0.1111111111111111,
              "#46039f"
             ],
             [
              0.2222222222222222,
              "#7201a8"
             ],
             [
              0.3333333333333333,
              "#9c179e"
             ],
             [
              0.4444444444444444,
              "#bd3786"
             ],
             [
              0.5555555555555556,
              "#d8576b"
             ],
             [
              0.6666666666666666,
              "#ed7953"
             ],
             [
              0.7777777777777778,
              "#fb9f3a"
             ],
             [
              0.8888888888888888,
              "#fdca26"
             ],
             [
              1,
              "#f0f921"
             ]
            ],
            "type": "contour"
           }
          ],
          "contourcarpet": [
           {
            "colorbar": {
             "outlinewidth": 0,
             "ticks": ""
            },
            "type": "contourcarpet"
           }
          ],
          "heatmap": [
           {
            "colorbar": {
             "outlinewidth": 0,
             "ticks": ""
            },
            "colorscale": [
             [
              0,
              "#0d0887"
             ],
             [
              0.1111111111111111,
              "#46039f"
             ],
             [
              0.2222222222222222,
              "#7201a8"
             ],
             [
              0.3333333333333333,
              "#9c179e"
             ],
             [
              0.4444444444444444,
              "#bd3786"
             ],
             [
              0.5555555555555556,
              "#d8576b"
             ],
             [
              0.6666666666666666,
              "#ed7953"
             ],
             [
              0.7777777777777778,
              "#fb9f3a"
             ],
             [
              0.8888888888888888,
              "#fdca26"
             ],
             [
              1,
              "#f0f921"
             ]
            ],
            "type": "heatmap"
           }
          ],
          "histogram": [
           {
            "marker": {
             "pattern": {
              "fillmode": "overlay",
              "size": 10,
              "solidity": 0.2
             }
            },
            "type": "histogram"
           }
          ],
          "histogram2d": [
           {
            "colorbar": {
             "outlinewidth": 0,
             "ticks": ""
            },
            "colorscale": [
             [
              0,
              "#0d0887"
             ],
             [
              0.1111111111111111,
              "#46039f"
             ],
             [
              0.2222222222222222,
              "#7201a8"
             ],
             [
              0.3333333333333333,
              "#9c179e"
             ],
             [
              0.4444444444444444,
              "#bd3786"
             ],
             [
              0.5555555555555556,
              "#d8576b"
             ],
             [
              0.6666666666666666,
              "#ed7953"
             ],
             [
              0.7777777777777778,
              "#fb9f3a"
             ],
             [
              0.8888888888888888,
              "#fdca26"
             ],
             [
              1,
              "#f0f921"
             ]
            ],
            "type": "histogram2d"
           }
          ],
          "histogram2dcontour": [
           {
            "colorbar": {
             "outlinewidth": 0,
             "ticks": ""
            },
            "colorscale": [
             [
              0,
              "#0d0887"
             ],
             [
              0.1111111111111111,
              "#46039f"
             ],
             [
              0.2222222222222222,
              "#7201a8"
             ],
             [
              0.3333333333333333,
              "#9c179e"
             ],
             [
              0.4444444444444444,
              "#bd3786"
             ],
             [
              0.5555555555555556,
              "#d8576b"
             ],
             [
              0.6666666666666666,
              "#ed7953"
             ],
             [
              0.7777777777777778,
              "#fb9f3a"
             ],
             [
              0.8888888888888888,
              "#fdca26"
             ],
             [
              1,
              "#f0f921"
             ]
            ],
            "type": "histogram2dcontour"
           }
          ],
          "mesh3d": [
           {
            "colorbar": {
             "outlinewidth": 0,
             "ticks": ""
            },
            "type": "mesh3d"
           }
          ],
          "parcoords": [
           {
            "line": {
             "colorbar": {
              "outlinewidth": 0,
              "ticks": ""
             }
            },
            "type": "parcoords"
           }
          ],
          "pie": [
           {
            "automargin": true,
            "type": "pie"
           }
          ],
          "scatter": [
           {
            "fillpattern": {
             "fillmode": "overlay",
             "size": 10,
             "solidity": 0.2
            },
            "type": "scatter"
           }
          ],
          "scatter3d": [
           {
            "line": {
             "colorbar": {
              "outlinewidth": 0,
              "ticks": ""
             }
            },
            "marker": {
             "colorbar": {
              "outlinewidth": 0,
              "ticks": ""
             }
            },
            "type": "scatter3d"
           }
          ],
          "scattercarpet": [
           {
            "marker": {
             "colorbar": {
              "outlinewidth": 0,
              "ticks": ""
             }
            },
            "type": "scattercarpet"
           }
          ],
          "scattergeo": [
           {
            "marker": {
             "colorbar": {
              "outlinewidth": 0,
              "ticks": ""
             }
            },
            "type": "scattergeo"
           }
          ],
          "scattergl": [
           {
            "marker": {
             "colorbar": {
              "outlinewidth": 0,
              "ticks": ""
             }
            },
            "type": "scattergl"
           }
          ],
          "scattermap": [
           {
            "marker": {
             "colorbar": {
              "outlinewidth": 0,
              "ticks": ""
             }
            },
            "type": "scattermap"
           }
          ],
          "scattermapbox": [
           {
            "marker": {
             "colorbar": {
              "outlinewidth": 0,
              "ticks": ""
             }
            },
            "type": "scattermapbox"
           }
          ],
          "scatterpolar": [
           {
            "marker": {
             "colorbar": {
              "outlinewidth": 0,
              "ticks": ""
             }
            },
            "type": "scatterpolar"
           }
          ],
          "scatterpolargl": [
           {
            "marker": {
             "colorbar": {
              "outlinewidth": 0,
              "ticks": ""
             }
            },
            "type": "scatterpolargl"
           }
          ],
          "scatterternary": [
           {
            "marker": {
             "colorbar": {
              "outlinewidth": 0,
              "ticks": ""
             }
            },
            "type": "scatterternary"
           }
          ],
          "surface": [
           {
            "colorbar": {
             "outlinewidth": 0,
             "ticks": ""
            },
            "colorscale": [
             [
              0,
              "#0d0887"
             ],
             [
              0.1111111111111111,
              "#46039f"
             ],
             [
              0.2222222222222222,
              "#7201a8"
             ],
             [
              0.3333333333333333,
              "#9c179e"
             ],
             [
              0.4444444444444444,
              "#bd3786"
             ],
             [
              0.5555555555555556,
              "#d8576b"
             ],
             [
              0.6666666666666666,
              "#ed7953"
             ],
             [
              0.7777777777777778,
              "#fb9f3a"
             ],
             [
              0.8888888888888888,
              "#fdca26"
             ],
             [
              1,
              "#f0f921"
             ]
            ],
            "type": "surface"
           }
          ],
          "table": [
           {
            "cells": {
             "fill": {
              "color": "#EBF0F8"
             },
             "line": {
              "color": "white"
             }
            },
            "header": {
             "fill": {
              "color": "#C8D4E3"
             },
             "line": {
              "color": "white"
             }
            },
            "type": "table"
           }
          ]
         },
         "layout": {
          "annotationdefaults": {
           "arrowcolor": "#2a3f5f",
           "arrowhead": 0,
           "arrowwidth": 1
          },
          "autotypenumbers": "strict",
          "coloraxis": {
           "colorbar": {
            "outlinewidth": 0,
            "ticks": ""
           }
          },
          "colorscale": {
           "diverging": [
            [
             0,
             "#8e0152"
            ],
            [
             0.1,
             "#c51b7d"
            ],
            [
             0.2,
             "#de77ae"
            ],
            [
             0.3,
             "#f1b6da"
            ],
            [
             0.4,
             "#fde0ef"
            ],
            [
             0.5,
             "#f7f7f7"
            ],
            [
             0.6,
             "#e6f5d0"
            ],
            [
             0.7,
             "#b8e186"
            ],
            [
             0.8,
             "#7fbc41"
            ],
            [
             0.9,
             "#4d9221"
            ],
            [
             1,
             "#276419"
            ]
           ],
           "sequential": [
            [
             0,
             "#0d0887"
            ],
            [
             0.1111111111111111,
             "#46039f"
            ],
            [
             0.2222222222222222,
             "#7201a8"
            ],
            [
             0.3333333333333333,
             "#9c179e"
            ],
            [
             0.4444444444444444,
             "#bd3786"
            ],
            [
             0.5555555555555556,
             "#d8576b"
            ],
            [
             0.6666666666666666,
             "#ed7953"
            ],
            [
             0.7777777777777778,
             "#fb9f3a"
            ],
            [
             0.8888888888888888,
             "#fdca26"
            ],
            [
             1,
             "#f0f921"
            ]
           ],
           "sequentialminus": [
            [
             0,
             "#0d0887"
            ],
            [
             0.1111111111111111,
             "#46039f"
            ],
            [
             0.2222222222222222,
             "#7201a8"
            ],
            [
             0.3333333333333333,
             "#9c179e"
            ],
            [
             0.4444444444444444,
             "#bd3786"
            ],
            [
             0.5555555555555556,
             "#d8576b"
            ],
            [
             0.6666666666666666,
             "#ed7953"
            ],
            [
             0.7777777777777778,
             "#fb9f3a"
            ],
            [
             0.8888888888888888,
             "#fdca26"
            ],
            [
             1,
             "#f0f921"
            ]
           ]
          },
          "colorway": [
           "#636efa",
           "#EF553B",
           "#00cc96",
           "#ab63fa",
           "#FFA15A",
           "#19d3f3",
           "#FF6692",
           "#B6E880",
           "#FF97FF",
           "#FECB52"
          ],
          "font": {
           "color": "#2a3f5f"
          },
          "geo": {
           "bgcolor": "white",
           "lakecolor": "white",
           "landcolor": "#E5ECF6",
           "showlakes": true,
           "showland": true,
           "subunitcolor": "white"
          },
          "hoverlabel": {
           "align": "left"
          },
          "hovermode": "closest",
          "mapbox": {
           "style": "light"
          },
          "paper_bgcolor": "white",
          "plot_bgcolor": "#E5ECF6",
          "polar": {
           "angularaxis": {
            "gridcolor": "white",
            "linecolor": "white",
            "ticks": ""
           },
           "bgcolor": "#E5ECF6",
           "radialaxis": {
            "gridcolor": "white",
            "linecolor": "white",
            "ticks": ""
           }
          },
          "scene": {
           "xaxis": {
            "backgroundcolor": "#E5ECF6",
            "gridcolor": "white",
            "gridwidth": 2,
            "linecolor": "white",
            "showbackground": true,
            "ticks": "",
            "zerolinecolor": "white"
           },
           "yaxis": {
            "backgroundcolor": "#E5ECF6",
            "gridcolor": "white",
            "gridwidth": 2,
            "linecolor": "white",
            "showbackground": true,
            "ticks": "",
            "zerolinecolor": "white"
           },
           "zaxis": {
            "backgroundcolor": "#E5ECF6",
            "gridcolor": "white",
            "gridwidth": 2,
            "linecolor": "white",
            "showbackground": true,
            "ticks": "",
            "zerolinecolor": "white"
           }
          },
          "shapedefaults": {
           "line": {
            "color": "#2a3f5f"
           }
          },
          "ternary": {
           "aaxis": {
            "gridcolor": "white",
            "linecolor": "white",
            "ticks": ""
           },
           "baxis": {
            "gridcolor": "white",
            "linecolor": "white",
            "ticks": ""
           },
           "bgcolor": "#E5ECF6",
           "caxis": {
            "gridcolor": "white",
            "linecolor": "white",
            "ticks": ""
           }
          },
          "title": {
           "x": 0.05
          },
          "xaxis": {
           "automargin": true,
           "gridcolor": "white",
           "linecolor": "white",
           "ticks": "",
           "title": {
            "standoff": 15
           },
           "zerolinecolor": "white",
           "zerolinewidth": 2
          },
          "yaxis": {
           "automargin": true,
           "gridcolor": "white",
           "linecolor": "white",
           "ticks": "",
           "title": {
            "standoff": 15
           },
           "zerolinecolor": "white",
           "zerolinewidth": 2
          }
         }
        },
        "title": {
         "text": "Average Days Listed by Car Type"
        },
        "xaxis": {
         "anchor": "y",
         "domain": [
          0,
          1
         ],
         "title": {
          "text": "Car Type"
         }
        },
        "yaxis": {
         "anchor": "x",
         "domain": [
          0,
          1
         ],
         "title": {
          "text": "Average Days Listed"
         }
        }
       }
      }
     },
     "metadata": {},
     "output_type": "display_data"
    }
   ],
   "source": [
    "px.bar(df_brands, x='brand', y='days_listed', title='Average Days Listed by Car Brand', labels={'brand': 'Car Brand', 'days_listed': 'Average Days Listed'}, height=400).show()\n",
    "\n",
    "px.bar(df_type, x='type', y='days_listed', title='Average Days Listed by Car Type', labels={'type': 'Car Type', 'days_listed': 'Average Days Listed'}, height=400).show()"
   ]
  },
  {
   "cell_type": "code",
   "execution_count": 26,
   "id": "2763118d",
   "metadata": {},
   "outputs": [
    {
     "data": {
      "application/vnd.plotly.v1+json": {
       "config": {
        "plotlyServerURL": "https://plot.ly"
       },
       "data": [
        {
         "hovertemplate": "Car Brand=%{x}<br>Average Odometer Reading=%{y}<extra></extra>",
         "legendgroup": "",
         "marker": {
          "color": "#636efa",
          "pattern": {
           "shape": ""
          }
         },
         "name": "",
         "orientation": "v",
         "showlegend": false,
         "textposition": "auto",
         "type": "bar",
         "x": [
          "ram",
          "cadillac",
          "gmc",
          "chevrolet",
          "ford",
          "toyota",
          "nissan",
          "chrysler",
          "jeep",
          "buick",
          "bmw",
          "kia",
          "acura",
          "subaru",
          "honda",
          "hyundai",
          "volkswagen",
          "dodge"
         ],
         "xaxis": "x",
         "y": {
          "bdata": "V8kBAFXWAQCI4wEAadMBAF3YAQBV3wEAchkBAHswAQA+sQEAVc0BAOu8AQCqigEAeX8CABDVAQBO9QEAk6oBABCLAQDfwAEA",
          "dtype": "i4"
         },
         "yaxis": "y"
        }
       ],
       "layout": {
        "barmode": "relative",
        "height": 400,
        "legend": {
         "tracegroupgap": 0
        },
        "template": {
         "data": {
          "bar": [
           {
            "error_x": {
             "color": "#2a3f5f"
            },
            "error_y": {
             "color": "#2a3f5f"
            },
            "marker": {
             "line": {
              "color": "#E5ECF6",
              "width": 0.5
             },
             "pattern": {
              "fillmode": "overlay",
              "size": 10,
              "solidity": 0.2
             }
            },
            "type": "bar"
           }
          ],
          "barpolar": [
           {
            "marker": {
             "line": {
              "color": "#E5ECF6",
              "width": 0.5
             },
             "pattern": {
              "fillmode": "overlay",
              "size": 10,
              "solidity": 0.2
             }
            },
            "type": "barpolar"
           }
          ],
          "carpet": [
           {
            "aaxis": {
             "endlinecolor": "#2a3f5f",
             "gridcolor": "white",
             "linecolor": "white",
             "minorgridcolor": "white",
             "startlinecolor": "#2a3f5f"
            },
            "baxis": {
             "endlinecolor": "#2a3f5f",
             "gridcolor": "white",
             "linecolor": "white",
             "minorgridcolor": "white",
             "startlinecolor": "#2a3f5f"
            },
            "type": "carpet"
           }
          ],
          "choropleth": [
           {
            "colorbar": {
             "outlinewidth": 0,
             "ticks": ""
            },
            "type": "choropleth"
           }
          ],
          "contour": [
           {
            "colorbar": {
             "outlinewidth": 0,
             "ticks": ""
            },
            "colorscale": [
             [
              0,
              "#0d0887"
             ],
             [
              0.1111111111111111,
              "#46039f"
             ],
             [
              0.2222222222222222,
              "#7201a8"
             ],
             [
              0.3333333333333333,
              "#9c179e"
             ],
             [
              0.4444444444444444,
              "#bd3786"
             ],
             [
              0.5555555555555556,
              "#d8576b"
             ],
             [
              0.6666666666666666,
              "#ed7953"
             ],
             [
              0.7777777777777778,
              "#fb9f3a"
             ],
             [
              0.8888888888888888,
              "#fdca26"
             ],
             [
              1,
              "#f0f921"
             ]
            ],
            "type": "contour"
           }
          ],
          "contourcarpet": [
           {
            "colorbar": {
             "outlinewidth": 0,
             "ticks": ""
            },
            "type": "contourcarpet"
           }
          ],
          "heatmap": [
           {
            "colorbar": {
             "outlinewidth": 0,
             "ticks": ""
            },
            "colorscale": [
             [
              0,
              "#0d0887"
             ],
             [
              0.1111111111111111,
              "#46039f"
             ],
             [
              0.2222222222222222,
              "#7201a8"
             ],
             [
              0.3333333333333333,
              "#9c179e"
             ],
             [
              0.4444444444444444,
              "#bd3786"
             ],
             [
              0.5555555555555556,
              "#d8576b"
             ],
             [
              0.6666666666666666,
              "#ed7953"
             ],
             [
              0.7777777777777778,
              "#fb9f3a"
             ],
             [
              0.8888888888888888,
              "#fdca26"
             ],
             [
              1,
              "#f0f921"
             ]
            ],
            "type": "heatmap"
           }
          ],
          "histogram": [
           {
            "marker": {
             "pattern": {
              "fillmode": "overlay",
              "size": 10,
              "solidity": 0.2
             }
            },
            "type": "histogram"
           }
          ],
          "histogram2d": [
           {
            "colorbar": {
             "outlinewidth": 0,
             "ticks": ""
            },
            "colorscale": [
             [
              0,
              "#0d0887"
             ],
             [
              0.1111111111111111,
              "#46039f"
             ],
             [
              0.2222222222222222,
              "#7201a8"
             ],
             [
              0.3333333333333333,
              "#9c179e"
             ],
             [
              0.4444444444444444,
              "#bd3786"
             ],
             [
              0.5555555555555556,
              "#d8576b"
             ],
             [
              0.6666666666666666,
              "#ed7953"
             ],
             [
              0.7777777777777778,
              "#fb9f3a"
             ],
             [
              0.8888888888888888,
              "#fdca26"
             ],
             [
              1,
              "#f0f921"
             ]
            ],
            "type": "histogram2d"
           }
          ],
          "histogram2dcontour": [
           {
            "colorbar": {
             "outlinewidth": 0,
             "ticks": ""
            },
            "colorscale": [
             [
              0,
              "#0d0887"
             ],
             [
              0.1111111111111111,
              "#46039f"
             ],
             [
              0.2222222222222222,
              "#7201a8"
             ],
             [
              0.3333333333333333,
              "#9c179e"
             ],
             [
              0.4444444444444444,
              "#bd3786"
             ],
             [
              0.5555555555555556,
              "#d8576b"
             ],
             [
              0.6666666666666666,
              "#ed7953"
             ],
             [
              0.7777777777777778,
              "#fb9f3a"
             ],
             [
              0.8888888888888888,
              "#fdca26"
             ],
             [
              1,
              "#f0f921"
             ]
            ],
            "type": "histogram2dcontour"
           }
          ],
          "mesh3d": [
           {
            "colorbar": {
             "outlinewidth": 0,
             "ticks": ""
            },
            "type": "mesh3d"
           }
          ],
          "parcoords": [
           {
            "line": {
             "colorbar": {
              "outlinewidth": 0,
              "ticks": ""
             }
            },
            "type": "parcoords"
           }
          ],
          "pie": [
           {
            "automargin": true,
            "type": "pie"
           }
          ],
          "scatter": [
           {
            "fillpattern": {
             "fillmode": "overlay",
             "size": 10,
             "solidity": 0.2
            },
            "type": "scatter"
           }
          ],
          "scatter3d": [
           {
            "line": {
             "colorbar": {
              "outlinewidth": 0,
              "ticks": ""
             }
            },
            "marker": {
             "colorbar": {
              "outlinewidth": 0,
              "ticks": ""
             }
            },
            "type": "scatter3d"
           }
          ],
          "scattercarpet": [
           {
            "marker": {
             "colorbar": {
              "outlinewidth": 0,
              "ticks": ""
             }
            },
            "type": "scattercarpet"
           }
          ],
          "scattergeo": [
           {
            "marker": {
             "colorbar": {
              "outlinewidth": 0,
              "ticks": ""
             }
            },
            "type": "scattergeo"
           }
          ],
          "scattergl": [
           {
            "marker": {
             "colorbar": {
              "outlinewidth": 0,
              "ticks": ""
             }
            },
            "type": "scattergl"
           }
          ],
          "scattermap": [
           {
            "marker": {
             "colorbar": {
              "outlinewidth": 0,
              "ticks": ""
             }
            },
            "type": "scattermap"
           }
          ],
          "scattermapbox": [
           {
            "marker": {
             "colorbar": {
              "outlinewidth": 0,
              "ticks": ""
             }
            },
            "type": "scattermapbox"
           }
          ],
          "scatterpolar": [
           {
            "marker": {
             "colorbar": {
              "outlinewidth": 0,
              "ticks": ""
             }
            },
            "type": "scatterpolar"
           }
          ],
          "scatterpolargl": [
           {
            "marker": {
             "colorbar": {
              "outlinewidth": 0,
              "ticks": ""
             }
            },
            "type": "scatterpolargl"
           }
          ],
          "scatterternary": [
           {
            "marker": {
             "colorbar": {
              "outlinewidth": 0,
              "ticks": ""
             }
            },
            "type": "scatterternary"
           }
          ],
          "surface": [
           {
            "colorbar": {
             "outlinewidth": 0,
             "ticks": ""
            },
            "colorscale": [
             [
              0,
              "#0d0887"
             ],
             [
              0.1111111111111111,
              "#46039f"
             ],
             [
              0.2222222222222222,
              "#7201a8"
             ],
             [
              0.3333333333333333,
              "#9c179e"
             ],
             [
              0.4444444444444444,
              "#bd3786"
             ],
             [
              0.5555555555555556,
              "#d8576b"
             ],
             [
              0.6666666666666666,
              "#ed7953"
             ],
             [
              0.7777777777777778,
              "#fb9f3a"
             ],
             [
              0.8888888888888888,
              "#fdca26"
             ],
             [
              1,
              "#f0f921"
             ]
            ],
            "type": "surface"
           }
          ],
          "table": [
           {
            "cells": {
             "fill": {
              "color": "#EBF0F8"
             },
             "line": {
              "color": "white"
             }
            },
            "header": {
             "fill": {
              "color": "#C8D4E3"
             },
             "line": {
              "color": "white"
             }
            },
            "type": "table"
           }
          ]
         },
         "layout": {
          "annotationdefaults": {
           "arrowcolor": "#2a3f5f",
           "arrowhead": 0,
           "arrowwidth": 1
          },
          "autotypenumbers": "strict",
          "coloraxis": {
           "colorbar": {
            "outlinewidth": 0,
            "ticks": ""
           }
          },
          "colorscale": {
           "diverging": [
            [
             0,
             "#8e0152"
            ],
            [
             0.1,
             "#c51b7d"
            ],
            [
             0.2,
             "#de77ae"
            ],
            [
             0.3,
             "#f1b6da"
            ],
            [
             0.4,
             "#fde0ef"
            ],
            [
             0.5,
             "#f7f7f7"
            ],
            [
             0.6,
             "#e6f5d0"
            ],
            [
             0.7,
             "#b8e186"
            ],
            [
             0.8,
             "#7fbc41"
            ],
            [
             0.9,
             "#4d9221"
            ],
            [
             1,
             "#276419"
            ]
           ],
           "sequential": [
            [
             0,
             "#0d0887"
            ],
            [
             0.1111111111111111,
             "#46039f"
            ],
            [
             0.2222222222222222,
             "#7201a8"
            ],
            [
             0.3333333333333333,
             "#9c179e"
            ],
            [
             0.4444444444444444,
             "#bd3786"
            ],
            [
             0.5555555555555556,
             "#d8576b"
            ],
            [
             0.6666666666666666,
             "#ed7953"
            ],
            [
             0.7777777777777778,
             "#fb9f3a"
            ],
            [
             0.8888888888888888,
             "#fdca26"
            ],
            [
             1,
             "#f0f921"
            ]
           ],
           "sequentialminus": [
            [
             0,
             "#0d0887"
            ],
            [
             0.1111111111111111,
             "#46039f"
            ],
            [
             0.2222222222222222,
             "#7201a8"
            ],
            [
             0.3333333333333333,
             "#9c179e"
            ],
            [
             0.4444444444444444,
             "#bd3786"
            ],
            [
             0.5555555555555556,
             "#d8576b"
            ],
            [
             0.6666666666666666,
             "#ed7953"
            ],
            [
             0.7777777777777778,
             "#fb9f3a"
            ],
            [
             0.8888888888888888,
             "#fdca26"
            ],
            [
             1,
             "#f0f921"
            ]
           ]
          },
          "colorway": [
           "#636efa",
           "#EF553B",
           "#00cc96",
           "#ab63fa",
           "#FFA15A",
           "#19d3f3",
           "#FF6692",
           "#B6E880",
           "#FF97FF",
           "#FECB52"
          ],
          "font": {
           "color": "#2a3f5f"
          },
          "geo": {
           "bgcolor": "white",
           "lakecolor": "white",
           "landcolor": "#E5ECF6",
           "showlakes": true,
           "showland": true,
           "subunitcolor": "white"
          },
          "hoverlabel": {
           "align": "left"
          },
          "hovermode": "closest",
          "mapbox": {
           "style": "light"
          },
          "paper_bgcolor": "white",
          "plot_bgcolor": "#E5ECF6",
          "polar": {
           "angularaxis": {
            "gridcolor": "white",
            "linecolor": "white",
            "ticks": ""
           },
           "bgcolor": "#E5ECF6",
           "radialaxis": {
            "gridcolor": "white",
            "linecolor": "white",
            "ticks": ""
           }
          },
          "scene": {
           "xaxis": {
            "backgroundcolor": "#E5ECF6",
            "gridcolor": "white",
            "gridwidth": 2,
            "linecolor": "white",
            "showbackground": true,
            "ticks": "",
            "zerolinecolor": "white"
           },
           "yaxis": {
            "backgroundcolor": "#E5ECF6",
            "gridcolor": "white",
            "gridwidth": 2,
            "linecolor": "white",
            "showbackground": true,
            "ticks": "",
            "zerolinecolor": "white"
           },
           "zaxis": {
            "backgroundcolor": "#E5ECF6",
            "gridcolor": "white",
            "gridwidth": 2,
            "linecolor": "white",
            "showbackground": true,
            "ticks": "",
            "zerolinecolor": "white"
           }
          },
          "shapedefaults": {
           "line": {
            "color": "#2a3f5f"
           }
          },
          "ternary": {
           "aaxis": {
            "gridcolor": "white",
            "linecolor": "white",
            "ticks": ""
           },
           "baxis": {
            "gridcolor": "white",
            "linecolor": "white",
            "ticks": ""
           },
           "bgcolor": "#E5ECF6",
           "caxis": {
            "gridcolor": "white",
            "linecolor": "white",
            "ticks": ""
           }
          },
          "title": {
           "x": 0.05
          },
          "xaxis": {
           "automargin": true,
           "gridcolor": "white",
           "linecolor": "white",
           "ticks": "",
           "title": {
            "standoff": 15
           },
           "zerolinecolor": "white",
           "zerolinewidth": 2
          },
          "yaxis": {
           "automargin": true,
           "gridcolor": "white",
           "linecolor": "white",
           "ticks": "",
           "title": {
            "standoff": 15
           },
           "zerolinecolor": "white",
           "zerolinewidth": 2
          }
         }
        },
        "title": {
         "text": "Average Odometer Reading by Car Brand"
        },
        "xaxis": {
         "anchor": "y",
         "domain": [
          0,
          1
         ],
         "title": {
          "text": "Car Brand"
         }
        },
        "yaxis": {
         "anchor": "x",
         "domain": [
          0,
          1
         ],
         "title": {
          "text": "Average Odometer Reading"
         }
        }
       }
      }
     },
     "metadata": {},
     "output_type": "display_data"
    },
    {
     "data": {
      "application/vnd.plotly.v1+json": {
       "config": {
        "plotlyServerURL": "https://plot.ly"
       },
       "data": [
        {
         "hovertemplate": "Car Type=%{x}<br>Average Odometer Reading=%{y}<extra></extra>",
         "legendgroup": "",
         "marker": {
          "color": "#636efa",
          "pattern": {
           "shape": ""
          }
         },
         "name": "",
         "orientation": "v",
         "showlegend": false,
         "textposition": "auto",
         "type": "bar",
         "x": [
          "pickup",
          "truck",
          "offroad",
          "other",
          "SUV",
          "convertible",
          "wagon",
          "mini-van",
          "sedan",
          "van",
          "hatchback",
          "coupe"
         ],
         "xaxis": "x",
         "y": {
          "bdata": "/74BAGDWAQA/0QEANM4BALjQAQC4jwEAoc8BAFYkAgBIXAEAT7wBANXkAQB4kQAA",
          "dtype": "i4"
         },
         "yaxis": "y"
        }
       ],
       "layout": {
        "barmode": "relative",
        "height": 400,
        "legend": {
         "tracegroupgap": 0
        },
        "template": {
         "data": {
          "bar": [
           {
            "error_x": {
             "color": "#2a3f5f"
            },
            "error_y": {
             "color": "#2a3f5f"
            },
            "marker": {
             "line": {
              "color": "#E5ECF6",
              "width": 0.5
             },
             "pattern": {
              "fillmode": "overlay",
              "size": 10,
              "solidity": 0.2
             }
            },
            "type": "bar"
           }
          ],
          "barpolar": [
           {
            "marker": {
             "line": {
              "color": "#E5ECF6",
              "width": 0.5
             },
             "pattern": {
              "fillmode": "overlay",
              "size": 10,
              "solidity": 0.2
             }
            },
            "type": "barpolar"
           }
          ],
          "carpet": [
           {
            "aaxis": {
             "endlinecolor": "#2a3f5f",
             "gridcolor": "white",
             "linecolor": "white",
             "minorgridcolor": "white",
             "startlinecolor": "#2a3f5f"
            },
            "baxis": {
             "endlinecolor": "#2a3f5f",
             "gridcolor": "white",
             "linecolor": "white",
             "minorgridcolor": "white",
             "startlinecolor": "#2a3f5f"
            },
            "type": "carpet"
           }
          ],
          "choropleth": [
           {
            "colorbar": {
             "outlinewidth": 0,
             "ticks": ""
            },
            "type": "choropleth"
           }
          ],
          "contour": [
           {
            "colorbar": {
             "outlinewidth": 0,
             "ticks": ""
            },
            "colorscale": [
             [
              0,
              "#0d0887"
             ],
             [
              0.1111111111111111,
              "#46039f"
             ],
             [
              0.2222222222222222,
              "#7201a8"
             ],
             [
              0.3333333333333333,
              "#9c179e"
             ],
             [
              0.4444444444444444,
              "#bd3786"
             ],
             [
              0.5555555555555556,
              "#d8576b"
             ],
             [
              0.6666666666666666,
              "#ed7953"
             ],
             [
              0.7777777777777778,
              "#fb9f3a"
             ],
             [
              0.8888888888888888,
              "#fdca26"
             ],
             [
              1,
              "#f0f921"
             ]
            ],
            "type": "contour"
           }
          ],
          "contourcarpet": [
           {
            "colorbar": {
             "outlinewidth": 0,
             "ticks": ""
            },
            "type": "contourcarpet"
           }
          ],
          "heatmap": [
           {
            "colorbar": {
             "outlinewidth": 0,
             "ticks": ""
            },
            "colorscale": [
             [
              0,
              "#0d0887"
             ],
             [
              0.1111111111111111,
              "#46039f"
             ],
             [
              0.2222222222222222,
              "#7201a8"
             ],
             [
              0.3333333333333333,
              "#9c179e"
             ],
             [
              0.4444444444444444,
              "#bd3786"
             ],
             [
              0.5555555555555556,
              "#d8576b"
             ],
             [
              0.6666666666666666,
              "#ed7953"
             ],
             [
              0.7777777777777778,
              "#fb9f3a"
             ],
             [
              0.8888888888888888,
              "#fdca26"
             ],
             [
              1,
              "#f0f921"
             ]
            ],
            "type": "heatmap"
           }
          ],
          "histogram": [
           {
            "marker": {
             "pattern": {
              "fillmode": "overlay",
              "size": 10,
              "solidity": 0.2
             }
            },
            "type": "histogram"
           }
          ],
          "histogram2d": [
           {
            "colorbar": {
             "outlinewidth": 0,
             "ticks": ""
            },
            "colorscale": [
             [
              0,
              "#0d0887"
             ],
             [
              0.1111111111111111,
              "#46039f"
             ],
             [
              0.2222222222222222,
              "#7201a8"
             ],
             [
              0.3333333333333333,
              "#9c179e"
             ],
             [
              0.4444444444444444,
              "#bd3786"
             ],
             [
              0.5555555555555556,
              "#d8576b"
             ],
             [
              0.6666666666666666,
              "#ed7953"
             ],
             [
              0.7777777777777778,
              "#fb9f3a"
             ],
             [
              0.8888888888888888,
              "#fdca26"
             ],
             [
              1,
              "#f0f921"
             ]
            ],
            "type": "histogram2d"
           }
          ],
          "histogram2dcontour": [
           {
            "colorbar": {
             "outlinewidth": 0,
             "ticks": ""
            },
            "colorscale": [
             [
              0,
              "#0d0887"
             ],
             [
              0.1111111111111111,
              "#46039f"
             ],
             [
              0.2222222222222222,
              "#7201a8"
             ],
             [
              0.3333333333333333,
              "#9c179e"
             ],
             [
              0.4444444444444444,
              "#bd3786"
             ],
             [
              0.5555555555555556,
              "#d8576b"
             ],
             [
              0.6666666666666666,
              "#ed7953"
             ],
             [
              0.7777777777777778,
              "#fb9f3a"
             ],
             [
              0.8888888888888888,
              "#fdca26"
             ],
             [
              1,
              "#f0f921"
             ]
            ],
            "type": "histogram2dcontour"
           }
          ],
          "mesh3d": [
           {
            "colorbar": {
             "outlinewidth": 0,
             "ticks": ""
            },
            "type": "mesh3d"
           }
          ],
          "parcoords": [
           {
            "line": {
             "colorbar": {
              "outlinewidth": 0,
              "ticks": ""
             }
            },
            "type": "parcoords"
           }
          ],
          "pie": [
           {
            "automargin": true,
            "type": "pie"
           }
          ],
          "scatter": [
           {
            "fillpattern": {
             "fillmode": "overlay",
             "size": 10,
             "solidity": 0.2
            },
            "type": "scatter"
           }
          ],
          "scatter3d": [
           {
            "line": {
             "colorbar": {
              "outlinewidth": 0,
              "ticks": ""
             }
            },
            "marker": {
             "colorbar": {
              "outlinewidth": 0,
              "ticks": ""
             }
            },
            "type": "scatter3d"
           }
          ],
          "scattercarpet": [
           {
            "marker": {
             "colorbar": {
              "outlinewidth": 0,
              "ticks": ""
             }
            },
            "type": "scattercarpet"
           }
          ],
          "scattergeo": [
           {
            "marker": {
             "colorbar": {
              "outlinewidth": 0,
              "ticks": ""
             }
            },
            "type": "scattergeo"
           }
          ],
          "scattergl": [
           {
            "marker": {
             "colorbar": {
              "outlinewidth": 0,
              "ticks": ""
             }
            },
            "type": "scattergl"
           }
          ],
          "scattermap": [
           {
            "marker": {
             "colorbar": {
              "outlinewidth": 0,
              "ticks": ""
             }
            },
            "type": "scattermap"
           }
          ],
          "scattermapbox": [
           {
            "marker": {
             "colorbar": {
              "outlinewidth": 0,
              "ticks": ""
             }
            },
            "type": "scattermapbox"
           }
          ],
          "scatterpolar": [
           {
            "marker": {
             "colorbar": {
              "outlinewidth": 0,
              "ticks": ""
             }
            },
            "type": "scatterpolar"
           }
          ],
          "scatterpolargl": [
           {
            "marker": {
             "colorbar": {
              "outlinewidth": 0,
              "ticks": ""
             }
            },
            "type": "scatterpolargl"
           }
          ],
          "scatterternary": [
           {
            "marker": {
             "colorbar": {
              "outlinewidth": 0,
              "ticks": ""
             }
            },
            "type": "scatterternary"
           }
          ],
          "surface": [
           {
            "colorbar": {
             "outlinewidth": 0,
             "ticks": ""
            },
            "colorscale": [
             [
              0,
              "#0d0887"
             ],
             [
              0.1111111111111111,
              "#46039f"
             ],
             [
              0.2222222222222222,
              "#7201a8"
             ],
             [
              0.3333333333333333,
              "#9c179e"
             ],
             [
              0.4444444444444444,
              "#bd3786"
             ],
             [
              0.5555555555555556,
              "#d8576b"
             ],
             [
              0.6666666666666666,
              "#ed7953"
             ],
             [
              0.7777777777777778,
              "#fb9f3a"
             ],
             [
              0.8888888888888888,
              "#fdca26"
             ],
             [
              1,
              "#f0f921"
             ]
            ],
            "type": "surface"
           }
          ],
          "table": [
           {
            "cells": {
             "fill": {
              "color": "#EBF0F8"
             },
             "line": {
              "color": "white"
             }
            },
            "header": {
             "fill": {
              "color": "#C8D4E3"
             },
             "line": {
              "color": "white"
             }
            },
            "type": "table"
           }
          ]
         },
         "layout": {
          "annotationdefaults": {
           "arrowcolor": "#2a3f5f",
           "arrowhead": 0,
           "arrowwidth": 1
          },
          "autotypenumbers": "strict",
          "coloraxis": {
           "colorbar": {
            "outlinewidth": 0,
            "ticks": ""
           }
          },
          "colorscale": {
           "diverging": [
            [
             0,
             "#8e0152"
            ],
            [
             0.1,
             "#c51b7d"
            ],
            [
             0.2,
             "#de77ae"
            ],
            [
             0.3,
             "#f1b6da"
            ],
            [
             0.4,
             "#fde0ef"
            ],
            [
             0.5,
             "#f7f7f7"
            ],
            [
             0.6,
             "#e6f5d0"
            ],
            [
             0.7,
             "#b8e186"
            ],
            [
             0.8,
             "#7fbc41"
            ],
            [
             0.9,
             "#4d9221"
            ],
            [
             1,
             "#276419"
            ]
           ],
           "sequential": [
            [
             0,
             "#0d0887"
            ],
            [
             0.1111111111111111,
             "#46039f"
            ],
            [
             0.2222222222222222,
             "#7201a8"
            ],
            [
             0.3333333333333333,
             "#9c179e"
            ],
            [
             0.4444444444444444,
             "#bd3786"
            ],
            [
             0.5555555555555556,
             "#d8576b"
            ],
            [
             0.6666666666666666,
             "#ed7953"
            ],
            [
             0.7777777777777778,
             "#fb9f3a"
            ],
            [
             0.8888888888888888,
             "#fdca26"
            ],
            [
             1,
             "#f0f921"
            ]
           ],
           "sequentialminus": [
            [
             0,
             "#0d0887"
            ],
            [
             0.1111111111111111,
             "#46039f"
            ],
            [
             0.2222222222222222,
             "#7201a8"
            ],
            [
             0.3333333333333333,
             "#9c179e"
            ],
            [
             0.4444444444444444,
             "#bd3786"
            ],
            [
             0.5555555555555556,
             "#d8576b"
            ],
            [
             0.6666666666666666,
             "#ed7953"
            ],
            [
             0.7777777777777778,
             "#fb9f3a"
            ],
            [
             0.8888888888888888,
             "#fdca26"
            ],
            [
             1,
             "#f0f921"
            ]
           ]
          },
          "colorway": [
           "#636efa",
           "#EF553B",
           "#00cc96",
           "#ab63fa",
           "#FFA15A",
           "#19d3f3",
           "#FF6692",
           "#B6E880",
           "#FF97FF",
           "#FECB52"
          ],
          "font": {
           "color": "#2a3f5f"
          },
          "geo": {
           "bgcolor": "white",
           "lakecolor": "white",
           "landcolor": "#E5ECF6",
           "showlakes": true,
           "showland": true,
           "subunitcolor": "white"
          },
          "hoverlabel": {
           "align": "left"
          },
          "hovermode": "closest",
          "mapbox": {
           "style": "light"
          },
          "paper_bgcolor": "white",
          "plot_bgcolor": "#E5ECF6",
          "polar": {
           "angularaxis": {
            "gridcolor": "white",
            "linecolor": "white",
            "ticks": ""
           },
           "bgcolor": "#E5ECF6",
           "radialaxis": {
            "gridcolor": "white",
            "linecolor": "white",
            "ticks": ""
           }
          },
          "scene": {
           "xaxis": {
            "backgroundcolor": "#E5ECF6",
            "gridcolor": "white",
            "gridwidth": 2,
            "linecolor": "white",
            "showbackground": true,
            "ticks": "",
            "zerolinecolor": "white"
           },
           "yaxis": {
            "backgroundcolor": "#E5ECF6",
            "gridcolor": "white",
            "gridwidth": 2,
            "linecolor": "white",
            "showbackground": true,
            "ticks": "",
            "zerolinecolor": "white"
           },
           "zaxis": {
            "backgroundcolor": "#E5ECF6",
            "gridcolor": "white",
            "gridwidth": 2,
            "linecolor": "white",
            "showbackground": true,
            "ticks": "",
            "zerolinecolor": "white"
           }
          },
          "shapedefaults": {
           "line": {
            "color": "#2a3f5f"
           }
          },
          "ternary": {
           "aaxis": {
            "gridcolor": "white",
            "linecolor": "white",
            "ticks": ""
           },
           "baxis": {
            "gridcolor": "white",
            "linecolor": "white",
            "ticks": ""
           },
           "bgcolor": "#E5ECF6",
           "caxis": {
            "gridcolor": "white",
            "linecolor": "white",
            "ticks": ""
           }
          },
          "title": {
           "x": 0.05
          },
          "xaxis": {
           "automargin": true,
           "gridcolor": "white",
           "linecolor": "white",
           "ticks": "",
           "title": {
            "standoff": 15
           },
           "zerolinecolor": "white",
           "zerolinewidth": 2
          },
          "yaxis": {
           "automargin": true,
           "gridcolor": "white",
           "linecolor": "white",
           "ticks": "",
           "title": {
            "standoff": 15
           },
           "zerolinecolor": "white",
           "zerolinewidth": 2
          }
         }
        },
        "title": {
         "text": "Average Odometer Reading by Car Type"
        },
        "xaxis": {
         "anchor": "y",
         "domain": [
          0,
          1
         ],
         "title": {
          "text": "Car Type"
         }
        },
        "yaxis": {
         "anchor": "x",
         "domain": [
          0,
          1
         ],
         "title": {
          "text": "Average Odometer Reading"
         }
        }
       }
      }
     },
     "metadata": {},
     "output_type": "display_data"
    }
   ],
   "source": [
    "px.bar(df_brands, x='brand', y='odometer', title='Average Odometer Reading by Car Brand', labels={'brand': 'Car Brand', 'odometer': 'Average Odometer Reading'}, height=400).show()\n",
    "\n",
    "px.bar(df_type, x='type', y='odometer', title='Average Odometer Reading by Car Type', labels={'type': 'Car Type', 'odometer': 'Average Odometer Reading'}, height=400).show()"
   ]
  },
  {
   "cell_type": "code",
   "execution_count": 44,
   "id": "45aebee6",
   "metadata": {},
   "outputs": [
    {
     "data": {
      "application/vnd.plotly.v1+json": {
       "config": {
        "plotlyServerURL": "https://plot.ly"
       },
       "data": [
        {
         "bingroup": "x",
         "histfunc": "sum",
         "hovertemplate": "Car Model Year=%{x}<br>sum of Average Price=%{y}<extra></extra>",
         "legendgroup": "",
         "marker": {
          "color": "#636efa",
          "pattern": {
           "shape": ""
          }
         },
         "name": "",
         "nbinsx": 75,
         "orientation": "v",
         "showlegend": false,
         "type": "histogram",
         "x": {
          "bdata": "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",
          "dtype": "i2"
         },
         "xaxis": "x",
         "y": {
          "bdata": "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",
          "dtype": "i4"
         },
         "yaxis": "y"
        }
       ],
       "layout": {
        "barmode": "relative",
        "height": 400,
        "legend": {
         "tracegroupgap": 0
        },
        "template": {
         "data": {
          "bar": [
           {
            "error_x": {
             "color": "#2a3f5f"
            },
            "error_y": {
             "color": "#2a3f5f"
            },
            "marker": {
             "line": {
              "color": "#E5ECF6",
              "width": 0.5
             },
             "pattern": {
              "fillmode": "overlay",
              "size": 10,
              "solidity": 0.2
             }
            },
            "type": "bar"
           }
          ],
          "barpolar": [
           {
            "marker": {
             "line": {
              "color": "#E5ECF6",
              "width": 0.5
             },
             "pattern": {
              "fillmode": "overlay",
              "size": 10,
              "solidity": 0.2
             }
            },
            "type": "barpolar"
           }
          ],
          "carpet": [
           {
            "aaxis": {
             "endlinecolor": "#2a3f5f",
             "gridcolor": "white",
             "linecolor": "white",
             "minorgridcolor": "white",
             "startlinecolor": "#2a3f5f"
            },
            "baxis": {
             "endlinecolor": "#2a3f5f",
             "gridcolor": "white",
             "linecolor": "white",
             "minorgridcolor": "white",
             "startlinecolor": "#2a3f5f"
            },
            "type": "carpet"
           }
          ],
          "choropleth": [
           {
            "colorbar": {
             "outlinewidth": 0,
             "ticks": ""
            },
            "type": "choropleth"
           }
          ],
          "contour": [
           {
            "colorbar": {
             "outlinewidth": 0,
             "ticks": ""
            },
            "colorscale": [
             [
              0,
              "#0d0887"
             ],
             [
              0.1111111111111111,
              "#46039f"
             ],
             [
              0.2222222222222222,
              "#7201a8"
             ],
             [
              0.3333333333333333,
              "#9c179e"
             ],
             [
              0.4444444444444444,
              "#bd3786"
             ],
             [
              0.5555555555555556,
              "#d8576b"
             ],
             [
              0.6666666666666666,
              "#ed7953"
             ],
             [
              0.7777777777777778,
              "#fb9f3a"
             ],
             [
              0.8888888888888888,
              "#fdca26"
             ],
             [
              1,
              "#f0f921"
             ]
            ],
            "type": "contour"
           }
          ],
          "contourcarpet": [
           {
            "colorbar": {
             "outlinewidth": 0,
             "ticks": ""
            },
            "type": "contourcarpet"
           }
          ],
          "heatmap": [
           {
            "colorbar": {
             "outlinewidth": 0,
             "ticks": ""
            },
            "colorscale": [
             [
              0,
              "#0d0887"
             ],
             [
              0.1111111111111111,
              "#46039f"
             ],
             [
              0.2222222222222222,
              "#7201a8"
             ],
             [
              0.3333333333333333,
              "#9c179e"
             ],
             [
              0.4444444444444444,
              "#bd3786"
             ],
             [
              0.5555555555555556,
              "#d8576b"
             ],
             [
              0.6666666666666666,
              "#ed7953"
             ],
             [
              0.7777777777777778,
              "#fb9f3a"
             ],
             [
              0.8888888888888888,
              "#fdca26"
             ],
             [
              1,
              "#f0f921"
             ]
            ],
            "type": "heatmap"
           }
          ],
          "histogram": [
           {
            "marker": {
             "pattern": {
              "fillmode": "overlay",
              "size": 10,
              "solidity": 0.2
             }
            },
            "type": "histogram"
           }
          ],
          "histogram2d": [
           {
            "colorbar": {
             "outlinewidth": 0,
             "ticks": ""
            },
            "colorscale": [
             [
              0,
              "#0d0887"
             ],
             [
              0.1111111111111111,
              "#46039f"
             ],
             [
              0.2222222222222222,
              "#7201a8"
             ],
             [
              0.3333333333333333,
              "#9c179e"
             ],
             [
              0.4444444444444444,
              "#bd3786"
             ],
             [
              0.5555555555555556,
              "#d8576b"
             ],
             [
              0.6666666666666666,
              "#ed7953"
             ],
             [
              0.7777777777777778,
              "#fb9f3a"
             ],
             [
              0.8888888888888888,
              "#fdca26"
             ],
             [
              1,
              "#f0f921"
             ]
            ],
            "type": "histogram2d"
           }
          ],
          "histogram2dcontour": [
           {
            "colorbar": {
             "outlinewidth": 0,
             "ticks": ""
            },
            "colorscale": [
             [
              0,
              "#0d0887"
             ],
             [
              0.1111111111111111,
              "#46039f"
             ],
             [
              0.2222222222222222,
              "#7201a8"
             ],
             [
              0.3333333333333333,
              "#9c179e"
             ],
             [
              0.4444444444444444,
              "#bd3786"
             ],
             [
              0.5555555555555556,
              "#d8576b"
             ],
             [
              0.6666666666666666,
              "#ed7953"
             ],
             [
              0.7777777777777778,
              "#fb9f3a"
             ],
             [
              0.8888888888888888,
              "#fdca26"
             ],
             [
              1,
              "#f0f921"
             ]
            ],
            "type": "histogram2dcontour"
           }
          ],
          "mesh3d": [
           {
            "colorbar": {
             "outlinewidth": 0,
             "ticks": ""
            },
            "type": "mesh3d"
           }
          ],
          "parcoords": [
           {
            "line": {
             "colorbar": {
              "outlinewidth": 0,
              "ticks": ""
             }
            },
            "type": "parcoords"
           }
          ],
          "pie": [
           {
            "automargin": true,
            "type": "pie"
           }
          ],
          "scatter": [
           {
            "fillpattern": {
             "fillmode": "overlay",
             "size": 10,
             "solidity": 0.2
            },
            "type": "scatter"
           }
          ],
          "scatter3d": [
           {
            "line": {
             "colorbar": {
              "outlinewidth": 0,
              "ticks": ""
             }
            },
            "marker": {
             "colorbar": {
              "outlinewidth": 0,
              "ticks": ""
             }
            },
            "type": "scatter3d"
           }
          ],
          "scattercarpet": [
           {
            "marker": {
             "colorbar": {
              "outlinewidth": 0,
              "ticks": ""
             }
            },
            "type": "scattercarpet"
           }
          ],
          "scattergeo": [
           {
            "marker": {
             "colorbar": {
              "outlinewidth": 0,
              "ticks": ""
             }
            },
            "type": "scattergeo"
           }
          ],
          "scattergl": [
           {
            "marker": {
             "colorbar": {
              "outlinewidth": 0,
              "ticks": ""
             }
            },
            "type": "scattergl"
           }
          ],
          "scattermap": [
           {
            "marker": {
             "colorbar": {
              "outlinewidth": 0,
              "ticks": ""
             }
            },
            "type": "scattermap"
           }
          ],
          "scattermapbox": [
           {
            "marker": {
             "colorbar": {
              "outlinewidth": 0,
              "ticks": ""
             }
            },
            "type": "scattermapbox"
           }
          ],
          "scatterpolar": [
           {
            "marker": {
             "colorbar": {
              "outlinewidth": 0,
              "ticks": ""
             }
            },
            "type": "scatterpolar"
           }
          ],
          "scatterpolargl": [
           {
            "marker": {
             "colorbar": {
              "outlinewidth": 0,
              "ticks": ""
             }
            },
            "type": "scatterpolargl"
           }
          ],
          "scatterternary": [
           {
            "marker": {
             "colorbar": {
              "outlinewidth": 0,
              "ticks": ""
             }
            },
            "type": "scatterternary"
           }
          ],
          "surface": [
           {
            "colorbar": {
             "outlinewidth": 0,
             "ticks": ""
            },
            "colorscale": [
             [
              0,
              "#0d0887"
             ],
             [
              0.1111111111111111,
              "#46039f"
             ],
             [
              0.2222222222222222,
              "#7201a8"
             ],
             [
              0.3333333333333333,
              "#9c179e"
             ],
             [
              0.4444444444444444,
              "#bd3786"
             ],
             [
              0.5555555555555556,
              "#d8576b"
             ],
             [
              0.6666666666666666,
              "#ed7953"
             ],
             [
              0.7777777777777778,
              "#fb9f3a"
             ],
             [
              0.8888888888888888,
              "#fdca26"
             ],
             [
              1,
              "#f0f921"
             ]
            ],
            "type": "surface"
           }
          ],
          "table": [
           {
            "cells": {
             "fill": {
              "color": "#EBF0F8"
             },
             "line": {
              "color": "white"
             }
            },
            "header": {
             "fill": {
              "color": "#C8D4E3"
             },
             "line": {
              "color": "white"
             }
            },
            "type": "table"
           }
          ]
         },
         "layout": {
          "annotationdefaults": {
           "arrowcolor": "#2a3f5f",
           "arrowhead": 0,
           "arrowwidth": 1
          },
          "autotypenumbers": "strict",
          "coloraxis": {
           "colorbar": {
            "outlinewidth": 0,
            "ticks": ""
           }
          },
          "colorscale": {
           "diverging": [
            [
             0,
             "#8e0152"
            ],
            [
             0.1,
             "#c51b7d"
            ],
            [
             0.2,
             "#de77ae"
            ],
            [
             0.3,
             "#f1b6da"
            ],
            [
             0.4,
             "#fde0ef"
            ],
            [
             0.5,
             "#f7f7f7"
            ],
            [
             0.6,
             "#e6f5d0"
            ],
            [
             0.7,
             "#b8e186"
            ],
            [
             0.8,
             "#7fbc41"
            ],
            [
             0.9,
             "#4d9221"
            ],
            [
             1,
             "#276419"
            ]
           ],
           "sequential": [
            [
             0,
             "#0d0887"
            ],
            [
             0.1111111111111111,
             "#46039f"
            ],
            [
             0.2222222222222222,
             "#7201a8"
            ],
            [
             0.3333333333333333,
             "#9c179e"
            ],
            [
             0.4444444444444444,
             "#bd3786"
            ],
            [
             0.5555555555555556,
             "#d8576b"
            ],
            [
             0.6666666666666666,
             "#ed7953"
            ],
            [
             0.7777777777777778,
             "#fb9f3a"
            ],
            [
             0.8888888888888888,
             "#fdca26"
            ],
            [
             1,
             "#f0f921"
            ]
           ],
           "sequentialminus": [
            [
             0,
             "#0d0887"
            ],
            [
             0.1111111111111111,
             "#46039f"
            ],
            [
             0.2222222222222222,
             "#7201a8"
            ],
            [
             0.3333333333333333,
             "#9c179e"
            ],
            [
             0.4444444444444444,
             "#bd3786"
            ],
            [
             0.5555555555555556,
             "#d8576b"
            ],
            [
             0.6666666666666666,
             "#ed7953"
            ],
            [
             0.7777777777777778,
             "#fb9f3a"
            ],
            [
             0.8888888888888888,
             "#fdca26"
            ],
            [
             1,
             "#f0f921"
            ]
           ]
          },
          "colorway": [
           "#636efa",
           "#EF553B",
           "#00cc96",
           "#ab63fa",
           "#FFA15A",
           "#19d3f3",
           "#FF6692",
           "#B6E880",
           "#FF97FF",
           "#FECB52"
          ],
          "font": {
           "color": "#2a3f5f"
          },
          "geo": {
           "bgcolor": "white",
           "lakecolor": "white",
           "landcolor": "#E5ECF6",
           "showlakes": true,
           "showland": true,
           "subunitcolor": "white"
          },
          "hoverlabel": {
           "align": "left"
          },
          "hovermode": "closest",
          "mapbox": {
           "style": "light"
          },
          "paper_bgcolor": "white",
          "plot_bgcolor": "#E5ECF6",
          "polar": {
           "angularaxis": {
            "gridcolor": "white",
            "linecolor": "white",
            "ticks": ""
           },
           "bgcolor": "#E5ECF6",
           "radialaxis": {
            "gridcolor": "white",
            "linecolor": "white",
            "ticks": ""
           }
          },
          "scene": {
           "xaxis": {
            "backgroundcolor": "#E5ECF6",
            "gridcolor": "white",
            "gridwidth": 2,
            "linecolor": "white",
            "showbackground": true,
            "ticks": "",
            "zerolinecolor": "white"
           },
           "yaxis": {
            "backgroundcolor": "#E5ECF6",
            "gridcolor": "white",
            "gridwidth": 2,
            "linecolor": "white",
            "showbackground": true,
            "ticks": "",
            "zerolinecolor": "white"
           },
           "zaxis": {
            "backgroundcolor": "#E5ECF6",
            "gridcolor": "white",
            "gridwidth": 2,
            "linecolor": "white",
            "showbackground": true,
            "ticks": "",
            "zerolinecolor": "white"
           }
          },
          "shapedefaults": {
           "line": {
            "color": "#2a3f5f"
           }
          },
          "ternary": {
           "aaxis": {
            "gridcolor": "white",
            "linecolor": "white",
            "ticks": ""
           },
           "baxis": {
            "gridcolor": "white",
            "linecolor": "white",
            "ticks": ""
           },
           "bgcolor": "#E5ECF6",
           "caxis": {
            "gridcolor": "white",
            "linecolor": "white",
            "ticks": ""
           }
          },
          "title": {
           "x": 0.05
          },
          "xaxis": {
           "automargin": true,
           "gridcolor": "white",
           "linecolor": "white",
           "ticks": "",
           "title": {
            "standoff": 15
           },
           "zerolinecolor": "white",
           "zerolinewidth": 2
          },
          "yaxis": {
           "automargin": true,
           "gridcolor": "white",
           "linecolor": "white",
           "ticks": "",
           "title": {
            "standoff": 15
           },
           "zerolinecolor": "white",
           "zerolinewidth": 2
          }
         }
        },
        "title": {
         "text": "Average Price by Car Model Year"
        },
        "xaxis": {
         "anchor": "y",
         "domain": [
          0,
          1
         ],
         "title": {
          "text": "Car Model Year"
         }
        },
        "yaxis": {
         "anchor": "x",
         "domain": [
          0,
          1
         ],
         "title": {
          "text": "sum of Average Price"
         }
        }
       }
      }
     },
     "metadata": {},
     "output_type": "display_data"
    }
   ],
   "source": [
    "px.histogram(car_data, x='model_year', y='price', title='Average Price by Car Model Year', labels={'model_year': 'Car Model Year', 'price': 'Average Price'}, height=400, nbins=75).show()"
   ]
  },
  {
   "cell_type": "code",
   "execution_count": 35,
   "id": "897a546f",
   "metadata": {},
   "outputs": [
    {
     "data": {
      "application/vnd.plotly.v1+json": {
       "config": {
        "plotlyServerURL": "https://plot.ly"
       },
       "data": [
        {
         "bingroup": "x",
         "histfunc": "sum",
         "hovertemplate": "Days Listed=%{x}<br>sum of Average Price=%{y}<extra></extra>",
         "legendgroup": "",
         "marker": {
          "color": "#636efa",
          "pattern": {
           "shape": ""
          }
         },
         "name": "",
         "nbinsx": 200,
         "orientation": "v",
         "showlegend": false,
         "type": "histogram",
         "x": {
          "bdata": "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",
          "dtype": "i2"
         },
         "xaxis": "x",
         "y": {
          "bdata": "jjoAAHY+AAAsTAAAvjIAAI46AACmNgAA1DAAAEwdAACIEwAAMg8AAEAfAADrLAAA7BMAAMArAACgKAAAXHYAAMgyAABnQgAAZjoAAGwHAAD4XAAAdEAAAK4uAADaEgAAUEYAACMjAACbDwAAkGUAAHwVAAB0WQAATGgAABBZAAAYYAAAbIQAAFtUAACIkAAA9yoAABwlAADAXQAAFGkAACxMAACrNgAA2y4AAHs+AABabgAAUxsAAC9xAACTOgAAvjIAADh8AAB6JgAAaxcAAKh6AACIXgAAri4AADZCAACYOgAAIMsAAG4PAACvFAAAECcAAE9GAAAobgAAglkAALxNAACvXwAAdFkAAF05AAAlYQAAeB4AADAqAAA7HwAA5FcAAFMbAADIZAAAZBkAANwFAABHJgAARBYAAKYOAAA7HwAAjCMAAEE2AACyDAAAKG4AAIJZAAC8TQAAJWEAAJQqAACfjAAAR3EAAOeAAAB4HgAAlzoAAB9OAADwPAAAlzoAAERhAADOMQAAfBUAADB1AACSOwAAlBEAAAwXAADDMgAAoA8AAGwHAABvFwAAPR8AAGBtAACoYQAAoA8AANQwAADjhQAAmy0AAKNhAAAcPgAAbxMAAHwVAAAsTAAApmEAAFMbAABbbQAA8yoAACxMAACYIQAANDoAAL9ZAAAcJQAA3iYAAIxVAAA0OgAAZDIAACMjAAB7uwAAc0AAALw0AAB8FQAAgxMAACMjAACbDwAAUEYAAHhpAADjcwAAjFUAADZKAAC0eAAA2y4AADQ6AACcGAAAqGEAAAB9AADvVQAAfBUAABROAAAUTgAAjLcAAKY2AADkJQAAlIwAALiIAAB4HgAA0AcAAB4jAAC8TQAAzCkAANweAADcHgAAZBkAAJdjAACTOgAAJBMAAMMyAACGPQAAyDIAAERIAABkMgAAtjUAAAwXAAB8FQAAgD4AADQhAACrNgAAPIwAABRpAADkVwAA9lQAAIc8AABoQgAAaEIAAM8HAAA/HwAA3B4AALA2AAAEKQAAo2EAAFttAACDEwAAXhoAAANSAAAQJwAA0CAAAERhAACQGgAAlCoAAHNpAAArdQAA61UAAOtVAAD0lwAA1EkAAFttAACAPgAA/ygAAP8oAACMPAAA1EkAAOAuAABklgAANDoAAF4aAAB8kgAA9JcAAJQRAAAOHwAAGHkAAC4JAADsLAAATGgAAHwVAACDkAAA9BoAAJQqAAA0IQAA3DgAAJBlAAAkEwAAaxcAAFMbAABPTQAAHCUAADcPAADoAwAA0AcAABVtAABrFwAAOx8AAJ5hAACeYQAA3oAAAHBiAADOWQAAfC4AABhgAAAUaQAATB0AABclAAACIQAAY0IAANdyAAAEKQAA7CwAALtdAABTGwAA8yoAAPMqAACDEwAAaxcAAIMTAACDEwAAwjMAAN4mAAAGJwAALyEAAPMqAABKFQAAE1AAAAYnAABCNgAAUxsAADogAADbLgAAUxsAAKs2AABKFQAAijQAAMQiAADHMgAAaxcAANwFAACLZQAAUxsAABwqAACDEwAA2FkAAJhsAACYbAAAjl0AAPhcAADMWwAAFnEAAJYPAACMPAAAsDYAAFx2AADJWQAAEU4AAGlpAADJWQAAvDQAADQ6AADECQAABEIAAFgbAAAUUAAAfC4AAGQyAAAsZQAAm5UAALw0AAB7PgAA1DAAAIgTAAALJwAAxAkAADQhAACUEQAAHCUAADsfAAC6LAAAUgMAAMxbAAB8LgAAlzoAAGSWAACQGgAAVYwAALw0AAD9cAAAfC4AAPR+AADNeAAAZEsAAB1CAAChNgAAm2MAAFMbAAAQJwAA4C4AAIQDAACkOAAALnUAAM1fAABwFwAACU4AAEltAABhaQAACU4AAEAfAADlUwAAoA8AAFlJAADldAAA5ywAAJwYAAALJwAAC6QAALtdAACrNgAAnmEAAAAZAACeYQAAmDoAANwFAAAOHwAA3bgAALAEAABWEwAASxQAAI46AACwHQAAHkYAAN4mAABTNAAAaC4AAFMbAABTGwAA0DkAAKwNAAA7HwAAIyMAAGBtAAAiTAAAUxsAAJM6AAAuSgAAPnEAAMMyAAD+UQAAkzoAANAHAAD8UwAANGwAANyCAAC2XQAAIyMAAIY9AADMdAAAWm4AAPOnAADDMgAA7CwAAORVAAAIUAAA8DwAAGY6AAAIBwAAzHQAANRJAAAsZQAA3i4AAH42AACYUwAAkjsAAEcdAAAcJQAAdj4AAFgbAABTawAAgxMAAEtGAABjKQAAyDIAAHs+AAA7HwAAbGsAAKQ2AACjYQAAXEQAABN5AACgJgAAo2EAAEcdAAAvKgAAU5gAAOAuAABAHwAAv68AAL+vAACTIQAApFEAAKwNAAA+FwAAu10AACt1AADsLAAA6yoAAHs+AACLZQAAG04AAOwsAAB0QAAAECcAAGxrAABAHwAAfC4AAHwuAAAgHAAAoA8AALA2AABcXQAATDYAAKs/AACbjAAALm0AAEhxAACgDwAAqzYAAKwNAAAEKQAABMcAAEtGAAA2HwAADXkAAIy5AADYiwAAiBMAAJQRAADogAAAWDQAAAsBAAA0IQAAqzYAAJM6AABsawAA/xgAAHwuAAAPJwAA2A4AAKBBAADPrQAAGBUAAPIqAABm7QAATXUAAG4PAABjQgAAlBEAAHySAAB3PgAAclMAANweAAAXTgAAzHQAAMASAAAgNQAAKxEAAORVAACJUAAAG04AAPMqAAAsZQAA/AgAAD8fAAA4MQAAA1IAAJM6AAC22gAA8HwAADNKAADLhAAAhgsAAMIyAAB5WQAAH4IAAPZ8AADUSQAAdA4AAHZpAABcEgAA+CoAAFRtAAAJtgAANh8AAHtgAABUiAAAzzAAAKwNAAC3XQAA4qsAAHjMAACktQAAQHsAAPxUAABTGwAAqzYAAHRAAACvXwAAAlIAAM4xAAA8DwAAlCoAADQ6AAA0OgAALWgAAJAaAADEIgAA8yoAAFttAABLRgAAeB4AACxlAAArdQAArA0AAHwVAABeGgAAfjYAALIMAABzaQAArA0AAJQRAAAQQAAA8isAAEA4AABvFwAA6AMAAMArAABEwwAANB8AAPxTAABoEAAAKCMAABguAABrFwAAPHMAAJIJAAC7XQAAGC4AAIOQAAAMYgAASA0AAGbtAABjQgAA6IAAAGtqAADfLgAAJyMAADwPAACUEQAAVAsAAHwVAAAEQgAAS0YAADIZAACMVQAALGUAAGQyAABTGwAAFGkAAOwqAABYGwAAY0IAAJwYAADzKgAANCEAALA2AABAHwAAxAkAAIAlAAC4PQAAtBQAAHs+AABbbQAAK3UAAItlAACDkAAAo2EAAFttAADgeQAAo2EAAPt8AADDMgAAwzIAAHs+AAA7HwAA3iYAAB9OAABsawAAGBUAAK6IAABvQAAA7CwAAEtGAADAEgAAfBUAAGNCAAAEKQAAA1IAAAAkAACYUwAA8yoAAOIdAAAEdQAAqzYAAK4uAACHEwAAlBEAACQsAACWMgAACFIAANwFAABMNgAAMhkAAK5gAADDMgAA2y4AAGxrAABQRgAAFnEAAEiQAAAcPgAAvq8AAA0XAACTOgAANW8AAJ84AACTOgAAhBwAABw+AADgLgAATB0AAAhSAAA+cQAACwEAALxNAAA0IQAAxAkAAFdEAACMVQAAfBUAAFgbAAB8FQAAFAEAAHAwAAAcPgAA0AcAACaYAACsDQAA5AwAAEgmAABkGQAA3oAAACt1AACDEwAA9HwAAGsXAAD4KgAA7CwAAEw2AACoYQAAH14AAIlBAAA7HwAAez4AAMMyAADDMgAAxAkAAAD6AAA8cwAABEIAANweAAA8DwAAhUQAAIMTAAD4pwAAKCMAAPgqAACUEQAA2y4AAORXAAAYFQAAaxcAABw+AADrVQAAmw8AAOR4AADoHAAAnt4AADNKAABcRAAA0AcAAAhSAABXWAAA8yoAAI5dAAD8IQAA61UAAJ6MAABkGQAADHsAAMSGAABcRAAAlCoAAPxsAABwFwAA/CEAAK4uAAAQDgAAVAsAAC8hAABIDQAAWwkAALsSAACjFgAAXxkAAPMRAACgDwAAez4AADsfAAAjIwAAwzIAAMMyAACTOgAAxCIAABRpAAAcJQAAwF0AAAakAABcXQAAU5gAAAhSAACDjAAA7NQAAMIyAADF6AAAjDwAAIMTAABYGwAAG04AANNZAABQRgAAEKQAABAOAACcYwAABKYAAJAaAABMHQAAakAAADJzAABeGgAA3oAAAJ5hAACeYQAAzlkAAI46AABmFwAAzlkAAGsXAAAmGwAAXF0AAJM6AAALJwAA5ywAAItlAABLRgAAUxsAAMMyAACnYQAARGEAAFxEAABEYQAALEwAAPMqAADaFgAAJJAAADdIAACktQAANW8AAHtgAABkMgAA1EkAAAm2AAAcbQAAyWMAAIy4AAC3XQAA4BUAACcjAABPCwAAOx8AAPMqAAA0IQAApDgAAIC7AABMHQAAyK8AANQwAADUMAAAeB4AABAOAADEIgAA9kQAAM7WAABAewAAvDQAANweAADw0gAAPCgAAFxEAABESAAAPx8AANQwAAB4aQAAbAcAADMhAAAfTgAABEIAACgjAABYGwAAwzIAAGyEAAATeQAAK3UAACt1AAC7XQAAi2UAAPdTAADDMgAAez4AADAqAAAIUgAAcBcAAChVAABIJgAAXEQAAKY2AACMPAAA7CwAAHhpAACoFgAAuAsAAD8fAACkBgAA5CUAAJM6AAALJwAAqzYAAJM6AADzKgAAwzIAACMjAABLRgAASA0AAF8TAADXcgAAdxUAAERIAAB8LgAAd4AAAP18AABAbQAArWAAAPxbAAAudQAAKVMAAJthAADWiwAAgGoAAKmRAAApUwAA7ocAAKEtAAC/bAAAwF0AAIMTAACDEwAATwsAANyCAACgDwAA8CMAAJsPAABrFwAArxQAAAsnAAAgHAAAx0sAABAOAACkOAAAIE4AAGY5AABXRAAAAH0AANNZAABkMgAAD1AAAJM6AABjQgAAG04AALZdAAA0IQAACAcAACQTAADcmwAAiJAAAKwNAABqGAAAgxMAAERhAAA7HwAA+FwAANAHAAA+cQAApjYAAP5RAABmFwAAlBEAABZOAACaOAAA5lUAAOkqAADTYgAAHiMAAK4LAAA4SgAAbxcAABguAACsJgAArCYAABRpAABEYQAAbGsAABtOAAAzSgAAXEQAAFQLAACbDwAAcBcAAJuMAAB2PgAA3iYAAOwsAAB0WQAAk7cAAOiAAAAAfQAAJBMAAORXAAAEEAAAECcAAJ+MAAByBgAAmw8AANQwAACwNAAAQVAAAFMbAAD0GgAAqBYAAIcTAAA+FwAAJhsAAMMyAABMswAAywcAAIRnAADUSQAAxDsAAHwVAABkGQAA3SwAAJM6AAB7DAAAi2UAAOQMAAD/KAAAgxMAADsfAAALJwAATDYAAMtwAADzKgAAez4AAItRAABYGwAAJBMAAGQyAABkGQAAwzIAAGhCAACEZwAACAcAAGY6AAAsTAAAzHQAAK82AACXOgAAkzoAACMjAACLZQAAS0YAAKs2AADzKgAAwzIAABygAAAPJwAA2HIAAISAAAA/HwAAi2UAAJM6AADDMgAAS0YAAEtGAABTGwAAWgoAABwlAADkJQAAqYgAABFOAADkDAAAZDIAAJBlAADMdAAAeB4AAP8oAABkMgAAKCMAAMx0AAAbTgAAXxkAAHwVAABAOAAAuAsAAKs2AAB8FQAAfBUAAHRAAADECQAABCkAABQFAABxPgAACAcAAHE+AAA/nAAAOXEAAJx8AACEgAAAGHkAAGQZAAC4bwAAoIwAACEBAACoFgAArA0AAItlAADsLAAAlBEAAA8nAAAcJQAAbxcAABwlAAAqEgAA3AUAAAtZAACUEQAAoA8AAHs+AAAjIwAAwzIAAI4SAABTGwAARx0AAJ8PAAAzSgAARGEAACxMAACfDwAAwzIAAHNAAAAMFwAA6AMAAHNAAAB0QAAAPA8AAHdpAACfjAAAoA8AAK42AAAeTgAAdhYAAGNCAAAzSgAAPx8AAJM6AACmYQAAxjIAAJQRAADTfQAAlBEAAEtGAABQFAAADHsAAOxFAABQFAAAjDwAAPtLAACsDQAAqBYAAIgTAACsDQAAQB8AANjiAABrFwAAwzIAACMjAADnLAAAkzoAAJM6AABTGwAA8yoAAMMyAACrNgAAS0YAAEtGAAAjIwAAlBEAAGw+AABxPgAAcT4AAEFGAAD1NAAAcBcAAEtGAABwFwAArA0AANRJAADcBQAAgD4AALMLAAAjIwAAIyMAAGsXAADyEgAAODIAAJsPAADEIgAANDoAAORXAABwYgAA/AgAAENxAABBUAAAXHYAACt1AACDkAAAQWQAAEw2AABcEgAArA0AAJQRAABkGQAAOEoAAKwNAAB4UAAAMHUAAC4iAACyDAAALgkAAHBiAABiEQAATB0AAAsnAAA7HwAAu10AAEwdAAB4HgAALiIAAHwVAACIEwAAMxgAAMMyAAC7XQAAy4QAAJM6AADUMAAAQB8AACAcAAD4KgAAL3UAAGBtAABAHwAAlCoAAEgmAACUKgAAZDIAAFx2AAAEWwAAZBkAAMgyAAAYeQAAFB4AANgOAADOMQAAwjMAAJQRAAAqEgAAxioAAJYyAAB8FQAAqBYAAAsnAAB+NgAAQB8AAOZVAABcRAAAlBEAAGQyAABYGwAAiBMAAOxFAADXDgAAs4gAADNKAAArdQAAkzoAAKQ4AADAEgAA2y4AAFMbAABykgAAdEAAAFOIAACrIgAAaXAAAB5GAAD4KgAAoIwAAHKSAABrFwAAiF4AAN8uAAA0IQAA+BEAAIA+AABQFAAAqzYAANAHAABkGQAA0WEBAOOAAABnQgAAicEAAMx0AACsDQAA6TQAACxMAAC8NAAA8yoAAAAyAADMKQAAy4QAAHg3AAB+NgAAREgAAHwuAAB0WQAAuIgAAHRAAAD4XAAAH04AAAFFAACSIgAAcBcAAOwqAADYDgAA5HAAAHAXAABIDQAACycAAGgQAAA7HwAAVEIAACRKAADECQAAgLsAAARCAADsRQAAlCoAAPYiAAD4XAAAaxcAADNKAABEYQAAiBMAAHwVAABrFwAALiIAAKZZAABAHwAAyK8AADacAABcRAAAbAcAALMlAACoFgAAwF0AAEoVAADpIAAAoA8AAFMbAADbLgAAVFYAAII8AACvXwAAqGEAAOeAAADkWgAA834AADQhAAAQJwAAt4gAAHwVAABUbwAAz60AAEwdAABrFwAABHQAAFxdAADngAAAcBcAADQhAACOXQAAmxgAAI5dAACIRQAATB0AADQhAADMWwAAjl0AABZxAADcmwAAJHcAAOwsAACAPgAAZBkAAL4KAAAMFwAACAcAAMQJAACuLgAAQB8AAPcmAAA0IQAAFBsAALgLAAArRgAAkgkAAHRAAADzKgAAA1IAAPOnAACrNgAAkzoAAJQRAACPZQAAQB8AAGQZAABmIQAAmhAAAGQyAACUXAAA2y4AAENGAAAsZQAAhxMAAHsTAACUEQAArA0AALQUAAAEKQAAwzIAAEwEAABUCwAArA0AAIliAABpaQAA8AoAAKwmAABMHQAAfBUAAAwXAADUMAAAW+oAACR1AACfjAAAxCIAAF9tAAAcPgAAp2EAAP98AACfjAAAGHkAAB9OAABLRgAAfBUAAE9vAABLRgAA61UAAJ84AAC7XQAAi2UAABtOAAAMFwAAIE4AAKAPAABoQgAAXF0AAJQRAACrNgAAsTIAALxNAACndgAA61UAAJQRAABoQgAA9TQAAI5NAADUMAAA2A4AAEwdAABIJgAAoA8AAKwNAAA3DwAAdj4AAH8+AACrCQAAnmEAAFMbAACrNgAACycAAARCAADEIgAAxCIAAEZGAABQRgAAV0QAAPxsAAB0QAAAL3UAAJQqAABsIAAAUEYAAFwSAACrNgAAZBkAACwaAAC4CwAARBYAAEwdAACUEQAA9AEAAJFhAADxUQAAlVgAAMxbAAB7PgAAOx8AAMMyAACTOgAA86cAAKAPAADYWQAAXBIAAFQLAAC4CwAATyQAAFwSAABrFwAAG04AANceAADAXQAAkWEAAEUAAACIEwAAMSYAAGgQAAAkEwAAeg0AANRJAABESAAA4C4AAMx0AABFAAAAtl0AABZOAACOOgAAPnEAAD5xAAD+UQAA1DAAAGSWAAD0lwAATj4AAARCAADeJgAAxioAAIA+AACIEwAA0IQAALw0AADzpwAAOBgAAPOnAAAMFwAArA0AAN4mAADeJgAATB0AACsWAAAwdQAAvDIAAD2cAABMBAAAJXUAAIAMAAAwewAAHY0AAEVGAADPMAAAZDIAADYfAADTMAAAUEQAAMx0AACUKgAA9kQAAG5pAAAsTAAAY0IAAHiwAAA1bQAADJQAAHRZAADECQAAM0oAABMuAAAQJwAAgD4AAJ5hAACeYQAA3oAAAMNkAADc8gAA1DAAACMjAAC8TQAA+mQAAKJJAAAbAwAAGwMAALOIAAAlVQAAaEIAAMQyAAAbAwAAvE0AAMUqAAB2FgAAoA8AAGQZAABaCgAAJyMAADxAAABPJAAAkgkAAHAVAACyDAAACFIAAIA+AAC7XQAAwF0AAAsnAADXHgAAHD4AACMjAAAwdQAAMHUAACQTAABrlAAAt2YAAMOvAADAEgAAkzoAACMjAABgCQAApFEAADxAAAAPJwAAIyMAALw0AABgewAA41UAAIVLAADWYAAAXF0AAFZlAAC6WQAA6k0AAGBAAABUQgAAOmEAAORwAAD7SwAAc5sAAPNMAAC4CwAAlBEAAGYXAAALcAAAIyMAAKdTAAD6ZAAAqzYAABy7AABoQgAATB0AABAnAACAuwAAEA4AAHs+AABjQgAAPHMAABguAACpiAAAkzoAABtOAACJYgAAwTkAABtOAAAaYQAAaWkAAMlZAACsDQAASiAAAEwdAAC8NAAAZDIAANyCAAC+MgAAnjkAAFsiAADEIgAAbxcAAPkmAAADKQAAozgAABN5AACjYQAAhxMAAKQGAAB7PgAA4wwAAAwwAACgDwAA7gIAAGoYAADECQAAri4AAGY6AADqJAAABCkAAJ5hAAAsTAAA7HwAAOAuAAD2IgAAFFAAAOYtAACXGAAA3iYAAOiAAAAYLgAApDgAAJQRAABwSQAA+CoAAAAZAAA8owAAkzoAAFZFAAArSAAA/lEAAHY+AAAycwAAjjoAADpIAADOWQAA9H4AAPxTAACHEwAAOA4AAN8MAADECQAA6woAAKhhAACwNgAAhDoAAGYXAACfDwAAqzYAANgOAAB8FQAARGEAAPhcAABDcQAAaBAAAD5xAABmFwAApjYAAHY+AACbjAAAOEoAAJo4AABtNAAALkoAABZOAADmVQAAnmEAACt1AADLhAAAiBMAAOOAAACQGgAAmWEAADNKAABuDwAAVAsAAIMTAACDEwAAsgwAACcjAABjQgAAwBIAAHNpAACDkAAAM8cAADsfAAAjIwAAIyMAAMMyAAA8DwAAkzoAABwjAADDMgAAez4AACxMAAA2HwAAfxwAAL8SAABLRgAANAgAAH08AABcRAAAKCMAAG4PAABLRgAA9h4AAGAJAADcBQAA2hIAAIgTAAAzSgAA1i4AAJ8PAAB4HgAAqh4AAIMTAACbgQAAxAkAACsZAAD1GgAA2A4AAPxsAAB0WQAAvDQAAHZhAADzKgAAXEQAANurAABbbQAAWBsAAOOAAABQRgAAA1IAAHwVAADYWQAAZhcAAMMyAAA/SAAAbGsAAEwdAAA/HwAAzlkAANpXAAABAAAA5ywAAAsnAACrNgAAwzIAACMjAABLRgAAUxsAAERhAAD0GgAAgxMAAMwpAABiMgAAFGkAAG8OAACYIQAATz0AAHxlAADEhgAAPKMAACMjAAC2XQAAdEAAAJQqAADyEgAAPxYAALwCAADbLgAA/ygAADQhAAAoIwAA9BoAAAQpAACLZQAAjxEAALtdAACDEwAAg5AAAHM9AADDUQAAg0sAAD8dAABjFwAAuTkAAAFAAAD3KAAAVIgAAMQJAAAeIwAArgsAAKAPAAD3KgAAhxMAAIgTAAC8NAAA7EUAAJg6AACAPgAAxAkAAMBdAABrFwAAdxUAAEcdAACIKgAANTYAAPhcAAAIUgAAFIIAAFx2AAAsZQAAjFUAAJhTAABcXQAAFGkAAL9ZAAC/CQAAAQAAAIMTAABESAAAVAsAADlGAAA8QAAArA0AAK4uAABOPgAABCkAAHZhAACUEQAAW20AABZOAAC8fwAATGgAAIgTAAA0OgAA7k0AAL9ZAABAnAAAM0oAAPhcAAAkEwAAY0IAAFpVAAB7PgAA3oAAANsuAADcBQAAPA8AAGYXAAD+UQAAPnEAAC5KAAAWTgAAHAwAAHs+AABUbwAAQB8AAOwsAABDcQAA5lUAADpIAADTWQAAez4AADIZAABUVgAAtwsAAFttAABTmAAAM0oAAHhpAAB0WQAAQ3EAAMRtAADziQAAgAwAAKNhAACLZQAAY0IAANNZAADzKgAAA1IAAGuUAAA8jAAA1EkAACQAAABsPgAAMyEAADQ6AABcXQAAkGUAAFRWAAB0WQAAUxsAAORwAAAEdAAAWBsAAKs2AAADUgAArA0AAE4bAABOGwAAOx8AACMjAAA7HwAAIyMAADsfAADDMgAAIyMAALtdAADIrwAAGC4AAFiYAADmLQAAugkAAPBVAAC+VQAAxAkAAMQJAABIJgAARGEAAJM6AACLZQAAi2UAAFMbAABsawAABEIAAFxEAAAbTgAAM0oAABRpAADsRQAApB8AAMYyAABMHQAAdhYAALc0AAAMewAAvDQAAACUAAAjIwAADGIAAHRZAACIkAAAFGkAAIxVAADAXQAARx0AAHMeAACTOgAA2y4AAPsxAADHWwAAS0YAAD9IAADDMgAAiBMAAAdSAAD3KgAAT0YAAKNhAABgbQAAOgcAAJM6AACbjAAAOx8AAChVAACrNgAAwzIAAKs2AACDkAAAOEoAAFxEAACEZwAA9VwAACReAACYUwAA5zUAAOgDAACgDwAAmDoAAJ9BAACPZQAAfBUAACMjAACIEwAAV00AABAnAAB7PgAAZBkAAP8oAAAcJQAAkBoAAH8+AADiBAAAxioAAIw8AADcHgAAgD4AAKwNAAC7NAAA/AgAACgjAAAIIAAAKCMAADQhAAAjIwAAyDIAAGQZAACEHAAA2A4AAPMqAABTGwAAOx8AADEfAADrVQAATB0AAPR+AACDEwAAJF4AAL9dAAB8FQAAr18AAMQJAACnDQAAUxsAAJBlAABsawAAS0YAAHNpAABTUgAAY0IAAFhwAAAzSgAAlFwAAIw8AABkGQAACg8AAAJTAAD+EAAAXmUAALiIAAALQAAAjAoAAOCrAAA8QAAAbmkAAEAGAADsLAAAbIQAAJI7AABkMgAAu10AADwPAACYbAAAnHwAAIMTAAA4GAAAv1kAAGNCAAAkEwAAJEUAAFBGAACv1gAA2IAAAJSMAAAXdwAAX+oAAAoPAACUjAAAIlwAALRdAACMOgAAeDcAAENxAAC7XQAAYG0AAKdhAAAzVAAAS0YAAEtGAABkSwAAU1IAAEtGAABYcAAAY0IAAENxAAAzSgAAbGsAAIw8AAAHFwAAAQAAALtdAADUMAAA8isAAEAfAACYOgAAMhkAAO5NAAAuSgAAmCEAAFMbAAA+cQAAYG0AAKQ4AAB+NgAAiBMAAF5CAADkVwAAjDwAAMQJAADCWwAA7n8AAJO3AAB/ZwAAc4IAAIuXAACLZQAAu10AAJg6AAAgHAAAWJgAAGmEAAB7PgAAo28AAPsQAABUCwAADGIAACYbAAAbTgAAOBgAAFxdAAA7cwAAvE0AACADAAAgTgAATDYAAAgHAAC6LAAA+KUAAOZ4AACOXQAAnoQAAAQpAACIjgAAjLYAADNGAAARgAAA4bIAABlMAAB0YAAAVL4AAMsMAACwNgAApyIAAI5dAAB7JQAAhxMAALYDAACUEQAAa5QAADsfAACrNgAAIyMAAGyEAACHXgAAc2kAAAPPAACOOgAAhmUAADYfAACmNgAAK3UAADZCAABoQgAAFnEAAKRRAABbbQAA01kAAENxAADzKgAAlzoAAGQZAABORgAAPHMAAOMMAAAYLgAAmDoAAOs8AACOXQAAywcAAJQRAADYiwAAjFUAADh8AADEbQAA5CUAALA2AACkUQAAvDQAAD+cAADAEgAA8AoAANweAABYGwAAHFcAAJx8AACoegAAZH0AACiHAACUXAAAlFwAABxwAABTGwAAgD4AABQFAACeBwAAVsIAABh5AACMVQAANGwAABCLAACcfAAArCYAABCLAACYIQAA7HcAAECDAAAoVQAAtF8AAP5RAAD0MwAAWJgAALRfAAB0WQAAUxsAAFMbAACwNgAAoA8AAORXAAD0GgAADBcAAEwdAAB8LgAAVAsAAI4SAAA0IQAAJBMAACQTAABoEAAAwBIAAAQpAACehAAAtwsAAMASAABeZQAAtBQAADQfAABMNgAAHCUAAFsJAACbDwAATDYAAOxFAAAUaQAAOx8AAL8JAACzCwAAWwkAABw+AAAEQgAA/GwAABRpAABEYQAAzHQAABRpAAAkkAAAzHQAACwaAAC8ZgAAzEIAAERhAABoQgAACycAAFGLAABkMgAAdFkAAIGIAAC0XwAAxIYAANQwAAC8NAAAxioAAGmMAAB+NgAABCkAALQtAACxZwAAfBUAAJQRAACMCgAABCkAAPdTAAAMFwAAkzoAAMMyAACjYQAAUxsAAPwhAAAAMgAAREgAAM85AAB/PgAAgCUAAFMbAABvQAAAzzAAAFQkAAAPJwAAgAwAABAnAADUYgAAbxcAAJYyAAAWJgAAHD4AAIQcAAA0IQAAoA8AALCzAADfLgAATAQAAIRnAADBMwAAnDYAAL0KAAAfTgAALEwAAMcyAADfLgAAOx8AAGsXAACYOgAAJEoAAIxVAAAsZQAAFCMAAGw+AABIRAAAgAwAAH8+AADqbwAAdFkAALwCAAAkEwAAjhIAANweAAAMFwAAxCIAACYbAADEIgAAzC4AAJQRAADEhgAA6AMAABAnAABTmAAAgAwAAOAuAABUCwAAVAsAAMIzAABsPgAAyEsAAFx2AAD4XAAAtBQAAAgHAABWwgAAECcAAPQaAACEgAAAEEAAACxlAADEnwAAFGkAABw+AACYUwAAbGsAAFN/AADkcAAA1EkAACcjAACzCwAAECcAAJsPAACbDwAA+hoAABYmAACXOgAAv10AAPgqAABLFgAAzFsAAFxEAACAuwAAdEAAAGwyAABQNgAAbzIAAPcIAADQIAAA7CwAAHAXAACfKgAAyBkAANwFAADsKgAABCkAAOWAAAB1aQAApDgAAEwdAAAkEwAALGUAAGYXAABGcQAA/nwAANhZAAA4GAAAdA4AALQtAAAEKQAA1C4AAEAfAADECQAAuD0AAAQpAACqHgAACFIAAKs2AABkFwAArIoAAHu7AAB8FQAALB8AABNMAAAQJwAAxAkAAFbCAABwlAAAhAMAABRQAAAudQAAOgcAAIAMAADzKgAAfBUAAERIAABQRgAATB0AAOQMAADUMAAAdA4AAIgTAAA3SgAA5HAAACxlAACQTAAAmDoAAEwdAAD4KgAAPHMAAENxAADTWQAAW20AAENxAAAPIwAAFiYAAP50AAD3KgAAhGcAAJQRAADUSQAArA0AAPBVAADAXQAA8yoAAJM6AAAhIAAAO5wAAJM6AAAzSgAAG04AAHs+AAA8cwAAPmIAANweAACADAAAsDYAAEwdAAALJwAAZDIAAPIrAAALJwAAShUAAMMyAACKNAAAIE4AALg9AADQhAAA9BoAAANSAACziAAAc2kAAMuEAACzCwAAFAUAAJBlAAB0WQAAfBUAAPgRAACgDwAAmGwAANsuAABTGwAAqzYAABd5AABwFwAAlzoAACQTAAAEQgAASA0AAF8ZAADcHgAAqHoAAHwVAACwNgAApDgAAIxVAAAsTAAAmDoAAFx2AABUiAAAXxkAAJYyAAAUaQAAKCMAADQ6AAAkXgAAqzYAAMQJAACWMgAAwF0AAEtGAACuJAAA2FkAAJMIAACjYQAANh8AAPcqAADnLAAAmw8AAEcdAAAKDwAAnoQAAMx0AAAkkAAAW20AAEgNAAAgZQAAUxsAAGsXAABUQgAAVG8AANwFAACsDQAA4VwAAF5lAAAAGQAAEA4AAP8oAADTWQAAqzYAAKyjAADUxgAALOIAAPt8AAATeQAA8FUAAL5VAAB+NgAAlBEAAGIqAACmNgAAdmEAAD5xAABmFwAAmjgAAJ5hAAAoIwAAyggAABwlAAA6SAAA8AoAAERIAADUMAAAfgQAAJAaAABCDgAAlBEAAEIOAADwCgAANkIAADAqAAC4JAAAmAgAAHCUAADMdAAAFGkAAERhAADMdAAAwBIAAHwVAAC/CQAARkYAAD5JAACIEwAAjjoAAEQWAACHEwAAlBEAAGsXAACMPAAAQDYAAHwVAAAwKgAADHsAAPZ8AACOOgAAGHkAACMjAACPEQAADnkAADxzAAAgywAAtF8AAAQpAAC+MgAANDoAAPZ8AAAEQgAAQB8AACBOAABkGQAArA0AADQhAAAYeQAAxIYAAERhAAB7uwAAmAgAAPAKAAABAAAAAQAAAAEAAAABAAAAAQAAAAEAAACsDQAA9yoAAAwXAACwNgAATB0AAPMqAADDMgAAvDQAANhZAABcXQAAFGkAAHcVAAAsTAAABHQAAFRvAAALJwAAXEQAAIiQAACQZQAAEGkAAN8MAADECQAAJHcAAERIAABLHQAAr9YAANiAAABkZQAAF3cAALu0AAC4mgAATB0AABtOAACrNgAAbxcAAAEAAAA0IQAA9BoAAAEAAAABAAAAAQAAAPgqAACfcwAAjDoAAEtGAAAmGwAAKCMAANgOAAA7HwAAIBwAAJx8AACUEQAAbGsAAAxiAAAeRgAAvlUAADQ6AAD7UwAAJnUAAPQaAAAXJQAAnBgAAHs+AADDMgAAmGwAAFx2AADYWQAAbIQAAJhsAAD4KgAAAQAAAAEAAAABAAAAAQAAAEdxAAD7UwAA+1MAAEtGAABMNgAAjDwAACeDAAA0OgAAez4AAGNCAADDMgAAAQAAAAEAAAABAAAAAQAAAAEAAAABAAAAAQAAAAEAAAABAAAAOx8AAJQRAADTWQAADDAAAGgQAAAbTgAASCYAAAhSAADwCgAArA0AALgLAADECQAA2FkAAGQZAAC4PQAAJk0AACt1AAD7fAAA01kAAAx7AAABAAAAtHgAAJQqAAAEQgAAS0YAAFx2AAD+UQAAdj4AALZdAABzaQAAIkwAAD5xAAA+cQAA/lEAAHwVAAA0IQAAGHkAAEOKAAD4EQAAIyMAADs4AADcHgAAjDwAALxNAAAEQgAA2FkAAN6AAABbbQAAZDIAAORwAACkOAAAsgwAAFhNAAAoIwAABEIAAKwNAADwVQAAfmgAAFwSAABEYQAAxAkAAMQiAAB+NgAAfjYAAPcqAAAcoAAAZHsAAHoNAAD+UQAAjjoAACJMAAC8sQAAFk4AAC5KAAA+cQAA/lEAAPtTAAD3KgAANCEAAMgyAADkVQAAaxcAAGQyAADkcAAAIE4AADNKAACIEwAAvE0AAEw2AAAEQgAAZDIAAKQ4AAAnGgAAc2kAAFBGAACOOgAAcBcAANhZAAArKgAAGEcAAJAaAABPPQAAgxMAAF5CAAD+UQAAvE0AAI86AADUMAAAjxEAAGuUAAA2SgAAW+oAAKQ4AAB8FQAA6AMAADNKAADMWQAAlHMAAO5NAACjFgAAPHMAAGsXAADDMgAATB0AAIMTAABTGwAAIiQAAARCAAAbTgAAyDIAACMjAAAQJwAAECcAAIw8AABMNgAA+FwAAFx2AAALWQAAwzIAACQTAAD7fAAAJyMAAKo3AAAMrQAAmrQAABw+AAAmTQAAvBsAAH8+AABQwwAAZBkAAOtVAACjYQAAljIAAEAfAAACOgAAZDIAABRpAAAUaQAA4C4AAI86AADpTQAAcBcAAJQRAAAsZQAACYAAAAhSAADkcAAAjFUAAGyEAADrVQAAJ4MAAIiQAACJRAAAbGsAAAEAAAABAAAAAQAAAAEAAAABAAAADGIAAJBlAACDEwAAY0IAAAEAAABLlgAAIZMAAAI6AACTbAAAoA8AAFGLAACMPAAAWE0AAOf9AAC4CwAAOx8AAOwsAAAjIwAAIE4AAFttAADAEgAAc3MAAAN1AACjhAAAmGwAAAwXAAADOQAAREgAANweAAAMFwAAEFkAADwPAADgLgAAxAkAADQhAAB0QAAAqBYAAHwVAACUEQAAHCUAAENxAAAzSgAAW20AAKwNAADECQAAaxcAAN4mAADeJgAALyEAAGsXAAAvIQAAWgoAAJQRAABMHQAAbAcAAGQZAABDcQAAW20AAB9FAACziAAAdEAAAGsXAABLFwAA3iYAAF8ZAAAGSgAA3iYAACMjAACvVQAAWE0AAOAVAACoFgAAqBYAAGgQAAB0WQAAFFAAAHhpAABcXQAAkGUAAPR2AADYWQAAmGwAAJM6AAB0WQAAVEIAAMRZAAAXJQAA5AwAABQjAADMdAAA8AoAAERhAABoEAAAH04AAMBdAAC+MgAA3AUAAJRhAAAsZQAAoA8AANBrAAB4aQAA/GwAACMjAAD3UwAAZBkAAFMbAABTGwAATDYAAEw2AACoYQAAjFUAACxlAACYbAAAXEQAANyCAAAMFwAApjYAAEAfAAAQJwAATB0AADsfAAAUggAA/GwAABAnAAB7FQAAcBcAAPBVAADwVQAAzFsAAJuMAAAzUwAA5FcAAJM6AADQOQAACCAAABAnAACYUwAAXF0AAHRAAAAsZQAAgLsAAJQRAADrVQAAi5cAAJO3AAADUgAAuAsAAAgHAABIJgAAiCoAAGyEAADsLAAAdj4AAP5RAAA+cQAALkoAAHRAAACGiAAAw5oAAJo4AABcwQAA5lUAAJ5hAABQRgAACycAAP8oAAA6SAAANh8AALtdAAB7PgAA+EMAAAEAAAABAAAAAQAAAAEAAAABAAAAAQAAANAHAACvHQAAAQAAAAEAAAABAAAANkIAABwlAADIMgAAkyYAAMASAAAOHwAACFIAAOQMAACgDwAA2A4AAP5RAABmFwAA5lUAAHIGAAAuSgAAnmEAADpIAAAzIQAAgxwAANQwAACbDwAAswsAAJsPAABvFwAAJBMAAOwsAACIXgAAHFcAAEtGAACHCgAAuAsAAMYRAACsJgAAvE0AAGBtAADzKgAAXkIAAKs2AAD0GgAAiJAAAHBiAAAzIQAAMyEAANRJAAD2IgAACycAAHs+AAAPJwAAgxwAAIs8AAAzIQAAWgoAAEYeAAD0GgAAIyMAAOZVAADUMAAA3B4AAI8qAACTOgAAc1AAANc3AABjQgAAC6QAAGdCAADkVwAA8yoAAHwuAACnWAAAMyEAAHdpAAAaLAAAJhEAAHIVAABaGQAAyjAAALxNAACcGAAA7EUAABwlAAD/KAAAzFsAAHs+AAAzIQAAd2kAAGNCAACWMgAAIyMAAEcdAAAzIQAA7F4AAJYyAAABAAAAAQAAALMkAAA7HwAAu10AAAsnAADbLgAAUxsAAAEAAAABAAAAAQAAAPIrAADgLgAAG04AAOYtAACqNgAABicAAIo0AABwFwAAoA8AADsoAAC3CwAAIE4AAA8nAADmLQAA3B4AAAEAAAABAAAAAQAAAAEAAAAcPgAATDYAAIxVAAAcJQAAoA8AAGQZAAD/KAAAfBUAAHNQAACzJAAAoA8AADsfAADXNwAAY0IAALxNAABklgAAkzoAAKs2AACrNgAABBAAAAEAAAABAAAAAQAAAAEAAAABAAAAAQAAAAEAAAA7DwAAiBMAAAQpAAABAAAAAQAAAAEAAAABAAAAAQAAAAEAAAABAAAAAQAAAK4uAAAMewAACFkAAC4JAAAqXQAAZDIAALxNAAD6KAAAwBIAAN4mAAAjIwAAXyIAAFxEAADWFQAA/ygAABCkAAAcJQAAIyMAAJQRAACrNgAAAQAAAAEAAAABAAAAAQAAAAEAAAABAAAAdA4AAAwXAAAWTgAAv10AAJc6AABwEQEA9yoAAGAJAAABAAAAAQAAAAEAAAABAAAAAQAAAAEAAACsDQAArzYAAI5dAAAjIwAA44AAAHRZAAATUAAAgAwAACMjAABklgAApDgAANjWAACAPgAAVG8AAGdCAACuFQAAAQAAAAEAAAABAAAAAQAAAAEAAAABAAAAAQAAAPhcAAD0MwAAAQAAAAEAAAABAAAAAQAAAAEAAAABAAAAAQAAADqPAAAQpAAAkyYAACIkAABwYgAAuAsAAIRnAABrFwAAiEUAAJhsAADYWQAAmGwAAJM6AACUYQAAFCMAAAEAAAABAAAAAQAAAAEAAAABAAAAAQAAAJRhAAABAAAALyEAAEtGAAAjIwAAkzoAADQ6AADjNQAAez4AAK8tAAB+NgAADHsAAFOYAABrFwAAwBIAAOOAAABXRAAAAScAAKwNAAAXPgAAdA4AAPinAACUEQAAXF0AAJRcAABLwwAASHEAACxlAAAjIwAAECcAAEwdAAAUaQAARGEAAMx0AADAXQAA3B4AAPMqAAB8FQAABCcAADQ6AAC4CwAAyDIAAJBlAABTGwAAzwcAAJ8PAACIEwAAnHwAAGCfAAABAAAAAQAAAAEAAAABAAAAAQAAAAEAAAABAAAAAQAAAAEAAAABAAAAAQAAANQwAAAHUgAA71UAAGSWAAAEJwAAAQAAAAEAAAABAAAApDYAAA8nAAABAAAAAQAAAAEAAACYbAAAmDoAAJgIAACUEQAA8isAAJxjAAC8NAAAXEQAAGxrAADDMgAAJBMAAP58AABXGwAAG04AAFhNAACmDgAAxAkAAJQRAAAEKQAAIE4AAOtVAAB8FQAAS0YAAAEAAABAHwAAdEAAAGQZAAAPJwAA8FUAAFxEAAB8FQAAqzYAAIMTAABLRgAAZBkAALtdAACaEAAAu10AAJIJAAAQDgAAWBsAAAwwAADEOwAA91MAACMjAACUKgAAOBgAAH8+AADIMgAA1EkAAARCAAB8FQAAOx8AAFNtAAA0OgAA4BUAADQ6AAA0OgAACycAAAsnAAAPggAAvE0AAFttAACgQQAA8AoAALsSAACGGgAAWBsAAOtVAAAjIwAA01kAACMjAADMdAAAlCoAAHomAADYuAUAvE0AAFQLAAALJwAAAQAAAAEAAAABAAAAsB0AAJ84AAABAAAAAQAAAAEAAAABAAAAAQAAAJQRAACoYQAAvE0AAGw+AAD0GgAAzBAAAGy2AAAzSgAA1DAAAARCAADMWwAAUEYAAEyaAABIDQAAHxMAAOtVAACUEQAAvDQAAJ5hAACeYQAA3oAAAFQkAACuLgAA3iYAAE4+AACbDwAAZjoAABwAAADsXgAASxYAAGQZAABELQAApg4AAKMWAADECQAAZBkAAEiQAABIkAAAFk4AALZdAAD+dAAALZQAAAhSAACyfAAAjoQAANarAACcMQAA7qcAAI46AAC4hgAAxDsAAHs+AAAPIwAAhzwAAMMyAAA0IQAAhxMAAJM6AABXFwAAvDQAAKQ4AADQhAAAXF0AAIxVAAAEKQAADnkAAJRcAABMHQAAlCoAAJ5hAADegAAApFEAALA2AAAcJQAAnHwAAAAZAABLNgAA1DAAALRNAABsBwAAljIAAMMyAAAnIwAA7VUAAGNCAABklgAAxCIAAHwuAAB4BQAAjG4AAKs2AAA+cQAAPhcAAAEAAAAooAAAAQAAAAEAAAABAAAAUEYAAPgRAAAEKQAAHD4AAFx2AAAEKQAAxjIAABs+AABXGwAAJwoAAI1lAAAnCgAAJwoAACcKAAAnCgAAJwoAALRfAAAoIwAAREgAANgOAACUKgAAqGEAAFttAADTWQAAzFsAAJQRAACUEQAATB0AAJwYAAAoIwAAY0IAAPZ8AADwVQAAuIgAAGyNAAC8NAAAfEcAAIMTAAAoIwAAeB4AAGhCAADsLAAAljIAAN4mAABAHwAAuAsAADoHAAAHUgAAS0YAAGNCAAABAAAAAQAAAAEAAACYUwAA+FwAAJhTAACEZwAAGAAAAKmIAADrVQAAo2EAAAEAAADTWQAAjFUAAL4yAAAKUAAAjFUAAJM6AADkVwAAdFkAAAEAAAABAAAAqHoAADh8AACUXAAAdFkAAExoAABshAAAGGAAAORwAAC0FAAA1DAAAFRvAABuCgAANkIAAD4SAAAobgAAwBIAAAEAAADIrwAAGC4AAGQZAAA8gwAAm0EAAFAUAAAgHAAApTYAACgjAAAooAAA8FUAAEw2AACTOgAAbCAAADQhAAA8DwAAJhsAAG4PAACIEwAAbg8AAAsnAAADUgAAZBkAAAEAAAABAAAAAQAAAAEAAACrNgAA5FcAAFQ9AACnHgAAzFsAAKcNAAA4fAAAUxsAAJAaAAA4GAAACAcAAD8WAACwNgAAmFMAAJBlAACjYQAAjyoAAHySAABwYgAALyEAAFiYAAABAAAAAQAAAAEAAAABAAAAAQAAAAEAAAABAAAAP0gAABQFAACMVQAA3AUAAIQ6AACjmgAAvjIAAI94AABTGwAAGC4AAGYXAACmNgAAsDYAABQeAABUJAAALkoAANAHAABTGwAAdAEAAMQJAACUKgAAECcAAJ5hAABTGwAAUxsAAMQiAABUCwAAuAsAAIMTAABMaAAAcBcAAFhNAAAUUAAAMjIAACQTAACsDQAA2hYAAMoIAACuLgAAWjwAAAZKAAAWcQAAXmUAAO5NAAAeRgAAmDoAANKUAACXIAAA7CwAAJYyAADsdwAA8yoAAGQyAADMdAAAxCIAAMx0AADgFQAAVAsAAJsPAAB7PgAAsgwAAARSAADQBwAApw0AADMdAABFPAAAnmEAAJ5hAABkMgAAXF0AABw+AABjQgAANFMAAF8ZAABYGwAAJhsAAGgQAACDEwAAmw8AAI4SAACkOAAAHiMAAM85AAD3JgAA4XIAANsuAAD8CAAAswsAAD5JAABrFwAA7CwAAPAjAAAsTAAALkoAAHgeAACmNgAAcBcAABhgAAC4CwAANDoAALQUAACgDwAABCkAAKwmAACLZQAA8yoAAJc6AABcdgAAmFMAAKBBAADoTgAADycAACBOAADzpwAAwzIAADsfAADDMgAAqjcAAKs2AACrNgAAqzYAAKs2AACfDwAAmw8AANsuAACTOgAAAQAAAIQDAAABAAAAAQAAAAEAAAABAAAAYDsAAAEAAADjDAAA1DAAAJQRAACOEgAAdA4AAHgFAAD8OAAApB8AAKhhAAD8UQAAcGIAAM4YAADHMgAAT0YAADZCAACsiAAAkzoAANwFAABQRgAArCYAAFMkAAABAAAAAQAAAAEAAAABAAAAAQAAAAEAAAABAAAAAQAAAAEAAABbRAAAbxcAAEyaAADLhAAAwzIAAChVAABkZAAAjFUAAFx2AAAgNQAAmGwAAAEAAAABAAAAAQAAAAEAAAABAAAAbVEAALxNAAAIUgAAT0YAAA6cAABcRAAASCYAAAEAAAABAAAAAQAAAAEAAAABAAAAAQAAAHs+AABMmgAADHsAAFx2AAAUaQAAAQAAAFhNAAABAAAAAQAAAAEAAAAYLgAA1DAAAAEAAAABAAAAAQAAAKh6AABcdgAAEIsAAIAMAADcBQAAcJQAANRJAACrNgAAHCUAAAEAAAD+dAAAvgoAAGa3AAAYeQAA5ywAAGQZAADcHgAA1DAAAJ5hAACeYQAA3oAAAHs+AADcHgAAlFwAAEtGAADvVQAA2i8AANceAADAXQAA+FwAAPQzAAABAAAAzyAAAGY6AAA8DwAA3y4AAG+UAAAeLQAAJF4AAK4uAABMHQAAhWEAACBpAAAAGQAAw0QAAJhTAACIEwAAN0YAAMMyAABESAAArCYAAIw8AABrlAAAS0YAAGgQAAAzIQAADHsAAAEAAAABAAAAAQAAAAEAAAABAAAAAQAAAAEAAAABAAAAAQAAAAEAAAABAAAAAQAAAAEAAAABAAAAI1UAAGw+AACRFgAAbxcAANQwAADfVwAAMHUAAP50AADoAwAAuAsAALxNAAC8NAAA3AUAAFgbAAB0WQAA7EUAAHwVAADECQAAXF0AANhZAABkGQAAmhAAAAEAAAABAAAAAQAAAAEAAAABAAAAAQAAAAEAAABzaQAAxK8AAERIAAA4SgAADHsAAHSeAACTOgAAAQAAAAEAAABTGwAAIyMAAGwHAAA2dAAANCEAANgOAABbbQAAhogAAAZKAADMdAAAtHgAAHRAAAC+VQAArA0AAAS/AABcdgAA3AUAAOhOAAAkXgAA/FMAAO4KAADcZwAAmFMAAHJTAACMtwAApjYAAD5xAAB2PgAATgwAABZOAADmVQAA9DMAAFcbAABTGwAA6AMAALAEAAA7HwAApLUAAJM6AABkMgAA7EUAAB5GAACLZQAACycAANweAABrFwAA3y4AANAgAAAAGQAA9BoAAMQiAADoAwAA/nwAAAsnAAB8FQAAAQAAAEwdAADIMgAACycAAMgyAAAKDwAAAQAAAKdhAABvFwAAIgsAAKcNAACwNgAA61UAAIxVAABWGwAAijwAAIMTAAAUHgAA7EUAAFMbAADcmwAAZDIAAJQqAADUSQAAWAIAAEwdAADkcAAAqGEAAL4yAADYWQAAthIAAMYqAACrNgAARx0AAPMqAAADKQAAhBwAAHwVAACYUwAA8yoAAFxEAADwVQAAVxsAAHNpAACXOgAAPHMAADh8AABwFwAA9yoAADQhAAD4KgAAqzYAAOgcAABMHQAABBAAAA8nAAAbywAAyDIAAGNCAAA4MQAAtF8AAAR0AAB0QAAA5HAAACMjAAALJwAAW20AAORwAABoQgAA8yoAAHwVAAAkEwAAXEQAABtOAAAjIwAAM0oAAJQRAACTOgAAM0oAANweAAAnIwAAkGUAAMQiAACcfAAACAcAAFMbAADxkwAAkzoAAFOYAADzKgAAeB4AAPMqAADLBwAAIyMAAI4SAAB8FQAAvgoAAK82AACTOgAArzYAAHBiAABXRAAA3B4AAHwuAADsLAAA9yoAAOQlAACsDQAAgD4AADG6AACYOgAAREgAAEIOAAB0QAAAsgwAAEk5AACrNgAAKKAAANsuAACMPAAA3IIAAPYiAACziAAAuAsAABguAAAcJQAATB0AAI46AABkMgAAvE0AAGSWAACAPgAAzFsAAOxFAAAEQgAAxIYAAHRZAADOOQAADnkAADxzAACWDwAAdFkAAGFpAACoYQAAIUoAAFpuAACLZQAAqV0AAJFhAAA0IQAAZDIAAPxRAABkewAA5FUAACR1AABb6gAATB0AAFQLAADMWQAAlHMAALMLAAAjIwAAgJgAAMASAADECQAAkBoAAOwsAABUCwAAi+IAALBNAAD+dAAAJBMAAJAzAACcSAAA8FUAABAnAABwlAAACycAAFSIAAD/fAAApjYAAP5RAACaOAAAFk4AAJ5hAAALDgAARGEAALgLAAAxHwAAM0oAANsuAAAzSgAAkzoAAE5GAACyeAAA0CAAAAZSAACMVQAABlIAAGZCAAA0OgAA/nwAABRpAACPZQAAZ0IAAJc6AAA3SgAALGUAAFtEAADPhAAAwHAAALxdAACPZQAAdT4AAKggAABshAAAx0EAAGsXAAAVTgAAFU4AADsfAADcgAAAlG8AABwlAAALpAAArYgAANyCAAAsTAAA00AAAF1CAADULgAA1C4AADQfAAALJwAA7CoAALwyAAAEJwAAXEIAAIw6AAC8MgAApDYAAORVAACMOgAADBcAAEQWAABAHwAAlBEAAIw8AACgQQAAdxUAAMIzAAC3NAAAlBEAAERIAABPRgAAfz4AAMwQAAAbTgAAiBMAAMASAADkVwAAdFkAADYfAACOOgAAwF0AAOQlAADYWQAA5FUAACMjAAAEWwAA81wAAP5RAAB2PgAAIyMAAKQfAAA4fAAAu10AADIhAAAycwAAmw8AAP8oAACmYQAAxjIAAHY+AAAWTgAAzlkAAGwHAABmFwAA61UAACYbAABuDwAA8FUAAJQRAAAgAwAATj4AAP58AABmQgAABlIAAHRZAACrNgAAGSMAAAcXAADvGgAA7xoAAIMTAACxXQAA3AUAAPcmAABFAAAA8yoAANoWAAD4EQAA3y4AAGsXAACnDQAAIyMAANsuAACHEwAASx0AAD8fAACHEwAA2y4AAK82AAAsTAAAtzQAAM8HAACvNgAAfBUAAAEAAAABAAAAAQAAAAEAAAABAAAAAQAAAAEAAAABAAAAAQAAAAEAAADqbwAAb5QAAGMQAAAWJgAAfBUAAARCAACEgAAA1EkAALRfAAALJwAApDgAAFBGAAAkdwAATB0AAEAfAABiMgAA4iUAAGQZAABMHQAAgD4AAPIrAACziAAAfBUAANQcAADmHgAArCYAAC5tAAD/KAAA0AcAAHBJAAD3KgAA11kAAMcyAAAvdQAA71UAAN8uAAA3SgAAxzIAAGdCAADHMgAA9yoAAN8uAAC4IgAAPx8AAKQ4AAD4EQAAIE4AAAQpAACTOgAArCYAAEEeAACEgAAA86cAAI4SAAA2ogAATZgAANsuAACsDQAAjDwAAHY+AADwIwAALEwAAKwmAACOOgAA1DAAAE4bAADgLAAAmFMAANweAADUfgAASxYAAGwyAADmHgAAbzIAAFA2AACcMQAA0DEAADYfAADDMgAATB0AAOssAABkMgAA5HAAANweAAB8LgAAG04AAAEAAAABAAAAAQAAAAEAAAABAAAAAQAAAAEAAAABAAAAAQAAAAEAAABLFgAAlI4AAEAfAACYOgAAfBUAAPQaAABUCwAAcJQAAHwVAAA0IQAAAykAAEw2AABUJAAABCkAAHRZAACYUwAAHD4AACReAAA7HwAARGEAAJSnAACMVQAAlBEAAAggAADMdAAA/GwAALN0AAAXJQAAoIwAAOAVAAABAAAAAQAAAAEAAAABAAAAAQAAAAEAAAABAAAAAQAAAAEAAAABAAAA36sAAAEAAABkMgAABFsAAFx2AAAfTgAA+FwAAFgCAADTWQAAxCIAAKhhAACrNgAA7CwAACQTAAALcAAA0CAAABy7AABgAwEAABkAANsuAADDMgAAfKsAADsfAACDkAAAxCIAAJM6AABcEgAA/GwAAGNCAADIrwAAwzIAADucAAALJwAApB8AAOiAAABUVgAABHQAAFxdAADAXQAA6E4AAIxVAABTGwAAAQAAAAEAAAABAAAAAQAAAAEAAAABAAAA3AUAAKhhAABLRgAAY0IAAOtVAACTOgAAY0IAAFttAACrNgAA01kAAHs+AABLRgAAQ3EAAGNCAADTWQAAS0YAAPAKAAD/FAAAOx8AAKs2AABrFwAAhzwAAMcpAAAsZQAAyDIAAApQAAB0WQAAGGAAAMBdAACUXAAAAQAAAAEAAAABAAAAAQAAAAEAAAABAAAAAQAAAAEAAAABAAAAAQAAAIRnAAC4bwAAoA8AADAqAAA4fAAAqHoAAFxdAADsRQAAWLEAAHAwAACADAAARGEAAMSfAABIcQAA61UAABwMAACMuQAA41UAAF9pAACGZQAAAykAAGQyAACUKgAAlCoAAJpdAABcXQAAuG8AAE9GAAADvwAAPx8AAH8+AAABAAAAi2UAAH8+AADYWQAAgD4AAHMeAABUCwAAvE0AAKwNAAA3SgAAVxsAABwlAACgDwAA9BoAACxMAACPEQAAZBkAAGsXAAD+KQAAlBEAAOwsAAAsMwAAlCoAAGhCAAC0XwAARx0AAHs+AAAzIQAAcBcAANgsAAAoCgAAJBMAADgYAAB3FQAAPx8AAIgTAAAOHwAAsDYAAF8ZAACIEwAAxAkAAE9GAAAnIwAAjhIAADYfAACgDwAAgxMAABIeAAB3LgAAvgoAAMQJAAA2HwAAnSYAAJQRAAB/PgAA5FcAALxNAAAoIwAAvDQAAJQRAACOOgAAuAsAADMhAADcHgAA0SAAAFcbAAAYFQAAgxMAAA8jAACTCAAAJBMAAIMTAACUKgAApjYAAOQlAADQBwAAtzQAACcaAAAEQgAAIAMAAPt8AAAjIwAAy4QAANNZAADY1gAAT0YAAPcqAAAPJwAA/DoAABguAAAbywAAM0oAAPBVAACiFwAAtF8AALRfAACJZQAAS0YAAB4jAACoYQAA4HkAAJhTAAA7HwAAOEoAAIMTAACbjAAA86cAAHwVAADLBwAAI6AAAKNhAACjYQAAU5gAACt1AACLZQAA01kAAJhTAAA7HwAAcBcAAAsnAAATeQAAVAsAANYGAADUSQAAdxUAAHRZAACOOgAAXiIAAA4nAADYDgAA3iYAAMQiAADoAwAAHD4AAMuEAABTGwAAmRAAAG8wAABEFgAAYCIAAERhAAB0QAAAngcAAHwVAACcGAAAHD4AAMQiAACgDwAAxioAAJM6AADrVQAAUxsAAJQRAAAGJwAAADIAAA6cAABjQgAA2FkAADNKAAD8UwAALGUAAAQpAAAIUgAAXEQAAFMbAAC3NAAAREgAAITkAAATeQAAOEoAAJAaAAAcJQAAfjYAAF4aAACSCQAAsgwAAGdCAADgLgAAlCoAAFBGAACXOgAAv10AAORXAAAQDgAAaxcAAIlBAABkGQAAfjYAAMBdAAA/HwAALEwAAGsXAABYGwAAqBYAACBOAADDMgAAoCgAAMwQAABMHQAABEIAAGQZAABbbQAApAYAADQhAABXGwAApg4AAIcTAACDEwAAZDIAACADAADECQAAQB8AAJsPAACkOAAAIyMAAGsXAABrFwAAJGMAAKwmAAAcJQAABEIAAMxbAABbEgAAPx8AACxMAADECQAAxCIAAK42AABUJAAABEIAAEgNAAD8bAAAri4AAEcdAADeJgAANB8AAEcdAACWMgAAQFEAAB9OAABODAAAtBQAALIlAABMNgAAez4AABslAAC8TQAADBcAAMsHAABkMgAAmDoAADQhAABTGwAAtF8AAISAAABkMgAA3B4AAPQzAAAEKQAAfBUAAGQZAAAwdQAAaEIAAB1lAACoegAAyDIAAJM6AAC3NAAAVxcAADsfAAD9PgAAtF8AAIA+AADUMAAAvDIAAMQJAAAQJwAALEwAAO9MAAAcSQAAwzIAABtOAAAwKgAAlBEAAIAMAADkVwAAgD4AAFcbAACsDQAAmw8AAGsXAACDEwAAXEQAAAoPAACsDQAABCkAANAgAAC4JAAA1EkAALI5AACIRQAAUBQAAO9VAABGRgAAmDoAAJ5hAAB8FQAAEFkAAHgeAAAGJwAAlowAABvLAACeYQAAnmEAAN6AAAAwXAAAql8AAEZGAAD2fAAAKjoAADsfAADvVQAA8FUAAGsXAAC4iAAAfpAAAPNMAADwCgAAmw8AACMjAAAkdwAACycAAFRvAABAOAAA70wAALAEAADECQAA/xQAAK6IAACEgAAA1EkAAGQyAAAOeQAACycAAIc8AAAEQgAAUBQAACtMAACDNQAAbAcAAHY+AABYGwAAhzwAAO6nAAAOeQAAbGsAALM9AADybAAA/lEAABZOAAAjIwAAjjoAAC8hAAAbywAAXxkAALxNAAC3NAAAfBUAAPQaAAAzSgAAFGkAAMsHAADrVQAAT0YAAD84AADsLAAAdEAAAHomAACjOAAA5FcAAAQpAABkMgAALkoAADQhAABMswAAPnEAAPSXAAA4SgAA/lEAAIwKAACkOAAA+FwAAHNZAAAjIwAAJBMAAIMTAAAeIwAAlBEAAHRAAACgQQAAqGEAAL4yAABrFwAA9xEAAKgWAAAbywAAgxMAABtOAAB/PgAAsLMAAAsnAADQIAAAvDQAALyxAADsRQAAPx8AAEgNAACsDQAA0AcAALiIAADkVwAALBoAAJhsAADkcAAAXBIAADFBAADrLAAAVAsAALA2AADoAwAALEwAAKAPAAAfTgAAbGsAABtOAABEYQAA+FwAADNKAABcRAAAez4AADYfAACOOgAA1i4AAKY2AADkJQAA6AMAANhZAADSBAAA0igAAA4fAACEgAAAIyMAALxNAACfDwAAcJQAADyMAAAkXgAAXxkAAAEAAAB0WQAAiBMAAFAUAAAeIwAACFIAAGQZAAAXJQAAvDQAAAsnAAALJwAAyDIAACR3AAA2HwAAt00AALdNAAC8sQAA0DkAAARCAACUKgAACg8AAK82AAAfTgAAYR4AABguAACwNgAA8xoAAFwSAAC7XQAAG04AABtOAACvNgAArzYAAARCAAB8qwAA1qsAANQwAADDCQAAG04AAFcbAACIEwAAXEQAAMMyAAAzSgAAqzYAANNZAAAcJQAAiEUAAP58AAA7HwAAuAsAAK4uAACfQQAAOx8AACMjAABTGwAAqzYAAFMbAADbLgAAAzkAAIOQAADLEAAAYCIAAI1ZAAAGSgAAijQAAMASAAAFRgAAdxUAAFgbAADtSQAAWUIAAHG7AAB9PAAAUxsAAKU8AAAVbQAArrMAAEVGAABHcQAA2y4AADsfAABLRgAAnzgAAAakAAAOeQAAPnEAAKVVAAAeFAAAtyQAADsfAADLBwAAdj4AAGQyAAAUUAAAnw8AAMUmAACgDwAAjDwAAOcsAACIEwAAVYwAABs1AACeTQAA+CoAAEw2AAB3FQAAECcAAHS9AADzKgAAtzQAAIgTAADwCgAAxCIAALdNAADoAwAA8yoAAFgbAAAsZQAAxAkAAMASAAC7XQAAlBEAAGQyAADsKgAAXxkAAC8hAAC4CwAA9BoAAHwVAADsLAAAozYAALsSAACvXwAAu10AAMQJAABMHQAARx0AAK4uAAALJwAASA0AAJxKAABAHwAANLcAAJM6AAAoIwAA4wEAABcBAADyKwAAY0IAAIw8AADcmwAAjxEAAMASAADzKgAAOx8AAEtGAABwFwAADx4AAJ84AACTOgAATB0AAHRAAAD/KAAA9BoAAEgNAADbLgAAqzYAAMMyAADzKgAA5HAAANweAACkOAAAnw8AAHwVAADfDAAAog0AALwbAACUEQAAZkIAABktAABoEAAAQR4AACwzAACkOAAA5ywAAP8oAADnLAAAhmUAAApQAACAAQAAhxMAADwPAAB8FQAAlBEAAN0uAAAsTAAAJhsAALxNAAAkEwAARkYAAJsPAAC8NAAAgAwAACSQAAA8DwAAtF8AAEw2AAAYeQAAlBEAAJQqAADkKgAA7EUAAERIAACcYwAANCYAADdKAACMVQAAzC4AABw+AACrNgAA0AcAAIk4AADgLgAAZhcAAHctAAACKgAAnjMAAIAlAAD/SwAAlBEAAICYAABAHwAAHIgAAE9GAABLRgAAlCoAAH8+AABcXQAAxCIAAGQyAACkOAAAjFUAAJM6AAAEQgAAaEIAALxNAABkMgAAOx8AAI9lAAC7XQAACycAAANSAAB7PgAAfz4AALxNAAA7HwAACycAAIcYAACDEwAAiToAAJpFAABmLwAABFsAAOxFAAB8FQAABEIAADsfAADcHgAAt00AANsuAACrNgAAyK8AANAHAACYCAAA4C4AAJc6AABcXQAAaEIAAGQyAAB/PgAANDoAAGoYAADkcAAApDgAAMtbAACTOgAAxzIAAHRAAADEIgAAE1AAAIk4AABpkAAATB0AADsfAADEIgAAHCUAACMjAABkMgAA1EkAALRfAACEgAAAi2UAACQsAACzCwAA8iEAALQUAAAxcwAAJogAAJhTAAC3iAAAlf0AAGQZAAAEKQAAgCUAAARbAADUSQAA9BQAAFa2AAA0OgAAkBoAAIJVAABYGwAA7CwAABguAAA0OgAAqGEAABguAAAEQgAAwF0AAHAXAACkOAAAkBoAAOgcAACbDwAAcBcAAABkAADsLAAAZDIAABYmAAAYeQAAAQAAAFdEAAABugAAyiEAAJM6AAAMSQAAvE0AAK9fAAAzSgAA0DkAAB9OAAAWTgAA6DUAAPgRAADQOQAAFk4AAHSQAAB8LgAAfC4AAOAVAAA+SQAA42cAADYfAAA4SgAAJhsAAOQMAAAIUgAA2A4AAI46AADWLgAApjYAACMjAADTWQAAfC4AANhZAAAAGQAAnBgAAABLAACbDwAAtl0AAF5CAACOOgAAjjoAAPxsAAAQJwAABCkAABFlAABgCQAAFFAAANjWAABHHQAAUBQAAPdTAAD7fAAANh8AAFaQAAAPJwAAW20AAPxsAAB/HAAAfxwAAMOvAABeZQAAaI0AAEgmAAD/fAAABFsAADxzAAC0XwAA5HAAAIcTAADoAwAADBcAAAsnAAAEQgAARGEAAORwAACMVQAAfmgAAKAPAACMVQAAIiQAAAjPAADzKgAAaxcAAHcVAAAcPgAA9yYAACxMAAAAGQAA01kAAOAuAADgLgAATB0AAAx7AADUSQAALEwAAKs2AADkVwAAoFoAAEqrAADEIgAAfC4AAFQLAACMVQAAzCkAANweAAAEKQAAqzYAAKAPAADkcAAAtF8AAKAPAADoAwAA5FcAABvLAAAKDwAAXEQAAOgDAABYAgAAUEYAAORwAABrFwAAIogAAFxEAACSnwAABmMAAFBGAADlNQAAoTgAAGY6AADuTQAABkoAAOAuAAAUUAAAIE4AAOwsAACIEwAAvE0AABw+AAB7PgAAMzEAAOtVAAB3RwAApmEAAFsiAABMHQAAECcAAOAuAAC+CgAAglUAAJg6AACfOAAAM0oAALtdAADzKgAAsAQAAMMyAABjQgAAqzYAANsuAABkGQAAVG8AAKQ4AAAfTgAAC3sAABNQAADTMAAAxAkAALQUAAAEQgAAdEAAAJ8PAACcYwAANCEAAPcyAAB0vQAAjFUAAJQqAAAcPgAAiBMAAKs2AAC8NAAAHCUAALxNAADIMgAAJHcAADQhAABTGwAAECcAAMQJAADGEQAAYhEAAFQLAAA0IQAAkzoAAIgTAAAQJwAAqzYAAJ84AADzKgAAY0IAAJM6AADsRQAAECcAAPR+AADsLAAAlBEAAPQaAADYWQAAGHkAAGsXAACTOgAAGh0AAKwNAACbGAAAdj4AABZOAAAWTgAAtl0AAD5xAAAuSgAAPnEAAPQBAADGKgAAXxkAACgKAABTGwAAhGcAAPBVAAA0IQAAKM4AALRfAAAbywAAIMsAAN4mAACYOgAAMyEAABtOAADEIgAAxCIAAC91AABXmAAAwzIAAHNpAAB8LgAAJhsAAE11AACTOgAAclMAAMgZAABLRgAAxAkAAKdhAAA/HwAA8h0AAEdxAACfjAAAsDYAAMYRAADaDAAAH04AAMQJAAAkEwAAfC4AAORXAAAzIQAANDoAAKoeAADcBQAAQB8AAPenAACYbAAABCkAAHRAAAB8LgAAOEoAAORXAACehAAAlBEAAD8fAABrFwAA4C4AABodAADOWQAALGUAAMBdAABgbQAAdNYAAJQRAABzaQAA+BEAAOwsAABrFwAAuAsAALYDAAB2egAAqzYAANgnAABTGwAAuTkAAKh6AAD8bAAAHCUAAKAPAABMNgAANDoAAEgNAABaGQAAjl0AAHwuAAA2QgAA7k0AALRfAADbLgAAnGMAABtOAABZMAAA5RoAAGwHAABtaAAAsWQAAHllAABvDgAADJQAALRfAACcYwAAzHQAADMhAABESAAAsB0AAKQ4AACYUwAAIT4AADQ6AAAcPgAA81wAACxlAAB3aQAAn4wAAJ84AADzKgAA2y4AAJM6AABjQgAAS0YAAJJvAADJgAAATB0AAJM6AAAuIgAAZDIAAFMbAAAuIgAABicAAMsHAACbDwAAUxsAAIMTAAAkEwAAPpQAAHZhAACbDwAAIT4AAHg3AAA0UwAAuzQAAE9GAACsDQAAAQAAAHRZAAABAAAAAQAAAAEAAAABAAAAAQAAAPMqAAB7FQAA9TcAAPgqAABsawAACAcAAOkqAADdLAAAdEAAAEwdAABQRgAApFEAABAOAACIEwAAkiIAAEwdAAA+cQAApjYAAHY+AAD+UQAARwsAAMIaAAD+UQAALkoAAJ5hAAA6SAAAlCoAAIIUAACIEwAAQB8AAMgyAADjhwAAIBwAAOgDAABsBwAAjwEAAJ8PAACsJgAAZBkAADNKAACziAAAW20AAB9FAAA0HwAATDYAAIA+AAAMZgAAaEIAABwlAACgDwAA7EUAAOPPAACyiAAAsDYAANR7AAAkdwAAM0oAADsfAAAnTAAAY0IAAEcdAACDEwAAWAIAAHBiAACUKgAA4C4AAKwNAABoQgAAwBIAALzKAACvFAAARLQAAOhOAADeJgAA3iYAACE+AAB6PwAAjxEAAPMqAAAeIwAADh4AAHgeAAA8DwAAihEAAJBlAADwCgAANCEAAGMZAAAjIwAAwzIAADsfAACsJgAAJyMAAAQQAAAKDwAAmAgAAPQBAABbbQAARBYAAMASAADIMgAAY0IAAJsPAAAjIwAAZBkAAChVAADQhAAANCEAAKAPAACsDQAA5FcAAKwNAABUCwAAHHAAAFBGAABAgwAAoA8AAIxVAACYOgAAuAsAAHAXAABTGwAApw0AAAhSAAAIIAAA2y4AAJM6AAA7HwAAnzgAAKs2AADBXAAA3AUAALIMAADegAAA/AgAAD8fAADHMgAATB0AANweAADYDgAA7k0AAJYyAAD2IgAAoA8AAAZKAAA4SgAAkzoAAMQJAACgDwAA1lEAAHZhAAAQiwAAqzYAAE4+AACmWQAA8NIAADsfAAA7HwAAHCUAANdZAACrNgAAR3EAAMSGAABrFwAA+CoAAANSAAA7HwAAOx8AAHcVAACDEwAAFGkAAKRRAADMWwAArCYAAIA+AACgDwAAgxMAAC8hAAA7HwAAUxsAAGsXAAAQiwAA4BUAADdKAAAUUAAArqsAALw0AAAEJwAAqzYAACBOAABjQgAAzBAAACoSAACYCAAAJBMAAGNCAAC3NAAAvIQAAFRCAABUQgAAlGEAAPt8AAAsTAAAJhsAANZRAABeZQAANkIAAJRhAAAkdwAAUBQAALgLAABgCQAAswsAAFsJAAAEpgAAkzoAAHs+AAAjIwAAOx8AANRJAACIEwAABxcAACQTAACzCwAAECcAADwPAACYGQAAcJQAAMxbAAAwdQAAHCUAAGQZAABMHQAAG04AAGJDAAACIQAAUEYAAIc8AABYGwAAkzoAABAnAAAsTAAAbg8AAEyzAAC5OQAAIyMAANwFAAAoIwAAKCMAAHdpAACfjAAAxAkAAOhOAAB/HAAAqGEAAHs+AACsDQAAuAsAAFMbAABkGQAAT0YAAIgTAACzCwAALyEAADsfAABTGwAAEA4AAHwVAAAwEQAAMhkAANCEAACMVQAAHD4AAG4PAAAjIwAAUxsAANsuAAAsTAAABCkAAEAfAABMmgAA3AUAAOwsAAALJwAAhzwAAERGAAAkXgAARx0AABZOAACQZQAAZBkAACBOAACPEQAAsDYAAFMbAAC0XwAA9yYAAEw2AAAcPgAAUW0AADNKAADLEAAAkGUAAGQZAAA0IQAA9BoAAIxVAAAcPgAAFB4AAPt8AAB0DgAAu1kAAKhhAABoEAAAIyMAAFxEAAAEEAAAKCMAANAHAABwFwAA8kgAAJsPAABwFwAADycAABclAAD8IQAADGIAAFxdAABMHQAAdA4AAIszAACPZQAALGUAADAqAAB2FgAAZ2sAAKwNAAA0nAAA6E4AAKc2AAB8dwAAA04AADxzAABwFwAAeGkAAC5tAAAsTAAAuAsAAMQiAAAoIwAA9iIAAO5NAACiMAAAxioAAGY6AADeJgAAZBkAAO5NAAB2PgAAFk4AALZdAAAiTAAAFk4AAD5xAADIjgAAHkYAAFYTAABOPgAA7k0AAIJfAAD+UQAAvwkAALMLAACsDQAAWBsAAERIAACLMwAAAiEAAANSAAAfRgAArA0AABodAABKFQAAVhMAAAoPAADiHQAAvDQAAFgbAAAvIQAAIAMAAFsJAACnDQAAoA8AAIMTAADIAAAAw2AAALMLAABMNgAAZDIAAJ45AAA0IQAAKCMAAJhTAAAcJQAATDYAAAgHAADjUwAAWBsAAOgcAADGEQAAYCIAAIgTAAAsZQAAW20AAPgqAAA7HwAAvDQAABw+AABQFAAAwikAADYfAAAzSgAA1C4AAFxCAABSZwAAnGEAAGQZAAAgTgAAiBMAANNZAAAfEwAAgxMAAKwNAAAgTgAAG8sAAEwdAACAJQAAzHQAAFMbAAD8bAAAVAsAAMsHAACbDwAAUxsAAIMTAABYBQEAUxsAAEwdAADgFQAA3B4AAMQiAACUKgAAlBEAAONXAABuDwAA9AEAADtzAADuTQAAME8AAJg6AAC0XwAAaEIAAGBtAABkGQAAEA4AAH+7AACzCwAAfjYAAG8XAADuHgAAST4AAMQiAAAOSgAAJ0wAAIMTAAB0DgAAOx8AAKhdAAAEKQAAuSoAAGNCAADGKgAAbg8AANqnAADeJgAATj4AADIZAADuTQAA1s4AAGY6AAAWTgAAHkYAAFYTAAAlEwAANkIAAAhSAAC+VQAAG04AAP50AAAAewAAIE4AAMMyAAB0QAAAyGQAAKAPAABWkAAAFFAAAJgIAAAGcQAA8FEAAHwVAACeOQAAJk0AAMZcAAAOUQAA9H4AAJ45AAAOUQAA7k0AANQwAAA2QgAAIyMAAI5dAADgLgAA7k0AAHRAAAAIUgAAHCUAAIQ6AABJRgAA61UAAEJAAAAbTgAA5AwAABRQAACwNgAAUBQAAIYLAADgLgAApmEAAF4aAABgIgAABCkAAAEAAAABAAAAAQAAAAEAAAABAAAAAQAAAAEAAAABAAAANCEAAHY+AAA+cQAALkoAAOwsAAA4SgAARyYAAN8uAAA4fAAAo2EAAORXAAAwKgAA9BoAAB9OAAAUUAAAJBMAAFQLAACRjAAAYAkAAHomAABMNgAAHkYAAJYyAABoQgAAfBUAAPxsAAB6JgAAzFsAACQTAAAkEwAAS0YAAPMqAAAoIwAAIE4AACxMAACrNgAAvDQAAHs+AACrNgAAHCUAACYbAADUSQAADHsAAHwuAAAEKQAAJhsAANgOAACgDwAADBcAALVZAACLMwAAyBkAAKgWAAA0HwAAQFEAACQTAACyJQAApFEAABBAAACTOgAAWwkAAPQaAAD8IQAAswsAAGQZAACnYQAAbGkAAPxRAACkBgAAsDYAAJsPAAB+PgAAaxcAAFMbAABMHQAAez4AAGQyAAB4BQAAMBEAAIMTAABkGQAA7ioAAJxjAAAMlAAAG04AANRJAADMdAAAfYwAAJQRAABtZQAApw0AAGsXAACtNgAApFEAALc0AACMPAAAhwoAALtdAABWEwAACg8AAAEAAAABAAAAAQAAAN+rAAABAAAArIgAABROAAAMTgAANDoAADxGAAC+MgAATDYAAEw2AABLRgAAKkQAAHs+AABmFwAAMCoAAGhCAACqBQAAHiMAAIszAAAAfQAANDoAAGYIAAABAAAAAQAAAGQZAAABAAAAAQAAAAEAAAC4iAAADDAAADMxAAAoCgAAJhsAAAEAAAABAAAAAQAAAAEAAAABAAAAAQAAAAsnAADeJgAAM0oAALMLAACQZQAA2y4AAEcdAAA7HwAAY0IAAIMTAAAnTAAAY5YAAJM6AAB0PgAAjAoAANhZAABwYgAAxAkAADNKAAAcPgAAcBcAANwFAADcBQAAdFkAAJBlAACkOAAA3AUAAJM6AACWMgAAri4AAGQyAAAkEwAAkzoAAJQRAAA/HwAAkWEAAJM6AACrNgAAY0IAAAxiAABsawAAojAAAJQRAADcHgAAizwAANNZAABDcQAAH0UAALOIAAABLgAAi2UAAKNhAACjOAAAH04AAANSAACzCwAAWwkAAHRAAABQLQAAXEQAADQhAADEIgAArCYAAMxbAACkUQAAFGkAABw+AACOEgAArCYAAAAyAABrFwAAuAsAAOAuAAAkEwAAxCIAAGoYAABIDQAA3B4AADwPAACaEAAA+CoAAHwVAAB7PgAA5FcAAGNCAAAkEwAAJBMAAAwXAAAjIwAAmw8AAJM6AAAXdQAAoCgAACQTAAB6JgAA9BoAAPBVAACuLgAAO5wAAAsnAAABAAAA2FkAAHRZAACvNgAAH04AAAQpAAAEKQAA9BoAAPQaAAAgHAAAShUAAEw2AADECQAAxAkAAH42AACcYwAAPEEAAMwpAADcUAAAKCMAABw+AABwlAAAx1sAAERIAACUEQAAxCIAAGQZAADcHgAA8AoAAAQpAADEIgAAd2kAAJ+MAADDMgAAUxsAAAgHAABgbQAAvDQAADogAADbLgAAxEUAAFMbAABKFQAAmDoAAGY6AAD2IgAAxioAAFYTAAAwQwAAJhsAAJYZAACWMgAAVhMAAGY6AABmOgAADh8AAMYqAACGiAAAZjoAAN4mAADUMAAAplkAAIgTAAAIBwAAWgoAAKbWAAAOHwAAHCUAAPUqAAB0JwAAaxcAAOwsAAB8kgAACUIAAPMqAABjQgAAIT4AACE+AAC2XQAAUkQAACZ1AAC4CwAAlCoAAGSvAABAHwAAECcAAPQaAAAwEQAArA0AAGoYAACYUwAAZjoAADNKAABmOgAAJEoAAFxEAABMbQAAQ3EAAIYaAAA0IQAArA0AAKwmAAAoIwAAwzIAABQeAABWEwAACg8AAGNCAADjNQAAc1kAAONwAAAPWQAAX20AAE9GAABPRgAAX20AAGOWAAC/XQAAG3AAAN8uAAALSQAARz8AAMcyAADngAAAlFwAAMx0AAB8LgAAAQAAAAEAAABshAAAM0oAACsqAABnQgAAZDIAAMwQAABORgAAoA8AAHRtAABrFwAA8IcAAEtGAAB0WQAAOHwAAORXAAAEWwAAqHoAAJQRAADQBwAABCkAAFMbAAC8NAAADHsAALtdAACsJgAAeB4AABw+AACrNgAAZkIAAMgyAAC7XQAAOx8AAERhAACziAAAM0oAAENxAABaRAAA1lkAAMivAAAGUgAAqzYAAPBVAAB4aQAAFE4AAGQyAADegAAAnmEAAHGwAAC4CwAAV0QAAGlpAAApSgAAgkIAAAgHAAAkEwAAV0QAAPxTAABMHQAAl2MAABZxAACHPAAAAScAAK8tAADnRQAAaxcAAJdjAACvLQAAAScAAJAzAABrFwAAmFMAABw+AAAMFwAAl2MAAIc8AAABJwAAeGkAAPwhAAALJwAAIyMAAGsXAABrFwAAZBkAAD4XAACcYwAAfBUAAB8TAAAQDgAAuAsAAGsXAABkGQAANCEAALtdAABSPgAAXgEAADxGAADTWQAAUGoAAN5JAABjQgAARz8AAE9GAABPRgAAZDIAAHQ+AABmQgAAJiMAAJ84AADWWQAAWkQAANQwAACrNgAAiBMAALgLAAA4SgAAlg8AAMQJAABLRgAAaxcAAN4mAAAGSgAAiBMAAIgTAABUCwAAxCIAAAQpAABMTQAArIgAABw+AAADUgAAG04AAAIhAADjgAAAnzgAAGNCAACTOgAAPpwAAPZUAACrNgAADV8AAKQ2AACIjgAAA1IAAHs+AABQFAAAXxkAAAB9AAALJwAA/FMAANyCAABshAAAdEAAALR4AADUSQAArA0AABwlAACkBgAAKxYAAAIhAAAzIQAAZ0IAAK82AAB/PgAArzYAAK82AAD3KgAA8FUAAHwuAAAkEwAAsiUAAOg1AAAQQAAADBcAAKo3AAAeTgAAkiIAALiIAACIEwAAuCQAAKJJAABMNgAAS0YAAGYXAAB7PgAAUxsAAGOWAABUPQAADBcAABw+AAAnIwAA8NIAAFSIAABcRAAAahgAACxMAAA7HwAA8yoAABslAAB4BQAA7n8AAKRRAACsigAAmw8AAMsHAABcRAAAcBcAAPwhAAAzIQAAfC4AAKQGAAASFgAAoA8AAMoIAACoFgAA8CMAAJ5hAABWbQAAPnEAABAnAACsJgAA1DAAAFMbAACcGAAAKjoAAOAiAgDMdAAApDgAAKmIAACCQgAAgAwAAPMqAAB7PgAAqzYAADB1AAA/HwAAYAkAACgjAABcRAAA9H4AAGZCAAAGUgAAIXUAAFpEAABkMgAAzHQAAFQLAADbLgAAOx8AAJM6AABLRgAAxAkAAK4uAAAzIQAAghQAADsfAAALJwAACycAAEw2AAALJwAAkzoAAKs2AACsDQAA2y4AAB7DAABLRgAA7k0AAAoPAADDrwAALyEAAGxrAACcYwAAPx8AALxNAAB/PgAAEFkAAPafAABjQgAArTYAAIgTAABb6gAAQJwAAKRRAADoTgAAizMAAMQ7AABjlgAAjjoAAHBJAAAbTgAAoA8AAGhbAAA7HwAAYQ0AABw+AAAlOQAAVAsAAHwVAAAoIwAARC8AAHAXAAAfywAAl7cAAMaEAADupwAAswsAAGkXAACnNgAA/FEAALxNAAD0fAAANJwAACcjAABqWQAAL0oAAMx0AADEOwAAyDIAAPQaAAAsGgAA/FEAADYQAAAUaQAA8NIAAFBGAADgLgAA1DAAAAQpAAD0fgAAlzoAAH8+AADGpwAAojAAAHwuAAB8FQAAfJAAAIA+AAAkEwAAnGEAAJQqAAC8NAAAMhkAADARAADMdAAAxzIAAAwXAACUKgAAmw8AAF6/AABbawAAO5oAADQhAACAmAAAoCYAAPhBAACUXAAAcJQAAEtGAACsDQAAqh4AAG4PAAAeRgAA1DAAAJsPAADUSQAAkzoAANgnAADsKgAAOEoAANwFAAC0XwAAZDIAAAdSAAB8FQAAFGkAAGgpAAB2FgAAppcAAGsXAACAPgAA5FcAAGSWAAAAfQAA9JcAAAB9AAB0WQAA2FkAAIgTAACADAAAREgAALiIAACsDQAAJhsAAMhkAADwVQAAYG0AAPAKAAAIBwAAMhkAAGQZAABLRgAAc2kAADNKAAD0lwAAxzIAACaYAACwNgAAkJcAAPR+AABHHQAAUxsAAIRnAABTGwAAlCoAACYbAADeJgAA3IIAAJsPAACbDwAAtF8AAGQyAAD4KgAApDgAAAQpAACjYQAAAwcAAGQZAABYGwAA1DAAACMjAAAmGwAAxioAAKAPAACoFgAAtF8AAISAAABkMgAAlwgAAFsJAACwNgAAmw8AAGQZAACRYQAAGXUAAIMTAAAhSgAAITEAAJM6AAAjIwAASW0AAGQZAAABAAAAAQAAAAEAAAABAAAAJHcAABwlAADsLAAAkZYAAPAjAAAEKQAAhxMAAJAaAACDHAAAqw0AABBZAACCjAAAKWgAADB1AADcHgAAaBUAAOlIAABpjAAAwF0AAENxAACwBAAA6AMAABslAABoQgAAUEYAAFhNAAA8cwAARz8AAAtJAABnQgAA71UAAF9tAADfLgAAT0YAAJtjAADrdwAAY5YAAHNZAABPRgAApDgAAJc6AABeGgAAJiMAANZZAABaRAAAxAkAAE9GAACAPgAA7n8AALosAADYWQAA7ioAADsfAADiHQAAeiYAAERhAAAUaQAANDoAAMQiAAB4HgAAhiQAANQwAABwTwAAaxcAAGsXAAALJwAAswsAAJsPAACQGgAAmw8AAJsPAACgjAAADDAAAKhhAABAHwAAdxUAALZdAACQGgAAY0IAADsfAAAUaQAAfBUAAKgWAABMmgAAJJAAAHwuAACgcwAAfBUAADwoAAAjIwAAEKQAAAsnAAALJwAAL3UAAEw2AABYTQAA2y4AANEYAADiLAAArzYAAJQqAADrVQAAez4AAPQBAAAdQgAACycAABtOAAAzSgAAjxEAAJM6AADDMgAAu10AAEtGAADsLAAAkxEAALtdAACwNgAAaxcAALdNAACIEwAAZDIAANIoAAAeRgAAijQAABRpAABMHQAAaxcAAF8ZAAACOgAADycAAG8XAACUKgAAlzoAAE4MAACgDwAAQkAAANweAABTGwAAIAMAABtOAABnQgAAOx8AALc0AAB3FQAAPEEAAGw+AACUKgAA3oAAAJ5hAACeYQAABCkAAC8RAAD0GgAAOx8AABw+AABCQAAAfC4AAOg1AAC4PQAAkGUAAFMbAAAjIwAAaxcAABclAADQBwAAlCoAAFxdAACyJQAAEEAAAAwXAABTGwAAxzIAADxGAABsPgAAcGIAAIgTAAB8FQAAGGUAAJQRAAB+NgAA43AAAAtJAABPRgAA01kAADQ6AADrVQAAM0oAAKwNAAB8FQAAIyMAAORXAAAoIwAAZDIAAHwuAAAqRAAAAQAAAIJfAAABAAAAAQAAAAEAAAByOAAAqjYAAFo8AABcRAAAHCUAAIxVAACgDwAAaxcAAJQqAACPEQAAlBEAAKs2AAD4XAAAsGgAAHRAAAB4HgAABBAAAOcsAADbqwAAo2EAAANSAAAjoAAA0TAAAJc6AADfLgAAW0QAANceAABfGQAAgxMAADIyAACGCwAAqzYAAM8wAAAwKgAAhGcAAHNpAAC/XQAAqzYAAGNCAADLOQAAhIAAAGQyAAD1KgAAdj4AALZdAAAiTAAAFk4AAD5xAAA+cQAA/lEAAFhNAADsLAAAUC0AAAsnAACrNgAA61UAADsfAABcRAAAzHQAAHwuAACsDQAALGUAADQ6AABUbwAABKYAAOAuAADuKgAAjjoAAJxjAAC+MgAAzzAAANsuAAC8TQAAqzYAAGVCAADMWwAA1EkAADBcAAAUaQAARGEAALxNAACgWgAAd2kAADZCAACnYQAArCYAAKRRAACbDwAAcBcAAKQ4AAAMFwAA1DAAAAsnAAAEKQAAOkgAACdMAADMWwAAHCUAAPQaAAA7HwAAXhoAANpXAAD2fAAAG04AAG4PAAAmGwAA9iIAAF4aAABiKgAAmCEAAKRRAAAUaQAAnGMAAGsXAAC4CwAAoA8AAGQZAABcEgAAYRcAAF8ZAABQRgAAo2EAACdMAACwNgAA5HAAAMx0AAC7XQAAY0IAAAEAAABqGAAA71UAAC91AAABAAAAAQAAAAEAAAAHUgAAS0YAAOgDAAAEQgAAgD4AAJM6AACsDQAAiF4AAJ84AAA1SAAAbGsAAORwAAAUaQAAzHQAALgLAADAXQAAH3cAAHBiAAA0IQAAM0oAANsuAABLRgAASRsAAJQRAAA4GAAAHCUAADhKAABMNgAAjDwAAJQqAAAcPgAAZDIAAOtVAACLZQAAuIgAADQhAAAvIQAAOx8AAN8uAAD0TAAAoA8AAIszAABoQgAAVG8AAHRAAABrFwAA3B4AAPMqAABsOQAAQB8AAGwHAACsDQAAc2kAAJsPAAC8NAAAUEYAALQUAADzKgAAxxAAAPcqAAASFgAAi2UAAJQRAAAXJQAAtBQAAFYTAACPEQAAHD4AAOAuAAA0OgAANDoAAKgWAACRYQAAAXkAANGAAADBWQAACg8AAGSWAABwYgAAW20AAB9FAADIGQAAwVkAAJFhAACRYQAA0AcAAAB9AADcmwAAqzYAAEstAADHMgAA3IIAAJM6AAC7XQAAzzkAAOtVAACjYQAAG04AABtOAAAvKgAARC8AAKs2AADDMgAAu10AAMs5AABfGQAAcJQAAHCUAAB0WQAAvE0AANRJAACEZwAAGC4AAOg1AABXGwAAGHkAANQwAACHPAAAIyMAACR3AAAjIwAAzzAAABclAADoNQAAWE0AAFxEAAB7PgAAzHQAACxlAADfVwAA1EkAADwoAACMPAAATB0AABclAAAEQgAAHD4AAMUyAAAdTgAALXUAAJM6AAC8NAAAV10AACR3AABvQAAAHiMAAMSGAAC/CQAAwzIAACMjAAB0WQAANh8AAKU3AACXOgAAW0QAAN8uAADgLgAAuIgAAKwNAACMPAAABEIAAHs+AACYIQAAvAIAAIw8AAAEQgAAkBoAAOYUAACAPgAAdFkAAAB9AADURQAAMloAAOAuAADoAwAArIoAADyjAABkGQAAjDwAAIYLAADyEgAAljIAAMYqAABAHwAAmw8AAHCUAAAcPgAA4C4AAMFcAAA0OgAAhogAABZxAADrVQAAc2kAANQwAACm1gAAkzoAALOIAADrVQAArCYAAOAVAADsKgAABCcAABwlAAA0IQAA6IAAAAkkAAAoIwAAaxcAAIC7AACsDQAAaEIAAHwVAABYGwAApjYAAP5RAAB2PgAALkoAABgVAABAHwAAFk4AAJQRAACaEAAANCEAAC8hAACXGAAAWyIAAIA+AABjQgAAqzYAADsfAACTOgAAqzYAAHs+AAAbTgAAG04AAJo4AAAPeQAA7CwAACR3AADEIgAAtC0AAKQ4AAA6SAAA9yoAAJsPAACIEwAAV20AAGQZAACbDwAAOEoAAJQqAAB0FAAA3AUAAPdTAADkVwAAdA4AALxNAAAsZQAAUBQAAMDBAABTGwAAAH0AAPt8AACKNAAArA0AAENxAADsLAAA2gwAAG5BAACbDwAAhogAALQUAACjYQAA4C4AAORwAABTGwAAjDwAAFB4AACGiAAAplkAABZxAACm1gAA+CQBAD8fAACyDAAAUBQAAPBVAACMPAAAZkIAABSCAAAgTgAAxzIAAARCAAC/CQAAZ0IAANweAAA4xwAAy4QAAMSGAACMPAAAFGkAAHRAAADbBQAAhzwAAPSXAABEYQAAxzIAAD9IAABkGQAAPA8AAHdlAAC4CwAAfBUAADyjAAD4KgAARgUAAAukAAAeRgAAXBcAAPgqAACrNgAA6AMAAEgNAAAMMAAAYCIAAF8ZAAAjIwAAZBkAAHNpAABcdgAAbIQAAIQcAABmQgAAaEIAAHsVAADwIwAAmw8AAIMTAAAUHgAAxAkAAFgCAAC+XQAAFyUAANAHAADzKgAAcEkAAFxCAACHCgAAP0gAAFQLAADUMAAAMCoAAKAPAADMKQAAjAoAAEgNAAC/CQAAIyMAAGNCAABkGQAAKKAAAFsJAAA7HwAA2y4AAK/WAADufwAAlCoAAJ5hAADmVQAAFk4AAMASAAAQJwAAdL0AAHVpAAD2IgAABkoAAN4mAADeJgAAXhoAANwFAACjYQAAC6QAAKNhAADUMAAAfC4AACADAABvDgAAJwoAAHMOAAB0WQAAlToAANwFAAD8UwAAJhsAAEQWAAAkkAAAvDQAANybAADY1gAAbg8AAFgbAABkGQAAaEIAACMjAADaLwAAK3UAAKhhAACAPgAAu10AAGJ0AABgbQAAzzAAALOIAADyKwAA1EkAAHbuAACRQQAAkmMAANAHAADTWQAACycAAJ7eAAC8NAAACFIAAIGHAABSHAAA6VUAAJ7eAADIrwAACFIAAMx0AAAsTAAAdFkAAMQiAAAkkAAAyK8AACMjAABZZQAAxAkAAGwHAADbLgAAizwAABwlAACzCwAAgFcAAIMTAAC8NAAAyK8AAIC7AADQBwAAlBEAALwCAAAuIQAAXF0AAFsJAAAQJwAAnHwAAMBEAABlkgAAzHQAAETeAACQfgAA5HAAAERhAADgqwAAECcAAApwAAAEQgAAEmAAAGQZAAC0XwAA9iIAAKQfAADcBQAAbDkAAHCUAAAoIwAAlFwAAEAfAADwbgAAHKAAAARCAACeBwAA3AUAAOqzAABmcAAAJyMAAGQZAABsBwAAjDwAAAgHAABDYQAAs3gAAHNZAADzlwAAZDIAAJtjAAB5EwAAGEcAAONwAAByBgAA8isAAA9AAABmQgAAjFUAAA9VAACDMQAAfjYAAH42AABgbQAAFCMAAJM6AACEZwAAIj0AALtdAABAnAAAsAQAAGAiAAA8DwAAmLcAAEAfAAC8TQAAkzoAAORXAABuDwAA8yoAACMjAACIkAAAaEIAABNPAABkGQAAHCUAANceAAAdOAAANkIAAMsHAADwVQAAIE4AABSCAABoQgAArA0AAIxVAAAkdQAADpYAAFvqAADTWQAAlHMAAGnDAADYWQAAOEoAACZ1AADUMAAASHEAANgOAAAcPgAA3iYAAFYTAAAbTgAA9yoAABtOAAA/SAAAG04AALc0AAB/PgAAUMMAAKwNAAAlbAAAFIIAAHRZAACLPAAAvDQAALxNAAB/PgAAwzIAAMYBAQDegAAAirMAAMxZAABkGQAAtHgAAHwVAABBSwAA/AgAAEijAACUcwAA/ygAAE9vAACjYQAAVFYAAPVBAADngAAAAQAAAAEAAAC/XQAAAQAAAAEAAAABAAAAAQAAAAEAAAAsTAAA1DAAAEY2AAC6LAAA61UAANRJAADsRQAAZBkAAOgDAAAUeAAAIMsAALosAADufwAAO3MAAHkTAAAjIwAAoA8AAHhpAABYlgAAWWUAAOiAAACrNgAAqw0AAD5JAAAEQgAAIEwAAFgbAAC+VQAAZBkAALw0AAA0IQAAV5gAADdKAADRLgAA3AUAAHAXAACoYQAA6SAAAIMTAAAyGQAA/AgAAEwdAAAjIwAAdxUAAIMTAADOfAAAyK8AANYGAAAjIwAAu10AAIgTAADE2gAAAH0AAJBlAAB/HAAAjyoAACxMAABWEwAAnzgAAIAMAABvQAAA2A4AAKNhAADcHgAAPx8AAHs+AACfOAAAvDQAABclAAAAMgAARzYAAFddAABvQAAAxIYAAFxdAAB+NwAAsLMAAL5VAABllAAApB8AAFxdAABUCwAAgLsAADyjAADECQAACigAAIAMAACIEwAArEUAACMjAACnEgAAbGsAALiIAAAbTgAAcBcAAEcdAAAjIwAAokkAAEhxAABjQgAAyK8AAOokAADWLgAAgjwAAKY2AAAgowAAICMAABwlAAAeRgAA5HAAAO37AACkOAAAjDwAAGSWAABNdQAA1i4AAIlQAAA/SAAAZZIAABAnAADwVQAAIE4AAERIAAC0XwAAADIAAIMTAAAYFQAAvwkAAOAuAABUbwAAP0gAAKY2AABGRgAAVm0AAD5xAACWjAAABqQAAAakAADWqwAAUlEAAJQqAACUKgAAV0QAAGQZAACUEQAAuAsAADQ6AACYOgAAcjgAAF5lAACehAAAjl0AABgVAABwFwAA/FEAABygAABmOgAA5FUAAA82AABlQgAAmIUAAGNCAABMNgAAuAsAAM8HAADEhgAAcGIAAJAaAABODAAApLUAACgjAABvFwAAmDoAANhZAAAMSQAAiJAAADQhAACTOgAAp2EAAIOQAAC7XQAAcJQAACt1AADwIwAAlBEAAIxVAACUEQAAvjIAAK4LAADWLgAAfpAAAIgTAADUMAAA6iQAAAwXAAAoIwAAXhoAALwCAACMVQAABCkAAAB9AACuCwAAiBMAAMxbAACQZQAAZUIAAMMuAAAeIwAANCEAALw0AABKRwAA1EkAAO89AACcYwAAansAAA4fAABsawAA6IAAAKwNAAA/SAAAdFkAAMcyAAD/KAAAG04AAMcyAAAfTgAAqzYAAMMyAAD4KgAAhzwAAOiAAABkGQAALGUAACgjAABnQgAAY0IAAB5GAACPEQAAi2UAAEAfAADxUQAA6AMAAGxrAACIEwAAY0IAAL8JAACsDQAAvwkAAKhhAACXNgAAuAsAAOAuAAD4KgAATJoAALtdAAA7HwAATE8AAIwKAAB7PgAAZkIAAKAPAADsLAAAlj8AABAnAADDMgAAYhEAADsfAADDMgAA2y4AAJRzAACDEwAAHCUAALiIAABMmgAAXEQAAERhAABSHAAAUBQAAGAJAAAHUgAAVG8AANAHAAD0AQAAvAIAAEAfAAAAfQAAOx8AAFxEAABYmAAArCIAAGgQAACYOgAAmDoAAMgyAAAoIwAAXhoAAIgTAACIEwAAZBkAAARCAAAbTgAAXEQAAOokAACbDwAAECcAAFZtAABXGwAAUxsAAAsnAACDEwAAkAYAAAsnAACOEgAAlBEAACgjAACbDwAAqzYAANsuAAB2FgAAS0YAAJsPAAC4CwAALEoAAC6LAABqGAAAnmEAAHRAAAALJwAA5FcAAGQyAABpTAAAkzoAAO1PAAB9hgAApDgAAJQ2AADYDgAAA1IAANAHAAB4HgAAFW0AAEtGAAB7PgAAFk4AAI46AAA+cQAAPnEAAC5KAABLRgAAmDoAADwPAAAUaQAAdj4AAEgmAAD3KgAAHiMAAOcsAABWEwAAWGYAACt1AADECQAARGEAAPhcAAAzSgAAK3UAAOxFAABcRAAAbGsAAJY6AACeOQAAPx8AANweAAA7HwAATB0AAKAPAACADAAA61UAAMgyAABABgAAaEIAAAYnAABmFwAAiToAAH5oAAAmIwAABCkAAA5tAAAsGgAAhIAAABwlAABLHQAAljIAACiMAABklgAAVG8AAENxAAC7XQAARGEAAERhAADsRQAATDYAACxMAAAzSgAAOx8AAEtGAACrNgAAM0oAAKNhAABIPwAAkzoAAGNCAAAjhwAAU5gAAGNCAABLRgAAUxsAAHcVAABjQgAADicAAKNhAAC+XQAAy4QAABguAAB0QAAA3B4AALosAADDMgAArCYAAORwAABcRAAAuiwAAJM6AADvVQAATB0AADyMAADufwAAoCgAAItlAABkMgAANR8AAORXAACAPgAAPIwAAO8BAABYlgAAm4wAAORwAAA7HwAABicAALw0AABzaQAAuAsAABAnAAAbTgAAUxsAAH4+AABmQgAAnGMAAEtGAABIJgAAjDwAAIgTAADbLgAAiEUAALg9AAB7PgAA3y4AAI8RAABfGQAAaCkAAPgqAACwNgAApDgAACt1AAAbTgAAW20AAH42AACzCwAAfjYAAFttAAB8LgAALyEAADsfAAC7NAAA1DAAAPsYAACWOgAApmEAAB9OAAB/HAAAXBIAAGQyAAB7PgAAbS4AADU+AACkOAAAM0oAALw0AAAEKQAAAiEAACxlAAC8TQAAdmsAAAAZAAB8FQAAkzoAAAQpAABklgAA8mwAAJM6AAD0lwAAMHUAAENxAAANJwAArCYAAHhpAAACIQAAGC4AANhZAADMWwAAHk4AADNKAAB8FQAAjAoAAEwdAACzCwAAY0IAAJuMAABzaQAAY0IAACt1AAABAAAAAQAAAAEAAAABAAAAFE4AAAEAAAABAAAAAQAAAAEAAAABAAAA2FkAAHNpAADDMgAAvgoAANRJAADECQAA+CoAAAwXAADuKgAAzFsAAK42AAA+cQAALkoAAI46AAB2PgAALkoAAM5ZAACsDQAAa5QAAKZZAADUMAAAzHQAAKyjAAAZAAAApjYAAP50AAAjIwAAiEUAAIAMAAB8kgAA7lUAAIRlAABQRgAAcBcAAGRJAAArfgAAaxcAAKoeAAC2XQAAnGMAAL5dAAAudQAAjjoAAC5KAADQIAAAECcAAEgmAABEYQAAXEQAAENIAACOEgAAvDQAAD6cAAD2VAAANkoAAH4+AACuYAAAxAkAAFxdAAAPUAAAfmgAAHRZAABjQgAAxlwAAJ45AAAOUQAAqGEAAJwYAAB8FQAAcGIAALw0AAAbPgAAA1IAAKZyAABjQgAAgxMAANgOAACrNgAAIyMAAGsXAAD/KAAAwF0AAGw5AABmQgAAG04AAKVhAACDEwAAHCUAAJRcAAAzSgAAAQAAAAEAAAABAAAAvDQAAAEAAAABAAAAOx8AADsfAAABAAAAAQAAANhZAABcdgAAaBAAALgLAACPZQAAmw8AAKNhAABjQgAAY0IAAJM6AABjQgAAqzYAAEtGAAAjIwAAaxcAAHcVAABTGwAAvDQAALgLAADYDgAALBoAAIwKAACoLwAACCAAAHNZAABMmgAA7CwAAOAuAADsLAAAREgAALwZAABERgAA/FMAABRpAACADAAAbGkAAPQBAAAjIwAAzFsAAB5OAABmbAAA/moAAJg6AABMBAAAvysAADgYAADUMAAA3AUAAGdCAABUbwAAS0YAAAEAAAABAAAAAQAAAAEAAAABAAAAAQAAAAEAAAAUaQAA8yoAAMMyAAArdQAApg4AAIMTAACwBAAAgxMAAKwNAACrHQAANDoAAJM6AAAUaQAA+CoAAEyzAADzKgAAS0YAAPMqAABTGwAAOx8AAOxFAAC0eAAA/GwAAPMqAAA7HwAAOx8AAEtGAACrNgAAY0IAAJM6AACrNgAAY0IAAGsXAADcHgAAUxsAAGNCAAB3FQAAjG4AAFQ5AAA7HwAAOx8AAEtGAABjQgAAqzYAAJM6AABjQgAAdxUAAGNCAAAjIwAAQB8AAJsPAACsJAAAtwsAAK82AADfLgAApQ4AAKQ4AABMHQAA7yMAAN8MAADcBQAACFIAAOQMAACsDQAAJyMAAKM4AADECQAAfBUAACgjAAA0IQAAvgoAAB9OAADsLAAAqBYAAJM6AADXWQAAYG0AAERhAACYOgAAYG0AACgjAAC4iAAAhxMAAARCAACADAAAHD4AAJgIAACgDwAAnmEAAGwgAADegAAAcBcAAPQBAAA0IQAAXkIAAGuUAACaOAAAJBMAAGgQAABkGQAApjYAALc0AACLZQAAIyMAABslAAAYFQAAtwsAAMMyAAAMFwAA7ioAAHwVAADkVwAACAcAAEtGAAALJwAAUxsAANRJAABEYQAAljIAAFxEAABMNgAAVhMAAIABAAAGJwAAmDoAALwCAADUxgAAOx8AADsfAABLRgAAo2EAAKs2AACrNgAAM0oAAGNCAABrFwAAdxUAAEtGAAD4QwAABEIAAOAuAACneAAAJBMAAIgRAAAQJwAAMloAANRFAABXRAAA9BoAAD9IAADjgAAARgUAAOAsAAA8DwAA+CoAAGdCAAAEQgAAw2QAAF9LAAAbywAAHCUAAJNsAADDZAAAw2QAAGQZAAAMFwAAjDwAAGsXAABUPQAAXxkAAARCAADeAAAAvAAAABclAAB0WQAAbIQAAIgTAADURQAArjYAAGdCAABjQgAAV0QAAIw8AAB8FQAAAVsAAJQqAADcmwAANh8AADxzAAD4XAAATDYAAIxVAACYUwAAFIIAALRfAADIMgAADGIAAEcdAACcYwAAlBEAADB1AADkJQAAgxMAAO5VAABMHQAAQJwAAJ4xAADYDgAAnBgAAIYLAADmFAAAlBEAAAggAAB8LgAAjjoAAL4yAAAUaQAAjFUAAP8oAAA0IQAACAcAACSQAADcHgAAXF0AACMjAABkGQAAiF4AAOQMAACIEwAAAQAAAKAPAABIPwAAAQAAAAEAAAABAAAAAQAAAAEAAACUEQAAJyMAAA8nAABHcQAAMyEAAA8nAACoFgAAAQAAAAEAAAABAAAACycAAAEAAAABAAAAAQAAAAEAAAABAAAA36sAAAEAAAABAAAAMhkAACBOAACsDQAABEIAAGQZAADbLgAAqGEAAERIAABkMgAAiBMAAKY2AAA+cQAA/lEAAHY+AACzCwAAzAAAACZ1AAAWTgAArA0AAJo4AACIEwAA9BoAABgVAABTGwAAZBkAAOBgAAB8FQAAfjYAAGY6AACuLgAAojAAALgLAADNeAAAqzYAAMQJAADUMAAAqx0AAM85AAAvKgAARC8AAKAPAACDEwAAljIAAKY2AADbLgAApyYAAGQZAAAcPgAAFGkAADJzAAB2PgAA/lEAAHY+AAD+UQAAOkgAAM5ZAACOEgAAaxcAAIwKAACkOAAAIyMAAJM6AAA3DwAAqjcAAKwNAAD6LQAAIzwAAEUAAACoegAAZBkAACxlAACUKgAAQB8AAAsnAACLGgAANDoAALV8AAD4KgAANCEAAD4XAAAtaQAAYxkAADNKAABbbQAAC6QAAJwxAAA9kAAAEA4AAIMTAAAjIwAAOx8AAJQRAAAjIwAAaxcAAIgTAAAaHQAASi4AACYbAABDcQAAM0oAAKhhAABDcQAAOBgAAJgIAACTOgAApDgAAPBVAADwIwAAeB4AAOwsAADIMgAA/AgAAKcNAADTDgAAnBgAAIgTAACjYQAAs4gAAJuMAABjQgAAkEwAAPMqAADsKgAAdEAAAHs+AADkVwAAC6QAAKNhAACTOgAA44AAAMohAACsJgAAez4AAEtGAADMKQAA/FMAAARCAACUpwAANbsAAC1pAABPCwAAZjoAAHs+AADrVQAArA0AAB1CAAC3iAAA71UAACl1AADcHAAAFXAAAFYTAAC/XQAAVxsAAKQ2AABlEAAANDoAAExtAACkOAAATAQAAGsXAAAcJQAABxcAAPspAABHcQAAxAkAAOBHAABjEAAA8yoAAJg6AACgDwAAr18AABtOAABzaQAAc2kAAI8RAAAhSgAAZ0IAAK82AAABAAAArgsAACBnAACkOAAABicAAJsPAAB7uwAAsgwAALA2AACYOgAAT0YAAOIEAAC4CwAAQB8AAEw2AACYOgAAhBwAAGVAAAByBgAAlCoAAKZhAABMHQAArxQAANsuAAA0IQAAZBkAADsfAABoQgAAQB8AAJQRAADzKgAAaxcAANQwAACkHwAAcBcAAIyHAAC7XQAAZhcAADsfAACwNAAA/FMAABAOAADTWQAAXBcAAIMTAABTGwAAwBIAAHAXAACoFgAAu10AAKs2AABbIgAAwF0AAGxpAACIkAAA3y4AACt1AAB7PgAA+3wAALtdAABjQgAAMHUAADNKAACDEwAAK3UAANNZAAB7PgAAY0IAABtOAAADUgAAc2kAAKY2AABLRgAAqzYAAEtGAABjQgAAqzYAABtOAABzaQAAT0YAAKNhAADcBQAALEwAAGNCAACrNgAA0TAAAPUqAACDkAAA+3wAAGw+AACEOgAATB0AAKs2AAD0AQAAcGIAAPw4AAA7HwAAyDAAABSCAAAAfQAAfC4AACxlAACMVQAApFEAAEwdAACziAAAeVkAAAlCAAAhPgAAdj4AAD5xAAAuSgAADycAANQwAAAMYgAAZhcAAOxFAABkGQAA1EkAANEwAABlQgAAsDYAAGNCAABLRgAADScAAPxsAADcHgAAkzoAAARCAABkGQAAjFUAAARCAADEIgAAXF0AAJQqAAC0XwAAqGEAACMjAACUKgAA1EkAAHRZAACkUQAArCYAAHRZAADkVwAA6SwAAOWAAAAWTgAAnmEAALgLAACMPAAAQ3EAAJo4AADeJgAAWWUAAKwNAABMNgAAdEAAACxlAACQZQAAfJIAAOBHAADUSQAAhmUAAAg+AABAHwAAvE0AADQhAAB0QAAALGUAAKNhAAD7fAAAcJQAAKAmAADsKgAAREgAAKwNAAAcJQAAdEAAAJM6AACWMgAAmGwAAMx0AABEYQAAejUAACt1AACEgAAAW20AAHNpAAAbTgAArFYAAHcVAAARYQAANB8AACMjAADnAwAAUxsAAFRtAAAzSgAAwzIAALiIAAAAGQAAi2UAAEQWAACYOgAAABkAAGhCAAA8owAAsDYAAMcyAACvNgAA5ywAAN8uAAD3KgAA71UAAN8uAAA3SgAAPx8AAGdCAAD3KgAAxzIAAA8nAADfLgAAuCIAAHs+AACeBwAAS8MAAP5qAACMPAAAHD4AAMSGAADYWQAAQB8AAGuUAADbLgAAO5wAADARAADTWQAA5FcAAIxVAADIMgAAu10AAERhAADMdAAAUEYAAFxdAADMdAAAqzYAAJQRAAB+NgAA4C4AAJIJAACyDAAAwzIAACQTAABXRAAA8yoAAGdCAABkGQAAUxsAAANSAABWbQAAJ0wAAGBtAACMIwAAse8AAGsXAAAzSgAA31cAALw0AABTGwAAM0oAACZ1AAARYQAArpIAAPVcAAC8NAAAMHsAAGyEAACkOAAAS8MAAI4SAABlQgAAoCYAACxMAAA7HwAAOx8AAKwNAAAIUgAAdFkAAKs2AABjQgAAo2EAAGNCAADIMgAAY0IAAJM6AABjQgAAUxsAAEtGAAB3FQAAaxcAAJx8AAAQiwAAEIsAAJx8AACTOgAAgjoAADhKAAB0WQAAT0YAACMjAAB+EwAAuAsAAMQJAABrFwAAaEIAAPxTAABOPgAA/FMAAJQRAABESAAAvE0AAIJBAAAoIwAALyEAAFgbAACwNgAA71UAAIeQAACXOgAAxCIAAF9tAAAIIAAA4C4AAJBlAADcBQAAV5gAAKQ4AABHcQAAM0oAAEwdAAAvIQAAdEAAAJ+MAAAYeQAAH04AAJxjAAA7nAAAzHQAAKyKAAAzSgAAaxcAAPenAABjQgAAWBsAAHg3AACaEAAAi2UAAPspAACHPAAAd2kAAGxpAAAzSgAAfz4AAGtrAACYqwIA2FkAAGSWAABTGwAA9yYAAHwVAADYDgAAL2wAABwlAACTOgAAzFsAALMLAABIDQAArA0AAJgIAABSXQAAaxcAAIRnAACQZQAAOx8AAJM6AABUCwAAghQAAJc6AACIEwAAOx8AABguAAC8TQAAECcAAGgQAADk1AAAxAkAAOQMAAAuSgAAFgIAAHRZAABZZQAA/FMAALAEAAAzSgAAkjsAALA2AAB1aQAADycAAIw8AAAsZQAAzHQAALxNAADUSQAANDoAACMjAACADAAAC3sAABwjAABMGwAA+ykAAGQyAAC8TQAAqGEAAFBGAABrFwAA5HAAAD8fAABEYQAAxAkAABRpAAA7HwAAuiwAAJO3AADLIAAAiEUAAAEAAABMNgAAEA4AAI63AABQRgAAFB4AAD8fAACEZQAAfz4AAJQRAABkSQAA8FMAAFttAABLRgAA7zMAAHNpAAC4CwAACigAAKwNAAD3UwAAB1IAAOxFAADAMAAAW20AAOOAAADDrwAA3B4AAFMbAABrlAAAt2YAAMuEAAALJwAAw68AACMjAAAaNgAAoA8AAJoQAAD+EAAAuAsAAKs2AAA8jAAAfBUAAKQ4AAAsTAAAcBcAAHAXAABIDQAAahgAAJZkAADgLgAAZBkAAAsnAACwNgAAHCUAAAFbAABQRgAAPHMAABTNAABvJAAAb3sAAFc0AACL4gAAkBoAABAOAAD4EQAAQ3EAAJg6AADbLgAAqzYAAANSAADwVQAAVAsAAHhpAABkMgAApDgAAHAXAACrJgAAMx0AAEIWAAAHFwAArIoAAOcDAACmYQAAnjkAALBNAACZHQAAXRIAAEIWAAAQJwAAPx8AAE8tAACnDQAAsDYAACxMAACIEwAAjAoAAMaEAAA1SgAAvE0AAEgNAABMHQAAECcAAEwdAABklgAADicAAL5dAACWOgAApmEAACiHAABgCQAAUMMAAPt8AAAjIwAA9BoAAFMbAADLEAAAeGkAAB4jAAAEQgAA8AoAADsfAABLRgAAOx8AAGMZAABjQgAAkzoAAGNCAACrNgAAdxUAAFMbAABrFwAAIyMAAE4MAACuLgAARx0AABclAAC1KQAAsTIAAIAMAAAXJQAAwzIAALxNAAAUUAAAc2kAABo2AABrFwAA8yoAAGNCAACXOgAArzYAAOxFAAC4CwAA3iYAAGIqAACziAAA61UAAGQZAAAWbQAAwzIAAJZUAADsLAAA5HAAAKd0AABgbQAAZDIAAF+ZAAC8TQAAT3AAABmgAAC8NAAAR3EAACBOAAC3BwAAkzoAAPMqAACTOgAApDgAALA2AAA0OgAAwzIAAARCAACvNgAAghQAANQwAABOYQAATR4AABJIAABcRAAArFYAADcxAADcHgAAN0oAADNKAABkMgAANDoAAK42AACOZQAAkzoAAMMJAACMCgAAXEQAALgLAADvaAAAJAEAAO0AAABfGQAAqzYAAJ84AABrFwAAkzoAAKYOAAAsTAAArA0AAB0hAACzKQAAljIAAItlAADGMgAAAQAAACMjAAAEWwAAlCoAAHNpAAAbTgAAQB8AABd5AAAEQgAASHEAADBDAAB+aAAA3y4AANsuAAAOagAAqzYAAN8uAABQFAAAiBMAAHgeAADzKgAAqzYAAENxAADeJgAA01kAAGsXAABrFwAAIyMAAAsnAACrNgAAqzYAAMgyAAD2nwAAYCAAACAcAABjKQAA5HAAACxMAADWRQAAnmEAACZ1AACEZQAApDgAAKQ4AAA4GAAAxCIAACMjAAAOJwAATB0AAA6kAACEZQAABCcAANhXAAA/nAAAhGcAALA2AACoegAAe7sAAEcdAABrFwAAxzIAAJc6AAA0OgAAK3UAAPSXAABwFwAATB0AADgYAADECQAA3iYAAJc6AAA0IQAANCEAAPdTAACGJAAA7CoAAMhkAADBOQAAaWkAADQhAACCQgAAdD4AAOQ8AADkPAAAoA8AAPMqAAB9PgAA7CwAAP50AAB9EwAAZjoAALw0AABoQgAAE3kAAISAAABUCwAA9BoAABtOAABuaQAAfBUAAGQZAADTWQAAxAkAAIgTAAC4CwAA/AgAAGRpAAC/WQAAJBMAAAwXAAA8DwAAjhIAAMQJAADgLgAAa5QAAEQWAABdEgAAPx8AAHsuAAC4PQAAqyYAAHsmAABCFgAAMx0AANAHAAAsTAAAFFAAAGxrAACkOAAAJBMAAKwNAACEZwAAzFsAAMIaAAB8FQAAJBMAAJsPAACwNgAALEwAALgLAACIEwAAwF0AACAcAAD4KgAAswsAAJVbAAA7HwAAu10AACtlAACGiAAA3y4AAJc6AABwFwAAgCUAALiIAACUKgAA1EkAAGhCAACUEQAAlzoAACQTAACgjAAATB0AADwPAACuNgAATkYAAGNCAAAeRgAAkzoAAAZKAADGMgAAjFUAAAB9AABsBwAACCAAAPQBAAAbTgAA2y4AAFMbAAAbTgAAV0QAAMMyAABTGwAA2y4AANNZAACrNgAAS0YAAGsXAACsDQAAfBUAACQTAAAjIwAAaxcAADQhAAB0QAAAZDIAANdZAADQhAAA5FcAAIwKAAAjIwAArA0AAKgWAAD0GgAAxzIAALiIAADw0gAAW20AAHwVAADQhAAAsDYAAHwVAACgjAAAhBwAAERIAADsqQAA0IQAAFxEAADzKgAAs4gAAPMqAADTWQAAXhoAAH4TAACDEwAARx0AAP6DAAAzSgAALEwAAJQqAABklgAARyYAAPYiAAC7TQAA9iIAADwPAABOwwAA2A4AABwlAABMmgAAiBMAAOokAAACIQAAPhcAAAsnAACoYQAAKCMAACQTAADOGAAArhUAAKYOAABUCwAAxioAADsfAAD8bAAAVhMAAKsJAABWEwAAExUAAMMyAAD2IgAAaxcAAGsXAABrlAAANLcAAARCAAAWTgAAlCoAANA5AAAKDwAAGC4AAC5tAAA2QgAA7k0AANZZAABeGgAAAiEAAAIhAADSKAAAIyMAAKY2AAAfTgAAe2AAAK82AADUSQAAlBEAACYbAACMVQAANCEAABCLAABmOgAASCYAAIgTAACziAAAyiEAAMMJAACkOAAArxQAALxNAACUEQAAlg8AAP50AACeYQAAxoQAAFxEAAAsGgAAUxsAADsfAAAcJQAAuAsAAARCAADYWQAAkBoAANQwAADkcAAApDgAALc0AABYMgAAgAwAAF4aAAArdQAABCkAAGhbAACjYQAABEIAAL5DAACMOgAAwzIAACt1AACoYQAAdA4AAJwYAABeQgAAfC4AAOwsAAAIUgAAFGkAAIRnAACbQQAAglUAACxMAAArdQAAdWkAAGsXAACtNgAA9BoAAMMJAAAXJQAAwQkAAMMyAAA7HwAAIyMAAL8JAABTGwAAUxsAAMEJAAAsZQAATJoAAGsXAAAbTgAAwwkAAMMJAADuKgAAeiYAAO4qAADbLgAAdEAAAEijAAD4XAAAY0IAAHVpAACUEQAAK3UAACBOAACUKgAAOMcAAHVpAAALJwAAW20AAPMqAADHMgAAi2UAAAoPAACDkAAApDgAAIhFAAA+FwAAVhMAAEoVAAA+FwAAd5IAAJgIAADzpwAA5iEAACMjAACjYQAAFFAAABwlAABTGwAAnHwAAFSIAAAnVQAA5zUAAI9lAABXTQAAh0UAAIRnAAAUaQAAHAoAAJg6AACyDAAAK3UAANweAAA2QgAAMBEAADsfAABMNgAACycAAMMyAAAbTgAAOx8AABw+AACuLgAA+FwAAGsXAADAXQAAK3UAACQsAACbQQAAqzYAAHdHAAB7PgAAwBIAAHwuAAAVdQAAYIYAAAAZAAB+NgAA5FcAAORwAAAMeQAAzHQAAARCAACsDQAATJoAAFBGAABoQgAAaEIAAKgvAAC8NAAA8iEAAHoNAABUJAAAAQAAACt1AACYIQAAyxAAAKsdAADLhAAAM8cAAGsXAABfGQAAEU4AAHo/AAC4PQAAOx8AAIgTAACCVQAAdhYAAKM4AADTWQAAsAQAAKwmAACTOgAAuiwAAJhTAACDkAAApDgAAKgvAACjawAAkzoAAJM6AACkOAAA7CwAAAsnAACoYQAAu10AAPMqAAALJwAA8yoAAMMyAABEYQAA5HAAAFttAAAcPgAAu10AAL8rAABMHQAA9AEAAPw4AAAQJwAAcBcAABA+AADcHgAAi2UAAFBGAAAqRAAAXEQAAA4fAAByOAAAznwAAH42AADkDAAAJwoAAFQ9AACLZQAALpcAAHS9AADcHgAA5AwAAEgmAABlEAAAaxcAAGQyAAACIQAArCYAAFiYAACTEQAAoDIAAIIUAACbDwAAKnYAAIAMAADAEgAAmDoAAMgyAADuTQAArAsAAAx7AADcHgAADycAAGsXAAD7fAAA8W0AADxzAADzKgAARGEAAEw2AABYLgAAK3UAALosAADjJQAAahgAAFQLAAA7HwAAcBcAAEEbAACJDwAAsTIAAKQ4AAA5RgAAaT4AAANEAAAFJQAABCkAADlGAABRQgAAfREAAOEqAABBGwAAaxcAACt1AABAHwAAgxMAAGsXAAAjIwAATB0AACR3AABovwAAREgAAG08AAB0QAAAzFsAANQwAADEIgAACIQAAJBlAACsDQAArA0AABw+AAB9PgAAJwoAACcKAADtVQAArA0AANNBAADfQwAA4C4AADxzAAALJwAAs4gAAJuMAAADUgAAu10AAGsXAABTmAAAOx8AANsuAAC/hgAAeB4AABZOAAAKBQAAVG8AAKwNAADbFQAAT6oAAG1vAADQhAAAwF0AAGwyAAC3FAAAUxsAAKwNAAA4DgAADh8AAFSIAAAkdwAAtxQAAOYeAABvMgAA/lEAAFA2AABvMgAAbDIAAPMqAAD8UwAAAlMAAERIAABoEAAA1DAAAHAXAACjYQAAdV0AAJgIAACkOAAAGC4AAIs8AAAHewAA4VUAAItlAAA7HwAAHCUAAItlAAB6OgAA/FMAAN8uAABcXQAA7EUAAN8uAAA3SgAALBoAAPMqAAB7PgAAHUIAANwFAACsDQAAxTIAAD8fAAD3KgAAxzIAAMcyAADLEAAA3AUAAOtVAACrNgAAaxcAAA1CAAAEKQAAiBMAAJ8PAAAcCgAA2y4AAHwVAAAqOgAAxCIAANsuAADKUwAAoA8AAO5NAABAHwAA4BUAANAHAADECQAAyggAAJM6AADgLgAA2y4AADsfAACrNgAAUxsAACgjAADECQAABEIAAGMZAACwHQAA7CwAAE5XAACwNgAAjAoAABh5AACsDQAA/ygAAPMRAAAjIwAA4gQAADSeAACUXQAAnBgAAPgqAAB4HgAAJBMAABw+AADcggAAwF0AANRiAADzKgAAqC8AAMgyAAC8NAAAIgsAAKAPAAAYeQAA6AMAAMQJAADkcAAASCYAABtOAABfIgAArx0AAGsXAADkDAAAv10AAGuUAACQZQAAHCUAACMjAADOMQAADScAAHRAAADLhAAAc5QAAGQyAABMBAAAA1IAACt1AAAbTgAAQB8AAPBVAAAbTgAA3wwAAFpEAACUEQAAZDIAAAwXAAA/HwAAVxsAAG8XAADDMgAAIyMAAGsXAAD4EQAAG04AABtOAAABAAAAO5wAAENxAABwSQAAzlkAADZKAADXbAAAY0IAAItlAACmDgAAREgAADEhAADzKgAAY0IAANNZAABbbQAAG04AAIw8AAA0IQAAkzoAAJBlAADIfQAAiBMAAEwdAAC4CwAALm0AANbWAAC8TQAAgAwAAAgHAAAAMgAAyDIAAMBdAAD3MgAAyI4AAOtVAADkDAAASW0AAHs+AACLZQAAG04AABtOAABbRAAAVhMAAJQRAAA0IQAA9JcAAFxCAAA/HwAABCkAAHwVAAAnIwAAQJwAAMMyAAAbTgAA7EUAALQUAAC8AgAAAH0AABguAAB+EwAA0jcAADYfAADaPgAA1i4AALV5AAAqIQAA1i4AAMBdAAAgTgAAW20AAJBfAQCfOAAAdEAAAMdbAABUbwAAQB8AAENxAAAmdQAABCkAAO4qAABvFwAASA0AAIdBAACgDwAAdWkAAERIAADUMAAAdEAAAAS/AACzCwAAYAkAADpIAABTGwAAm4wAAORXAABLRgAAF3UAAFOYAABnPgAAOx8AAAdlAADQBwAAlBEAAGuUAACUKgAAzzAAABN5AAA0IQAAMHUAAKwNAACyDAAAcBcAAJQRAACUpwAAxAkAAKmIAABpaQAAKUoAAIJCAADIrwAA/lEAAAjFAAC4CwAA8FUAADkwAADbLgAAbGsAAGuUAAB8FQAAez4AAMQJAACUEQAADHsAACxMAACLZQAAuCQAAD8fAADDMgAAG04AABtOAAAYTgAA5FcAAHY+AABOGwAA1i4AALI0AAC4JAAACAcAACZNAACUEQAA7CwAAKyKAABfGQAAEU4AAPBVAACzCwAAwzIAAEtGAAARTgAAWBsAAJiRAAA8cwAAfUIAALOIAAAzSgAADh8AAPYiAAD2IgAAU5gAAJg6AAA7HwAAizwAAO37AADwCgAAJhsAAAQpAAAcIwAAXmUAAI63AABQeAAAtF8AAPkQAABESAAABEIAALBoAADogAAABVAAAA8nAADkcAAAjo4AAPuNAABYmAAApo0AAAr6AACsDQAAuNwAAFxdAABfGQAAVG8AAPBVAABkMgAANJwAABh5AABwFwAAwzIAAGQyAABcXQAAzHQAAERhAAA8cwAAFGkAAHs+AABcXQAAaEIAANAHAAAjIwAAgxMAANhZAABQRgAADHsAAGQyAAAgywAA5iEAACMjAAAOHwAAVOoAAMxZAAB8dwAAxGsAAIRlAAAoIwAArG8AAFxCAACcYQAA7BMAADBPAACcSAAA/FMAAIw8AAC2AwAALiIAAKwNAAA8GwAA4C4AACt1AAAjIwAAUxsAAKwmAADIGQAA/nwAAMIzAADECQAAHD4AAC51AAC7XQAAhIAAANQwAAAcPgAAZBkAAFxdAADcHgAA5AwAAGQyAABkGQAAKKAAAKMWAAA8cwAA9iIAAN4mAAAOHwAApGoAAHRAAACIEwAA5HAAAKs2AAC03AAA9BoAAPxTAABoQgAA3B4AAPBVAABwFwAAOkgAAB4UAACyDAAA3IIAAEAfAAD+EAAAA88AAFMbAAArdQAAREgAAFxEAADzKgAADycAAFAUAABYGwAAUEYAAOgcAADGMgAATB0AAEwdAAD3MgAAnGMAAGNCAAAbTgAAxGsAAIRlAAC43AAAcJQAAC2yAABLRgAAlCoAAGNCAACYOgAAVUgAAIpNAADrVQAAQ3EAAIwKAACDEwAAmw8AAPgqAACjYQAAdxUAAMdbAABraQAApmEAAMMyAACmYQAAv1QAAJM6AAB2aQAA01kAAFZ/AADHWwAAdmkAAH9nAABDWAAABlkAAM6uAAAmGwAAY0IAAIc8AACcYwAAdxUAAJQRAACeYQAAZkIAAD4XAAA7HwAAY0IAAN6AAAC2NQAA5i0AANwFAADDMgAAqHoAAJRcAADrVQAAc18AAEUVAACyJQAAqz8AAERIAABTGwAAnwsAAMgyAAAAMgAAXEQAANQwAACTOgAAxzIAAOtVAADDMgAATkYAAAZSAAAGUgAATkYAAP58AAC8TQAATB0AADZ0AADoNQAAUxsAAIYLAAALJwAAOx8AAGwyAABwFwAASxYAAPoaAADzKgAAVIgAAGsXAAAjIwAAaxcAAMQiAAD+fAAAzzAAAAB9AABgbQAArA0AAL4yAABORgAA81wAAHwVAAADIAAApDgAAOwsAAC7XQAAA1IAAJg6AACwNgAA61UAAIeQAACHJgAA9EwAAGsXAACvNgAATJoAADwPAACYOgAAahgAAFtEAACkHwAANB8AABCkAAAjIwAA4gQAAPw4AACjYQAAxAkAAAZSAAC6OQAAtBQAAHwVAADzpwAANB8AAFRtAABESAAAlBEAAHwVAABTmAAAWAIAAMQJAABIDQAA2y4AAFcbAADzKgAAbDkAAA4fAABuDwAACFIAADNKAADDMgAAez4AAENxAAAzSgAAM0oAAFFtAABjQgAAG04AAEtGAABESAAA6AMAALQtAAB0WQAAZDIAAOxFAADUMAAA61UAAFttAAB0QAAAWDIAAGyEAAD3fAAA1S4AAI8qAACUKgAAM0oAAE9GAAB+PgAAijwAALQtAABORgAAuAsAAORXAABcRAAAkzoAANQwAAC4CwAAZBkAANweAAB8FQAACQAAAME5AAApSgAAgkIAAO8zAADoAwAAzFsAAAQnAABUCwAAPx8AADsfAAAoCgAAc2kAAHeSAABLHQAAsiUAAGQZAABFFQAABEIAANweAAAMSQAAIyMAAG4PAACMCgAAnmEAAJ5hAAAEpgAAZDIAAOAVAAB7PgAAlBEAANNZAAB8FQAAJBMAAMxbAABUCwAAdxUAAFgCAAArdQAAYiAAAH4TAAAqIQAAxgcAAFYJAAA0IQAAakAAADJzAABMNgAAOkgAAM5ZAADOWQAAIyMAACMjAABmOgAAdFkAANhZAACYbAAAri4AALY1AADWUQAAZjoAAMMyAAAcJQAAfBUAADsfAACDEwAA7CoAALA2AAB7PgAADHsAADSFAABfGQAAECcAACgjAACTOgAAUhwAALw0AACgDwAA6AMAAC9sAAA0IQAAmDoAAN4mAADQBwAAOx8AAHs+AABbbQAAY0IAAHwVAAAkEwAA1gYAALAEAACvNgAAMyEAAN8uAABQRgAA3y4AADdKAAA3SgAAXF0AAAhSAABTmAAAyGQAAPinAADTWQAAfBUAAPcqAAD3KgAAxzIAAIgTAAADUgAAkzoAAMMyAACTOgAA86cAAKs2AAB0PgAA3y4AAD8fAACUEQAAJyMAAKwmAAAiCwAAuIgAANhZAACwNgAAjDwAAL5VAACsDQAApjYAAEgmAAAjIwAApTYAAHo1AACHEwAApDgAAHs+AABbbQAANRgAALgLAAAAewAAAykAAHwuAAD+dAAAZBkAAHQOAADoTgAApDgAACgjAACsDQAAzFkAAIgTAAAIaQAAW20AALEyAAA0HwAABEIAAJM6AADDMgAAkzoAANweAADQIAAAgxMAAGY6AACcSAAAi2UAAFxdAAB0WQAAzHQAAEIdAACcYwAA+CoAAEAfAADSWgAAoA8AAGQyAADcmwAAS0YAALgLAACsDQAAyjAAAB4jAABbbQAA8FUAAHomAAB8LgAAS8MAAOgDAACmDgAAhxMAAHNVAAA2QgAApB8AAGsXAABrFwAA6AMAAJSOAAD4XAAA2hYAAKwNAAB+NgAAbg8AAPxsAAC3NAAAmDoAAHRZAACUEQAAqQ0AACgjAADkVwAA+CoAACMjAAAoCgAAlg8AANAHAADGKgAAPx8AAAMpAACkOAAA3iYAAMEJAADcHgAAA1IAAJM6AACrNgAA8AoAAOhOAADwVQAA7CwAAHwuAABrFwAACGkAAEtGAACehAAAZDIAAOQlAADbLgAAwzIAAJxjAAAwKgAA4gQAAJQRAAAPIwAAfC4AAMASAADbLgAAlCoAAPMqAAAcTgAAECcAAOtVAACOEgAAkGUAAJQRAACsDQAAEKQAAJOvAACMPAAANCEAAFxEAAB0WQAAiJAAAPxTAADQBwAA3iYAADQhAAD4KgAAaxcAACiHAADMdAAA8yoAAHwVAAAkEwAAjDwAAHAXAAABAAAAiBMAAHwVAABMmgAAxAkAAD4XAABjQgAAez4AACMjAABODAAANCEAAMQiAACMPAAATDYAAKs2AACYbAAAeGkAAMoaAACgDwAAmw8AAAEAAAABAAAAAQAAANjWAACkOAAA9zIAAHAXAADOMQAAQg4AAJM6AAB0WQAAA1sAAE9GAABfbQAAT0YAAF9tAADEawAAG3AAAHNyAABDYQAA85cAAJtjAADHMgAAB1IAAEc/AACrNgAArA0AAOwTAAAPJwAACycAANEwAABcwQAAFGkAAEyzAADsRQAA/GwAAMQJAABkGQAAwBIAANStAACEZQAAdj4AABZOAAAuSgAA5lUAADwPAAA6SAAAUhwAAL5VAABEHQAARQ0AADcfAACsKgAA8FUAAAhSAABMHQAAuIgAADZCAAAwdQAA1DAAAGwHAAB4HgAAeLQAAEwdAAAkkAAAVG8AAFMbAAA6IAAA2y4AAFMbAACrNgAAez4AAAYnAACoYQAAdEAAAOAuAAC4CwAAeRoAAKQ4AABAUQAAShUAAIo0AABMaAAAoHMAALgkAACiSQAA1EkAAGY6AAD8UwAAzHQAAMx0AACzCwAAZBkAAHRAAAAgTgAAFxUAAIAMAADEIgAAPHMAADsfAABTGwAAMCoAAGh0AAA+YgAADBcAAM4xAADMEAAAbxcAANhZAAB8LgAAZjoAACcjAADxQQAATwsAAJM6AAC8NAAA86cAAJM6AAB0vQAApSIAAOg1AADoNQAAkzoAAOhOAAD0GgAAKhIAAJc6AACMCgAArA0AAPMWAAAIUgAAtBQAAGY6AAAEKQAATB0AAJQRAAAIBwAATJoAADQ6AAC+MgAA1gYAALw0AACwBAAAkREAAL9ZAAAEKQAAxCIAALuvAAB6PgAAv10AALx/AAA+EgAATDYAAGBtAABrFwAANDoAALgLAAB5cgAAkgkAAAEAAABMHQAA7n8AAIxVAADbcgAAQB8AAMBdAADECQAAwzIAADsfAADGMgAAv1kAAEwdAABkGQAAXBIAAFxCAABoQgAAHD4AAJQRAAB8FQAAYCIAAJYPAAB8LgAA3B4AAKAPAAAAlAAAAjoAAIYLAACEZwAAyggAABZxAABOPgAAjl0AAIw8AABGRgAAjkQAAGcgAACsDQAAgAwAAHwuAAB8LgAANCEAAEwdAAB2PgAApjYAAGYXAAAuSgAAFk4AAAxiAADkVwAA0JMAAOZGAADfFQAAlBEAAJBlAADgLgAAAjoAAGSWAABoQgAA9JcAAJo4AACeYQAApAYAAHRAAABcQgAAnGEAANYfAABcRAAAqh4AAIgTAAB8kgAAZDIAACA1AAD0GgAAJBMAAFZFAACYtwAAZJYAAMQiAAAwTwAAlFwAAHdpAADMdAAAoIwAANsuAABuDwAArA0AAItlAADzKgAAPHEAABRpAAA0OgAAKCMAAChuAAB8FQAAZBkAAD5iAACgDwAAPHMAAHM8AABGRgAAeAUAAOiAAADcmwAAY0IAAFlJAABmFwAABicAAKQ4AACziAAA2y4AAJM6AAB7PgAA2y4AAIMTAADMWwAAHk4AAO5VAACWOgAAqGEAAIA+AACAuwAAfC4AAOxFAADTLgAAiBMAAFxEAAAoIwAAmw8AABtOAACLZQAAfKsAABw+AAD0fgAAqHoAAJQRAADsLAAAQg4AAJg6AAAUggAAIBwAAGsXAADbLgAAQg4AAPQBAAAMFwAArA0AAJSOAAACOgAAvE0AAHRZAADsRQAATj4AAMQ7AAANJwAA+hkAAPAKAABIJgAADh8AAN0uAAAWMQAA71UAALYcAAC8NAAA/GwAAPxsAACcfAAAP0gAAJM6AACuMgAAD1AAAOwsAACTOgAABCkAAKNhAADmVQAANpwAAGpAAACqXwAAJnUAAN4mAAALJwAAVxIAALw0AACmYQAApjYAAE4bAADWLgAABicAAIBXAAB2aQAApDgAAHs+AAAudQAAaEIAAPxsAAAUUAAAkBoAANQwAAB+PgAAjmUAAPSXAAAmmAAADlEAAJI7AAAeTgAA2NYAAGNCAAAGJwAAdj4AAO4qAABiQwAAlFwAABslAAB8LgAAjFUAAFxEAAD2KgAArjYAAI5lAACIkAAA6lYAAMx0AABQRgAAFk4AAKZhAABmQgAAljoAALQUAABUbQAAPHEAAOhOAAAEdAAABEIAAHyrAACwNgAAfC4AAHAXAAAsTAAAA88AAHAXAAC0XwAAlCoAAO4CAAAEKQAAxAkAAG5pAABESAAAzFsAAEQWAAAoIwAAKAoAAMdbAAD3UwAAlBEAAHwVAACwBAAAuAsAAK9fAABoaQAAwzIAAAwXAAAAMgAAAykAAPQaAADzKgAAfBUAAIgTAADYWQAAlBEAAJhsAACYOgAAIMsAAFAUAADsLAAAexUAAPQaAACOEgAAfBUAAEcdAAAcPgAAlCoAAP9jAACYCAAAxAkAAJhsAACsowAAdA4AAN8uAADegAAABKYAANQwAAD0GgAA2FkAACMsAADAXQAAVWQAACt1AABklgAAHCUAAAEAAADzKgAADBcAAKwNAAAIHgAAbGkAAPxRAADHWwAAIyMAAGtpAABYGwAAHCUAAKwNAADzKgAA6lYAAO5VAAA2SgAAE1AAAPBVAAA7HwAAmw8AAPdTAADcHgAANw8AALcLAABoEAAAo2EAADIZAAB7PgAA70wAAGxrAACMPAAAS0YAAFhwAAAbTgAAIyMAANRJAABcdgAAU5gAABSCAAA0IQAAeg0AAAhSAADkVwAATwsAABgVAADsLAAAOx8AADNKAABIcQAARQAAAL8JAABESAAAmFMAANNZAAB7PgAAdFkAAEAfAAAbywAAo2EAALYcAACmDgAAri4AACYbAABwYgAAVG8AAKwNAABoEAAA2NYAAJhsAAB0WQAA8yoAAIc8AADHMgAAD1AAAJM6AAAnIwAA2zcAANdZAABMHQAAVAsAABwMAADDCQAANDoAAJwxAABrFwAAPCgAAEwdAADQBwAA/DoAACwaAACTOgAA5HAAAMx0AAAEQgAAgD4AAHwVAACwBAAAookAACbKAAB8FQAAKCMAAGY6AAAMFwAAfBUAAP50AABg6gAADBcAAEyaAAB8FQAA/AgAAKRqAAByBgAAfBUAABQFAAB8FQAACh4AAIMTAAB8LgAAV0QAAAsnAABklgAA3IIAAHySAADYDgAArA0AAPgqAAD4KgAAnGMAABN5AAArdQAAK3UAAPdTAAAbTgAAwzIAAKNhAAB7PgAAY0IAADR0AACjgwAA4C4AAOwsAABkMgAArA0AAARCAAAcIwAAwzIAAGQZAADzKgAAA1IAADB1AABLRgAAfEcAABw+AACTOgAAHD4AAOxFAABoKQAAJyMAAHRAAAD3SQAA9VwAAPYiAABlQAAAWE0AAEoVAADDMgAAaBAAALgLAAA2HwAAj0MAABwlAAAgTgAAUxsAANsuAABTGwAA+BEAACcKAAD0oQAAtF8AAMASAAAkEwAAWBsAAMQJAACGiAAABxcAAFMbAAAiIwAAMHUAAARCAABbbQAAECcAAIgTAADEIgAAUEYAANwFAAAMFwAA9BoAAFBGAABAHwAAo2EAANRJAACrNgAABEIAAFgbAACXOgAALBoAAGw5AADkpwAARnEAADQhAADGKgAA8YYAAGNCAABjlgAASsQAAFRWAAB8FQAAJBsAADhKAADDMgAA86cAAIw8AAA9HwAAmR0AAMsgAAD7KQAA6E4AACt1AACWMgAANDoAAKwmAAB/PgAADBcAAJAaAAAwdQAANDoAAOxFAAA0OgAAHD4AADQ6AADsRQAA9BoAAPYiAADoAwAATDYAAKwmAADqJAAAKkQAAOokAACUEQAAxAkAAAZKAAC4CQAAsDYAAMSGAAD0YwAAECcAAFYTAAAMFwAAqBYAAOgDAABYGwAAqzYAAFdEAACgDwAAXhoAANwFAAAcJQAAN0oAAMhLAADmFAAAJhsAAGAiAADgLgAANCEAANAHAAB8FQAAECcAAK4uAAAeRgAAUBQAAN4mAABkGQAAwBIAAHwVAABWEwAA9H4AADQ6AABMHQAA6iQAAM+AAAAaJQAAMiEAAFttAADzKgAANCEAAPAKAAC8TQAAuAsAAGQZAAAEQgAAri4AACsaAABkMgAAlCoAADgYAAD4KgAACycAABN5AABjQgAACycAALtdAACrNgAA8yoAAGNCAABLRgAA61UAAJM6AABjQgAAqzYAAHs+AACAJQAAS0YAAENxAABzaQAAu10AAKs2AADTWQAAS0YAAJc6AAAkAQAA7QAAAJAaAABjQgAAdxUAAI9DAABQRgAAZDIAAORwAAC8TQAAA0gAAARCAADkcAAApDgAAAAyAABESAAAqBYAANQwAAAYLgAAaEIAANEwAABMHQAAoEEAAJ4HAABzBQAA5HAAAJQRAABAHwAArA0AAKY2AACEHAAABEIAAJi3AAB7kgAA72gAACQBAADtAAAAX20AAIxVAADQBwAA4C4AAGQZAAB9PgAAtC0AAKs2AACYOgAAjDwAAHs+AADzKgAAdEAAAIWQAABlQgAAWBsAAN0uAADlgAAA1VkAAIgTAACoFgAAZhcAAKY2AAD+UQAA5lUAAJo4AAAWTgAAokkAAOY8AAC4JAAARkYAAK/WAAAqRAAA9DMAAL4yAADYgAAAez4AACYbAACIEwAAPZwAAKJJAABGRgAAvjIAACpEAAB7PgAAzlkAAJ5hAACOOgAADScAAHAwAADcHgAA4EcAAOQMAAB8LgAAaEIAAG8XAAAzSgAAHD4AAOY8AACOXQAAvDQAACMjAADmLQAAn4wAAGpjAAD0GgAA0UsAAHwVAADECQAAfJIAABw+AAAQDgAAbicAALR4AADsRQAAdFkAAEwdAABrFwAAkzoAAMYqAAD8bAAAnHwAADsfAABESAAAeB4AANiAAAB2PgAARkYAAKY2AABeQgAAVG8AADhKAABTGwAA+BEAAEgNAADcmwAAIy8AAJwsAACpiAAAOx8AAA8eAACkOAAANCEAAFgbAAAIIAAAB1IAAAFbAAChSQAAlBEAAC8hAAAHUgAAyiEAANdZAACgDwAAAiEAADQ6AAD4KgAAHKIAAIgTAACsDQAAJBMAAFMbAAA3SgAAhywAAIs8AABkGQAATDYAAKcWAAD7KQAA3B4AAJQRAABEYQAAUEYAAFxEAAD0lwAAzBAAANRJAABTGwAA00AAAG9AAACQTAAAIyMAAKwNAADAEgAAZBkAAKIwAAAcJQAAWjwAAItlAABzWQAA85cAAJtjAABzWQAA43AAAOt3AABzcgAAC0kAABtwAABPRgAAxzIAAE67AABkGQAALGUAAHwVAAC8TQAALGUAALAEAABkGQAAVIgAAJx8AADsRQAApFEAAHY+AAArdQAAvlUAANwFAACwHQAAkGUAADsfAACDEwAARx0AAIMTAAAnTAAA2y4AACdMAAB0WQAAWBsAALw0AACDEwAAD1kAAPOXAABzWQAAc3IAAF9tAAALSQAARz8AABtwAACbYwAAT0YAAJM6AABBNgAAcDAAADwPAACAuwAAWBsAAKAoAACELQAAD24AAIgTAACwNgAAkzoAAPenAACkHwAA7EUAAHRZAAD0fgAADwoAAPdCAABXGwAA7EUAAKAPAAB8FQAAOEoAAKhhAAAoIwAAj2UAAKAPAADbLgAA1K0AAHRZAADAXQAApDgAAKYOAAA/HwAA8yoAAF4aAACgDwAAVHQAALCzAAD4KgAAd2kAAJoQAABiEQAAHCUAABtOAABPRgAATB0AALA2AADDMgAAIE4AAAAZAACSIgAAWDQAACgjAAAOUQAAHk4AADIZAACCVQAAlBEAACYbAAAEKQAAL3UAAAQpAADyEgAAfBUAAJsPAABwFwAA6AMAAGxrAABMNgAAZDIAAHAXAAACIQAAUxsAAOtVAABnQgAAMhkAAPQaAABEYQAAWBsAAPYiAABAHwAAOx8AAHwVAAB8FQAAgxMAAG4PAADsLAAAdFkAAKAPAADvGgAAkzoAAI8RAACAuwAANDoAAFMbAAD2IgAAjDwAAIgTAADTWQAAmLcAAO6nAAC6RQAA2FkAACQTAADaLwAA4C4AAIcTAAAQJwAARBYAACYbAACTOgAAkzoAAHRAAABjQgAAyDIAADxzAACkOAAADh8AACxlAAAcJQAAnHwAALpeAADzKgAAcBcAABZ3AACUKgAA/GwAACsRAACrNgAACk4AAG4PAACsDQAAu7QAAOtVAAA8DwAAIBwAALMLAABHHQAAeOYAACdMAAAYeQAABCkAAFQLAACsDQAAswsAANsuAAA7HwAAQB8AAD9IAACDEwAAOx8AACMjAABjQgAARx0AAPgqAACADAAAFyUAAKsiAADeJgAA5HAAAO4qAADGKgAATj4AAEZpAADLhAAAYCIAAOccAAA8DwAAr18AANAHAAA8DwAAHD4AANdZAAA7HwAAOx8AAERhAABkGQAAdEAAAF8ZAAC0FAAArIoAAOAVAACDEwAA+CoAAFhNAADvVQAABCkAAGQyAAAKDwAAJhsAAAgHAAD0GgAAS0YAAECDAADkcAAAbxcAAAiEAAA7HwAAxAkAAHNpAACsDQAA8DwAAPxTAADQhAAAfBUAAIA+AADIMgAABCkAALyxAADgLgAAvE0AALRfAADkcAAAzHQAAARCAADAEgAAMHUAABAnAACIEwAAwgEAAMBdAACPXQAATDYAAHomAACTUQAAHkYAAGY6AACIkAAA2y4AABMsAADrIQAANpwAAJYyAACfKAAAUHgAAC5tAABcEgAAxzIAAB8TAACSIgAAiBMAAA55AAAIBwAAByAAAH8MAACUKgAAfBUAAHs+AADzKgAAez4AAPgqAABrFwAAqzYAAJM6AADzKgAAA1IAALMLAACTOgAAjDwAAJYPAACwNgAAkyYAAGY6AAAsTAAAJBMAABwlAADY1gAAdj4AAKQ4AACUEQAA5FcAAPgqAABiQwAAfJIAACMjAACUEQAAAQAAAAEAAAABAAAAlBEAAAEAAAABAAAAAQAAAIw8AAABAAAAAQAAADARAAAkkAAAuAsAAAEAAAABAAAAAQAAAAEAAADcHgAADEkAAIGQAACwNgAAsAQAAGhCAADAXQAAaxcAAGgQAADWLgAA2FkAAPMqAACrNgAAwzIAAANSAADvGgAA6ywAAHcVAAA4SgAAdEAAAOQMAAD8UQAAR20AAIgTAAAMFwAAEA4AABwMAAAUUAAAlBEAAJwYAAD0fAAAZDIAALxNAACYbAAA/GwAAFMbAAA7HwAAmDoAAAwXAACrNgAA86cAAJM6AADkcAAAFnEAAMDUAQCkOAAABGUAALQeAACeYQAALkoAAOZVAACaOAAADBcAAKhhAABEYQAAJwoAAKhhAACYCAAA3i4AAPxTAAAsZQAAJwoAAIgTAADgLgAAgxMAAFxEAAD2KgAArjYAAI5lAABGRgAAHD4AACcKAACgDwAAJwoAAK5gAADTWQAAiBMAAOwsAACsJgAAZBkAAJQqAABmOgAAjDwAAGwgAADmLQAAuAsAAKAPAACyDAAAeGkAALRfAACYbAAAA1IAAPMqAADzpwAAkzoAAPxRAAAkLAAAoA8AAGQZAACIEwAAdBMAAHNpAAAcPgAAPx8AAHyQAABuDwAALEwAAIBwAAB8FQAAgxMAAP5RAABmFwAAFk4AAC5KAACaOAAA5lUAADpIAACGZQAAnGEAACQTAACADAAAsgwAACQTAACktQAAHk4AAPAjAADDMgAA86cAALOIAABbbQAAfh0AACwfAADQOQAAS8MAAMgyAAB/HAAAzFsAALg9AABkZAAAOx8AAAsOAADVWQAAzFkAAKwNAADTWQAAsxQAAGMZAAC8ZgAAbxcAAIAMAACQZQAAqBYAALBoAAB7uwAArIoAACcKAADUMAAAvDQAAISAAAC0XwAAuAsAAAQpAAB0vQAACFIAAJAaAABsawAAM0oAAKsdAADsRQAA+FwAAFxEAABEYQAALEwAABtOAAC8TQAAdFkAAGwHAAAnCgAAJwoAAAAZAAB/PgAAPx8AACcKAAAnCgAAJwoAACcKAAAnCgAAGHkAAERIAADYWQAAIBwAAKcNAABsawAAdEAAACxlAABAHwAA6AMAAH9wAACLhwAANnMAAP9jAACkOAAAM0oAALw0AACPEQAAlCoAABw+AABkMgAAFGkAAMQiAABkMgAApg4AAJM6AADsRQAAwzIAAJhsAABsBwAAIGUAACgKAADYDgAAUBQAAJMhAABjKQAAri4AAAQpAACMCgAAQB8AAOcDAABjQgAAxAkAAJQRAAAQDgAAfBUAAHRAAACYCAAA+1MAAAdSAAAwEQAAQB8AAEoQAABiDAAAVg4AAGQZAADgFQAAUxsAAPBVAAB2PgAA/lEAADIUAAC2XQAALkoAAG4KAAC+MgAAbuYAAKIwAAALJwAAjjoAAAsnAAAWTgAAVg4AAMYqAAB7PgAAwzIAAJAaAADECQAAuAsAAOAVAABjQgAA/CEAACADAAAnCgAAJwoAAGQZAAAkLAAAdEAAADARAACkoQAAIyMAAMMyAADwbAAAn0EAAI9lAAAnCgAAFy4AACcjAACHRQAAKDoAABA+AADgRQAAJhsAAEgmAADbLgAA4C4AANsuAABwFwAAV0QAABwlAABwFwAAQB8AACgjAAAEQgAAHD4AAGAJAAAEQgAADHsAAEcdAABXRAAAQyYAAOxeAADUMAAAY0IAACMjAABIcQAA+FwAAGsXAAB0QAAAeB4AAKTOAADmVQAA6E4AAOZVAADk0gAApDgAAHwVAAAcPgAAlIwAAEhxAAAiXAAAnjkAAEgmAAC0XQAAmAgAAAVSAAB2YQAApDgAAIw6AAAMFwAAsgwAAJhsAACkBgAAJF4AAD5xAABqQAAA/lEAAHY+AADOWQAAjjoAACReAABGaQAAW20AANhZAAC3NAAAW20AAAsnAAAjIwAAwzIAACMjAAB8kgAAPHEAAOhnAAD+UQAAqzYAAJM6AACTOgAAwzIAAGNCAADfVwAAG04AAIo8AACyeAAAfj4AAJ84AACHPAAA5ywAAGsXAAAfTgAA9yEAANsuAAAEKQAAXxkAAOssAABvDgAAdEAAAAgHAADQBwAAvgoAAKoFAADcBQAAQAYAACADAABEYQAAK3UAAERIAAAyGQAAGh0AACYbAABLRgAAVhMAACoSAAC8NAAAbg8AANgOAADsLAAAsxQAAB8cAAC7NAAAlzoAAA0nAAAoIwAAXEQAACMjAACUEQAAnw8AAANSAAB7PgAAG04AAOOAAADkcAAARGEAAGY6AADYDgAAdFkAAPMqAAAnCgAAxCIAANRJAAAUggAAgxMAAIMTAAA7HwAAbDoAAPMqAAAUaQAAHD4AAIA+AACMPAAAcBcAACcKAAALJwAAyDIAAMBdAAB3FQAAgxMAAExoAAA+nAAAxIYAACxpAAAUHgAAez4AADNKAACLZQAAQB8AAHAXAAATeQAAK3UAABtOAADgLgAAS0YAADQ6AAALJwAAnHwAAPcqAAAgTgAAcBcAANgnAAD/KAAADwAAAMhkAAC8TQAAqHoAAPMqAACwNgAAjjoAAEVxAAAPJwAATB0AAO5/AAC6LAAAPHEAAI0OAACUKgAADBcAAAoPAADcHgAALnUAAJQRAADsRQAArA0AAORXAAAkEwAABCkAANsuAAA7HwAAdA4AAII8AABeQgAAZBkAAJQhAAD4EQAAfj4AANoeAACyeAAA1DAAAAwXAADECQAAYAkAAE4bAADgLgAATB0AAFgbAABEYQAA5HAAAGsXAACrNgAA3iYAAH42AABOPgAAZDIAAC51AAAiCwAAG04AACBOAACuLgAATj4AAGY6AADPIAAATB0AAKQ4AAB4HgAA8FUAAIcTAAD/GAAAqzYAAHG7AAApSgAAfTwAAFcbAAAMFwAAkgkAAMASAAC8NAAA61UAAOgcAAC7EgAAjDwAAGBtAADeJgAARGEAAOxFAACgDwAAOHwAALOIAAADUgAA+WAAACxMAAAbTgAA2y4AAOtVAAAbTgAAvE0AAF8ZAABjQgAAJToAALOIAAAEEAAA4EcAAP5RAAC2gAAAeGkAAHgeAAAYFQAA7F4AAIgTAAAPJwAArA0AAOtVAAB7PgAAMiEAAMYyAACLZQAAo2EAAA9QAAAaNgAAXkIAABQFAAA0IQAAGHkAANwFAABmFwAAHCUAAJhTAABgCQAAFz4AAAhSAAAcJQAAJF4AAPMqAAC+MgAA8yoAAPgqAAB0WQAAzlkAAI46AAAjIwAA6AMAABguAAD0lwAAXxkAAN4mAACYUwAAVAsAACxMAADcHgAA5FcAAFxdAADeJgAAJCwAAAhSAAB4HgAAjhIAAPgRAAA/HwAATB0AALxNAACGVgAA9yoAAKwNAADvVQAAW20AAIiQAADyIQAAcT4AAFwSAACAJQAAaxcAAFQkAACUEQAA/CEAANAHAADQUgAAWBsAACcKAABoWwAAVG8AACcKAAB3FQAA3AUAAIgTAACMGQAA+BEAAPQaAADgLgAAIE4AACYbAAAeRgAATDYAAJYyAABwFwAAdj4AAI46AAA+cQAALkoAAIAMAABAHwAAQB8AAAxiAAAIBwAAlI4AAIMTAACHEwAACGsAALw0AAAgTgAANDoAABwjAAC8TQAA3oAAAI6PAACeYQAAxAkAALxNAAAxIQAAZBkAADQ6AACOOgAAqGEAAJi3AABrFwAAThsAANjWAAA0IQAA3y4AAIw8AADECQAA8yoAAOwsAADIMgAAKCMAAPhcAABIcQAAzFsAADQhAADHMgAAS0YAANAHAACDEwAAQg4AABAnAADY1gAAWBsAAIRnAADIMgAA8yoAAMMyAAAvIQAAHCUAAFMbAAA6IAAA2y4AAFMbAABKFQAAwzIAAPcqAAA6IAAAUxsAAKs2AAAGJwAA8AoAAAwXAAD4XAAAwBIAADsfAAB3FQAApDgAAMMyAAAbTgAAS0YAANsuAACrNgAAG04AAJsPAACQMwAAT0YAAOg1AADeJgAAx1sAAPdTAAAgAQAAjFUAALQUAAB9PgAAHKIAAGhpAABUbwAAxIYAACcKAAAnCgAAiJAAAOgcAAAnCgAA6E4AAJeMAAD9JgAAcGIAAHBiAAC8NAAAkYwAAJBlAABkGQAAUMMAANhZAADYWQAA7EUAAN4mAAADUgAAkzoAALxNAAC0XwAAREgAAMcyAACvNgAAECcAADMhAAAwEQAA9yoAANdZAAA4fAAA71UAAN8uAAA3SgAAN0oAAMcyAACYbAAAZ0IAAMcyAAD3KgAA9yoAAMcyAADfLgAAuCIAACDLAADufwAAYTUAAKQ2AACMPAAAsB0AAB9OAAB5NgAADBcAAFllAADeJgAAbAcAANhZAACmDgAAjNIAAOk0AAA6IAAAWBsAAHs+AABMNgAAcBcAAJg6AABQRgAABCkAACR3AAD4KgAA1DAAAFxdAAAjIwAAqzYAADNKAACDEwAArA0AAERhAAALFQAAqCAAAEAfAADjgAAAHCUAAHwVAAB4HgAA7MIAAMQJAAAcJQAAfC4AAKwNAAAgAwAAxgcAAG4PAACHZQAAGk4AALMUAAAfHAAAlzoAABs+AABoEAAAVIgAAJ5hAACeYQAA3oAAAFBGAAB2PgAAFk4AABZOAAAWTgAAi2UAABwjAADMdAAARGEAAOAuAAAcPgAArA0AACgjAACYCAAA3oAAAAsnAABUCwAAEIsAAJRcAACoegAAc2kAALtdAACvNgAAmw8AAEtGAAB+NgAAkBoAABw+AACsJgAADBcAANQwAADIrwAAuIgAAOxFAABMNgAASHEAAJAaAAAoIwAA7CwAADhKAADMdAAAjxEAACZNAACkOAAATDYAAI8RAABMNgAATDYAAMgyAAAcPgAAmDoAAMQiAAAPhQAAfBUAADVpAACkOAAAABkAADQ6AAA0IQAADBcAAI8RAADkVwAAyGQAACl9AACTXAAADGIAALtJAACLUQAAansAAEkpAACoYQAAHD4AADQ6AAA0IQAA7CwAANYuAABzaQAAjFUAAI8RAADEIgAAkxEAABw+AACmNgAAOkgAAP5RAAAuSgAAPnEAAHY+AACTOgAAO5wAAL8JAAAbTgAAM0oAAL8JAACzCwAAZhcAADjHAACzCwAAIDUAAJsPAACOEgAASbYAALk8AAA5jwAA8yoAAJM6AACrNgAAez4AAI8RAAAjIwAAYhEAAKYOAAAcJQAAIyMAAEw2AACMVQAAUBQAABw+AADzKgAACwEAAI9DAABiEQAA/lEAAN6AAAAoPAAAFk4AADQhAABMNgAAjFUAABQBAAAcPgAAyK8AAEw2AAAmIwAAWkQAAHRAAAALFwAAxAkAAGQyAADUSQAAtF8AACYbAACv1gAADScAALgkAADUSQAAokkAAEZGAAD0MwAAG04AAHs+AABjQgAAzHQAAKhhAAB8FQAAjAoAAGgQAABQFAAABkoAAIMOAABvDgAAtQkAAOEeAACHCgAAaxcAALIMAAA0IQAAWBsAAGhCAABESAAA/3wAADQ6AAAUaQAAaEIAABwlAAABAAAAAQAAAAEAAAABAAAAAQAAAAEAAAABAAAAAQAAAAEAAAABAAAAAQAAAAEAAAABAAAAAQAAAN4mAAAUaQAApFEAACpEAAAMlAAANAgAAEtGAADWUAAAF3UAAO9VAACKTQAAoA8AAFAUAABoEAAA/GwAAIxVAAAuMQAAHCUAAAEAAAABAAAAAQAAAAEAAAAcPgAATB0AAARCAACMOgAAKAoAAAyUAAA2QgAAHD4AAAZKAAADUgAAs4gAAFttAABzaQAAg5AAAJQqAAAwdQAAKCMAABw+AACDEwAAdxUAABw+AACCOgAAul4AAOZEAADFRQAAQB8AAMQJAADYDgAAv10AABsjAADPHgAAUx4AAHwuAABTGwAAdxUAACMjAABmQgAAJiMAAFpEAAAcQwAAgxMAADZCAACsJgAA4BUAAMQiAADcHgAAVAsAADwPAACzCwAAlBEAAPgRAAB0WQAAJBMAAMQJAACOiAAAfBUAADAqAADzpwAAA1IAAMMyAACrNgAAkzoAAAMpAAC/XQAA4BUAALYDAAAwdQAAiBMAAAwXAADcggAA5AwAAMQiAAB8LgAALyEAANdZAAAAfQAA9BoAAK05AADLgAAA4C4AAHwuAADAXQAAhGcAAIAMAABOPgAABkoAAO5NAABmOgAANkIAANQwAAC7XQAAYG0AAIQcAAAIIAAADBcAAMxbAABUiAAA6zwAAHMeAAA7UQAAG04AAEtGAAB7PgAAwzIAAMQiAADkDAAAM0oAAIxVAAAoIwAAqC8AAJQRAACgQQAAhgsAAFRtAADMWQAAwF0AADwPAAAEQgAAfC4AAJQqAAAEQgAArCYAABwlAABkMgAAZDIAAPZ8AACGZQAAZhcAAEAfAAASJQAAClAAAB4jAABWbQAAv10AAEwdAABOGwAApjYAAHAXAABmFwAAZhcAAGYXAADWLgAANh8AAOwsAABcRAAAukUAACMjAAB0WQAA61UAAAEAAACvXwAAu10AANQwAACkOAAAG04AAJYPAABoEAAAjjoAAAYnAACeYQAAHiMAAG5pAABeQgAAAQAAAMxbAACkBgAA86cAANhZAABLRgAAsgwAAAMpAAA8DwAADh8AALIMAABsawAA3B4AAGQZAABwFwAAZDIAANCEAACYOgAA0IQAADsfAACEZwAAxioAADQhAAAIUgAABEIAALxNAADUMAAAIyMAAHwuAAB0WQAAUEYAACMjAABkMgAAZDIAACMjAAAAGQAAaEIAADQhAACsDQAAUxsAAEQWAABXRAAANCEAANgOAACbGAAAbFIAAJsPAACTOgAANJ4AAIMTAACIEwAA2y4AAJQRAACoLwAArA0AABAOAAAQpAAAvDQAAOAuAAAMFwAAREgAAOwsAABQFAAAM0oAAN4mAAAMFwAA2FkAAKAPAACoYQAAu10AAHAwAAD0GgAA0AcAAHQOAAAcIwAAbGsAAIgTAABwYgAAuAsAAARCAAB4UAAAIyMAAIdeAACbDwAAUC0AAFBGAACUEQAAuzAAAAsnAAD4KgAAiBMAAOAVAADwIwAADBcAAHRAAACgDwAA1DAAAAPPAACfgwAAK3UAAPMqAADsRQAAbIQAAHs+AAA6UQAATB0AALMLAAAcJQAAnoQAAPMqAACuLgAACCAAAPBVAABESAAAaEIAACMjAACADAAA5GkAAOQlAACbDwAAsLMAAFoKAAB0QAAAyDIAAGhCAAB8LgAAIE4AAFBGAACaEAAAfBUAAOwsAADECQAA8yoAAAhSAABjQgAAmw8AAARCAACbDwAAZDIAAORwAACkOAAAqBYAAEgNAAC8TQAAVhMAAHAXAACEHAAANDoAAJsPAAD4EQAA9BoAAJsPAACYCAAAfpAAAJM6AADUMAAABCkAANsuAABsOQAAE1AAAFZtAACCPwAALkoAAEtlAAC5KgAARGEAAKgWAAAsTAAABCkAANwFAACkUQAA8FUAAH4TAACbDwAAOx8AANRJAAC+CgAAXhoAAMIzAADYWQAA1lEAAHJAAABMHQAA0AcAAL8yAAD3MQAABycAAB8jAAA7nAAAM0oAABtOAAB7PgAAXmUAACYbAADECQAAaxcAAF9tAACYOgAADBcAACAcAAAsTAAAG04AANgOAABnEAAAMx0AADQhAADEhgAATB0AAMBdAACgDwAA2y4AABwlAABAHwAAfBUAALxNAABTGwAAUEYAAKAJAQBsBwAAoIwAANABAQAYLgAAmGwAAIMTAADjAwAAQB8AALQ5AABkGQAAIE4AAHRAAABcRAAA6ywAAKhhAADuKgAAlBEAAOAVAAAEKQAANCEAAPMqAABYGwAAfBUAAL4KAAAQJwAAM0oAAGQyAADoAwAAlFwAAEwdAACoegAAxAkAAHRZAAAEQgAA+FwAADhKAACMVQAA9BoAAJg6AACUEQAAfBUAAB4pAAC+GQAAcBcAAJwYAADYDgAA7EUAAHhpAAALJwAAM0oAAGNCAAB+NgAAI6AAAHNpAAArdQAADh8AAItlAABWEwAAVhMAAHNpAAAkdwAAA1IAAMcyAADECQAAgD4AAE4CAAAOLgAAc2kAAHNpAAAjIwAAUxsAABN5AABLRgAAdFkAAPMqAADEhgAAW20AAItlAAB3kgAAAQAAACA1AADaFgAABCkAANlVAAD8IQAA2CcAAEUVAACcYQAA1DAAAKAPAADbLgAAwzIAAKs2AAADUgAA8yoAAJM6AACaEAAAS0YAAPMqAACTOgAATB0AAKAPAAB0WQAABCkAANRJAAAXJQAACFIAABwqAABTGwAAi2UAAJM6AABiQwAALyoAAEoVAAAKDwAA6E4AALw0AACjYQAAqzYAAGBtAACLZQAApxIAAAggAACUEQAAmw8AAAQpAADUSQAAGBUAAMoIAAA0IQAABFsAAGyEAACUXAAAMCoAAItlAAADUgAAkzoAADNKAAAbTgAAkzoAAMMyAACTOgAAwywBAIOQAACYOgAA/lEAAKmIAACUKgAAaBAAAGQZAABjQgAAM0oAAKs2AADTWQAAi18AABh5AADDrwAAwzIAALtdAACDEwAArDYAAItlAABCcQAAQEsAADNEAADUMAAAZkIAAIc8AACrXAAAY0IAAD8fAAAYYAAAuiwAADsfAABLRgAAaxcAAAwXAADeJgAA6iQAAPMqAAAjIwAAy4QAADoHAADAEgAAu10AAK9fAACDEwAAQg4AABguAAA0IQAAJhsAALgLAADbLgAAeGkAAB4tAABYlgAA2wEAAKs2AAC3CwAAGC4AAIIUAADDMgAAez4AABwlAACPEQAAmw8AANsuAAA0IQAAzHQAAH8MAAC2NQAAgAwAAAsnAACrNgAAJBMAABhHAAB8FQAAiwYAADYfAADEIgAAGC4AADwPAADngAAA834AABd5AACbYwAAWBsAAI4SAADMKQAAvE0AANweAAAcJQAA1EkAAHgeAAD/KAAAwzIAAJdjAAA8DwAAW20AAAwXAACYCAAAlzoAAJM6AABBNgAAlBEAALgLAABYGwAAv1kAAMQJAABMHQAAZjoAAGRLAAA0IQAAfBUAAHoqAACTOgAARx0AALQUAACrVAAAS0YAAFg0AACyDAAAG04AALtdAADTWQAAPFoAADsfAAA4bAAABCcAALA0AACcYQAATB0AAM+EAADDhgAAjDwAADB1AACAuwAArCYAAHRAAABMNgAAtEYAAMQiAAA0OgAArCYAACQTAAD2fAAAlowAAI46AACeYQAAXHYAAF0iAAD4XAAAJF4AAAB9AAAXeQAAmFMAANYGAAA8owAAUBQAADxzAAB0WQAANh8AANAHAAAvIQAAdxoAAFZFAAAMFwAA0AcAAOgDAACYCAAAaxcAAERIAABUfgAAbGsAAEwdAAB7uwAAnGMAABw+AAAgNQAA8yoAALgLAACUEQAAcBcAANNZAACTOgAAPCgAAFJdAAAeoAAAPnEAAFRvAABUCwAA1i4AAKwmAAB8LgAAqBYAAFMbAABkGQAApw0AALMLAAA3SgAAj2UAAJZLAAB3FQAAIyMAAIlVAAByFQAAvE0AAGdCAAALJwAANCEAAOg1AAA0IQAAj2UAAFMbAABUCwAAgAwAAMaEAAC6IgAAlBEAANAHAABCHQAArIoAAFOYAAA8RgAAPx8AAFMbAABcFwAAT0YAAOAuAAA=",
          "dtype": "i4"
         },
         "yaxis": "y"
        }
       ],
       "layout": {
        "barmode": "relative",
        "height": 400,
        "legend": {
         "tracegroupgap": 0
        },
        "template": {
         "data": {
          "bar": [
           {
            "error_x": {
             "color": "#2a3f5f"
            },
            "error_y": {
             "color": "#2a3f5f"
            },
            "marker": {
             "line": {
              "color": "#E5ECF6",
              "width": 0.5
             },
             "pattern": {
              "fillmode": "overlay",
              "size": 10,
              "solidity": 0.2
             }
            },
            "type": "bar"
           }
          ],
          "barpolar": [
           {
            "marker": {
             "line": {
              "color": "#E5ECF6",
              "width": 0.5
             },
             "pattern": {
              "fillmode": "overlay",
              "size": 10,
              "solidity": 0.2
             }
            },
            "type": "barpolar"
           }
          ],
          "carpet": [
           {
            "aaxis": {
             "endlinecolor": "#2a3f5f",
             "gridcolor": "white",
             "linecolor": "white",
             "minorgridcolor": "white",
             "startlinecolor": "#2a3f5f"
            },
            "baxis": {
             "endlinecolor": "#2a3f5f",
             "gridcolor": "white",
             "linecolor": "white",
             "minorgridcolor": "white",
             "startlinecolor": "#2a3f5f"
            },
            "type": "carpet"
           }
          ],
          "choropleth": [
           {
            "colorbar": {
             "outlinewidth": 0,
             "ticks": ""
            },
            "type": "choropleth"
           }
          ],
          "contour": [
           {
            "colorbar": {
             "outlinewidth": 0,
             "ticks": ""
            },
            "colorscale": [
             [
              0,
              "#0d0887"
             ],
             [
              0.1111111111111111,
              "#46039f"
             ],
             [
              0.2222222222222222,
              "#7201a8"
             ],
             [
              0.3333333333333333,
              "#9c179e"
             ],
             [
              0.4444444444444444,
              "#bd3786"
             ],
             [
              0.5555555555555556,
              "#d8576b"
             ],
             [
              0.6666666666666666,
              "#ed7953"
             ],
             [
              0.7777777777777778,
              "#fb9f3a"
             ],
             [
              0.8888888888888888,
              "#fdca26"
             ],
             [
              1,
              "#f0f921"
             ]
            ],
            "type": "contour"
           }
          ],
          "contourcarpet": [
           {
            "colorbar": {
             "outlinewidth": 0,
             "ticks": ""
            },
            "type": "contourcarpet"
           }
          ],
          "heatmap": [
           {
            "colorbar": {
             "outlinewidth": 0,
             "ticks": ""
            },
            "colorscale": [
             [
              0,
              "#0d0887"
             ],
             [
              0.1111111111111111,
              "#46039f"
             ],
             [
              0.2222222222222222,
              "#7201a8"
             ],
             [
              0.3333333333333333,
              "#9c179e"
             ],
             [
              0.4444444444444444,
              "#bd3786"
             ],
             [
              0.5555555555555556,
              "#d8576b"
             ],
             [
              0.6666666666666666,
              "#ed7953"
             ],
             [
              0.7777777777777778,
              "#fb9f3a"
             ],
             [
              0.8888888888888888,
              "#fdca26"
             ],
             [
              1,
              "#f0f921"
             ]
            ],
            "type": "heatmap"
           }
          ],
          "histogram": [
           {
            "marker": {
             "pattern": {
              "fillmode": "overlay",
              "size": 10,
              "solidity": 0.2
             }
            },
            "type": "histogram"
           }
          ],
          "histogram2d": [
           {
            "colorbar": {
             "outlinewidth": 0,
             "ticks": ""
            },
            "colorscale": [
             [
              0,
              "#0d0887"
             ],
             [
              0.1111111111111111,
              "#46039f"
             ],
             [
              0.2222222222222222,
              "#7201a8"
             ],
             [
              0.3333333333333333,
              "#9c179e"
             ],
             [
              0.4444444444444444,
              "#bd3786"
             ],
             [
              0.5555555555555556,
              "#d8576b"
             ],
             [
              0.6666666666666666,
              "#ed7953"
             ],
             [
              0.7777777777777778,
              "#fb9f3a"
             ],
             [
              0.8888888888888888,
              "#fdca26"
             ],
             [
              1,
              "#f0f921"
             ]
            ],
            "type": "histogram2d"
           }
          ],
          "histogram2dcontour": [
           {
            "colorbar": {
             "outlinewidth": 0,
             "ticks": ""
            },
            "colorscale": [
             [
              0,
              "#0d0887"
             ],
             [
              0.1111111111111111,
              "#46039f"
             ],
             [
              0.2222222222222222,
              "#7201a8"
             ],
             [
              0.3333333333333333,
              "#9c179e"
             ],
             [
              0.4444444444444444,
              "#bd3786"
             ],
             [
              0.5555555555555556,
              "#d8576b"
             ],
             [
              0.6666666666666666,
              "#ed7953"
             ],
             [
              0.7777777777777778,
              "#fb9f3a"
             ],
             [
              0.8888888888888888,
              "#fdca26"
             ],
             [
              1,
              "#f0f921"
             ]
            ],
            "type": "histogram2dcontour"
           }
          ],
          "mesh3d": [
           {
            "colorbar": {
             "outlinewidth": 0,
             "ticks": ""
            },
            "type": "mesh3d"
           }
          ],
          "parcoords": [
           {
            "line": {
             "colorbar": {
              "outlinewidth": 0,
              "ticks": ""
             }
            },
            "type": "parcoords"
           }
          ],
          "pie": [
           {
            "automargin": true,
            "type": "pie"
           }
          ],
          "scatter": [
           {
            "fillpattern": {
             "fillmode": "overlay",
             "size": 10,
             "solidity": 0.2
            },
            "type": "scatter"
           }
          ],
          "scatter3d": [
           {
            "line": {
             "colorbar": {
              "outlinewidth": 0,
              "ticks": ""
             }
            },
            "marker": {
             "colorbar": {
              "outlinewidth": 0,
              "ticks": ""
             }
            },
            "type": "scatter3d"
           }
          ],
          "scattercarpet": [
           {
            "marker": {
             "colorbar": {
              "outlinewidth": 0,
              "ticks": ""
             }
            },
            "type": "scattercarpet"
           }
          ],
          "scattergeo": [
           {
            "marker": {
             "colorbar": {
              "outlinewidth": 0,
              "ticks": ""
             }
            },
            "type": "scattergeo"
           }
          ],
          "scattergl": [
           {
            "marker": {
             "colorbar": {
              "outlinewidth": 0,
              "ticks": ""
             }
            },
            "type": "scattergl"
           }
          ],
          "scattermap": [
           {
            "marker": {
             "colorbar": {
              "outlinewidth": 0,
              "ticks": ""
             }
            },
            "type": "scattermap"
           }
          ],
          "scattermapbox": [
           {
            "marker": {
             "colorbar": {
              "outlinewidth": 0,
              "ticks": ""
             }
            },
            "type": "scattermapbox"
           }
          ],
          "scatterpolar": [
           {
            "marker": {
             "colorbar": {
              "outlinewidth": 0,
              "ticks": ""
             }
            },
            "type": "scatterpolar"
           }
          ],
          "scatterpolargl": [
           {
            "marker": {
             "colorbar": {
              "outlinewidth": 0,
              "ticks": ""
             }
            },
            "type": "scatterpolargl"
           }
          ],
          "scatterternary": [
           {
            "marker": {
             "colorbar": {
              "outlinewidth": 0,
              "ticks": ""
             }
            },
            "type": "scatterternary"
           }
          ],
          "surface": [
           {
            "colorbar": {
             "outlinewidth": 0,
             "ticks": ""
            },
            "colorscale": [
             [
              0,
              "#0d0887"
             ],
             [
              0.1111111111111111,
              "#46039f"
             ],
             [
              0.2222222222222222,
              "#7201a8"
             ],
             [
              0.3333333333333333,
              "#9c179e"
             ],
             [
              0.4444444444444444,
              "#bd3786"
             ],
             [
              0.5555555555555556,
              "#d8576b"
             ],
             [
              0.6666666666666666,
              "#ed7953"
             ],
             [
              0.7777777777777778,
              "#fb9f3a"
             ],
             [
              0.8888888888888888,
              "#fdca26"
             ],
             [
              1,
              "#f0f921"
             ]
            ],
            "type": "surface"
           }
          ],
          "table": [
           {
            "cells": {
             "fill": {
              "color": "#EBF0F8"
             },
             "line": {
              "color": "white"
             }
            },
            "header": {
             "fill": {
              "color": "#C8D4E3"
             },
             "line": {
              "color": "white"
             }
            },
            "type": "table"
           }
          ]
         },
         "layout": {
          "annotationdefaults": {
           "arrowcolor": "#2a3f5f",
           "arrowhead": 0,
           "arrowwidth": 1
          },
          "autotypenumbers": "strict",
          "coloraxis": {
           "colorbar": {
            "outlinewidth": 0,
            "ticks": ""
           }
          },
          "colorscale": {
           "diverging": [
            [
             0,
             "#8e0152"
            ],
            [
             0.1,
             "#c51b7d"
            ],
            [
             0.2,
             "#de77ae"
            ],
            [
             0.3,
             "#f1b6da"
            ],
            [
             0.4,
             "#fde0ef"
            ],
            [
             0.5,
             "#f7f7f7"
            ],
            [
             0.6,
             "#e6f5d0"
            ],
            [
             0.7,
             "#b8e186"
            ],
            [
             0.8,
             "#7fbc41"
            ],
            [
             0.9,
             "#4d9221"
            ],
            [
             1,
             "#276419"
            ]
           ],
           "sequential": [
            [
             0,
             "#0d0887"
            ],
            [
             0.1111111111111111,
             "#46039f"
            ],
            [
             0.2222222222222222,
             "#7201a8"
            ],
            [
             0.3333333333333333,
             "#9c179e"
            ],
            [
             0.4444444444444444,
             "#bd3786"
            ],
            [
             0.5555555555555556,
             "#d8576b"
            ],
            [
             0.6666666666666666,
             "#ed7953"
            ],
            [
             0.7777777777777778,
             "#fb9f3a"
            ],
            [
             0.8888888888888888,
             "#fdca26"
            ],
            [
             1,
             "#f0f921"
            ]
           ],
           "sequentialminus": [
            [
             0,
             "#0d0887"
            ],
            [
             0.1111111111111111,
             "#46039f"
            ],
            [
             0.2222222222222222,
             "#7201a8"
            ],
            [
             0.3333333333333333,
             "#9c179e"
            ],
            [
             0.4444444444444444,
             "#bd3786"
            ],
            [
             0.5555555555555556,
             "#d8576b"
            ],
            [
             0.6666666666666666,
             "#ed7953"
            ],
            [
             0.7777777777777778,
             "#fb9f3a"
            ],
            [
             0.8888888888888888,
             "#fdca26"
            ],
            [
             1,
             "#f0f921"
            ]
           ]
          },
          "colorway": [
           "#636efa",
           "#EF553B",
           "#00cc96",
           "#ab63fa",
           "#FFA15A",
           "#19d3f3",
           "#FF6692",
           "#B6E880",
           "#FF97FF",
           "#FECB52"
          ],
          "font": {
           "color": "#2a3f5f"
          },
          "geo": {
           "bgcolor": "white",
           "lakecolor": "white",
           "landcolor": "#E5ECF6",
           "showlakes": true,
           "showland": true,
           "subunitcolor": "white"
          },
          "hoverlabel": {
           "align": "left"
          },
          "hovermode": "closest",
          "mapbox": {
           "style": "light"
          },
          "paper_bgcolor": "white",
          "plot_bgcolor": "#E5ECF6",
          "polar": {
           "angularaxis": {
            "gridcolor": "white",
            "linecolor": "white",
            "ticks": ""
           },
           "bgcolor": "#E5ECF6",
           "radialaxis": {
            "gridcolor": "white",
            "linecolor": "white",
            "ticks": ""
           }
          },
          "scene": {
           "xaxis": {
            "backgroundcolor": "#E5ECF6",
            "gridcolor": "white",
            "gridwidth": 2,
            "linecolor": "white",
            "showbackground": true,
            "ticks": "",
            "zerolinecolor": "white"
           },
           "yaxis": {
            "backgroundcolor": "#E5ECF6",
            "gridcolor": "white",
            "gridwidth": 2,
            "linecolor": "white",
            "showbackground": true,
            "ticks": "",
            "zerolinecolor": "white"
           },
           "zaxis": {
            "backgroundcolor": "#E5ECF6",
            "gridcolor": "white",
            "gridwidth": 2,
            "linecolor": "white",
            "showbackground": true,
            "ticks": "",
            "zerolinecolor": "white"
           }
          },
          "shapedefaults": {
           "line": {
            "color": "#2a3f5f"
           }
          },
          "ternary": {
           "aaxis": {
            "gridcolor": "white",
            "linecolor": "white",
            "ticks": ""
           },
           "baxis": {
            "gridcolor": "white",
            "linecolor": "white",
            "ticks": ""
           },
           "bgcolor": "#E5ECF6",
           "caxis": {
            "gridcolor": "white",
            "linecolor": "white",
            "ticks": ""
           }
          },
          "title": {
           "x": 0.05
          },
          "xaxis": {
           "automargin": true,
           "gridcolor": "white",
           "linecolor": "white",
           "ticks": "",
           "title": {
            "standoff": 15
           },
           "zerolinecolor": "white",
           "zerolinewidth": 2
          },
          "yaxis": {
           "automargin": true,
           "gridcolor": "white",
           "linecolor": "white",
           "ticks": "",
           "title": {
            "standoff": 15
           },
           "zerolinecolor": "white",
           "zerolinewidth": 2
          }
         }
        },
        "title": {
         "text": "Average Price by Days Listed"
        },
        "xaxis": {
         "anchor": "y",
         "domain": [
          0,
          1
         ],
         "title": {
          "text": "Days Listed"
         }
        },
        "yaxis": {
         "anchor": "x",
         "domain": [
          0,
          1
         ],
         "title": {
          "text": "sum of Average Price"
         }
        }
       }
      }
     },
     "metadata": {},
     "output_type": "display_data"
    }
   ],
   "source": [
    "px.histogram(car_data, x='days_listed', y='price', title='Average Price by Days Listed', labels={'days_listed': 'Days Listed', 'price': 'Average Price'}, height=400, nbins=200).show()"
   ]
  },
  {
   "cell_type": "code",
   "execution_count": 67,
   "id": "2439b6fd",
   "metadata": {},
   "outputs": [
    {
     "data": {
      "application/vnd.plotly.v1+json": {
       "config": {
        "plotlyServerURL": "https://plot.ly"
       },
       "data": [
        {
         "hovertemplate": "Days Listed=%{x}<br>Odometer=%{y}<extra></extra>",
         "legendgroup": "",
         "marker": {
          "color": "#636efa",
          "symbol": "circle"
         },
         "mode": "markers",
         "name": "",
         "showlegend": false,
         "type": "scattergl",
         "x": {
          "bdata": "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",
          "dtype": "i2"
         },
         "xaxis": "x",
         "y": {
          "bdata": "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",
          "dtype": "i4"
         },
         "yaxis": "y"
        },
        {
         "hovertemplate": "<b>OLS trendline</b><br>odometer = 26.6904 * days_listed + 116650<br>R<sup>2</sup>=0.000130<br><br>Days Listed=%{x}<br>Odometer=%{y} <b>(trend)</b><extra></extra>",
         "legendgroup": "",
         "marker": {
          "color": "#636efa",
          "symbol": "circle"
         },
         "mode": "lines",
         "name": "",
         "showlegend": false,
         "type": "scattergl",
         "x": {
          "bdata": "AAAAAAAAAAAAAAAAAAAAAAAAAAAAAAAAAAAAAAEAAQABAAEAAQABAAEAAQABAAEAAQABAAEAAQABAAEAAQABAAEAAQABAAEAAQABAAEAAQABAAEAAQABAAEAAQABAAEAAQABAAEAAQABAAEAAQABAAEAAQABAAEAAQACAAIAAgACAAIAAgACAAIAAgACAAIAAgACAAIAAgACAAIAAgACAAIAAgACAAIAAgACAAIAAgACAAIAAgACAAIAAgACAAIAAgACAAIAAgACAAIAAgACAAIAAgACAAIAAgACAAIAAgACAAIAAgACAAIAAgACAAIAAgACAAIAAgACAAIAAgACAAIAAgADAAMAAwADAAMAAwADAAMAAwADAAMAAwADAAMAAwADAAMAAwADAAMAAwADAAMAAwADAAMAAwADAAMAAwADAAMAAwADAAMAAwADAAMAAwADAAMAAwADAAMAAwADAAMAAwADAAMAAwADAAMAAwADAAMAAwADAAMAAwADAAMAAwADAAMAAwADAAMAAwADAAMAAwADAAMAAwADAAMAAwADAAMAAwADAAMAAwADAAMAAwADAAMAAwADAAMAAwADAAMAAwADAAMAAwADAAMAAwADAAMAAwADAAMAAwADAAMAAwADAAMAAwADAAMAAwADAAMAAwADAAMAAwADAAMAAwADAAMAAwADAAMAAwADAAMAAwADAAMABAAEAAQABAAEAAQABAAEAAQABAAEAAQABAAEAAQABAAEAAQABAAEAAQABAAEAAQABAAEAAQABAAEAAQABAAEAAQABAAEAAQABAAEAAQABAAEAAQABAAEAAQABAAEAAQABAAEAAQABAAEAAQABAAEAAQABAAEAAQABAAEAAQABAAEAAQABAAEAAQABAAEAAQABAAEAAQABAAEAAQABAAEAAQABAAEAAQABAAEAAQABAAEAAQABAAEAAQABAAEAAQABAAEAAQABAAEAAQABAAEAAQABAAEAAQABAAEAAQABAAEAAQABAAEAAQABAAEAAQABAAEAAQABAAEAAQABAAEAAQABAAEAAQABAAEAAQABAAFAAUABQAFAAUABQAFAAUABQAFAAUABQAFAAUABQAFAAUABQAFAAUABQAFAAUABQAFAAUABQAFAAUABQAFAAUABQAFAAUABQAFAAUABQAFAAUABQAFAAUABQAFAAUABQAFAAUABQAFAAUABQAFAAUABQAFAAUABQAFAAUABQAFAAUABQAFAAUABQAFAAUABQAFAAUABQAFAAUABQAFAAUABQAFAAUABQAFAAUABQAFAAUABQAFAAUABQAFAAUABQAFAAUABQAFAAUABQAFAAUABQAFAAUABQAFAAUABQAFAAUABQAFAAUABQAFAAUABQAFAAUABQAFAAUABQAFAAUABQAFAAUABQAFAAUABQAFAAUABQAGAAYABgAGAAYABgAGAAYABgAGAAYABgAGAAYABgAGAAYABgAGAAYABgAGAAYABgAGAAYABgAGAAYABgAGAAYABgAGAAYABgAGAAYABgAGAAYABgAGAAYABgAGAAYABgAGAAYABgAGAAYABgAGAAYABgAGAAYABgAGAAYABgAGAAYABgAGAAYABgAGAAYABgAGAAYABgAGAAYABgAGAAYABgAGAAYABgAGAAYABgAGAAYABgAGAAYABgAGAAYABgAGAAYABgAGAAYABgAGAAYABgAGAAYABgAGAAYABgAGAAYABgAGAAYABgAGAAYABgAGAAYABgAGAAYABgAGAAYABgAGAAYABgAGAAYABgAGAAYABgAGAAYABwAHAAcABwAHAAcABwAHAAcABwAHAAcABwAHAAcABwAHAAcABwAHAAcABwAHAAcABwAHAAcABwAHAAcABwAHAAcABwAHAAcABwAHAAcABwAHAAcABwAHAAcABwAHAAcABwAHAAcABwAHAAcABwAHAAcABwAHAAcABwAHAAcABwAHAAcABwAHAAcABwAHAAcABwAHAAcABwAHAAcABwAHAAcABwAHAAcABwAHAAcABwAHAAcABwAHAAcABwAHAAcABwAHAAcABwAHAAcABwAHAAcABwAHAAcABwAHAAcABwAHAAcABwAHAAcABwAHAAcABwAHAAcABwAHAAcABwAHAAcABwAHAAcABwAHAAcABwAHAAcABwAHAAcABwAHAAcABwAHAAcABwAHAAcABwAHAAcABwAHAAcABwAHAAcABwAHAAcABwAHAAcABwAHAAcABwAHAAcABwAHAAcABwAHAAcABwAHAAcABwAHAAcABwAHAAcABwAHAAcABwAHAAcABwAHAAcABwAHAAcABwAHAAcABwAHAAcABwAHAAcABwAHAAcABwAHAAcACAAIAAgACAAIAAgACAAIAAgACAAIAAgACAAIAAgACAAIAAgACAAIAAgACAAIAAgACAAIAAgACAAIAAgACAAIAAgACAAIAAgACAAIAAgACAAIAAgACAAIAAgACAAIAAgACAAIAAgACAAIAAgACAAIAAgACAAIAAgACAAIAAgACAAIAAgACAAIAAgACAAIAAgACAAIAAgACAAIAAgACAAIAAgACAAIAAgACAAIAAgACAAIAAgACAAIAAgACAAIAAgACAAIAAgACAAIAAgACAAIAAgACAAIAAgACAAIAAgACAAIAAgACAAIAAgACAAIAAgACAAIAAgACAAIAAgACAAIAAgACAAIAAgACAAIAAgACAAIAAgACAAIAAgACAAIAAgACAAIAAgACAAIAAgACAAIAAgACAAIAAgACAAIAAgACAAIAAgACAAIAAgACAAIAAgACAAIAAgACAAIAAgACAAIAAgACAAIAAgACAAIAAgACAAIAAgACAAIAAgACAAIAAgACAAIAAgACAAIAAgACAAIAAgACAAIAAgACAAIAAgACAAIAAgACAAIAAgACAAIAAgACAAIAAgACAAIAAgACAAJAAkACQAJAAkACQAJAAkACQAJAAkACQAJAAkACQAJAAkACQAJAAkACQAJAAkACQAJAAkACQAJAAkACQAJAAkACQAJAAkACQAJAAkACQAJAAkACQAJAAkACQAJAAkACQAJAAkACQAJAAkACQAJAAkACQAJAAkACQAJAAkACQAJAAkACQAJAAkACQAJAAkACQAJAAkACQAJAAkACQAJAAkACQAJAAkACQAJAAkACQAJAAkACQAJAAkACQAJAAkACQAJAAkACQAJAAkACQAJAAkACQAJAAkACQAJAAkACQAJAAkACQAJAAkACQAJAAkACQAJAAkACQAJAAkACQAJAAkACQAJAAkACQAJAAkACQAJAAkACQAJAAkACQAJAAkACQAJAAkACQAJAAkACQAJAAkACQAJAAkACQAJAAkACQAJAAkACQAJAAkACQAJAAkACQAJAAkACQAJAAkACQAJAAkACQAJAAkACQAJAAkACQAJAAkACQAJAAkACQAJAAkACQAJAAkACQAJAAkACQAKAAoACgAKAAoACgAKAAoACgAKAAoACgAKAAoACgAKAAoACgAKAAoACgAKAAoACgAKAAoACgAKAAoACgAKAAoACgAKAAoACgAKAAoACgAKAAoACgAKAAoACgAKAAoACgAKAAoACgAKAAoACgAKAAoACgAKAAoACgAKAAoACgAKAAoACgAKAAoACgAKAAoACgAKAAoACgAKAAoACgAKAAoACgAKAAoACgAKAAoACgAKAAoACgAKAAoACgAKAAoACgAKAAoACgAKAAoACgAKAAoACgAKAAoACgAKAAoACgAKAAoACgAKAAoACgAKAAoACgAKAAoACgAKAAoACgAKAAoACgAKAAoACgAKAAoACgAKAAoACgAKAAoACgAKAAoACgAKAAoACgAKAAoACgAKAAoACgAKAAoACgAKAAoACgAKAAoACgAKAAoACgAKAAoACgAKAAoACgAKAAoACgAKAAoACgAKAAoACgAKAAoACgAKAAoACgAKAAoACgAKAAoACgAKAAoACgAKAAoACgAKAAoACgAKAAoACgAKAAoACgAKAAoACgAKAAoACgAKAAoACgAKAAoACgAKAAoACgAKAAoACwALAAsACwALAAsACwALAAsACwALAAsACwALAAsACwALAAsACwALAAsACwALAAsACwALAAsACwALAAsACwALAAsACwALAAsACwALAAsACwALAAsACwALAAsACwALAAsACwALAAsACwALAAsACwALAAsACwALAAsACwALAAsACwALAAsACwALAAsACwALAAsACwALAAsACwALAAsACwALAAsACwALAAsACwALAAsACwALAAsACwALAAsACwALAAsACwALAAsACwALAAsACwALAAsACwALAAsACwALAAsACwALAAsACwALAAsACwALAAsACwALAAsACwALAAsACwALAAsACwALAAsACwALAAsACwALAAsACwALAAsACwALAAsACwALAAsACwALAAsACwALAAsACwALAAsACwALAAsACwALAAsACwALAAsACwALAAsACwALAAsACwALAAsACwALAAsACwALAAsACwALAAsACwALAAsACwALAAsACwALAAsACwALAAsACwALAAsACwALAAsACwALAAsACwALAAsACwALAAsACwALAAsACwALAAsACwALAAsACwALAAsACwALAAsACwALAAsACwALAAsACwALAAsACwALAAsACwALAAsACwAMAAwADAAMAAwADAAMAAwADAAMAAwADAAMAAwADAAMAAwADAAMAAwADAAMAAwADAAMAAwADAAMAAwADAAMAAwADAAMAAwADAAMAAwADAAMAAwADAAMAAwADAAMAAwADAAMAAwADAAMAAwADAAMAAwADAAMAAwADAAMAAwADAAMAAwADAAMAAwADAAMAAwADAAMAAwADAAMAAwADAAMAAwADAAMAAwADAAMAAwADAAMAAwADAAMAAwADAAMAAwADAAMAAwADAAMAAwADAAMAAwADAAMAAwADAAMAAwADAAMAAwADAAMAAwADAAMAAwADAAMAAwADAAMAAwADAAMAAwADAAMAAwADAAMAAwADAAMAAwADAAMAAwADAAMAAwADAAMAAwADAAMAAwADAAMAAwADAAMAAwADAAMAAwADAAMAAwADAAMAAwADAAMAAwADAAMAAwADAAMAAwADAAMAAwADAAMAAwADAAMAAwADAAMAAwADAAMAAwADAAMAAwADAAMAAwADAAMAAwADAAMAAwADAAMAAwADAAMAAwADAAMAAwADAAMAAwADAAMAAwADAAMAAwADAAMAAwADAAMAAwADAAMAAwADAAMAAwADAAMAAwADAAMAAwADAAMAAwADAAMAAwADAANAA0ADQANAA0ADQANAA0ADQANAA0ADQANAA0ADQANAA0ADQANAA0ADQANAA0ADQANAA0ADQANAA0ADQANAA0ADQANAA0ADQANAA0ADQANAA0ADQANAA0ADQANAA0ADQANAA0ADQANAA0ADQANAA0ADQANAA0ADQANAA0ADQANAA0ADQANAA0ADQANAA0ADQANAA0ADQANAA0ADQANAA0ADQANAA0ADQANAA0ADQANAA0ADQANAA0ADQANAA0ADQANAA0ADQANAA0ADQANAA0ADQANAA0ADQANAA0ADQANAA0ADQANAA0ADQANAA0ADQANAA0ADQANAA0ADQANAA0ADQANAA0ADQANAA0ADQANAA0ADQANAA0ADQANAA0ADQANAA0ADQANAA0ADQANAA0ADQANAA0ADQANAA0ADQANAA0ADQANAA0ADQANAA0ADQANAA0ADQANAA0ADQANAA0ADQANAA0ADQANAA0ADQANAA0ADQANAA0ADQANAA0ADQANAA0ADQANAA0ADQANAA0ADQANAA0ADQANAA0ADQANAA0ADQANAA0ADQANAA0ADQANAA0ADQANAA0ADQANAA0ADQANAA0ADQANAA0ADQANAA0ADQANAA0ADQANAA0ADQANAA0ADQANAA0ADQANAA0ADQANAA0ADQANAA0ADQANAA0ADQANAA4ADgAOAA4ADgAOAA4ADgAOAA4ADgAOAA4ADgAOAA4ADgAOAA4ADgAOAA4ADgAOAA4ADgAOAA4ADgAOAA4ADgAOAA4ADgAOAA4ADgAOAA4ADgAOAA4ADgAOAA4ADgAOAA4ADgAOAA4ADgAOAA4ADgAOAA4ADgAOAA4ADgAOAA4ADgAOAA4ADgAOAA4ADgAOAA4ADgAOAA4ADgAOAA4ADgAOAA4ADgAOAA4ADgAOAA4ADgAOAA4ADgAOAA4ADgAOAA4ADgAOAA4ADgAOAA4ADgAOAA4ADgAOAA4ADgAOAA4ADgAOAA4ADgAOAA4ADgAOAA4ADgAOAA4ADgAOAA4ADgAOAA4ADgAOAA4ADgAOAA4ADgAOAA4ADgAOAA4ADgAOAA4ADgAOAA4ADgAOAA4ADgAOAA4ADgAOAA4ADgAOAA4ADgAOAA4ADgAOAA4ADgAOAA4ADgAOAA4ADgAOAA4ADgAOAA4ADgAOAA4ADgAOAA4ADgAOAA4ADgAOAA4ADgAOAA4ADgAOAA4ADgAOAA4ADgAOAA4ADgAOAA4ADgAOAA4ADgAOAA4ADgAOAA4ADgAOAA4ADgAOAA4ADgAOAA4ADgAOAA4ADgAOAA4ADgAOAA4ADgAOAA4ADgAOAA4ADgAOAA4ADgAOAA4ADgAOAA4ADgAOAA8ADwAPAA8ADwAPAA8ADwAPAA8ADwAPAA8ADwAPAA8ADwAPAA8ADwAPAA8ADwAPAA8ADwAPAA8ADwAPAA8ADwAPAA8ADwAPAA8ADwAPAA8ADwAPAA8ADwAPAA8ADwAPAA8ADwAPAA8ADwAPAA8ADwAPAA8ADwAPAA8ADwAPAA8ADwAPAA8ADwAPAA8ADwAPAA8ADwAPAA8ADwAPAA8ADwAPAA8ADwAPAA8ADwAPAA8ADwAPAA8ADwAPAA8ADwAPAA8ADwAPAA8ADwAPAA8ADwAPAA8ADwAPAA8ADwAPAA8ADwAPAA8ADwAPAA8ADwAPAA8ADwAPAA8ADwAPAA8ADwAPAA8ADwAPAA8ADwAPAA8ADwAPAA8ADwAPAA8ADwAPAA8ADwAPAA8ADwAPAA8ADwAPAA8ADwAPAA8ADwAPAA8ADwAPAA8ADwAPAA8ADwAPAA8ADwAPAA8ADwAPAA8ADwAPAA8ADwAPAA8ADwAPAA8ADwAPAA8ADwAPAA8ADwAPAA8ADwAPAA8ADwAPAA8ADwAPAA8ADwAPAA8ADwAPAA8ADwAPAA8ADwAPAA8ADwAPAA8ADwAPAA8ADwAPAA8ADwAPAA8ADwAPABAAEAAQABAAEAAQABAAEAAQABAAEAAQABAAEAAQABAAEAAQABAAEAAQABAAEAAQABAAEAAQABAAEAAQABAAEAAQABAAEAAQABAAEAAQABAAEAAQABAAEAAQABAAEAAQABAAEAAQABAAEAAQABAAEAAQABAAEAAQABAAEAAQABAAEAAQABAAEAAQABAAEAAQABAAEAAQABAAEAAQABAAEAAQABAAEAAQABAAEAAQABAAEAAQABAAEAAQABAAEAAQABAAEAAQABAAEAAQABAAEAAQABAAEAAQABAAEAAQABAAEAAQABAAEAAQABAAEAAQABAAEAAQABAAEAAQABAAEAAQABAAEAAQABAAEAAQABAAEAAQABAAEAAQABAAEAAQABAAEAAQABAAEAAQABAAEAAQABAAEAAQABAAEAAQABAAEAAQABAAEAAQABAAEAAQABAAEAAQABAAEAAQABAAEAAQABAAEAAQABAAEAAQABAAEAAQABAAEAAQABAAEAAQABAAEAAQABAAEAAQABAAEAAQABAAEAAQABAAEAAQABAAEAAQABAAEAAQABAAEAAQABAAEAAQABAAEAAQABAAEAAQABAAEAAQABAAEAAQABAAEAAQABAAEAAQABAAEAAQABAAEAAQABAAEAAQABAAEAAQABAAEAAQABAAEAAQABAAEAAQABAAEAAQABAAEAAQABAAEAAQABEAEQARABEAEQARABEAEQARABEAEQARABEAEQARABEAEQARABEAEQARABEAEQARABEAEQARABEAEQARABEAEQARABEAEQARABEAEQARABEAEQARABEAEQARABEAEQARABEAEQARABEAEQARABEAEQARABEAEQARABEAEQARABEAEQARABEAEQARABEAEQARABEAEQARABEAEQARABEAEQARABEAEQARABEAEQARABEAEQARABEAEQARABEAEQARABEAEQARABEAEQARABEAEQARABEAEQARABEAEQARABEAEQARABEAEQARABEAEQARABEAEQARABEAEQARABEAEQARABEAEQARABEAEQARABEAEQARABEAEQARABEAEQARABEAEQARABEAEQARABEAEQARABEAEQARABEAEQARABEAEQARABEAEQARABEAEQARABEAEQARABEAEQARABEAEQARABEAEQARABEAEQARABEAEQARABEAEQARABEAEQARABEAEQARABEAEQARABEAEQARABEAEQARABEAEQARABEAEQARABEAEQARABEAEQARABEAEQARABEAEQARABEAEQARABEAEQARABEAEQARABEAEQARABEAEQARABEAEQARABEAEQARABEAEQARABEAEQARABEAEQARABEAEQARABEAEQARABEAEgASABIAEgASABIAEgASABIAEgASABIAEgASABIAEgASABIAEgASABIAEgASABIAEgASABIAEgASABIAEgASABIAEgASABIAEgASABIAEgASABIAEgASABIAEgASABIAEgASABIAEgASABIAEgASABIAEgASABIAEgASABIAEgASABIAEgASABIAEgASABIAEgASABIAEgASABIAEgASABIAEgASABIAEgASABIAEgASABIAEgASABIAEgASABIAEgASABIAEgASABIAEgASABIAEgASABIAEgASABIAEgASABIAEgASABIAEgASABIAEgASABIAEgASABIAEgASABIAEgASABIAEgASABIAEgASABIAEgASABIAEgASABIAEgASABIAEgASABIAEgASABIAEgASABIAEgASABIAEgASABIAEgASABIAEgASABIAEgASABIAEgASABIAEgASABIAEgASABIAEgASABIAEgASABIAEgASABIAEgASABIAEgASABIAEgASABIAEgASABIAEgASABIAEgASABIAEgASABIAEgASABIAEgASABIAEgASABIAEgASABIAEgASABIAEgASABIAEgASABIAEgASABIAEgASABIAEgASABIAEgASABIAEgASABIAEgASABIAEgASABIAEgASABIAEgASABIAEgASABIAEgASABIAEwATABMAEwATABMAEwATABMAEwATABMAEwATABMAEwATABMAEwATABMAEwATABMAEwATABMAEwATABMAEwATABMAEwATABMAEwATABMAEwATABMAEwATABMAEwATABMAEwATABMAEwATABMAEwATABMAEwATABMAEwATABMAEwATABMAEwATABMAEwATABMAEwATABMAEwATABMAEwATABMAEwATABMAEwATABMAEwATABMAEwATABMAEwATABMAEwATABMAEwATABMAEwATABMAEwATABMAEwATABMAEwATABMAEwATABMAEwATABMAEwATABMAEwATABMAEwATABMAEwATABMAEwATABMAEwATABMAEwATABMAEwATABMAEwATABMAEwATABMAEwATABMAEwATABMAEwATABMAEwATABMAEwATABMAEwATABMAEwATABMAEwATABMAEwATABMAEwATABMAEwATABMAEwATABMAEwATABMAEwATABMAEwATABMAEwATABMAEwATABMAEwATABMAEwATABMAEwATABMAEwATABMAEwATABMAEwATABMAEwATABMAEwATABMAEwATABMAEwATABMAEwATABMAEwATABMAEwATABMAEwATABMAEwATABMAEwATABMAEwATABMAEwATABQAFAAUABQAFAAUABQAFAAUABQAFAAUABQAFAAUABQAFAAUABQAFAAUABQAFAAUABQAFAAUABQAFAAUABQAFAAUABQAFAAUABQAFAAUABQAFAAUABQAFAAUABQAFAAUABQAFAAUABQAFAAUABQAFAAUABQAFAAUABQAFAAUABQAFAAUABQAFAAUABQAFAAUABQAFAAUABQAFAAUABQAFAAUABQAFAAUABQAFAAUABQAFAAUABQAFAAUABQAFAAUABQAFAAUABQAFAAUABQAFAAUABQAFAAUABQAFAAUABQAFAAUABQAFAAUABQAFAAUABQAFAAUABQAFAAUABQAFAAUABQAFAAUABQAFAAUABQAFAAUABQAFAAUABQAFAAUABQAFAAUABQAFAAUABQAFAAUABQAFAAUABQAFAAUABQAFAAUABQAFAAUABQAFAAUABQAFAAUABQAFAAUABQAFAAUABQAFAAUABQAFAAUABQAFAAUABQAFAAUABQAFAAUABQAFAAUABQAFAAUABQAFAAUABQAFAAUABQAFAAUABQAFAAUABQAFAAUABQAFAAUABQAFAAUABQAFAAUABQAFAAUABQAFAAUABQAFAAUABQAFAAUABQAFAAUABQAFAAUABQAFAAVABUAFQAVABUAFQAVABUAFQAVABUAFQAVABUAFQAVABUAFQAVABUAFQAVABUAFQAVABUAFQAVABUAFQAVABUAFQAVABUAFQAVABUAFQAVABUAFQAVABUAFQAVABUAFQAVABUAFQAVABUAFQAVABUAFQAVABUAFQAVABUAFQAVABUAFQAVABUAFQAVABUAFQAVABUAFQAVABUAFQAVABUAFQAVABUAFQAVABUAFQAVABUAFQAVABUAFQAVABUAFQAVABUAFQAVABUAFQAVABUAFQAVABUAFQAVABUAFQAVABUAFQAVABUAFQAVABUAFQAVABUAFQAVABUAFQAVABUAFQAVABUAFQAVABUAFQAVABUAFQAVABUAFQAVABUAFQAVABUAFQAVABUAFQAVABUAFQAVABUAFQAVABUAFQAVABUAFQAVABUAFQAVABUAFQAVABUAFQAVABUAFQAVABUAFQAVABUAFQAVABUAFQAVABUAFQAVABUAFQAVABUAFQAVABUAFQAVABUAFQAVABUAFQAVABUAFQAVABUAFQAVABUAFQAVABUAFQAVABUAFQAVABUAFQAVABUAFQAVABUAFQAVABUAFQAVABUAFQAVABUAFQAVABUAFQAVABUAFgAWABYAFgAWABYAFgAWABYAFgAWABYAFgAWABYAFgAWABYAFgAWABYAFgAWABYAFgAWABYAFgAWABYAFgAWABYAFgAWABYAFgAWABYAFgAWABYAFgAWABYAFgAWABYAFgAWABYAFgAWABYAFgAWABYAFgAWABYAFgAWABYAFgAWABYAFgAWABYAFgAWABYAFgAWABYAFgAWABYAFgAWABYAFgAWABYAFgAWABYAFgAWABYAFgAWABYAFgAWABYAFgAWABYAFgAWABYAFgAWABYAFgAWABYAFgAWABYAFgAWABYAFgAWABYAFgAWABYAFgAWABYAFgAWABYAFgAWABYAFgAWABYAFgAWABYAFgAWABYAFgAWABYAFgAWABYAFgAWABYAFgAWABYAFgAWABYAFgAWABYAFgAWABYAFgAWABYAFgAWABYAFgAWABYAFgAWABYAFgAWABYAFgAWABYAFgAWABYAFgAWABYAFgAWABYAFgAWABYAFgAWABYAFgAWABYAFgAWABYAFgAWABYAFgAWABYAFgAWABYAFgAWABYAFgAWABYAFgAWABYAFgAWABYAFgAWABYAFgAWABYAFgAWABYAFgAWABYAFgAWABYAFgAWABYAFgAWABYAFgAWABYAFgAWABYAFgAWABYAFgAWABYAFgAWABYAFgAWABYAFgAWABYAFgAWABYAFgAXABcAFwAXABcAFwAXABcAFwAXABcAFwAXABcAFwAXABcAFwAXABcAFwAXABcAFwAXABcAFwAXABcAFwAXABcAFwAXABcAFwAXABcAFwAXABcAFwAXABcAFwAXABcAFwAXABcAFwAXABcAFwAXABcAFwAXABcAFwAXABcAFwAXABcAFwAXABcAFwAXABcAFwAXABcAFwAXABcAFwAXABcAFwAXABcAFwAXABcAFwAXABcAFwAXABcAFwAXABcAFwAXABcAFwAXABcAFwAXABcAFwAXABcAFwAXABcAFwAXABcAFwAXABcAFwAXABcAFwAXABcAFwAXABcAFwAXABcAFwAXABcAFwAXABcAFwAXABcAFwAXABcAFwAXABcAFwAXABcAFwAXABcAFwAXABcAFwAXABcAFwAXABcAFwAXABcAFwAXABcAFwAXABcAFwAXABcAFwAXABcAFwAXABcAFwAXABcAFwAXABcAFwAXABcAFwAXABcAFwAXABcAFwAXABcAFwAXABcAFwAXABcAFwAXABcAFwAXABcAFwAXABcAFwAXABcAFwAXABcAFwAXABcAFwAXABcAFwAXABcAFwAXABcAFwAXABcAFwAXABcAFwAXABcAFwAXABcAFwAXABcAFwAXABcAFwAXABcAFwAXABcAFwAXABcAFwAYABgAGAAYABgAGAAYABgAGAAYABgAGAAYABgAGAAYABgAGAAYABgAGAAYABgAGAAYABgAGAAYABgAGAAYABgAGAAYABgAGAAYABgAGAAYABgAGAAYABgAGAAYABgAGAAYABgAGAAYABgAGAAYABgAGAAYABgAGAAYABgAGAAYABgAGAAYABgAGAAYABgAGAAYABgAGAAYABgAGAAYABgAGAAYABgAGAAYABgAGAAYABgAGAAYABgAGAAYABgAGAAYABgAGAAYABgAGAAYABgAGAAYABgAGAAYABgAGAAYABgAGAAYABgAGAAYABgAGAAYABgAGAAYABgAGAAYABgAGAAYABgAGAAYABgAGAAYABgAGAAYABgAGAAYABgAGAAYABgAGAAYABgAGAAYABgAGAAYABgAGAAYABgAGAAYABgAGAAYABgAGAAYABgAGAAYABgAGAAYABgAGAAYABgAGAAYABgAGAAYABgAGAAYABgAGAAYABgAGAAYABgAGAAYABgAGAAYABgAGAAYABgAGAAYABgAGAAYABgAGAAYABgAGAAYABgAGAAYABgAGAAYABgAGAAYABgAGAAYABgAGAAYABgAGAAYABgAGAAYABgAGAAYABgAGAAYABgAGAAYABgAGAAYABgAGAAYABgAGAAYABgAGAAYABgAGAAYABgAGAAYABgAGAAYABgAGAAYABgAGAAYABgAGAAYABgAGAAYABgAGAAYABgAGAAYABgAGAAYABgAGAAYABgAGAAYABgAGAAYABkAGQAZABkAGQAZABkAGQAZABkAGQAZABkAGQAZABkAGQAZABkAGQAZABkAGQAZABkAGQAZABkAGQAZABkAGQAZABkAGQAZABkAGQAZABkAGQAZABkAGQAZABkAGQAZABkAGQAZABkAGQAZABkAGQAZABkAGQAZABkAGQAZABkAGQAZABkAGQAZABkAGQAZABkAGQAZABkAGQAZABkAGQAZABkAGQAZABkAGQAZABkAGQAZABkAGQAZABkAGQAZABkAGQAZABkAGQAZABkAGQAZABkAGQAZABkAGQAZABkAGQAZABkAGQAZABkAGQAZABkAGQAZABkAGQAZABkAGQAZABkAGQAZABkAGQAZABkAGQAZABkAGQAZABkAGQAZABkAGQAZABkAGQAZABkAGQAZABkAGQAZABkAGQAZABkAGQAZABkAGQAZABkAGQAZABkAGQAZABkAGQAZABkAGQAZABkAGQAZABkAGQAZABkAGQAZABkAGQAZABkAGQAZABkAGQAZABkAGQAZABkAGQAZABkAGQAZABkAGQAZABkAGQAZABkAGQAZABkAGQAZABkAGQAZABkAGQAZABkAGQAZABkAGQAZABkAGQAZABkAGQAZABkAGQAZABkAGQAZABkAGQAZABkAGQAZABkAGQAZABkAGQAZABkAGQAZABkAGQAZABkAGQAZABkAGQAZABkAGQAZABoAGgAaABoAGgAaABoAGgAaABoAGgAaABoAGgAaABoAGgAaABoAGgAaABoAGgAaABoAGgAaABoAGgAaABoAGgAaABoAGgAaABoAGgAaABoAGgAaABoAGgAaABoAGgAaABoAGgAaABoAGgAaABoAGgAaABoAGgAaABoAGgAaABoAGgAaABoAGgAaABoAGgAaABoAGgAaABoAGgAaABoAGgAaABoAGgAaABoAGgAaABoAGgAaABoAGgAaABoAGgAaABoAGgAaABoAGgAaABoAGgAaABoAGgAaABoAGgAaABoAGgAaABoAGgAaABoAGgAaABoAGgAaABoAGgAaABoAGgAaABoAGgAaABoAGgAaABoAGgAaABoAGgAaABoAGgAaABoAGgAaABoAGgAaABoAGgAaABoAGgAaABoAGgAaABoAGgAaABoAGgAaABoAGgAaABoAGgAaABoAGgAaABoAGgAaABoAGgAaABoAGgAaABoAGgAaABoAGgAaABoAGgAaABoAGgAaABoAGgAaABoAGgAaABoAGgAaABoAGgAaABoAGgAaABoAGgAaABoAGgAaABoAGgAaABoAGgAaABoAGgAaABoAGgAaABoAGgAaABoAGgAaABoAGgAaABoAGgAaABoAGgAaABoAGgAaABoAGgAaABoAGgAaABoAGgAaABoAGgAaABoAGgAaABsAGwAbABsAGwAbABsAGwAbABsAGwAbABsAGwAbABsAGwAbABsAGwAbABsAGwAbABsAGwAbABsAGwAbABsAGwAbABsAGwAbABsAGwAbABsAGwAbABsAGwAbABsAGwAbABsAGwAbABsAGwAbABsAGwAbABsAGwAbABsAGwAbABsAGwAbABsAGwAbABsAGwAbABsAGwAbABsAGwAbABsAGwAbABsAGwAbABsAGwAbABsAGwAbABsAGwAbABsAGwAbABsAGwAbABsAGwAbABsAGwAbABsAGwAbABsAGwAbABsAGwAbABsAGwAbABsAGwAbABsAGwAbABsAGwAbABsAGwAbABsAGwAbABsAGwAbABsAGwAbABsAGwAbABsAGwAbABsAGwAbABsAGwAbABsAGwAbABsAGwAbABsAGwAbABsAGwAbABsAGwAbABsAGwAbABsAGwAbABsAGwAbABsAGwAbABsAGwAbABsAGwAbABsAGwAbABsAGwAbABsAGwAbABsAGwAbABsAGwAbABsAGwAbABsAGwAbABsAGwAbABsAGwAbABsAGwAbABsAGwAbABsAGwAbABsAGwAbABsAGwAbABsAGwAbABsAGwAbABsAGwAbABsAGwAbABsAGwAbABsAGwAbABsAGwAbABsAGwAbABsAGwAbABsAGwAbABsAGwAbABwAHAAcABwAHAAcABwAHAAcABwAHAAcABwAHAAcABwAHAAcABwAHAAcABwAHAAcABwAHAAcABwAHAAcABwAHAAcABwAHAAcABwAHAAcABwAHAAcABwAHAAcABwAHAAcABwAHAAcABwAHAAcABwAHAAcABwAHAAcABwAHAAcABwAHAAcABwAHAAcABwAHAAcABwAHAAcABwAHAAcABwAHAAcABwAHAAcABwAHAAcABwAHAAcABwAHAAcABwAHAAcABwAHAAcABwAHAAcABwAHAAcABwAHAAcABwAHAAcABwAHAAcABwAHAAcABwAHAAcABwAHAAcABwAHAAcABwAHAAcABwAHAAcABwAHAAcABwAHAAcABwAHAAcABwAHAAcABwAHAAcABwAHAAcABwAHAAcABwAHAAcABwAHAAcABwAHAAcABwAHAAcABwAHAAcABwAHAAcABwAHAAcABwAHAAcABwAHAAcABwAHAAcABwAHAAcABwAHAAcABwAHAAcABwAHAAcABwAHAAcABwAHAAcABwAHAAcABwAHAAcABwAHAAcABwAHAAcABwAHAAcABwAHAAcABwAHAAcABwAHAAcABwAHAAcABwAHAAcABwAHAAcABwAHAAcABwAHAAcABwAHAAcABwAHAAcABwAHAAcABwAHAAcABwAHAAcAB0AHQAdAB0AHQAdAB0AHQAdAB0AHQAdAB0AHQAdAB0AHQAdAB0AHQAdAB0AHQAdAB0AHQAdAB0AHQAdAB0AHQAdAB0AHQAdAB0AHQAdAB0AHQAdAB0AHQAdAB0AHQAdAB0AHQAdAB0AHQAdAB0AHQAdAB0AHQAdAB0AHQAdAB0AHQAdAB0AHQAdAB0AHQAdAB0AHQAdAB0AHQAdAB0AHQAdAB0AHQAdAB0AHQAdAB0AHQAdAB0AHQAdAB0AHQAdAB0AHQAdAB0AHQAdAB0AHQAdAB0AHQAdAB0AHQAdAB0AHQAdAB0AHQAdAB0AHQAdAB0AHQAdAB0AHQAdAB0AHQAdAB0AHQAdAB0AHQAdAB0AHQAdAB0AHQAdAB0AHQAdAB0AHQAdAB0AHQAdAB0AHQAdAB0AHQAdAB0AHQAdAB0AHQAdAB0AHQAdAB0AHQAdAB0AHQAdAB0AHQAdAB0AHQAdAB0AHQAdAB0AHQAdAB0AHQAdAB0AHQAdAB0AHQAdAB0AHQAdAB0AHQAdAB0AHQAdAB0AHQAdAB0AHQAdAB0AHQAdAB0AHQAdAB0AHQAdAB0AHQAdAB0AHQAdAB0AHQAdAB0AHQAdAB0AHQAdAB0AHQAdAB0AHQAdAB0AHQAdAB0AHQAdAB0AHQAdAB0AHQAdAB0AHQAdAB0AHQAdAB0AHQAdAB0AHQAdAB4AHgAeAB4AHgAeAB4AHgAeAB4AHgAeAB4AHgAeAB4AHgAeAB4AHgAeAB4AHgAeAB4AHgAeAB4AHgAeAB4AHgAeAB4AHgAeAB4AHgAeAB4AHgAeAB4AHgAeAB4AHgAeAB4AHgAeAB4AHgAeAB4AHgAeAB4AHgAeAB4AHgAeAB4AHgAeAB4AHgAeAB4AHgAeAB4AHgAeAB4AHgAeAB4AHgAeAB4AHgAeAB4AHgAeAB4AHgAeAB4AHgAeAB4AHgAeAB4AHgAeAB4AHgAeAB4AHgAeAB4AHgAeAB4AHgAeAB4AHgAeAB4AHgAeAB4AHgAeAB4AHgAeAB4AHgAeAB4AHgAeAB4AHgAeAB4AHgAeAB4AHgAeAB4AHgAeAB4AHgAeAB4AHgAeAB4AHgAeAB4AHgAeAB4AHgAeAB4AHgAeAB4AHgAeAB4AHgAeAB4AHgAeAB4AHgAeAB4AHgAeAB4AHgAeAB4AHgAeAB4AHgAeAB4AHgAeAB4AHgAeAB4AHgAeAB4AHgAeAB4AHgAeAB4AHgAeAB4AHgAeAB4AHgAeAB4AHgAeAB4AHgAeAB4AHgAeAB4AHgAeAB4AHgAeAB4AHgAeAB4AHgAeAB4AHgAeAB4AHgAfAB8AHwAfAB8AHwAfAB8AHwAfAB8AHwAfAB8AHwAfAB8AHwAfAB8AHwAfAB8AHwAfAB8AHwAfAB8AHwAfAB8AHwAfAB8AHwAfAB8AHwAfAB8AHwAfAB8AHwAfAB8AHwAfAB8AHwAfAB8AHwAfAB8AHwAfAB8AHwAfAB8AHwAfAB8AHwAfAB8AHwAfAB8AHwAfAB8AHwAfAB8AHwAfAB8AHwAfAB8AHwAfAB8AHwAfAB8AHwAfAB8AHwAfAB8AHwAfAB8AHwAfAB8AHwAfAB8AHwAfAB8AHwAfAB8AHwAfAB8AHwAfAB8AHwAfAB8AHwAfAB8AHwAfAB8AHwAfAB8AHwAfAB8AHwAfAB8AHwAfAB8AHwAfAB8AHwAfAB8AHwAfAB8AHwAfAB8AHwAfAB8AHwAfAB8AHwAfAB8AHwAfAB8AHwAfAB8AHwAfAB8AHwAfAB8AHwAfAB8AHwAfAB8AHwAfAB8AHwAfAB8AHwAfAB8AHwAfAB8AHwAfAB8AHwAfAB8AHwAfAB8AHwAfAB8AHwAfAB8AHwAfAB8AHwAfAB8AHwAfAB8AHwAfAB8AHwAfAB8AHwAfAB8AHwAfAB8AHwAfAB8AHwAfAB8AHwAfAB8AHwAfAB8AHwAfAB8AHwAfAB8AHwAfAB8AHwAfAB8AHwAfAB8AHwAfAB8AHwAfAB8AIAAgACAAIAAgACAAIAAgACAAIAAgACAAIAAgACAAIAAgACAAIAAgACAAIAAgACAAIAAgACAAIAAgACAAIAAgACAAIAAgACAAIAAgACAAIAAgACAAIAAgACAAIAAgACAAIAAgACAAIAAgACAAIAAgACAAIAAgACAAIAAgACAAIAAgACAAIAAgACAAIAAgACAAIAAgACAAIAAgACAAIAAgACAAIAAgACAAIAAgACAAIAAgACAAIAAgACAAIAAgACAAIAAgACAAIAAgACAAIAAgACAAIAAgACAAIAAgACAAIAAgACAAIAAgACAAIAAgACAAIAAgACAAIAAgACAAIAAgACAAIAAgACAAIAAgACAAIAAgACAAIAAgACAAIAAgACAAIAAgACAAIAAgACAAIAAgACAAIAAgACAAIAAgACAAIAAgACAAIAAgACAAIAAgACAAIAAgACAAIAAgACAAIAAgACAAIAAgACAAIAAgACAAIAAgACAAIAAgACAAIAAgACAAIAAgACAAIAAgACAAIAAgACAAIAAgACAAIAAgACAAIAAgACAAIAAgACAAIAAgACAAIAAgACAAIAAgACAAIAAgACAAIAAgACAAIAAgACAAIAAgACAAIAAgACAAIAAgACAAIAAgACAAIAAgACAAIAAgACAAIAAgACAAIAAgACAAIAAgACAAIAAgACAAIAAgACAAIAAhACEAIQAhACEAIQAhACEAIQAhACEAIQAhACEAIQAhACEAIQAhACEAIQAhACEAIQAhACEAIQAhACEAIQAhACEAIQAhACEAIQAhACEAIQAhACEAIQAhACEAIQAhACEAIQAhACEAIQAhACEAIQAhACEAIQAhACEAIQAhACEAIQAhACEAIQAhACEAIQAhACEAIQAhACEAIQAhACEAIQAhACEAIQAhACEAIQAhACEAIQAhACEAIQAhACEAIQAhACEAIQAhACEAIQAhACEAIQAhACEAIQAhACEAIQAhACEAIQAhACEAIQAhACEAIQAhACEAIQAhACEAIQAhACEAIQAhACEAIQAhACEAIQAhACEAIQAhACEAIQAhACEAIQAhACEAIQAhACEAIQAhACEAIQAhACEAIQAhACEAIQAhACEAIQAhACEAIQAhACEAIQAhACEAIQAhACEAIQAhACEAIQAhACEAIQAhACEAIQAhACEAIQAhACEAIQAhACEAIQAhACEAIQAhACEAIQAhACEAIQAhACEAIQAhACEAIQAhACEAIQAhACEAIQAhACEAIQAhACEAIQAhACEAIQAhACEAIQAhACEAIQAhACEAIQAhACEAIQAhACEAIQAhACEAIQAhACEAIQAhACEAIQAhACEAIQAiACIAIgAiACIAIgAiACIAIgAiACIAIgAiACIAIgAiACIAIgAiACIAIgAiACIAIgAiACIAIgAiACIAIgAiACIAIgAiACIAIgAiACIAIgAiACIAIgAiACIAIgAiACIAIgAiACIAIgAiACIAIgAiACIAIgAiACIAIgAiACIAIgAiACIAIgAiACIAIgAiACIAIgAiACIAIgAiACIAIgAiACIAIgAiACIAIgAiACIAIgAiACIAIgAiACIAIgAiACIAIgAiACIAIgAiACIAIgAiACIAIgAiACIAIgAiACIAIgAiACIAIgAiACIAIgAiACIAIgAiACIAIgAiACIAIgAiACIAIgAiACIAIgAiACIAIgAiACIAIgAiACIAIgAiACIAIgAiACIAIgAiACIAIgAiACIAIgAiACIAIgAiACIAIgAiACIAIgAiACIAIgAiACIAIgAiACIAIgAiACIAIgAiACIAIgAiACIAIgAiACIAIgAiACIAIgAiACIAIgAiACIAIgAiACIAIgAiACIAIgAiACIAIgAiACIAIgAiACIAIgAiACIAIgAiACIAIgAiACIAIgAiACIAIgAiACIAIgAiACIAIgAiACIAIgAiACIAIwAjACMAIwAjACMAIwAjACMAIwAjACMAIwAjACMAIwAjACMAIwAjACMAIwAjACMAIwAjACMAIwAjACMAIwAjACMAIwAjACMAIwAjACMAIwAjACMAIwAjACMAIwAjACMAIwAjACMAIwAjACMAIwAjACMAIwAjACMAIwAjACMAIwAjACMAIwAjACMAIwAjACMAIwAjACMAIwAjACMAIwAjACMAIwAjACMAIwAjACMAIwAjACMAIwAjACMAIwAjACMAIwAjACMAIwAjACMAIwAjACMAIwAjACMAIwAjACMAIwAjACMAIwAjACMAIwAjACMAIwAjACMAIwAjACMAIwAjACMAIwAjACMAIwAjACMAIwAjACMAIwAjACMAIwAjACMAIwAjACMAIwAjACMAIwAjACMAIwAjACMAIwAjACMAIwAjACMAIwAjACMAIwAjACMAIwAjACMAIwAjACMAIwAjACMAIwAjACMAIwAjACMAIwAjACMAIwAjACMAIwAjACMAIwAjACMAIwAjACMAIwAjACMAIwAjACMAIwAjACMAIwAjACMAIwAjACMAIwAjACMAIwAjACMAIwAjACMAIwAjACMAIwAjACMAIwAjACMAIwAjACMAIwAjACQAJAAkACQAJAAkACQAJAAkACQAJAAkACQAJAAkACQAJAAkACQAJAAkACQAJAAkACQAJAAkACQAJAAkACQAJAAkACQAJAAkACQAJAAkACQAJAAkACQAJAAkACQAJAAkACQAJAAkACQAJAAkACQAJAAkACQAJAAkACQAJAAkACQAJAAkACQAJAAkACQAJAAkACQAJAAkACQAJAAkACQAJAAkACQAJAAkACQAJAAkACQAJAAkACQAJAAkACQAJAAkACQAJAAkACQAJAAkACQAJAAkACQAJAAkACQAJAAkACQAJAAkACQAJAAkACQAJAAkACQAJAAkACQAJAAkACQAJAAkACQAJAAkACQAJAAkACQAJAAkACQAJAAkACQAJAAkACQAJAAkACQAJAAkACQAJAAkACQAJAAkACQAJAAkACQAJAAkACQAJAAkACQAJAAkACQAJAAkACQAJAAkACQAJAAkACQAJAAkACQAJAAkACQAJAAkACQAJAAkACQAJAAkACQAJAAkACQAJAAkACQAJAAkACQAJAAkACQAJAAkACQAJAAkACQAJAAkACQAJAAkACQAJAAkACQAJAAlACUAJQAlACUAJQAlACUAJQAlACUAJQAlACUAJQAlACUAJQAlACUAJQAlACUAJQAlACUAJQAlACUAJQAlACUAJQAlACUAJQAlACUAJQAlACUAJQAlACUAJQAlACUAJQAlACUAJQAlACUAJQAlACUAJQAlACUAJQAlACUAJQAlACUAJQAlACUAJQAlACUAJQAlACUAJQAlACUAJQAlACUAJQAlACUAJQAlACUAJQAlACUAJQAlACUAJQAlACUAJQAlACUAJQAlACUAJQAlACUAJQAlACUAJQAlACUAJQAlACUAJQAlACUAJQAlACUAJQAlACUAJQAlACUAJQAlACUAJQAlACUAJQAlACUAJQAlACUAJQAlACUAJQAlACUAJQAlACUAJQAlACUAJQAlACUAJQAlACUAJQAlACUAJQAlACUAJQAlACUAJQAlACUAJQAlACUAJQAlACUAJQAlACUAJQAlACUAJQAlACUAJQAlACUAJQAlACUAJQAlACUAJQAlACUAJQAlACUAJQAlACUAJQAlACUAJQAlACUAJQAlACUAJQAlACUAJQAlACUAJQAlACUAJgAmACYAJgAmACYAJgAmACYAJgAmACYAJgAmACYAJgAmACYAJgAmACYAJgAmACYAJgAmACYAJgAmACYAJgAmACYAJgAmACYAJgAmACYAJgAmACYAJgAmACYAJgAmACYAJgAmACYAJgAmACYAJgAmACYAJgAmACYAJgAmACYAJgAmACYAJgAmACYAJgAmACYAJgAmACYAJgAmACYAJgAmACYAJgAmACYAJgAmACYAJgAmACYAJgAmACYAJgAmACYAJgAmACYAJgAmACYAJgAmACYAJgAmACYAJgAmACYAJgAmACYAJgAmACYAJgAmACYAJgAmACYAJgAmACYAJgAmACYAJgAmACYAJgAmACYAJgAmACYAJgAmACYAJgAmACYAJgAmACYAJgAmACYAJgAmACYAJgAmACYAJgAmACYAJgAmACYAJgAmACYAJgAmACYAJgAmACYAJgAmACYAJgAmACYAJgAmACYAJgAmACYAJgAmACYAJgAmACYAJgAmACYAJgAmACYAJgAmACYAJgAmACYAJgAmACYAJgAnACcAJwAnACcAJwAnACcAJwAnACcAJwAnACcAJwAnACcAJwAnACcAJwAnACcAJwAnACcAJwAnACcAJwAnACcAJwAnACcAJwAnACcAJwAnACcAJwAnACcAJwAnACcAJwAnACcAJwAnACcAJwAnACcAJwAnACcAJwAnACcAJwAnACcAJwAnACcAJwAnACcAJwAnACcAJwAnACcAJwAnACcAJwAnACcAJwAnACcAJwAnACcAJwAnACcAJwAnACcAJwAnACcAJwAnACcAJwAnACcAJwAnACcAJwAnACcAJwAnACcAJwAnACcAJwAnACcAJwAnACcAJwAnACcAJwAnACcAJwAnACcAJwAnACcAJwAnACcAJwAnACcAJwAnACcAJwAnACcAJwAnACcAJwAnACcAJwAnACcAJwAnACcAJwAnACcAJwAnACcAJwAnACcAJwAnACcAJwAnACcAJwAnACcAJwAnACcAJwAnACcAJwAnACcAJwAnACcAJwAnACgAKAAoACgAKAAoACgAKAAoACgAKAAoACgAKAAoACgAKAAoACgAKAAoACgAKAAoACgAKAAoACgAKAAoACgAKAAoACgAKAAoACgAKAAoACgAKAAoACgAKAAoACgAKAAoACgAKAAoACgAKAAoACgAKAAoACgAKAAoACgAKAAoACgAKAAoACgAKAAoACgAKAAoACgAKAAoACgAKAAoACgAKAAoACgAKAAoACgAKAAoACgAKAAoACgAKAAoACgAKAAoACgAKAAoACgAKAAoACgAKAAoACgAKAAoACgAKAAoACgAKAAoACgAKAAoACgAKAAoACgAKAAoACgAKAAoACgAKAAoACgAKAAoACgAKAAoACgAKAAoACgAKAAoACgAKAAoACgAKAAoACgAKAAoACgAKAAoACgAKAAoACgAKAAoACgAKAAoACgAKAAoACgAKAAoACgAKAAoACgAKAAoACgAKAAoACgAKAAoACgAKAAoACgAKAAoACgAKAAoACgAKAAoACgAKAAoACgAKAAoACgAKAAoACgAKAAoACgAKAAoACgAKAAoACgAKAAoACgAKAAoACgAKAAoACgAKAAoACgAKQApACkAKQApACkAKQApACkAKQApACkAKQApACkAKQApACkAKQApACkAKQApACkAKQApACkAKQApACkAKQApACkAKQApACkAKQApACkAKQApACkAKQApACkAKQApACkAKQApACkAKQApACkAKQApACkAKQApACkAKQApACkAKQApACkAKQApACkAKQApACkAKQApACkAKQApACkAKQApACkAKQApACkAKQApACkAKQApACkAKQApACkAKQApACkAKQApACkAKQApACkAKQApACkAKQApACkAKQApACkAKQApACkAKQApACkAKQApACkAKQApACkAKQApACkAKQApACkAKQApACkAKQApACkAKQApACkAKQApACkAKQApACkAKQApACkAKQApACkAKQApACkAKQApACkAKQApACkAKQApACkAKQApACkAKQApACkAKQApACkAKQApACkAKQAqACoAKgAqACoAKgAqACoAKgAqACoAKgAqACoAKgAqACoAKgAqACoAKgAqACoAKgAqACoAKgAqACoAKgAqACoAKgAqACoAKgAqACoAKgAqACoAKgAqACoAKgAqACoAKgAqACoAKgAqACoAKgAqACoAKgAqACoAKgAqACoAKgAqACoAKgAqACoAKgAqACoAKgAqACoAKgAqACoAKgAqACoAKgAqACoAKgAqACoAKgAqACoAKgAqACoAKgAqACoAKgAqACoAKgAqACoAKgAqACoAKgAqACoAKgAqACoAKgAqACoAKgAqACoAKgAqACoAKgAqACoAKgAqACoAKgAqACoAKgAqACoAKgAqACoAKgAqACoAKgAqACoAKgAqACoAKgAqACoAKgAqACoAKgAqACoAKgAqACoAKgAqACoAKgAqACoAKgAqACoAKgAqACoAKgAqACoAKgAqACoAKgAqACoAKgAqACoAKgAqACoAKgAqACoAKgAqACoAKgAqACoAKgAqACoAKgAqACoAKgAqACoAKgAqACoAKgAqACoAKgAqACoAKgAqACsAKwArACsAKwArACsAKwArACsAKwArACsAKwArACsAKwArACsAKwArACsAKwArACsAKwArACsAKwArACsAKwArACsAKwArACsAKwArACsAKwArACsAKwArACsAKwArACsAKwArACsAKwArACsAKwArACsAKwArACsAKwArACsAKwArACsAKwArACsAKwArACsAKwArACsAKwArACsAKwArACsAKwArACsAKwArACsAKwArACsAKwArACsAKwArACsAKwArACsAKwArACsAKwArACsAKwArACsAKwArACsAKwArACsAKwArACsAKwArACsAKwArACsAKwArACsAKwArACsAKwArACsAKwArACsAKwArACsAKwArACsAKwArACsAKwArACsAKwArACsAKwArACsAKwArACsAKwArACsAKwArACsAKwArACsAKwArACsAKwArACsAKwArACsAKwArACsAKwArACsAKwArACsAKwArACsAKwArACsAKwArACsAKwArACsAKwArACsAKwArACwALAAsACwALAAsACwALAAsACwALAAsACwALAAsACwALAAsACwALAAsACwALAAsACwALAAsACwALAAsACwALAAsACwALAAsACwALAAsACwALAAsACwALAAsACwALAAsACwALAAsACwALAAsACwALAAsACwALAAsACwALAAsACwALAAsACwALAAsACwALAAsACwALAAsACwALAAsACwALAAsACwALAAsACwALAAsACwALAAsACwALAAsACwALAAsACwALAAsACwALAAsACwALAAsACwALAAsACwALAAsACwALAAsACwALAAsACwALAAsACwALAAsACwALAAsACwALAAsACwALAAsACwALAAsACwALAAsACwALAAsACwALAAsACwALAAsACwALAAsACwALAAsACwALAAsACwALAAsACwALAAsACwALAAsACwALAAsACwALAAsACwALAAsACwALAAsACwALAAsACwALAAsACwALAAsACwALAAsACwALAAsAC0ALQAtAC0ALQAtAC0ALQAtAC0ALQAtAC0ALQAtAC0ALQAtAC0ALQAtAC0ALQAtAC0ALQAtAC0ALQAtAC0ALQAtAC0ALQAtAC0ALQAtAC0ALQAtAC0ALQAtAC0ALQAtAC0ALQAtAC0ALQAtAC0ALQAtAC0ALQAtAC0ALQAtAC0ALQAtAC0ALQAtAC0ALQAtAC0ALQAtAC0ALQAtAC0ALQAtAC0ALQAtAC0ALQAtAC0ALQAtAC0ALQAtAC0ALQAtAC0ALQAtAC0ALQAtAC0ALQAtAC0ALQAtAC0ALQAtAC0ALQAtAC0ALQAtAC0ALQAtAC0ALQAtAC0ALQAtAC0ALQAtAC0ALQAtAC0ALQAtAC0ALQAtAC0ALQAtAC0ALQAtAC0ALQAtAC0ALQAtAC0ALQAtAC4ALgAuAC4ALgAuAC4ALgAuAC4ALgAuAC4ALgAuAC4ALgAuAC4ALgAuAC4ALgAuAC4ALgAuAC4ALgAuAC4ALgAuAC4ALgAuAC4ALgAuAC4ALgAuAC4ALgAuAC4ALgAuAC4ALgAuAC4ALgAuAC4ALgAuAC4ALgAuAC4ALgAuAC4ALgAuAC4ALgAuAC4ALgAuAC4ALgAuAC4ALgAuAC4ALgAuAC4ALgAuAC4ALgAuAC4ALgAuAC4ALgAuAC4ALgAuAC4ALgAuAC4ALgAuAC4ALgAuAC4ALgAuAC4ALgAuAC4ALgAuAC4ALgAuAC4ALgAuAC4ALgAuAC4ALgAuAC4ALgAuAC4ALgAuAC4ALgAuAC4ALgAuAC4ALgAuAC4ALgAuAC4ALgAuAC4ALgAuAC4ALgAuAC4ALgAuAC4ALgAuAC4ALgAuAC8ALwAvAC8ALwAvAC8ALwAvAC8ALwAvAC8ALwAvAC8ALwAvAC8ALwAvAC8ALwAvAC8ALwAvAC8ALwAvAC8ALwAvAC8ALwAvAC8ALwAvAC8ALwAvAC8ALwAvAC8ALwAvAC8ALwAvAC8ALwAvAC8ALwAvAC8ALwAvAC8ALwAvAC8ALwAvAC8ALwAvAC8ALwAvAC8ALwAvAC8ALwAvAC8ALwAvAC8ALwAvAC8ALwAvAC8ALwAvAC8ALwAvAC8ALwAvAC8ALwAvAC8ALwAvAC8ALwAvAC8ALwAvAC8ALwAvAC8ALwAvAC8ALwAvAC8ALwAvAC8ALwAvAC8ALwAvAC8ALwAvAC8ALwAvAC8ALwAvAC8ALwAvAC8ALwAvAC8ALwAvAC8ALwAvAC8ALwAvAC8ALwAwADAAMAAwADAAMAAwADAAMAAwADAAMAAwADAAMAAwADAAMAAwADAAMAAwADAAMAAwADAAMAAwADAAMAAwADAAMAAwADAAMAAwADAAMAAwADAAMAAwADAAMAAwADAAMAAwADAAMAAwADAAMAAwADAAMAAwADAAMAAwADAAMAAwADAAMAAwADAAMAAwADAAMAAwADAAMAAwADAAMAAwADAAMAAwADAAMAAwADAAMAAwADAAMAAwADAAMAAwADAAMAAwADAAMAAwADAAMAAwADAAMAAwADAAMAAwADAAMAAwADAAMAAwADAAMAAwADAAMAAwADAAMAAwADAAMAAwADAAMAAwADAAMAAwADAAMAAwADAAMAAwADAAMAAwADAAMAAwADAAMAAwADAAMAAwADAAMAAwADAAMAAwADAAMAAwADAAMAAwADAAMAAwADEAMQAxADEAMQAxADEAMQAxADEAMQAxADEAMQAxADEAMQAxADEAMQAxADEAMQAxADEAMQAxADEAMQAxADEAMQAxADEAMQAxADEAMQAxADEAMQAxADEAMQAxADEAMQAxADEAMQAxADEAMQAxADEAMQAxADEAMQAxADEAMQAxADEAMQAxADEAMQAxADEAMQAxADEAMQAxADEAMQAxADEAMQAxADEAMQAxADEAMQAxADEAMQAxADEAMQAxADEAMQAxADEAMQAxADEAMQAxADEAMQAxADEAMQAxADEAMQAxADEAMQAxADEAMQAxADEAMQAxADEAMQAxADEAMQAxADEAMQAxADEAMQAxADEAMQAxADEAMQAxADEAMQAxADEAMQAxADEAMQAxADEAMQAxADEAMQAxADEAMgAyADIAMgAyADIAMgAyADIAMgAyADIAMgAyADIAMgAyADIAMgAyADIAMgAyADIAMgAyADIAMgAyADIAMgAyADIAMgAyADIAMgAyADIAMgAyADIAMgAyADIAMgAyADIAMgAyADIAMgAyADIAMgAyADIAMgAyADIAMgAyADIAMgAyADIAMgAyADIAMgAyADIAMgAyADIAMgAyADIAMgAyADIAMgAyADIAMgAyADIAMgAyADIAMgAyADIAMgAyADIAMgAyADIAMgAyADIAMgAyADIAMgAyADIAMgAyADIAMgAyADIAMgAyADIAMgAyADIAMgAyADIAMgAyADIAMgAyADIAMgAyADIAMgAyADIAMgAyADIAMgAyADIAMgAyADIAMgAyADIAMgAzADMAMwAzADMAMwAzADMAMwAzADMAMwAzADMAMwAzADMAMwAzADMAMwAzADMAMwAzADMAMwAzADMAMwAzADMAMwAzADMAMwAzADMAMwAzADMAMwAzADMAMwAzADMAMwAzADMAMwAzADMAMwAzADMAMwAzADMAMwAzADMAMwAzADMAMwAzADMAMwAzADMAMwAzADMAMwAzADMAMwAzADMAMwAzADMAMwAzADMAMwAzADMAMwAzADMAMwAzADMAMwAzADMAMwAzADMAMwAzADMAMwAzADMAMwAzADMAMwAzADMAMwAzADMAMwAzADMAMwAzADMAMwAzADMAMwAzADMAMwAzADMAMwAzADMAMwAzADMAMwAzADMAMwAzADMAMwAzADMAMwAzADMAMwAzADMAMwAzADMAMwAzADMAMwAzADMAMwAzADMANAA0ADQANAA0ADQANAA0ADQANAA0ADQANAA0ADQANAA0ADQANAA0ADQANAA0ADQANAA0ADQANAA0ADQANAA0ADQANAA0ADQANAA0ADQANAA0ADQANAA0ADQANAA0ADQANAA0ADQANAA0ADQANAA0ADQANAA0ADQANAA0ADQANAA0ADQANAA0ADQANAA0ADQANAA0ADQANAA0ADQANAA0ADQANAA0ADQANAA0ADQANAA0ADQANAA0ADQANAA0ADQANAA0ADQANAA0ADQANAA0ADQANAA0ADQANAA0ADQANAA0ADQANAA0ADQANAA0ADQANAA0ADQANAA0ADQANAA0ADQANAA0ADQANAA1ADUANQA1ADUANQA1ADUANQA1ADUANQA1ADUANQA1ADUANQA1ADUANQA1ADUANQA1ADUANQA1ADUANQA1ADUANQA1ADUANQA1ADUANQA1ADUANQA1ADUANQA1ADUANQA1ADUANQA1ADUANQA1ADUANQA1ADUANQA1ADUANQA1ADUANQA1ADUANQA1ADUANQA1ADUANQA1ADUANQA1ADUANQA1ADUANQA1ADUANQA1ADUANQA1ADUANQA1ADUANQA1ADUANQA1ADUANQA1ADUANQA1ADUANQA1ADUANQA1ADUANQA1ADUANQA1ADUANQA1ADUANQA1ADUANQA1ADUANQA1ADUANQA1ADUANQA1ADUANQA1ADUANQA1ADUANQA1ADUANQA1ADUANQA1ADUANQA1ADUANgA2ADYANgA2ADYANgA2ADYANgA2ADYANgA2ADYANgA2ADYANgA2ADYANgA2ADYANgA2ADYANgA2ADYANgA2ADYANgA2ADYANgA2ADYANgA2ADYANgA2ADYANgA2ADYANgA2ADYANgA2ADYANgA2ADYANgA2ADYANgA2ADYANgA2ADYANgA2ADYANgA2ADYANgA2ADYANgA2ADYANgA2ADYANgA2ADYANgA2ADYANgA2ADYANgA2ADYANgA2ADYANgA2ADYANgA2ADYANgA2ADYANgA2ADYANgA2ADYANgA2ADYANgA2ADYANgA2ADYANgA2ADcANwA3ADcANwA3ADcANwA3ADcANwA3ADcANwA3ADcANwA3ADcANwA3ADcANwA3ADcANwA3ADcANwA3ADcANwA3ADcANwA3ADcANwA3ADcANwA3ADcANwA3ADcANwA3ADcANwA3ADcANwA3ADcANwA3ADcANwA3ADcANwA3ADcANwA3ADcANwA3ADcANwA3ADcANwA3ADcANwA3ADcANwA3ADcANwA3ADcANwA3ADcANwA3ADcANwA3ADcANwA3ADcANwA3ADcANwA3ADcANwA3ADcANwA3ADcANwA3ADcANwA3ADcANwA3ADcANwA3ADcANwA3ADcANwA3ADcANwA3ADcANwA3ADcANwA3ADcANwA3ADcANwA3ADcANwA3ADgAOAA4ADgAOAA4ADgAOAA4ADgAOAA4ADgAOAA4ADgAOAA4ADgAOAA4ADgAOAA4ADgAOAA4ADgAOAA4ADgAOAA4ADgAOAA4ADgAOAA4ADgAOAA4ADgAOAA4ADgAOAA4ADgAOAA4ADgAOAA4ADgAOAA4ADgAOAA4ADgAOAA4ADgAOAA4ADgAOAA4ADgAOAA4ADgAOAA4ADgAOAA4ADgAOAA4ADgAOAA4ADgAOAA4ADgAOAA4ADgAOAA4ADgAOAA4ADgAOAA4ADgAOAA4ADgAOAA4ADgAOAA4ADkAOQA5ADkAOQA5ADkAOQA5ADkAOQA5ADkAOQA5ADkAOQA5ADkAOQA5ADkAOQA5ADkAOQA5ADkAOQA5ADkAOQA5ADkAOQA5ADkAOQA5ADkAOQA5ADkAOQA5ADkAOQA5ADkAOQA5ADkAOQA5ADkAOQA5ADkAOQA5ADkAOQA5ADkAOQA5ADkAOQA5ADkAOQA5ADkAOQA5ADkAOQA5ADkAOQA5ADkAOQA5ADkAOQA5ADkAOQA5ADkAOQA5ADkAOQA5ADkAOQA5ADkAOQA5ADkAOQA5ADkAOQA5ADkAOQA5ADkAOQA5ADkAOQA6ADoAOgA6ADoAOgA6ADoAOgA6ADoAOgA6ADoAOgA6ADoAOgA6ADoAOgA6ADoAOgA6ADoAOgA6ADoAOgA6ADoAOgA6ADoAOgA6ADoAOgA6ADoAOgA6ADoAOgA6ADoAOgA6ADoAOgA6ADoAOgA6ADoAOgA6ADoAOgA6ADoAOgA6ADoAOgA6ADoAOgA6ADoAOgA6ADoAOgA6ADoAOgA6ADoAOgA6ADoAOgA6ADoAOgA6ADoAOgA6ADoAOgA6ADoAOgA6ADoAOgA6ADoAOgA6ADoAOwA7ADsAOwA7ADsAOwA7ADsAOwA7ADsAOwA7ADsAOwA7ADsAOwA7ADsAOwA7ADsAOwA7ADsAOwA7ADsAOwA7ADsAOwA7ADsAOwA7ADsAOwA7ADsAOwA7ADsAOwA7ADsAOwA7ADsAOwA7ADsAOwA7ADsAOwA7ADsAOwA7ADsAOwA7ADsAOwA7ADsAOwA7ADsAOwA7ADsAOwA7ADsAOwA7ADsAOwA7ADsAOwA7ADsAOwA7ADsAOwA7ADsAOwA7ADsAOwA7ADsAOwA7ADsAOwA7ADsAOwA7ADsAOwA7ADsAOwA7ADsAOwA7ADsAOwA7ADsAOwA7ADsAOwA7ADsAOwA7ADwAPAA8ADwAPAA8ADwAPAA8ADwAPAA8ADwAPAA8ADwAPAA8ADwAPAA8ADwAPAA8ADwAPAA8ADwAPAA8ADwAPAA8ADwAPAA8ADwAPAA8ADwAPAA8ADwAPAA8ADwAPAA8ADwAPAA8ADwAPAA8ADwAPAA8ADwAPAA8ADwAPAA8ADwAPAA8ADwAPAA8ADwAPAA8ADwAPAA8ADwAPAA8ADwAPAA8ADwAPAA8ADwAPAA8ADwAPAA8ADwAPAA8ADwAPAA8ADwAPAA8ADwAPAA8ADwAPAA8ADwAPAA8ADwAPAA8ADwAPAA8ADwAPAA9AD0APQA9AD0APQA9AD0APQA9AD0APQA9AD0APQA9AD0APQA9AD0APQA9AD0APQA9AD0APQA9AD0APQA9AD0APQA9AD0APQA9AD0APQA9AD0APQA9AD0APQA9AD0APQA9AD0APQA9AD0APQA9AD0APQA9AD0APQA9AD0APQA9AD0APQA9AD0APQA9AD0APQA9AD0APQA9AD0APQA9AD0APQA9AD0APQA9AD0APQA9AD0APQA9AD0APQA9AD0APQA9AD0APQA9AD0APQA9AD0APQA+AD4APgA+AD4APgA+AD4APgA+AD4APgA+AD4APgA+AD4APgA+AD4APgA+AD4APgA+AD4APgA+AD4APgA+AD4APgA+AD4APgA+AD4APgA+AD4APgA+AD4APgA+AD4APgA+AD4APgA+AD4APgA+AD4APgA+AD4APgA+AD4APgA+AD4APgA+AD4APgA+AD4APgA+AD4APgA+AD4APgA+AD4APgA+AD4APgA+AD4APgA+AD4APgA+AD4APgA+AD4APgA+AD4APgA+AD4APgA+AD4APgA+AD4APgA+AD4APgA+AD8APwA/AD8APwA/AD8APwA/AD8APwA/AD8APwA/AD8APwA/AD8APwA/AD8APwA/AD8APwA/AD8APwA/AD8APwA/AD8APwA/AD8APwA/AD8APwA/AD8APwA/AD8APwA/AD8APwA/AD8APwA/AD8APwA/AD8APwA/AD8APwA/AD8APwA/AD8APwA/AD8APwA/AD8APwA/AD8APwA/AD8APwA/AD8APwA/AD8APwA/AD8APwA/AD8APwA/AD8APwA/AD8AQABAAEAAQABAAEAAQABAAEAAQABAAEAAQABAAEAAQABAAEAAQABAAEAAQABAAEAAQABAAEAAQABAAEAAQABAAEAAQABAAEAAQABAAEAAQABAAEAAQABAAEAAQABAAEAAQABAAEAAQABAAEAAQABAAEAAQABAAEAAQABAAEAAQABAAEAAQABAAEAAQABAAEAAQABAAEAAQABAAEAAQABAAEAAQABAAEAAQABAAEAAQABAAEAAQABAAEAAQABAAEAAQABAAEAAQABAAEAAQABAAEAAQABAAEAAQABAAEAAQABAAEAAQQBBAEEAQQBBAEEAQQBBAEEAQQBBAEEAQQBBAEEAQQBBAEEAQQBBAEEAQQBBAEEAQQBBAEEAQQBBAEEAQQBBAEEAQQBBAEEAQQBBAEEAQQBBAEEAQQBBAEEAQQBBAEEAQQBBAEEAQQBBAEEAQQBBAEEAQQBBAEEAQQBBAEEAQQBBAEEAQQBBAEEAQQBBAEEAQQBBAEEAQQBBAEEAQQBBAEEAQQBBAEEAQQBBAEEAQQBBAEEAQQBBAEEAQQBBAEEAQQBBAEEAQQBBAEEAQQBBAEEAQQBBAEEAQQBBAEIAQgBCAEIAQgBCAEIAQgBCAEIAQgBCAEIAQgBCAEIAQgBCAEIAQgBCAEIAQgBCAEIAQgBCAEIAQgBCAEIAQgBCAEIAQgBCAEIAQgBCAEIAQgBCAEIAQgBCAEIAQgBCAEIAQgBCAEIAQgBCAEIAQgBCAEIAQgBCAEIAQgBCAEIAQgBCAEIAQgBCAEIAQgBCAEIAQgBCAEIAQgBCAEIAQgBCAEIAQgBCAEIAQwBDAEMAQwBDAEMAQwBDAEMAQwBDAEMAQwBDAEMAQwBDAEMAQwBDAEMAQwBDAEMAQwBDAEMAQwBDAEMAQwBDAEMAQwBDAEMAQwBDAEMAQwBDAEMAQwBDAEMAQwBDAEMAQwBDAEMAQwBDAEMAQwBDAEMAQwBDAEMAQwBDAEMAQwBDAEMAQwBDAEMAQwBDAEMAQwBDAEMAQwBDAEMAQwBDAEMAQwBDAEMAQwBDAEQARABEAEQARABEAEQARABEAEQARABEAEQARABEAEQARABEAEQARABEAEQARABEAEQARABEAEQARABEAEQARABEAEQARABEAEQARABEAEQARABEAEQARABEAEQARABEAEQARABEAEQARABEAEQARABEAEQARABEAEQARABEAEQARABEAEQARABEAEQARABEAEQARABEAEQARQBFAEUARQBFAEUARQBFAEUARQBFAEUARQBFAEUARQBFAEUARQBFAEUARQBFAEUARQBFAEUARQBFAEUARQBFAEUARQBFAEUARQBFAEUARQBFAEUARQBFAEUARQBFAEUARQBFAEUARQBFAEUARQBFAEUARQBFAEUARQBFAEUARQBFAEUARQBFAEUARQBFAEUARQBFAEUARQBFAEUARQBFAEUARQBFAEUARQBFAEUARQBFAEUARQBFAEUARQBFAEYARgBGAEYARgBGAEYARgBGAEYARgBGAEYARgBGAEYARgBGAEYARgBGAEYARgBGAEYARgBGAEYARgBGAEYARgBGAEYARgBGAEYARgBGAEYARgBGAEYARgBGAEYARgBGAEYARgBGAEYARgBGAEYARgBGAEYARgBGAEYARgBGAEYARgBGAEYARwBHAEcARwBHAEcARwBHAEcARwBHAEcARwBHAEcARwBHAEcARwBHAEcARwBHAEcARwBHAEcARwBHAEcARwBHAEcARwBHAEcARwBHAEcARwBHAEcARwBHAEcARwBHAEcARwBHAEcARwBHAEcARwBHAEcARwBHAEcARwBHAEcARwBHAEcARwBHAEcARwBHAEcARwBHAEcARwBHAEcARwBHAEcARwBHAEcARwBIAEgASABIAEgASABIAEgASABIAEgASABIAEgASABIAEgASABIAEgASABIAEgASABIAEgASABIAEgASABIAEgASABIAEgASABIAEgASABIAEgASABIAEgASABIAEgASABIAEgASABIAEgASABIAEgASABIAEgASABIAEgASABIAEgASABIAEkASQBJAEkASQBJAEkASQBJAEkASQBJAEkASQBJAEkASQBJAEkASQBJAEkASQBJAEkASQBJAEkASQBJAEkASQBJAEkASQBJAEkASQBJAEkASQBJAEkASQBJAEkASQBJAEkASQBJAEkASQBJAEkASQBJAEkASQBJAEkASgBKAEoASgBKAEoASgBKAEoASgBKAEoASgBKAEoASgBKAEoASgBKAEoASgBKAEoASgBKAEoASgBKAEoASgBKAEoASgBKAEoASgBKAEoASgBKAEoASgBKAEoASgBKAEoASgBKAEoASgBKAEoASgBKAEoASgBKAEoASgBKAEoASgBKAEoASgBKAEoASgBKAEoASgBKAEoASwBLAEsASwBLAEsASwBLAEsASwBLAEsASwBLAEsASwBLAEsASwBLAEsASwBLAEsASwBLAEsASwBLAEsASwBLAEsASwBLAEsASwBLAEsASwBLAEsASwBLAEsASwBLAEsASwBLAEsASwBLAEsASwBLAEsASwBLAEsASwBLAEsASwBLAEsATABMAEwATABMAEwATABMAEwATABMAEwATABMAEwATABMAEwATABMAEwATABMAEwATABMAEwATABMAEwATABMAEwATABMAEwATABMAEwATABMAEwATABMAEwATABMAEwATABMAEwATABMAEwATABMAEwATABMAEwATABMAEwATABMAEwATABMAE0ATQBNAE0ATQBNAE0ATQBNAE0ATQBNAE0ATQBNAE0ATQBNAE0ATQBNAE0ATQBNAE0ATQBNAE0ATQBNAE0ATQBNAE0ATQBNAE0ATQBNAE0ATQBNAE0ATQBNAE0ATQBNAE0ATQBNAE0ATQBNAE0ATQBNAE0ATQBNAE0ATQBOAE4ATgBOAE4ATgBOAE4ATgBOAE4ATgBOAE4ATgBOAE4ATgBOAE4ATgBOAE4ATgBOAE4ATgBOAE4ATgBOAE4ATgBOAE4ATgBOAE4ATgBOAE4ATgBOAE4ATgBOAE4ATgBOAE4ATgBOAE4ATgBOAE4ATgBOAE4ATgBOAE8ATwBPAE8ATwBPAE8ATwBPAE8ATwBPAE8ATwBPAE8ATwBPAE8ATwBPAE8ATwBPAE8ATwBPAE8ATwBPAE8ATwBPAE8ATwBPAE8ATwBPAE8ATwBPAE8ATwBPAE8ATwBPAE8ATwBPAE8ATwBPAE8ATwBQAFAAUABQAFAAUABQAFAAUABQAFAAUABQAFAAUABQAFAAUABQAFAAUABQAFAAUABQAFAAUABQAFAAUABQAFAAUABQAFAAUABQAFAAUABQAFAAUABQAFAAUABQAFAAUABQAFAAUABQAFAAUABQAFAAUABQAFAAUABQAFAAUABQAFAAUQBRAFEAUQBRAFEAUQBRAFEAUQBRAFEAUQBRAFEAUQBRAFEAUQBRAFEAUQBRAFEAUQBRAFEAUQBRAFEAUQBRAFEAUgBSAFIAUgBSAFIAUgBSAFIAUgBSAFIAUgBSAFIAUgBSAFIAUgBSAFIAUgBSAFIAUgBSAFIAUgBSAFIAUgBSAFIAUgBSAFIAUgBSAFIAUgBSAFIAUgBSAFIAUgBSAFIAUgBSAFIAUgBSAFIAUgBTAFMAUwBTAFMAUwBTAFMAUwBTAFMAUwBTAFMAUwBTAFMAUwBTAFMAUwBTAFMAUwBTAFMAUwBTAFMAUwBTAFMAUwBTAFMAUwBTAFMAUwBTAFMAUwBTAFMAUwBTAFMAUwBTAFMAUwBTAFMAUwBTAFMAVABUAFQAVABUAFQAVABUAFQAVABUAFQAVABUAFQAVABUAFQAVABUAFQAVABUAFQAVABUAFQAVABUAFQAVABUAFQAVABUAFQAVABUAFQAVABUAFQAVABUAFQAVABUAFQAVABUAFQAVABUAFQAVABUAFQAVABVAFUAVQBVAFUAVQBVAFUAVQBVAFUAVQBVAFUAVQBVAFUAVQBVAFUAVQBVAFUAVQBVAFUAVQBVAFUAVQBVAFUAVQBVAFUAVQBVAFUAVQBVAFUAVQBVAFUAVQBVAFUAVQBVAFUAVQBWAFYAVgBWAFYAVgBWAFYAVgBWAFYAVgBWAFYAVgBWAFYAVgBWAFYAVgBWAFYAVgBWAFYAVgBWAFYAVgBWAFYAVgBWAFYAVgBWAFYAVwBXAFcAVwBXAFcAVwBXAFcAVwBXAFcAVwBXAFcAVwBXAFcAVwBXAFcAVwBXAFcAVwBXAFcAVwBXAFcAVwBXAFcAVwBXAFcAWABYAFgAWABYAFgAWABYAFgAWABYAFgAWABYAFgAWABYAFgAWABYAFgAWABYAFgAWABYAFgAWABYAFgAWABYAFgAWABYAFgAWABYAFgAWABYAFgAWABYAFgAWABYAFgAWABYAFgAWABYAFgAWQBZAFkAWQBZAFkAWQBZAFkAWQBZAFkAWQBZAFkAWQBZAFkAWQBZAFkAWQBZAFkAWQBZAFkAWQBZAFoAWgBaAFoAWgBaAFoAWgBaAFoAWgBaAFoAWgBaAFoAWgBaAFoAWgBaAFoAWgBaAFoAWgBaAFoAWgBaAFoAWgBaAFoAWgBaAFoAWgBaAFoAWgBaAFoAWgBaAFoAWgBaAFoAWwBbAFsAWwBbAFsAWwBbAFsAWwBbAFsAWwBbAFsAWwBbAFsAWwBbAFsAWwBbAFsAWwBbAFsAWwBbAFsAWwBbAFsAWwBbAFsAWwBbAFsAWwBbAFsAWwBcAFwAXABcAFwAXABcAFwAXABcAFwAXABcAFwAXABcAFwAXABcAFwAXABcAFwAXABcAFwAXABcAFwAXABcAFwAXABcAF0AXQBdAF0AXQBdAF0AXQBdAF0AXQBdAF0AXQBdAF0AXQBdAF0AXQBdAF0AXQBdAF0AXQBdAF0AXQBdAF0AXQBdAF0AXgBeAF4AXgBeAF4AXgBeAF4AXgBeAF4AXgBeAF4AXgBeAF4AXgBeAF4AXgBeAF4AXgBeAF4AXgBfAF8AXwBfAF8AXwBfAF8AXwBfAF8AXwBfAF8AXwBfAF8AXwBfAF8AXwBfAF8AXwBfAF8AYABgAGAAYABgAGAAYABgAGAAYABgAGAAYABgAGAAYABgAGAAYABgAGAAYABgAGAAYABgAGAAYABgAGAAYABgAGAAYABgAGAAYABgAGEAYQBhAGEAYQBhAGEAYQBhAGEAYQBhAGEAYQBhAGEAYQBhAGEAYQBhAGEAYQBhAGEAYQBiAGIAYgBiAGIAYgBiAGIAYgBiAGIAYgBiAGIAYgBiAGIAYgBiAGIAYgBiAGIAYgBiAGMAYwBjAGMAYwBjAGMAYwBjAGMAYwBjAGMAYwBjAGMAYwBjAGMAYwBjAGQAZABkAGQAZABkAGQAZABkAGQAZABkAGQAZABkAGQAZABkAGQAZABkAGQAZABkAGQAZABkAGUAZQBlAGUAZQBlAGUAZQBlAGUAZQBlAGUAZQBlAGUAZQBlAGUAZQBlAGUAZQBmAGYAZgBmAGYAZgBmAGYAZgBmAGYAZgBmAGYAZgBmAGYAZwBnAGcAZwBnAGcAZwBnAGcAZwBnAGcAZwBnAGcAZwBnAGcAZwBnAGcAZwBnAGcAZwBnAGcAZwBoAGgAaABoAGgAaABoAGgAaABoAGgAaABoAGgAaABoAGgAaABoAGgAaABoAGkAaQBpAGkAaQBpAGkAaQBpAGkAaQBpAGkAaQBpAGkAaQBpAGkAaQBpAGoAagBqAGoAagBqAGoAagBqAGoAagBqAGoAagBqAGoAagBqAGoAagBqAGoAagBqAGoAagBqAGoAawBrAGsAawBrAGsAawBrAGsAawBrAGsAawBrAGsAawBrAGwAbABsAGwAbABsAGwAbABsAGwAbABsAG0AbQBtAG0AbQBtAG0AbQBtAG0AbQBtAG0AbQBtAG0AbQBuAG4AbgBuAG4AbgBuAG4AbgBuAG4AbgBvAG8AbwBvAG8AbwBvAG8AbwBvAG8AbwBvAG8AbwBvAG8AcABwAHAAcABwAHAAcABwAHAAcABwAHAAcABxAHEAcQBxAHEAcQBxAHEAcQBxAHEAcgByAHIAcgByAHIAcgBzAHMAcwBzAHMAcwBzAHMAcwBzAHMAcwBzAHMAcwB0AHQAdAB0AHQAdAB0AHQAdAB0AHQAdAB0AHQAdAB0AHQAdAB1AHUAdQB1AHUAdQB1AHUAdQB1AHUAdQB1AHUAdQB1AHYAdgB2AHYAdgB2AHYAdgB2AHYAdgB2AHcAdwB3AHcAdwB3AHgAeAB4AHgAeAB4AHgAeAB4AHgAeAB4AHgAeAB4AHgAeAB5AHkAeQB5AHkAegB6AHoAegB6AHoAegB6AHsAewB7AHsAewB7AHsAewB7AHwAfAB8AHwAfAB8AHwAfAB8AHwAfAB8AHwAfAB9AH0AfQB9AH0AfQB+AH4AfgB+AH4AfgB+AH4AfgB+AH4AfgB+AH4AfwCAAIAAgACAAIAAgACAAIAAgACAAIEAgQCBAIIAggCCAIIAggCCAIIAggCCAIMAgwCDAIMAgwCDAIMAgwCEAIQAhACEAIUAhQCGAIYAhgCGAIYAhwCHAIcAhwCHAIgAiACIAIgAiACIAIgAiACJAIkAiQCJAIoAigCKAIoAiwCLAIwAjACNAI0AjQCOAI4AjgCPAI8AjwCPAI8AjwCPAI8AkACQAJAAkQCRAJIAkgCSAJMAkwCTAJMAkwCTAJQAlACUAJQAlQCVAJYAlgCXAJcAlwCYAJkAmQCZAJkAmQCaAJoAmgCaAJsAmwCcAJwAnQCdAJ4AngCeAJ4AoAChAKEAoQCiAKMAowCkAKQApQClAKYApwCnAKkAqgCqAKwArACtAK4ArwCxALEAsgCyALgAuQDBAMIAygDLAM0A0ADSANUA1QDZAOIA8wAHAQ==",
          "dtype": "i2"
         },
         "xaxis": "x",
         "y": {
          "bdata": "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",
          "dtype": "f8"
         },
         "yaxis": "y"
        }
       ],
       "layout": {
        "height": 400,
        "legend": {
         "tracegroupgap": 0
        },
        "template": {
         "data": {
          "bar": [
           {
            "error_x": {
             "color": "#2a3f5f"
            },
            "error_y": {
             "color": "#2a3f5f"
            },
            "marker": {
             "line": {
              "color": "#E5ECF6",
              "width": 0.5
             },
             "pattern": {
              "fillmode": "overlay",
              "size": 10,
              "solidity": 0.2
             }
            },
            "type": "bar"
           }
          ],
          "barpolar": [
           {
            "marker": {
             "line": {
              "color": "#E5ECF6",
              "width": 0.5
             },
             "pattern": {
              "fillmode": "overlay",
              "size": 10,
              "solidity": 0.2
             }
            },
            "type": "barpolar"
           }
          ],
          "carpet": [
           {
            "aaxis": {
             "endlinecolor": "#2a3f5f",
             "gridcolor": "white",
             "linecolor": "white",
             "minorgridcolor": "white",
             "startlinecolor": "#2a3f5f"
            },
            "baxis": {
             "endlinecolor": "#2a3f5f",
             "gridcolor": "white",
             "linecolor": "white",
             "minorgridcolor": "white",
             "startlinecolor": "#2a3f5f"
            },
            "type": "carpet"
           }
          ],
          "choropleth": [
           {
            "colorbar": {
             "outlinewidth": 0,
             "ticks": ""
            },
            "type": "choropleth"
           }
          ],
          "contour": [
           {
            "colorbar": {
             "outlinewidth": 0,
             "ticks": ""
            },
            "colorscale": [
             [
              0,
              "#0d0887"
             ],
             [
              0.1111111111111111,
              "#46039f"
             ],
             [
              0.2222222222222222,
              "#7201a8"
             ],
             [
              0.3333333333333333,
              "#9c179e"
             ],
             [
              0.4444444444444444,
              "#bd3786"
             ],
             [
              0.5555555555555556,
              "#d8576b"
             ],
             [
              0.6666666666666666,
              "#ed7953"
             ],
             [
              0.7777777777777778,
              "#fb9f3a"
             ],
             [
              0.8888888888888888,
              "#fdca26"
             ],
             [
              1,
              "#f0f921"
             ]
            ],
            "type": "contour"
           }
          ],
          "contourcarpet": [
           {
            "colorbar": {
             "outlinewidth": 0,
             "ticks": ""
            },
            "type": "contourcarpet"
           }
          ],
          "heatmap": [
           {
            "colorbar": {
             "outlinewidth": 0,
             "ticks": ""
            },
            "colorscale": [
             [
              0,
              "#0d0887"
             ],
             [
              0.1111111111111111,
              "#46039f"
             ],
             [
              0.2222222222222222,
              "#7201a8"
             ],
             [
              0.3333333333333333,
              "#9c179e"
             ],
             [
              0.4444444444444444,
              "#bd3786"
             ],
             [
              0.5555555555555556,
              "#d8576b"
             ],
             [
              0.6666666666666666,
              "#ed7953"
             ],
             [
              0.7777777777777778,
              "#fb9f3a"
             ],
             [
              0.8888888888888888,
              "#fdca26"
             ],
             [
              1,
              "#f0f921"
             ]
            ],
            "type": "heatmap"
           }
          ],
          "histogram": [
           {
            "marker": {
             "pattern": {
              "fillmode": "overlay",
              "size": 10,
              "solidity": 0.2
             }
            },
            "type": "histogram"
           }
          ],
          "histogram2d": [
           {
            "colorbar": {
             "outlinewidth": 0,
             "ticks": ""
            },
            "colorscale": [
             [
              0,
              "#0d0887"
             ],
             [
              0.1111111111111111,
              "#46039f"
             ],
             [
              0.2222222222222222,
              "#7201a8"
             ],
             [
              0.3333333333333333,
              "#9c179e"
             ],
             [
              0.4444444444444444,
              "#bd3786"
             ],
             [
              0.5555555555555556,
              "#d8576b"
             ],
             [
              0.6666666666666666,
              "#ed7953"
             ],
             [
              0.7777777777777778,
              "#fb9f3a"
             ],
             [
              0.8888888888888888,
              "#fdca26"
             ],
             [
              1,
              "#f0f921"
             ]
            ],
            "type": "histogram2d"
           }
          ],
          "histogram2dcontour": [
           {
            "colorbar": {
             "outlinewidth": 0,
             "ticks": ""
            },
            "colorscale": [
             [
              0,
              "#0d0887"
             ],
             [
              0.1111111111111111,
              "#46039f"
             ],
             [
              0.2222222222222222,
              "#7201a8"
             ],
             [
              0.3333333333333333,
              "#9c179e"
             ],
             [
              0.4444444444444444,
              "#bd3786"
             ],
             [
              0.5555555555555556,
              "#d8576b"
             ],
             [
              0.6666666666666666,
              "#ed7953"
             ],
             [
              0.7777777777777778,
              "#fb9f3a"
             ],
             [
              0.8888888888888888,
              "#fdca26"
             ],
             [
              1,
              "#f0f921"
             ]
            ],
            "type": "histogram2dcontour"
           }
          ],
          "mesh3d": [
           {
            "colorbar": {
             "outlinewidth": 0,
             "ticks": ""
            },
            "type": "mesh3d"
           }
          ],
          "parcoords": [
           {
            "line": {
             "colorbar": {
              "outlinewidth": 0,
              "ticks": ""
             }
            },
            "type": "parcoords"
           }
          ],
          "pie": [
           {
            "automargin": true,
            "type": "pie"
           }
          ],
          "scatter": [
           {
            "fillpattern": {
             "fillmode": "overlay",
             "size": 10,
             "solidity": 0.2
            },
            "type": "scatter"
           }
          ],
          "scatter3d": [
           {
            "line": {
             "colorbar": {
              "outlinewidth": 0,
              "ticks": ""
             }
            },
            "marker": {
             "colorbar": {
              "outlinewidth": 0,
              "ticks": ""
             }
            },
            "type": "scatter3d"
           }
          ],
          "scattercarpet": [
           {
            "marker": {
             "colorbar": {
              "outlinewidth": 0,
              "ticks": ""
             }
            },
            "type": "scattercarpet"
           }
          ],
          "scattergeo": [
           {
            "marker": {
             "colorbar": {
              "outlinewidth": 0,
              "ticks": ""
             }
            },
            "type": "scattergeo"
           }
          ],
          "scattergl": [
           {
            "marker": {
             "colorbar": {
              "outlinewidth": 0,
              "ticks": ""
             }
            },
            "type": "scattergl"
           }
          ],
          "scattermap": [
           {
            "marker": {
             "colorbar": {
              "outlinewidth": 0,
              "ticks": ""
             }
            },
            "type": "scattermap"
           }
          ],
          "scattermapbox": [
           {
            "marker": {
             "colorbar": {
              "outlinewidth": 0,
              "ticks": ""
             }
            },
            "type": "scattermapbox"
           }
          ],
          "scatterpolar": [
           {
            "marker": {
             "colorbar": {
              "outlinewidth": 0,
              "ticks": ""
             }
            },
            "type": "scatterpolar"
           }
          ],
          "scatterpolargl": [
           {
            "marker": {
             "colorbar": {
              "outlinewidth": 0,
              "ticks": ""
             }
            },
            "type": "scatterpolargl"
           }
          ],
          "scatterternary": [
           {
            "marker": {
             "colorbar": {
              "outlinewidth": 0,
              "ticks": ""
             }
            },
            "type": "scatterternary"
           }
          ],
          "surface": [
           {
            "colorbar": {
             "outlinewidth": 0,
             "ticks": ""
            },
            "colorscale": [
             [
              0,
              "#0d0887"
             ],
             [
              0.1111111111111111,
              "#46039f"
             ],
             [
              0.2222222222222222,
              "#7201a8"
             ],
             [
              0.3333333333333333,
              "#9c179e"
             ],
             [
              0.4444444444444444,
              "#bd3786"
             ],
             [
              0.5555555555555556,
              "#d8576b"
             ],
             [
              0.6666666666666666,
              "#ed7953"
             ],
             [
              0.7777777777777778,
              "#fb9f3a"
             ],
             [
              0.8888888888888888,
              "#fdca26"
             ],
             [
              1,
              "#f0f921"
             ]
            ],
            "type": "surface"
           }
          ],
          "table": [
           {
            "cells": {
             "fill": {
              "color": "#EBF0F8"
             },
             "line": {
              "color": "white"
             }
            },
            "header": {
             "fill": {
              "color": "#C8D4E3"
             },
             "line": {
              "color": "white"
             }
            },
            "type": "table"
           }
          ]
         },
         "layout": {
          "annotationdefaults": {
           "arrowcolor": "#2a3f5f",
           "arrowhead": 0,
           "arrowwidth": 1
          },
          "autotypenumbers": "strict",
          "coloraxis": {
           "colorbar": {
            "outlinewidth": 0,
            "ticks": ""
           }
          },
          "colorscale": {
           "diverging": [
            [
             0,
             "#8e0152"
            ],
            [
             0.1,
             "#c51b7d"
            ],
            [
             0.2,
             "#de77ae"
            ],
            [
             0.3,
             "#f1b6da"
            ],
            [
             0.4,
             "#fde0ef"
            ],
            [
             0.5,
             "#f7f7f7"
            ],
            [
             0.6,
             "#e6f5d0"
            ],
            [
             0.7,
             "#b8e186"
            ],
            [
             0.8,
             "#7fbc41"
            ],
            [
             0.9,
             "#4d9221"
            ],
            [
             1,
             "#276419"
            ]
           ],
           "sequential": [
            [
             0,
             "#0d0887"
            ],
            [
             0.1111111111111111,
             "#46039f"
            ],
            [
             0.2222222222222222,
             "#7201a8"
            ],
            [
             0.3333333333333333,
             "#9c179e"
            ],
            [
             0.4444444444444444,
             "#bd3786"
            ],
            [
             0.5555555555555556,
             "#d8576b"
            ],
            [
             0.6666666666666666,
             "#ed7953"
            ],
            [
             0.7777777777777778,
             "#fb9f3a"
            ],
            [
             0.8888888888888888,
             "#fdca26"
            ],
            [
             1,
             "#f0f921"
            ]
           ],
           "sequentialminus": [
            [
             0,
             "#0d0887"
            ],
            [
             0.1111111111111111,
             "#46039f"
            ],
            [
             0.2222222222222222,
             "#7201a8"
            ],
            [
             0.3333333333333333,
             "#9c179e"
            ],
            [
             0.4444444444444444,
             "#bd3786"
            ],
            [
             0.5555555555555556,
             "#d8576b"
            ],
            [
             0.6666666666666666,
             "#ed7953"
            ],
            [
             0.7777777777777778,
             "#fb9f3a"
            ],
            [
             0.8888888888888888,
             "#fdca26"
            ],
            [
             1,
             "#f0f921"
            ]
           ]
          },
          "colorway": [
           "#636efa",
           "#EF553B",
           "#00cc96",
           "#ab63fa",
           "#FFA15A",
           "#19d3f3",
           "#FF6692",
           "#B6E880",
           "#FF97FF",
           "#FECB52"
          ],
          "font": {
           "color": "#2a3f5f"
          },
          "geo": {
           "bgcolor": "white",
           "lakecolor": "white",
           "landcolor": "#E5ECF6",
           "showlakes": true,
           "showland": true,
           "subunitcolor": "white"
          },
          "hoverlabel": {
           "align": "left"
          },
          "hovermode": "closest",
          "mapbox": {
           "style": "light"
          },
          "paper_bgcolor": "white",
          "plot_bgcolor": "#E5ECF6",
          "polar": {
           "angularaxis": {
            "gridcolor": "white",
            "linecolor": "white",
            "ticks": ""
           },
           "bgcolor": "#E5ECF6",
           "radialaxis": {
            "gridcolor": "white",
            "linecolor": "white",
            "ticks": ""
           }
          },
          "scene": {
           "xaxis": {
            "backgroundcolor": "#E5ECF6",
            "gridcolor": "white",
            "gridwidth": 2,
            "linecolor": "white",
            "showbackground": true,
            "ticks": "",
            "zerolinecolor": "white"
           },
           "yaxis": {
            "backgroundcolor": "#E5ECF6",
            "gridcolor": "white",
            "gridwidth": 2,
            "linecolor": "white",
            "showbackground": true,
            "ticks": "",
            "zerolinecolor": "white"
           },
           "zaxis": {
            "backgroundcolor": "#E5ECF6",
            "gridcolor": "white",
            "gridwidth": 2,
            "linecolor": "white",
            "showbackground": true,
            "ticks": "",
            "zerolinecolor": "white"
           }
          },
          "shapedefaults": {
           "line": {
            "color": "#2a3f5f"
           }
          },
          "ternary": {
           "aaxis": {
            "gridcolor": "white",
            "linecolor": "white",
            "ticks": ""
           },
           "baxis": {
            "gridcolor": "white",
            "linecolor": "white",
            "ticks": ""
           },
           "bgcolor": "#E5ECF6",
           "caxis": {
            "gridcolor": "white",
            "linecolor": "white",
            "ticks": ""
           }
          },
          "title": {
           "x": 0.05
          },
          "xaxis": {
           "automargin": true,
           "gridcolor": "white",
           "linecolor": "white",
           "ticks": "",
           "title": {
            "standoff": 15
           },
           "zerolinecolor": "white",
           "zerolinewidth": 2
          },
          "yaxis": {
           "automargin": true,
           "gridcolor": "white",
           "linecolor": "white",
           "ticks": "",
           "title": {
            "standoff": 15
           },
           "zerolinecolor": "white",
           "zerolinewidth": 2
          }
         }
        },
        "title": {
         "text": "Odometer vs Days Listed"
        },
        "xaxis": {
         "anchor": "y",
         "domain": [
          0,
          1
         ],
         "range": [
          0,
          100
         ],
         "title": {
          "text": "Days Listed"
         }
        },
        "yaxis": {
         "anchor": "x",
         "domain": [
          0,
          1
         ],
         "title": {
          "text": "Odometer"
         }
        }
       }
      }
     },
     "metadata": {},
     "output_type": "display_data"
    }
   ],
   "source": [
    "px.scatter(\n",
    "    car_data,\n",
    "    x=\"days_listed\",\n",
    "    y=\"odometer\",\n",
    "    title=\"Odometer vs Days Listed\",\n",
    "    labels={\"days_listed\": \"Days Listed\", \"odometer\": \"Odometer\"},\n",
    "    height=400,\n",
    "    trendline=\"ols\",\n",
    "    range_x=[0, 100],\n",
    ").show()"
   ]
  }
 ],
 "metadata": {
  "kernelspec": {
   "display_name": ".venv",
   "language": "python",
   "name": "python3"
  },
  "language_info": {
   "codemirror_mode": {
    "name": "ipython",
    "version": 3
   },
   "file_extension": ".py",
   "mimetype": "text/x-python",
   "name": "python",
   "nbconvert_exporter": "python",
   "pygments_lexer": "ipython3",
   "version": "3.13.5"
  }
 },
 "nbformat": 4,
 "nbformat_minor": 5
}
